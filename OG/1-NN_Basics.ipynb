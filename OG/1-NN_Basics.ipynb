{
 "cells": [
  {
   "cell_type": "markdown",
   "id": "ade1ce92-f978-4673-ab70-0121a9ec78f9",
   "metadata": {},
   "source": [
    "# SIMPLE RESEAU DE NEURONE SANS COUCHES CACHEES"
   ]
  },
  {
   "cell_type": "markdown",
   "id": "bf466a44-2d0a-4fe2-8cf0-cb52732159da",
   "metadata": {},
   "source": [
    "# On crée le modèle"
   ]
  },
  {
   "cell_type": "markdown",
   "id": "97a70a50-58d7-441f-b0dd-4639683fb7cd",
   "metadata": {},
   "source": [
    "Le modèle le plus simple avec une entrée et une sortie"
   ]
  },
  {
   "cell_type": "code",
   "execution_count": 1,
   "id": "a2840f45-26c1-419d-8ad0-09feba35eac7",
   "metadata": {},
   "outputs": [],
   "source": [
    "import torch.nn as nn\n",
    "\n",
    "class Model(nn.Module):\n",
    "    def __init__(self):\n",
    "        super(Model, self).__init__()\n",
    "        self.linear = nn.Linear(1, 1) \n",
    "\n",
    "    def forward(self, x):\n",
    "        return self.linear(x)\n"
   ]
  },
  {
   "cell_type": "code",
   "execution_count": 2,
   "id": "323977d0-b5a1-4745-a0fd-487b2f12244b",
   "metadata": {},
   "outputs": [],
   "source": [
    "model = Model()"
   ]
  },
  {
   "cell_type": "markdown",
   "id": "b6f5473a-3160-44e6-8086-5d5ecfd1e235",
   "metadata": {},
   "source": [
    "# On définit les paramètres d'apprentissage"
   ]
  },
  {
   "cell_type": "code",
   "execution_count": 3,
   "id": "9ce6bd3f-82fd-4d79-89c8-66339f6cca93",
   "metadata": {},
   "outputs": [],
   "source": [
    "# Learning rate\n",
    "lr = 0.1"
   ]
  },
  {
   "cell_type": "code",
   "execution_count": 4,
   "id": "266702c5-5094-4645-9e7a-ce3e1c72e404",
   "metadata": {},
   "outputs": [],
   "source": [
    "import torch.optim as optim\n",
    "\n",
    "criterion = nn.MSELoss()  # Mean Squared Error loss\n",
    "optimizer = optim.Adam(model.parameters(), lr=lr)  # Adam optimizer"
   ]
  },
  {
   "cell_type": "markdown",
   "id": "418e2bff-cda9-4308-ae3d-aeb993b26baf",
   "metadata": {},
   "source": [
    "# La fonction fit()"
   ]
  },
  {
   "cell_type": "code",
   "execution_count": 5,
   "id": "e86a724b-15e5-4d1f-9d05-76100cd96b8a",
   "metadata": {},
   "outputs": [],
   "source": [
    "import torch\n",
    "\n",
    "def fit(inputs, targets):\n",
    "    input_tensor = torch.tensor(inputs, dtype=torch.float)\n",
    "    target_tensor = torch.tensor(targets, dtype=torch.float)\n",
    "\n",
    "    optimizer.zero_grad()  # Reset gradients\n",
    "    outputs = model(input_tensor)  # Forward pass\n",
    "    loss = criterion(outputs, target_tensor)  # Compute loss\n",
    "    loss.backward()  # Backpropagation\n",
    "    optimizer.step()  # Update weights\n",
    "\n",
    "    print(f\"Loss: {loss.item():.6f}\")\n"
   ]
  },
  {
   "cell_type": "markdown",
   "id": "a9541f70-e7ff-494d-bb26-77bc5bcd09b4",
   "metadata": {},
   "source": [
    "# On entraine le modèle"
   ]
  },
  {
   "cell_type": "markdown",
   "id": "89391e0a-e331-42b7-a34a-6842470437b3",
   "metadata": {},
   "source": [
    "Entrainer jusqu'a obtenir une loss < 0.2"
   ]
  },
  {
   "cell_type": "code",
   "execution_count": 29,
   "id": "68a1d9c3-430b-4b02-aef9-ddeeff89421e",
   "metadata": {},
   "outputs": [
    {
     "name": "stdout",
     "output_type": "stream",
     "text": [
      "Loss: 0.757246\n",
      "Loss: 0.239863\n"
     ]
    }
   ],
   "source": [
    "fit([2], [1])\n",
    "fit([3], [0])"
   ]
  },
  {
   "cell_type": "markdown",
   "id": "972af167-0e88-47c1-8912-c0fd611a24c4",
   "metadata": {},
   "source": [
    "# La fonction predict()"
   ]
  },
  {
   "cell_type": "code",
   "execution_count": 30,
   "id": "bbaf892d-580a-4c18-b20d-5c449278f45d",
   "metadata": {},
   "outputs": [],
   "source": [
    "def predict(input):\n",
    "    input_tensor = torch.tensor(input, dtype=torch.float)\n",
    "    output_tensor = model(input_tensor)\n",
    "    print(output_tensor.detach().numpy())"
   ]
  },
  {
   "cell_type": "markdown",
   "id": "485e3151-f9aa-45dd-97d2-d9187e6f0842",
   "metadata": {},
   "source": [
    "# On affiche les prédictions"
   ]
  },
  {
   "cell_type": "code",
   "execution_count": 31,
   "id": "0bc9827b-0001-4a2a-a4ab-a8406da6dfc4",
   "metadata": {},
   "outputs": [
    {
     "name": "stdout",
     "output_type": "stream",
     "text": [
      "[0.13364607]\n",
      "[0.47243625]\n"
     ]
    }
   ],
   "source": [
    "predict([2])\n",
    "predict([3])"
   ]
  },
  {
   "cell_type": "code",
   "execution_count": 3241,
   "id": "18c60837-55f7-4923-8f42-a7a274ccbdfb",
   "metadata": {
    "jupyter": {
     "source_hidden": true
    }
   },
   "outputs": [
    {
     "data": {
      "image/png": "[encoded data removed]",
      "text/plain": [
       "<Figure size 300x200 with 1 Axes>"
      ]
     },
     "metadata": {},
     "output_type": "display_data"
    }
   ],
   "source": [
    "import matplotlib.pyplot as plt\n",
    "\n",
    "# Generate inputs in the range [2, 3]\n",
    "inputs = torch.linspace(2, 3, steps=100).unsqueeze(1)  # Shape (100,1)\n",
    "\n",
    "outputs = model(inputs)\n",
    "\n",
    "# Extract the first output value for each input\n",
    "output_x = outputs.detach().numpy()  # Detach and convert to NumPy\n",
    "\n",
    "# Plot results\n",
    "plt.figure(figsize=(3, 2))\n",
    "plt.plot(inputs.numpy(), output_x, label=\"x\")\n",
    "plt.xlabel(\"Input\")\n",
    "plt.ylabel(\"Output\")\n",
    "plt.title(\"Outputs for Inputs in [2, 3]\")\n",
    "plt.legend()\n",
    "plt.show()"
   ]
  },
  {
   "cell_type": "code",
   "execution_count": null,
   "id": "9e304a97-0803-4847-af55-5a14ed612489",
   "metadata": {},
   "outputs": [],
   "source": []
  }
 ],
 "metadata": {
  "kernelspec": {
   "display_name": "Python 3 (ipykernel)",
   "language": "python",
   "name": "python3"
  },
  "language_info": {
   "codemirror_mode": {
    "name": "ipython",
    "version": 3
   },
   "file_extension": ".py",
   "mimetype": "text/x-python",
   "name": "python",
   "nbconvert_exporter": "python",
   "pygments_lexer": "ipython3",
   "version": "3.9.5"
  }
 },
 "nbformat": 4,
 "nbformat_minor": 5
}
