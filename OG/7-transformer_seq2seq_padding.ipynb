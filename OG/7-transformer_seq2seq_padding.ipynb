{
 "cells": [
  {
   "cell_type": "markdown",
   "id": "763061df-82d1-4195-832d-534ddb711dae",
   "metadata": {},
   "source": [
    "# TRANSFORMER FOR SEQUENCE TO SEQUENCE WITH PADDING"
   ]
  },
  {
   "cell_type": "markdown",
   "id": "75a5f818-142b-4e2e-9e71-bcf99ccaa0ba",
   "metadata": {},
   "source": [
    "Ce notebook montre un transformer pour la génération de séquence à  partr des séquences enregitrées par l'Agent12"
   ]
  },
  {
   "cell_type": "code",
   "execution_count": 1,
   "id": "4aad2bb6-fbd1-4322-9dce-c48ffb25e80f",
   "metadata": {},
   "outputs": [],
   "source": [
    "import torch\n",
    "import torch.nn as nn\n",
    "from torch.utils.data import Dataset, DataLoader\n",
    "from torch.nn.utils.rnn import pad_sequence\n",
    "\n",
    "# --- Configuration ---\n",
    "\n",
    "VOCAB_SIZE = 13  # 10 tokens + <sos>=9, <eos>=11, <pad>=12\n",
    "SOS_TOKEN = 9\n",
    "EOS_TOKEN = 11\n",
    "PAD_TOKEN = 12\n",
    "DEVICE = torch.device('cuda' if torch.cuda.is_available() else 'cpu')"
   ]
  },
  {
   "cell_type": "markdown",
   "id": "9636ab03-423b-4716-8545-66453efe483a",
   "metadata": {},
   "source": [
    "## On crée un dataloader qui se charge d'ajouter les SOS_TOKEN, EOS_TOKEN et PAD_TOKEN"
   ]
  },
  {
   "cell_type": "code",
   "execution_count": 2,
   "id": "44782002-e0fc-4903-ba5d-3f984f6ffc2e",
   "metadata": {},
   "outputs": [],
   "source": [
    "# --- 1. Dataset & DataLoader ---\n",
    "\n",
    "class Seq2SeqDataset(Dataset):\n",
    "    def __init__(self, sequences):\n",
    "        self.data = []\n",
    "        for src, tgt in sequences:\n",
    "            tgt_input = [SOS_TOKEN] + tgt\n",
    "            tgt_output = tgt + [EOS_TOKEN]\n",
    "            self.data.append((torch.tensor(src), torch.tensor(tgt_input), torch.tensor(tgt_output)))\n",
    "\n",
    "    def __len__(self):\n",
    "        return len(self.data)\n",
    "\n",
    "    def __getitem__(self, idx):\n",
    "        return self.data[idx]\n",
    "\n",
    "def collate_fn(batch):\n",
    "    src_batch, tgt_in_batch, tgt_out_batch = zip(*batch)\n",
    "\n",
    "    src_padded = pad_sequence(src_batch, batch_first=True, padding_value=PAD_TOKEN)\n",
    "    tgt_in_padded = pad_sequence(tgt_in_batch, batch_first=True, padding_value=PAD_TOKEN)\n",
    "    tgt_out_padded = pad_sequence(tgt_out_batch, batch_first=True, padding_value=PAD_TOKEN)\n",
    "\n",
    "    return src_padded, tgt_in_padded, tgt_out_padded\n",
    "\n",
    "def get_dataloader(sequences, batch_size=32):\n",
    "    dataset = Seq2SeqDataset(sequences)\n",
    "    return DataLoader(dataset, batch_size=batch_size, shuffle=True, collate_fn=collate_fn)\n"
   ]
  },
  {
   "cell_type": "markdown",
   "id": "7743714f-5304-4762-b5de-09ab55956145",
   "metadata": {},
   "source": [
    "## On crée le modèle"
   ]
  },
  {
   "cell_type": "code",
   "execution_count": 3,
   "id": "a9a71049-facb-4496-898f-ed5f41f89616",
   "metadata": {},
   "outputs": [],
   "source": [
    "# --- 2. Transformer Model ---\n",
    "\n",
    "class SimpleTransformer(nn.Module):\n",
    "    def __init__(self, vocab_size, d_model=64, nhead=4, num_layers=2):\n",
    "        super().__init__()\n",
    "        self.embedding = nn.Embedding(vocab_size, d_model, padding_idx=PAD_TOKEN)\n",
    "        self.pos_encoding = nn.Parameter(torch.randn(512, d_model))  # max sequence length\n",
    "\n",
    "        encoder_layer = nn.TransformerEncoderLayer(d_model=d_model, nhead=nhead)\n",
    "        decoder_layer = nn.TransformerDecoderLayer(d_model=d_model, nhead=nhead)\n",
    "\n",
    "        self.encoder = nn.TransformerEncoder(encoder_layer, num_layers=num_layers)\n",
    "        self.decoder = nn.TransformerDecoder(decoder_layer, num_layers=num_layers)\n",
    "\n",
    "        self.output_linear = nn.Linear(d_model, vocab_size)\n",
    "\n",
    "    def forward(self, src, tgt_in, src_key_padding_mask, tgt_key_padding_mask, tgt_mask):\n",
    "        src_emb = self.embedding(src) + self.pos_encoding[:src.size(1)]\n",
    "        tgt_emb = self.embedding(tgt_in) + self.pos_encoding[:tgt_in.size(1)]\n",
    "\n",
    "        src_emb = src_emb.permute(1, 0, 2)  # (seq, batch, embed)\n",
    "        tgt_emb = tgt_emb.permute(1, 0, 2)\n",
    "\n",
    "        memory = self.encoder(src_emb, src_key_padding_mask=src_key_padding_mask)\n",
    "        out = self.decoder(\n",
    "            tgt_emb,\n",
    "            memory,\n",
    "            tgt_mask=tgt_mask,\n",
    "            tgt_key_padding_mask=tgt_key_padding_mask,\n",
    "            memory_key_padding_mask=src_key_padding_mask\n",
    "        )\n",
    "        out = self.output_linear(out)\n",
    "        return out.permute(1, 0, 2)  # (batch, seq, vocab)\n",
    "\n",
    "    def generate_square_subsequent_mask(self, sz):\n",
    "        mask = torch.triu(torch.ones(sz, sz) * float('-inf'), diagonal=1)\n",
    "        return mask.to(DEVICE)\n"
   ]
  },
  {
   "cell_type": "markdown",
   "id": "8c40e122-cf75-4aca-a179-4b51ae1cac8c",
   "metadata": {},
   "source": [
    "## La fonction d'entrainement"
   ]
  },
  {
   "cell_type": "code",
   "execution_count": 4,
   "id": "75874eeb-4c39-4fae-999d-6a5a2d2090df",
   "metadata": {},
   "outputs": [],
   "source": [
    "def train_model(model, dataloader, num_epochs=10):\n",
    "    # model = SimpleTransformer(VOCAB_SIZE).to(DEVICE)\n",
    "    model.train()\n",
    "    criterion = nn.CrossEntropyLoss(ignore_index=PAD_TOKEN)\n",
    "    optimizer = torch.optim.Adam(model.parameters(), lr=1e-3)\n",
    "\n",
    "    for epoch in range(num_epochs):\n",
    "        model.train()\n",
    "        total_loss = 0\n",
    "        for src, tgt_in, tgt_out in dataloader:\n",
    "            src, tgt_in, tgt_out = src.to(DEVICE), tgt_in.to(DEVICE), tgt_out.to(DEVICE)\n",
    "\n",
    "            src_pad_mask = (src == PAD_TOKEN)\n",
    "            tgt_pad_mask = (tgt_in == PAD_TOKEN)\n",
    "            tgt_mask = model.generate_square_subsequent_mask(tgt_in.size(1))\n",
    "\n",
    "            output = model(src, tgt_in, src_pad_mask, tgt_pad_mask, tgt_mask)\n",
    "\n",
    "            loss = criterion(output.reshape(-1, VOCAB_SIZE), tgt_out.reshape(-1))\n",
    "\n",
    "            optimizer.zero_grad()\n",
    "            loss.backward()\n",
    "            optimizer.step()\n",
    "            total_loss += loss.item()\n",
    "        print(f\"Epoch {epoch + 1}, Loss: {total_loss:.4f}\")\n",
    "    # return model\n"
   ]
  },
  {
   "cell_type": "markdown",
   "id": "8cbe0c4d-8de0-47dd-a67b-5bae2fdd1e6b",
   "metadata": {},
   "source": [
    "## La fonction de génération"
   ]
  },
  {
   "cell_type": "code",
   "execution_count": 5,
   "id": "9e18f515-e7bd-436f-9832-3b0833e3a0ec",
   "metadata": {},
   "outputs": [],
   "source": [
    "# --- 4. Generation Function ---\n",
    "\n",
    "def generate_sequence(model, input_sequence, max_len=50):\n",
    "    model.eval()\n",
    "    src = torch.tensor([input_sequence], dtype=torch.long).to(DEVICE)\n",
    "    src_pad_mask = (src == PAD_TOKEN)\n",
    "    src_emb = model.embedding(src) + model.pos_encoding[:src.size(1)]\n",
    "    memory = model.encoder(src_emb.permute(1, 0, 2), src_key_padding_mask=src_pad_mask)\n",
    "\n",
    "    generated = [SOS_TOKEN]\n",
    "    for _ in range(max_len):\n",
    "        tgt = torch.tensor([generated], dtype=torch.long).to(DEVICE)\n",
    "        tgt_pad_mask = (tgt == PAD_TOKEN)\n",
    "        tgt_mask = model.generate_square_subsequent_mask(tgt.size(1))\n",
    "\n",
    "        tgt_emb = model.embedding(tgt) + model.pos_encoding[:tgt.size(1)]\n",
    "        out = model.decoder(\n",
    "            tgt_emb.permute(1, 0, 2),\n",
    "            memory,\n",
    "            tgt_mask=tgt_mask,\n",
    "            tgt_key_padding_mask=tgt_pad_mask,\n",
    "            memory_key_padding_mask=src_pad_mask\n",
    "        )\n",
    "        logits = model.output_linear(out[-1])\n",
    "        next_token = torch.argmax(logits, dim=-1).item()\n",
    "        if next_token == EOS_TOKEN:\n",
    "            break\n",
    "        generated.append(next_token)\n",
    "    return generated[1:]  # remove <sos>\n"
   ]
  },
  {
   "cell_type": "markdown",
   "id": "3dc2bf77-0fec-4562-bdfa-9f85dd486e21",
   "metadata": {},
   "source": [
    "# Testons avec les séquences générées par l'agent 12"
   ]
  },
  {
   "cell_type": "code",
   "execution_count": 48,
   "id": "8cfb8458-097d-4815-acdb-e99c364d3adc",
   "metadata": {},
   "outputs": [],
   "source": [
    "# Séquences de longueur 2 à 20\n",
    "\n",
    "train_data = [[[0], [1]], [[1], [1]], [[0, 1], [1]], [[0], [1, 1]], [[1], [3]], [[1, 1], [3]], [[1], [1, 3]], [[0, 1], [1, 3]], [[3], [1]], [[1, 3], [1]], [[1], [3, 1]], [[1, 1], [3, 1]], [[1], [4]], [[3, 1], [4]], [[3], [1, 4]], [[1, 3], [1, 4]], [[4], [1]], [[1, 4], [1]], [[1], [4, 1]], [[3, 1], [4, 1]], [[1], [7]], [[4, 1], [7]], [[4], [1, 7]], [[1, 4], [1, 7]], [[7], [1]], [[1, 7], [1]], [[1], [7, 1]], [[4, 1], [7, 1]], [[1], [8]], [[7, 1], [8]], [[7], [1, 8]], [[1, 7], [1, 8]], [[8], [0]], [[1, 8], [0]], [[1], [8, 0]], [[7, 1], [8, 0]], [[0], [2]], [[8, 0], [2]], [[8], [0, 2]], [[1, 8], [0, 2]], [[2], [0]], [[0, 2], [0]], [[0], [2, 0]], [[8, 0], [2, 0]], [[2, 0], [2, 0]], [[2], [0, 2, 0]], [[0, 2], [0, 2, 0]], [[2, 0], [3]], [[0, 2, 0], [3]], [[0], [2, 0, 3]], [[2, 0], [2, 0, 3]], [[3], [3]], [[2, 0, 3], [3]], [[2, 0], [3, 3]], [[0, 2, 0], [3, 3]], [[3], [4]], [[3, 3], [4]], [[3], [3, 4]], [[2, 0, 3], [3, 4]], [[4], [3]], [[3, 4], [3]], [[3], [4, 3]], [[3, 3], [4, 3]], [[3], [7]], [[4, 3], [7]], [[4], [3, 7]], [[3, 4], [3, 7]], [[7], [3]], [[3, 7], [3]], [[3], [7, 3]], [[4, 3], [7, 3]], [[3], [8]], [[7, 3], [8]], [[7], [3, 8]], [[3, 7], [3, 8]], [[3, 8], [0, 2]], [[3], [8, 0, 2]], [[7, 3], [8, 0, 2]], [[8, 0, 2], [0, 2, 0]], [[8], [0, 2, 0, 2, 0]], [[3, 8], [0, 2, 0, 2, 0]], [[0, 2, 0, 2, 0], [3]], [[0, 2], [0, 2, 0, 3]], [[8, 0, 2], [0, 2, 0, 3]], [[3], [10]], [[0, 2, 0, 3], [10]], [[0, 2, 0], [3, 10]], [[0, 2, 0, 2, 0], [3, 10]], [[10], [1]], [[3, 10], [1]], [[3], [10, 1]], [[0, 2, 0, 3], [10, 1]], [[1], [10]], [[10, 1], [10]], [[10], [1, 10]], [[3, 10], [1, 10]], [[10], [2]], [[1, 10], [2]], [[1], [10, 2]], [[10, 1], [10, 2]], [[10, 2], [0, 2, 0]], [[10], [2, 0, 2, 0]], [[1, 10], [2, 0, 2, 0]], [[0, 2, 0], [2, 0, 3]], [[2, 0, 2, 0], [2, 0, 3]], [[2], [0, 2, 0, 2, 0, 3]], [[10, 2], [0, 2, 0, 2, 0, 3]], [[2, 0, 3], [5]], [[0, 2, 0, 2, 0, 3], [5]], [[0, 2, 0], [2, 0, 3, 5]], [[2, 0, 2, 0], [2, 0, 3, 5]], [[5], [1]], [[2, 0, 3, 5], [1]], [[2, 0, 3], [5, 1]], [[0, 2, 0, 2, 0, 3], [5, 1]], [[5, 1], [3]], [[5], [1, 3]], [[2, 0, 3, 5], [1, 3]], [[1, 3], [3]], [[1], [3, 3]], [[5, 1], [3, 3]], [[3], [5]], [[3, 3], [5]], [[3], [3, 5]], [[1, 3], [3, 5]], [[5], [3]], [[3, 5], [3]], [[3], [5, 3]], [[3, 3], [5, 3]], [[3], [6]], [[5, 3], [6]], [[5], [3, 6]], [[3, 5], [3, 6]], [[6], [1]], [[3, 6], [1]], [[3], [6, 1]], [[5, 3], [6, 1]], [[1], [5]], [[6, 1], [5]], [[6], [1, 5]], [[3, 6], [1, 5]], [[5], [5]], [[1, 5], [5]], [[1], [5, 5]], [[6, 1], [5, 5]], [[5], [6]], [[5, 5], [6]], [[5], [5, 6]], [[1, 5], [5, 6]], [[6], [3]], [[5, 6], [3]], [[5], [6, 3]], [[5, 5], [6, 3]], [[6, 3], [3]], [[6], [3, 3]], [[5, 6], [3, 3]], [[6, 3], [3, 5]], [[5], [8]], [[3, 5], [8]], [[3], [5, 8]], [[3, 3], [5, 8]], [[8], [1]], [[5, 8], [1]], [[5], [8, 1]], [[3, 5], [8, 1]], [[8, 1], [7]], [[8], [1, 7]], [[5, 8], [1, 7]], [[7], [4]], [[1, 7], [4]], [[1], [7, 4]], [[8, 1], [7, 4]], [[4], [4]], [[7, 4], [4]], [[7], [4, 4]], [[1, 7], [4, 4]], [[4], [7]], [[4, 4], [7]], [[4], [4, 7]], [[7, 4], [4, 7]], [[7], [7]], [[4, 7], [7]], [[4], [7, 7]], [[4, 4], [7, 7]], [[7], [8]], [[7, 7], [8]], [[7], [7, 8]], [[4, 7], [7, 8]], [[7, 8], [0, 2, 0, 2, 0]], [[7], [8, 0, 2, 0, 2, 0]], [[7, 7], [8, 0, 2, 0, 2, 0]], [[8, 0, 2, 0, 2, 0], [3]], [[8], [0, 2, 0, 2, 0, 3]], [[7, 8], [0, 2, 0, 2, 0, 3]], [[0, 2, 0, 2, 0, 3], [7]], [[0, 2, 0, 2, 0], [3, 7]], [[8, 0, 2, 0, 2, 0], [3, 7]], [[0], [3]], [[0, 2], [0, 3]], [[8], [0, 2, 0, 3]], [[7], [8, 0, 2, 0, 3]], [[3, 7], [8, 0, 2, 0, 3]], [[3], [7, 8, 0, 2, 0, 3]], [[0, 2, 0, 2, 0, 3], [7, 8, 0, 2, 0, 3]], [[8], [0, 3]], [[7], [8, 0, 3]], [[8, 0, 2, 0, 3], [7, 8, 0, 3]], [[7, 8, 0, 2, 0, 3], [7, 8, 0, 3]], [[7], [8, 0, 2, 0, 3, 7, 8, 0, 3]], [[3, 7], [8, 0, 2, 0, 3, 7, 8, 0, 3]], [[7, 8, 0, 3], [6]], [[8, 0, 2, 0, 3, 7, 8, 0, 3], [6]], [[8, 0, 2, 0, 3], [7, 8, 0, 3, 6]], [[7, 8, 0, 2, 0, 3], [7, 8, 0, 3, 6]], [[6], [5]], [[7, 8, 0, 3, 6], [5]], [[7, 8, 0, 3], [6, 5]], [[8, 0, 2, 0, 3, 7, 8, 0, 3], [6, 5]], [[5], [10]], [[6, 5], [10]], [[6], [5, 10]], [[7, 8, 0, 3, 6], [5, 10]], [[2], [0, 3]], [[10], [2, 0, 3]], [[5, 10], [2, 0, 3]], [[5], [10, 2, 0, 3]], [[6, 5], [10, 2, 0, 3]], [[2, 0, 3], [7, 8, 0, 2, 0, 3]], [[10, 2, 0, 3], [7, 8, 0, 2, 0, 3]], [[10], [2, 0, 3, 7, 8, 0, 2, 0, 3]], [[5, 10], [2, 0, 3, 7, 8, 0, 2, 0, 3]], [[0, 2], [0, 2]], [[8], [0, 2, 0, 2]], [[7], [8, 0, 2, 0, 2]], [[7, 8, 0, 2, 0, 3], [7, 8, 0, 2, 0, 2]], [[2, 0, 3, 7, 8, 0, 2, 0, 3], [7, 8, 0, 2, 0, 2]], [[2, 0, 3], [7, 8, 0, 2, 0, 3, 7, 8, 0, 2, 0, 2]], [[10, 2, 0, 3], [7, 8, 0, 2, 0, 3, 7, 8, 0, 2, 0, 2]], [[7, 8, 0, 2, 0, 2], [0, 3]], [[7, 8, 0, 2, 0, 3, 7, 8, 0, 2, 0, 2], [0, 3]], [[7, 8, 0, 2, 0, 3], [7, 8, 0, 2, 0, 2, 0, 3]], [[2, 0, 3, 7, 8, 0, 2, 0, 3], [7, 8, 0, 2, 0, 2, 0, 3]], [[0, 3], [7, 8, 0, 2, 0, 2]], [[7, 8, 0, 2, 0, 2, 0, 3], [7, 8, 0, 2, 0, 2]], [[7, 8, 0, 2, 0, 2], [0, 3, 7, 8, 0, 2, 0, 2]], [[0, 3, 7, 8, 0, 2, 0, 2], [0, 3]], [[0, 3], [7, 8, 0, 2, 0, 2, 0, 3]], [[7, 8, 0, 2, 0, 2, 0, 3], [7, 8, 0, 2, 0, 2, 0, 3]]]"
   ]
  },
  {
   "cell_type": "code",
   "execution_count": 47,
   "id": "1c4a8df7-425e-4fa2-a2d6-d792ae566150",
   "metadata": {},
   "outputs": [],
   "source": [
    "# Séquences de longuer 10 à 20\n",
    "\n",
    "train_data = [[[0, 2, 0, 2, 0, 3], [7, 8, 0, 2, 0, 3]], [[7, 8, 0, 2, 0, 3], [7, 8, 0, 3]], [[7], [8, 0, 2, 0, 3, 7, 8, 0, 3]], [[3, 7], [8, 0, 2, 0, 3, 7, 8, 0, 3]], [[8, 0, 2, 0, 3, 7, 8, 0, 3], [6]], [[8, 0, 2, 0, 3], [7, 8, 0, 3, 6]], [[7, 8, 0, 2, 0, 3], [7, 8, 0, 3, 6]], [[8, 0, 2, 0, 3, 7, 8, 0, 3], [6, 5]], [[10, 2, 0, 3], [7, 8, 0, 2, 0, 3]], [[10], [2, 0, 3, 7, 8, 0, 2, 0, 3]], [[5, 10], [2, 0, 3, 7, 8, 0, 2, 0, 3]], [[7, 8, 0, 2, 0, 3], [7, 8, 0, 2, 0, 2]], [[2, 0, 3, 7, 8, 0, 2, 0, 3], [7, 8, 0, 2, 0, 2]], [[2, 0, 3], [7, 8, 0, 2, 0, 3, 7, 8, 0, 2, 0, 2]], [[10, 2, 0, 3], [7, 8, 0, 2, 0, 3, 7, 8, 0, 2, 0, 2]], [[7, 8, 0, 2, 0, 3, 7, 8, 0, 2, 0, 2], [0, 3]], [[7, 8, 0, 2, 0, 3], [7, 8, 0, 2, 0, 2, 0, 3]], [[2, 0, 3, 7, 8, 0, 2, 0, 3], [7, 8, 0, 2, 0, 2, 0, 3]], [[7, 8, 0, 2, 0, 2, 0, 3], [7, 8, 0, 2, 0, 2]], [[7, 8, 0, 2, 0, 2], [0, 3, 7, 8, 0, 2, 0, 2]], [[0, 3, 7, 8, 0, 2, 0, 2], [0, 3]], [[0, 3], [7, 8, 0, 2, 0, 2, 0, 3]], [[7, 8, 0, 2, 0, 2, 0, 3], [7, 8, 0, 2, 0, 2, 0, 3]]]"
   ]
  },
  {
   "cell_type": "code",
   "execution_count": 27,
   "id": "ac0da68d-74dd-4473-8230-d7965a292e5e",
   "metadata": {},
   "outputs": [
    {
     "name": "stdout",
     "output_type": "stream",
     "text": [
      "Epoch 1, Loss: 2.8458\n",
      "Epoch 2, Loss: 2.3066\n",
      "Epoch 3, Loss: 2.0884\n",
      "Epoch 4, Loss: 1.9890\n",
      "Epoch 5, Loss: 1.9302\n",
      "Epoch 6, Loss: 1.8731\n",
      "Epoch 7, Loss: 1.8218\n",
      "Epoch 8, Loss: 1.7536\n",
      "Epoch 9, Loss: 1.6897\n",
      "Epoch 10, Loss: 1.6521\n",
      "Epoch 11, Loss: 1.5950\n",
      "Epoch 12, Loss: 1.5303\n",
      "Epoch 13, Loss: 1.4768\n",
      "Epoch 14, Loss: 1.4247\n",
      "Epoch 15, Loss: 1.4054\n",
      "Epoch 16, Loss: 1.3581\n",
      "Epoch 17, Loss: 1.3305\n",
      "Epoch 18, Loss: 1.2815\n",
      "Epoch 19, Loss: 1.2797\n",
      "Epoch 20, Loss: 1.2503\n",
      "Epoch 21, Loss: 1.2367\n",
      "Epoch 22, Loss: 1.2310\n",
      "Epoch 23, Loss: 1.1920\n",
      "Epoch 24, Loss: 1.1913\n",
      "Epoch 25, Loss: 1.1786\n",
      "Epoch 26, Loss: 1.1569\n",
      "Epoch 27, Loss: 1.1641\n",
      "Epoch 28, Loss: 1.1325\n",
      "Epoch 29, Loss: 1.1122\n",
      "Epoch 30, Loss: 1.1126\n",
      "Epoch 31, Loss: 1.0979\n",
      "Epoch 32, Loss: 1.0821\n",
      "Epoch 33, Loss: 1.0648\n",
      "Epoch 34, Loss: 1.0499\n",
      "Epoch 35, Loss: 1.0335\n",
      "Epoch 36, Loss: 1.0390\n",
      "Epoch 37, Loss: 1.0147\n",
      "Epoch 38, Loss: 1.0119\n",
      "Epoch 39, Loss: 0.9844\n",
      "Epoch 40, Loss: 0.9874\n",
      "Epoch 41, Loss: 0.9875\n",
      "Epoch 42, Loss: 0.9528\n",
      "Epoch 43, Loss: 0.9445\n",
      "Epoch 44, Loss: 0.9541\n",
      "Epoch 45, Loss: 0.9376\n",
      "Epoch 46, Loss: 0.9050\n",
      "Epoch 47, Loss: 0.8927\n",
      "Epoch 48, Loss: 0.8947\n",
      "Epoch 49, Loss: 0.9055\n",
      "Epoch 50, Loss: 0.8833\n",
      "Epoch 51, Loss: 0.8688\n",
      "Epoch 52, Loss: 0.8637\n",
      "Epoch 53, Loss: 0.8498\n",
      "Epoch 54, Loss: 0.8341\n",
      "Epoch 55, Loss: 0.8352\n",
      "Epoch 56, Loss: 0.8262\n",
      "Epoch 57, Loss: 0.8124\n",
      "Epoch 58, Loss: 0.8099\n",
      "Epoch 59, Loss: 0.7909\n",
      "Epoch 60, Loss: 0.7956\n"
     ]
    }
   ],
   "source": [
    "torch.manual_seed(0)\n",
    "\n",
    "dataloader = get_dataloader(train_data, batch_size=32)\n",
    "model = SimpleTransformer(VOCAB_SIZE, d_model=16).to(DEVICE)\n",
    "\n",
    "train_model(model, dataloader, num_epochs=60)"
   ]
  },
  {
   "cell_type": "code",
   "execution_count": 28,
   "id": "3e3ca0d0-6f40-4123-9a93-e8a0ddd85e9e",
   "metadata": {},
   "outputs": [
    {
     "name": "stdout",
     "output_type": "stream",
     "text": [
      "[0] -> [7, 8, 0, 2, 0, 2, 0, 3]\n",
      "[1] -> [7, 8, 0, 2, 0, 2, 0, 3]\n",
      "[2] -> [7, 8, 0, 2, 0, 2, 0, 3]\n",
      "[3] -> [7, 8, 0, 2, 0, 2, 0, 3]\n",
      "[8, 0, 2, 0, 2, 0, 3] -> [7, 8, 0, 2, 0, 2, 0, 3]\n"
     ]
    }
   ],
   "source": [
    "# Génération\n",
    "tests = [[0], [1], [2], [3], [8, 0, 2, 0, 2, 0, 3]]\n",
    "\n",
    "for seq in tests:\n",
    "    generated = generate_sequence(model, seq)\n",
    "    print(seq, \"->\", generated)\n"
   ]
  },
  {
   "cell_type": "markdown",
   "id": "e795dd0f-dd39-44cc-b4f7-a8cc45b0ac09",
   "metadata": {},
   "source": [
    "# On visualise l'embedding"
   ]
  },
  {
   "cell_type": "code",
   "execution_count": 29,
   "id": "58def669-4cc8-4e18-b6cc-a986bca45466",
   "metadata": {
    "jupyter": {
     "source_hidden": true
    }
   },
   "outputs": [],
   "source": [
    "import matplotlib.pyplot as plt\n",
    "from mpl_toolkits.mplot3d import Axes3D\n",
    "import plotly.graph_objects as go\n",
    "\n",
    "# Liste de formes de marqueurs disponibles dans Plotly\n",
    "marker_symbols = ['diamond', 'diamond', 'square', 'square', 'square', 'square','square', 'square', 'circle', 'cross', 'circle', 'cross']\n",
    "# Couleurs (différentes pour chaque token)\n",
    "marker_colors = ['#D6D6D6', '#F93943', '#FAE2DB', '#535865', '#FAE2DB', '#535865', '#FAE2DB', '#535865', '#D6D6D6', '#D6D6D6', '#D6D6D6', '#D6D6D6']\n",
    "\n",
    "labels = ['forward', 'bump', 'front_empty', 'front_wall', 'left_empty', 'left_wall','right_empty', 'right_wall', 'turn_left', 'turn_left', 'turn_right', 'turn_righ']\n",
    "tags = ['forward', 'bump', 'front', 'front', 'left', 'left','right', 'right', 'left', '', 'right', '']\n",
    "\n",
    "def plotly_embedding(embedding_weights):\n",
    "    # Extraire les vecteurs d'embedding\n",
    "    # embedding_weights = agent._lstm.embedding.weight.data        \n",
    "    # Récupérer les coordonnées\n",
    "    x = embedding_weights[:, 0].detach().numpy()\n",
    "    y = embedding_weights[:, 1].detach().numpy()\n",
    "    z = embedding_weights[:, 2].detach().numpy()\n",
    "    #labels = [f\"Token {i}\" for i in range(agent._lstm.len_vocab)]\n",
    "    # Créer une figure Plotly\n",
    "    fig = go.Figure()\n",
    "    \n",
    "    for i in range(12):\n",
    "        # Exclude the turn wall interactions\n",
    "        if i in [9, 11]:\n",
    "            continue\n",
    "        fig.add_trace(go.Scatter3d(\n",
    "            x=[x[i]],\n",
    "            y=[y[i]],\n",
    "            z=[z[i]],\n",
    "            mode='markers+text',\n",
    "            name=labels[i],\n",
    "            marker=dict(\n",
    "                size=10,\n",
    "                color=marker_colors[i],\n",
    "                symbol=marker_symbols[i],\n",
    "                line=dict(width=1, color='black')\n",
    "            ),\n",
    "            text= tags[i],\n",
    "            textposition='top center'\n",
    "        ))    \n",
    "    fig.update_layout(\n",
    "        # title='Visualisation 3D des embeddings',\n",
    "        width=900,\n",
    "        height=700,\n",
    "        scene=dict(\n",
    "            xaxis_title='X',\n",
    "            yaxis_title='Y',\n",
    "            zaxis_title='Z'\n",
    "        )\n",
    "    )  \n",
    "    # Affichage interactif\n",
    "    fig.show(config={\"toImageButtonOptions\": {\"format\": \"svg\"}}) # Spécifie le format de sauvegarde associé au bouton \"download\" "
   ]
  },
  {
   "cell_type": "code",
   "execution_count": 49,
   "id": "f4e40fb7-d138-460b-8724-466ca196ded5",
   "metadata": {},
   "outputs": [],
   "source": [
    "# Projection par la methode des Feature Agglomeration\n",
    "\n",
    "group_axes = {\n",
    "    \"direction_forward\": [0, 1, 2, 3],      # Tokens : forward, front_empty, front_wall\n",
    "    \"direction_left\": [4, 5, 8],      # left_empty, left_wall, turn_left, turn_left (duplicated)\n",
    "    \"direction_right\": [6, 7, 10],   # right_empty, right_wall, turn_right, turn_right\n",
    "    \"move\": [0, 8, 10],             # forward, turn_left, turn_right\n",
    "    \"feel_wall\": [3, 5, 7],         # bump, front_wall, left_wall, right_wall\n",
    "    \"feel_empty\": [2, 4, 6],\n",
    "}\n",
    "\n",
    "def project_token_embeddings_to_3D(model):\n",
    "    \"\"\"\n",
    "    Renvoie un tenseur (vocab_size, 3) correspondant aux embeddings de tokens projetés dans ℝ³.\n",
    "    \"\"\"\n",
    "    projections = []\n",
    "    for group in group_axes.values():\n",
    "        group_embedding = model.embedding.weight[group].mean(dim=0)\n",
    "        projections.append(group_embedding)\n",
    "    projection_matrix = torch.stack(projections)  # shape (n_axes, d_model)\n",
    "\n",
    "    projected = torch.matmul(model.embedding.weight, projection_matrix.T) \n",
    "\n",
    "    return projected\n"
   ]
  },
  {
   "cell_type": "code",
   "execution_count": 51,
   "id": "075d25ff-fe06-4ebb-9da6-fd075321acf9",
   "metadata": {},
   "outputs": [
    {
     "data": {
      "application/vnd.plotly.v1+json": {
       "config": {
        "plotlyServerURL": "https://plot.ly",
        "toImageButtonOptions": {
         "format": "svg"
        }
       },
       "data": [
        {
         "marker": {
          "color": "#D6D6D6",
          "line": {
           "color": "black",
           "width": 1
          },
          "size": 10,
          "symbol": "diamond"
         },
         "mode": "markers+text",
         "name": "forward",
         "text": "forward",
         "textposition": "top center",
         "type": "scatter3d",
         "x": [
          4.314243316650391
         ],
         "y": [
          -1.859092354774475
         ],
         "z": [
          0.5313540101051331
         ]
        },
        {
         "marker": {
          "color": "#F93943",
          "line": {
           "color": "black",
           "width": 1
          },
          "size": 10,
          "symbol": "diamond"
         },
         "mode": "markers+text",
         "name": "bump",
         "text": "bump",
         "textposition": "top center",
         "type": "scatter3d",
         "x": [
          6.107558250427246
         ],
         "y": [
          -4.318171977996826
         ],
         "z": [
          3.777513027191162
         ]
        },
        {
         "marker": {
          "color": "#FAE2DB",
          "line": {
           "color": "black",
           "width": 1
          },
          "size": 10,
          "symbol": "square"
         },
         "mode": "markers+text",
         "name": "front_empty",
         "text": "front",
         "textposition": "top center",
         "type": "scatter3d",
         "x": [
          3.2386069297790527
         ],
         "y": [
          0.23591995239257812
         ],
         "z": [
          -1.974112629890442
         ]
        },
        {
         "marker": {
          "color": "#535865",
          "line": {
           "color": "black",
           "width": 1
          },
          "size": 10,
          "symbol": "square"
         },
         "mode": "markers+text",
         "name": "front_wall",
         "text": "front",
         "textposition": "top center",
         "type": "scatter3d",
         "x": [
          4.432669639587402
         ],
         "y": [
          -0.9964109063148499
         ],
         "z": [
          1.495295524597168
         ]
        },
        {
         "marker": {
          "color": "#FAE2DB",
          "line": {
           "color": "black",
           "width": 1
          },
          "size": 10,
          "symbol": "square"
         },
         "mode": "markers+text",
         "name": "left_empty",
         "text": "left",
         "textposition": "top center",
         "type": "scatter3d",
         "x": [
          -1.4698851108551025
         ],
         "y": [
          5.559685707092285
         ],
         "z": [
          -3.653602123260498
         ]
        },
        {
         "marker": {
          "color": "#535865",
          "line": {
           "color": "black",
           "width": 1
          },
          "size": 10,
          "symbol": "square"
         },
         "mode": "markers+text",
         "name": "left_wall",
         "text": "left",
         "textposition": "top center",
         "type": "scatter3d",
         "x": [
          -2.2824251651763916
         ],
         "y": [
          5.9041218757629395
         ],
         "z": [
          -2.8661677837371826
         ]
        },
        {
         "marker": {
          "color": "#FAE2DB",
          "line": {
           "color": "black",
           "width": 1
          },
          "size": 10,
          "symbol": "square"
         },
         "mode": "markers+text",
         "name": "right_empty",
         "text": "right",
         "textposition": "top center",
         "type": "scatter3d",
         "x": [
          -0.2249668836593628
         ],
         "y": [
          -4.343005180358887
         ],
         "z": [
          6.590700626373291
         ]
        },
        {
         "marker": {
          "color": "#535865",
          "line": {
           "color": "black",
           "width": 1
          },
          "size": 10,
          "symbol": "square"
         },
         "mode": "markers+text",
         "name": "right_wall",
         "text": "right",
         "textposition": "top center",
         "type": "scatter3d",
         "x": [
          2.351701498031616
         ],
         "y": [
          -2.613687038421631
         ],
         "z": [
          4.608567237854004
         ]
        },
        {
         "marker": {
          "color": "#D6D6D6",
          "line": {
           "color": "black",
           "width": 1
          },
          "size": 10,
          "symbol": "circle"
         },
         "mode": "markers+text",
         "name": "turn_left",
         "text": "left",
         "textposition": "top center",
         "type": "scatter3d",
         "x": [
          -1.4510064125061035
         ],
         "y": [
          5.0348944664001465
         ],
         "z": [
          -1.8033018112182617
         ]
        },
        {
         "marker": {
          "color": "#D6D6D6",
          "line": {
           "color": "black",
           "width": 1
          },
          "size": 10,
          "symbol": "circle"
         },
         "mode": "markers+text",
         "name": "turn_right",
         "text": "right",
         "textposition": "top center",
         "type": "scatter3d",
         "x": [
          0.7458033561706543
         ],
         "y": [
          -1.3663790225982666
         ],
         "z": [
          3.349440813064575
         ]
        }
       ],
       "layout": {
        "height": 700,
        "scene": {
         "aspectmode": "auto",
         "aspectratio": {
          "x": 0.8752777587562101,
          "y": 1.0690226617959446,
          "z": 1.0687280184658647
         },
         "camera": {
          "center": {
           "x": 0,
           "y": 0,
           "z": 0
          },
          "eye": {
           "x": 0.7394372992882443,
           "y": -0.1861211908266595,
           "z": 2.0263492746184144
          },
          "projection": {
           "type": "perspective"
          },
          "up": {
           "x": 0,
           "y": 0,
           "z": 1
          }
         },
         "xaxis": {
          "title": {
           "text": "X"
          },
          "type": "linear"
         },
         "yaxis": {
          "title": {
           "text": "Y"
          },
          "type": "linear"
         },
         "zaxis": {
          "title": {
           "text": "Z"
          },
          "type": "linear"
         }
        },
        "template": {
         "data": {
          "bar": [
           {
            "error_x": {
             "color": "#2a3f5f"
            },
            "error_y": {
             "color": "#2a3f5f"
            },
            "marker": {
             "line": {
              "color": "#E5ECF6",
              "width": 0.5
             },
             "pattern": {
              "fillmode": "overlay",
              "size": 10,
              "solidity": 0.2
             }
            },
            "type": "bar"
           }
          ],
          "barpolar": [
           {
            "marker": {
             "line": {
              "color": "#E5ECF6",
              "width": 0.5
             },
             "pattern": {
              "fillmode": "overlay",
              "size": 10,
              "solidity": 0.2
             }
            },
            "type": "barpolar"
           }
          ],
          "carpet": [
           {
            "aaxis": {
             "endlinecolor": "#2a3f5f",
             "gridcolor": "white",
             "linecolor": "white",
             "minorgridcolor": "white",
             "startlinecolor": "#2a3f5f"
            },
            "baxis": {
             "endlinecolor": "#2a3f5f",
             "gridcolor": "white",
             "linecolor": "white",
             "minorgridcolor": "white",
             "startlinecolor": "#2a3f5f"
            },
            "type": "carpet"
           }
          ],
          "choropleth": [
           {
            "colorbar": {
             "outlinewidth": 0,
             "ticks": ""
            },
            "type": "choropleth"
           }
          ],
          "contour": [
           {
            "colorbar": {
             "outlinewidth": 0,
             "ticks": ""
            },
            "colorscale": [
             [
              0,
              "#0d0887"
             ],
             [
              0.1111111111111111,
              "#46039f"
             ],
             [
              0.2222222222222222,
              "#7201a8"
             ],
             [
              0.3333333333333333,
              "#9c179e"
             ],
             [
              0.4444444444444444,
              "#bd3786"
             ],
             [
              0.5555555555555556,
              "#d8576b"
             ],
             [
              0.6666666666666666,
              "#ed7953"
             ],
             [
              0.7777777777777778,
              "#fb9f3a"
             ],
             [
              0.8888888888888888,
              "#fdca26"
             ],
             [
              1,
              "#f0f921"
             ]
            ],
            "type": "contour"
           }
          ],
          "contourcarpet": [
           {
            "colorbar": {
             "outlinewidth": 0,
             "ticks": ""
            },
            "type": "contourcarpet"
           }
          ],
          "heatmap": [
           {
            "colorbar": {
             "outlinewidth": 0,
             "ticks": ""
            },
            "colorscale": [
             [
              0,
              "#0d0887"
             ],
             [
              0.1111111111111111,
              "#46039f"
             ],
             [
              0.2222222222222222,
              "#7201a8"
             ],
             [
              0.3333333333333333,
              "#9c179e"
             ],
             [
              0.4444444444444444,
              "#bd3786"
             ],
             [
              0.5555555555555556,
              "#d8576b"
             ],
             [
              0.6666666666666666,
              "#ed7953"
             ],
             [
              0.7777777777777778,
              "#fb9f3a"
             ],
             [
              0.8888888888888888,
              "#fdca26"
             ],
             [
              1,
              "#f0f921"
             ]
            ],
            "type": "heatmap"
           }
          ],
          "heatmapgl": [
           {
            "colorbar": {
             "outlinewidth": 0,
             "ticks": ""
            },
            "colorscale": [
             [
              0,
              "#0d0887"
             ],
             [
              0.1111111111111111,
              "#46039f"
             ],
             [
              0.2222222222222222,
              "#7201a8"
             ],
             [
              0.3333333333333333,
              "#9c179e"
             ],
             [
              0.4444444444444444,
              "#bd3786"
             ],
             [
              0.5555555555555556,
              "#d8576b"
             ],
             [
              0.6666666666666666,
              "#ed7953"
             ],
             [
              0.7777777777777778,
              "#fb9f3a"
             ],
             [
              0.8888888888888888,
              "#fdca26"
             ],
             [
              1,
              "#f0f921"
             ]
            ],
            "type": "heatmapgl"
           }
          ],
          "histogram": [
           {
            "marker": {
             "pattern": {
              "fillmode": "overlay",
              "size": 10,
              "solidity": 0.2
             }
            },
            "type": "histogram"
           }
          ],
          "histogram2d": [
           {
            "colorbar": {
             "outlinewidth": 0,
             "ticks": ""
            },
            "colorscale": [
             [
              0,
              "#0d0887"
             ],
             [
              0.1111111111111111,
              "#46039f"
             ],
             [
              0.2222222222222222,
              "#7201a8"
             ],
             [
              0.3333333333333333,
              "#9c179e"
             ],
             [
              0.4444444444444444,
              "#bd3786"
             ],
             [
              0.5555555555555556,
              "#d8576b"
             ],
             [
              0.6666666666666666,
              "#ed7953"
             ],
             [
              0.7777777777777778,
              "#fb9f3a"
             ],
             [
              0.8888888888888888,
              "#fdca26"
             ],
             [
              1,
              "#f0f921"
             ]
            ],
            "type": "histogram2d"
           }
          ],
          "histogram2dcontour": [
           {
            "colorbar": {
             "outlinewidth": 0,
             "ticks": ""
            },
            "colorscale": [
             [
              0,
              "#0d0887"
             ],
             [
              0.1111111111111111,
              "#46039f"
             ],
             [
              0.2222222222222222,
              "#7201a8"
             ],
             [
              0.3333333333333333,
              "#9c179e"
             ],
             [
              0.4444444444444444,
              "#bd3786"
             ],
             [
              0.5555555555555556,
              "#d8576b"
             ],
             [
              0.6666666666666666,
              "#ed7953"
             ],
             [
              0.7777777777777778,
              "#fb9f3a"
             ],
             [
              0.8888888888888888,
              "#fdca26"
             ],
             [
              1,
              "#f0f921"
             ]
            ],
            "type": "histogram2dcontour"
           }
          ],
          "mesh3d": [
           {
            "colorbar": {
             "outlinewidth": 0,
             "ticks": ""
            },
            "type": "mesh3d"
           }
          ],
          "parcoords": [
           {
            "line": {
             "colorbar": {
              "outlinewidth": 0,
              "ticks": ""
             }
            },
            "type": "parcoords"
           }
          ],
          "pie": [
           {
            "automargin": true,
            "type": "pie"
           }
          ],
          "scatter": [
           {
            "fillpattern": {
             "fillmode": "overlay",
             "size": 10,
             "solidity": 0.2
            },
            "type": "scatter"
           }
          ],
          "scatter3d": [
           {
            "line": {
             "colorbar": {
              "outlinewidth": 0,
              "ticks": ""
             }
            },
            "marker": {
             "colorbar": {
              "outlinewidth": 0,
              "ticks": ""
             }
            },
            "type": "scatter3d"
           }
          ],
          "scattercarpet": [
           {
            "marker": {
             "colorbar": {
              "outlinewidth": 0,
              "ticks": ""
             }
            },
            "type": "scattercarpet"
           }
          ],
          "scattergeo": [
           {
            "marker": {
             "colorbar": {
              "outlinewidth": 0,
              "ticks": ""
             }
            },
            "type": "scattergeo"
           }
          ],
          "scattergl": [
           {
            "marker": {
             "colorbar": {
              "outlinewidth": 0,
              "ticks": ""
             }
            },
            "type": "scattergl"
           }
          ],
          "scattermapbox": [
           {
            "marker": {
             "colorbar": {
              "outlinewidth": 0,
              "ticks": ""
             }
            },
            "type": "scattermapbox"
           }
          ],
          "scatterpolar": [
           {
            "marker": {
             "colorbar": {
              "outlinewidth": 0,
              "ticks": ""
             }
            },
            "type": "scatterpolar"
           }
          ],
          "scatterpolargl": [
           {
            "marker": {
             "colorbar": {
              "outlinewidth": 0,
              "ticks": ""
             }
            },
            "type": "scatterpolargl"
           }
          ],
          "scatterternary": [
           {
            "marker": {
             "colorbar": {
              "outlinewidth": 0,
              "ticks": ""
             }
            },
            "type": "scatterternary"
           }
          ],
          "surface": [
           {
            "colorbar": {
             "outlinewidth": 0,
             "ticks": ""
            },
            "colorscale": [
             [
              0,
              "#0d0887"
             ],
             [
              0.1111111111111111,
              "#46039f"
             ],
             [
              0.2222222222222222,
              "#7201a8"
             ],
             [
              0.3333333333333333,
              "#9c179e"
             ],
             [
              0.4444444444444444,
              "#bd3786"
             ],
             [
              0.5555555555555556,
              "#d8576b"
             ],
             [
              0.6666666666666666,
              "#ed7953"
             ],
             [
              0.7777777777777778,
              "#fb9f3a"
             ],
             [
              0.8888888888888888,
              "#fdca26"
             ],
             [
              1,
              "#f0f921"
             ]
            ],
            "type": "surface"
           }
          ],
          "table": [
           {
            "cells": {
             "fill": {
              "color": "#EBF0F8"
             },
             "line": {
              "color": "white"
             }
            },
            "header": {
             "fill": {
              "color": "#C8D4E3"
             },
             "line": {
              "color": "white"
             }
            },
            "type": "table"
           }
          ]
         },
         "layout": {
          "annotationdefaults": {
           "arrowcolor": "#2a3f5f",
           "arrowhead": 0,
           "arrowwidth": 1
          },
          "autotypenumbers": "strict",
          "coloraxis": {
           "colorbar": {
            "outlinewidth": 0,
            "ticks": ""
           }
          },
          "colorscale": {
           "diverging": [
            [
             0,
             "#8e0152"
            ],
            [
             0.1,
             "#c51b7d"
            ],
            [
             0.2,
             "#de77ae"
            ],
            [
             0.3,
             "#f1b6da"
            ],
            [
             0.4,
             "#fde0ef"
            ],
            [
             0.5,
             "#f7f7f7"
            ],
            [
             0.6,
             "#e6f5d0"
            ],
            [
             0.7,
             "#b8e186"
            ],
            [
             0.8,
             "#7fbc41"
            ],
            [
             0.9,
             "#4d9221"
            ],
            [
             1,
             "#276419"
            ]
           ],
           "sequential": [
            [
             0,
             "#0d0887"
            ],
            [
             0.1111111111111111,
             "#46039f"
            ],
            [
             0.2222222222222222,
             "#7201a8"
            ],
            [
             0.3333333333333333,
             "#9c179e"
            ],
            [
             0.4444444444444444,
             "#bd3786"
            ],
            [
             0.5555555555555556,
             "#d8576b"
            ],
            [
             0.6666666666666666,
             "#ed7953"
            ],
            [
             0.7777777777777778,
             "#fb9f3a"
            ],
            [
             0.8888888888888888,
             "#fdca26"
            ],
            [
             1,
             "#f0f921"
            ]
           ],
           "sequentialminus": [
            [
             0,
             "#0d0887"
            ],
            [
             0.1111111111111111,
             "#46039f"
            ],
            [
             0.2222222222222222,
             "#7201a8"
            ],
            [
             0.3333333333333333,
             "#9c179e"
            ],
            [
             0.4444444444444444,
             "#bd3786"
            ],
            [
             0.5555555555555556,
             "#d8576b"
            ],
            [
             0.6666666666666666,
             "#ed7953"
            ],
            [
             0.7777777777777778,
             "#fb9f3a"
            ],
            [
             0.8888888888888888,
             "#fdca26"
            ],
            [
             1,
             "#f0f921"
            ]
           ]
          },
          "colorway": [
           "#636efa",
           "#EF553B",
           "#00cc96",
           "#ab63fa",
           "#FFA15A",
           "#19d3f3",
           "#FF6692",
           "#B6E880",
           "#FF97FF",
           "#FECB52"
          ],
          "font": {
           "color": "#2a3f5f"
          },
          "geo": {
           "bgcolor": "white",
           "lakecolor": "white",
           "landcolor": "#E5ECF6",
           "showlakes": true,
           "showland": true,
           "subunitcolor": "white"
          },
          "hoverlabel": {
           "align": "left"
          },
          "hovermode": "closest",
          "mapbox": {
           "style": "light"
          },
          "paper_bgcolor": "white",
          "plot_bgcolor": "#E5ECF6",
          "polar": {
           "angularaxis": {
            "gridcolor": "white",
            "linecolor": "white",
            "ticks": ""
           },
           "bgcolor": "#E5ECF6",
           "radialaxis": {
            "gridcolor": "white",
            "linecolor": "white",
            "ticks": ""
           }
          },
          "scene": {
           "xaxis": {
            "backgroundcolor": "#E5ECF6",
            "gridcolor": "white",
            "gridwidth": 2,
            "linecolor": "white",
            "showbackground": true,
            "ticks": "",
            "zerolinecolor": "white"
           },
           "yaxis": {
            "backgroundcolor": "#E5ECF6",
            "gridcolor": "white",
            "gridwidth": 2,
            "linecolor": "white",
            "showbackground": true,
            "ticks": "",
            "zerolinecolor": "white"
           },
           "zaxis": {
            "backgroundcolor": "#E5ECF6",
            "gridcolor": "white",
            "gridwidth": 2,
            "linecolor": "white",
            "showbackground": true,
            "ticks": "",
            "zerolinecolor": "white"
           }
          },
          "shapedefaults": {
           "line": {
            "color": "#2a3f5f"
           }
          },
          "ternary": {
           "aaxis": {
            "gridcolor": "white",
            "linecolor": "white",
            "ticks": ""
           },
           "baxis": {
            "gridcolor": "white",
            "linecolor": "white",
            "ticks": ""
           },
           "bgcolor": "#E5ECF6",
           "caxis": {
            "gridcolor": "white",
            "linecolor": "white",
            "ticks": ""
           }
          },
          "title": {
           "x": 0.05
          },
          "xaxis": {
           "automargin": true,
           "gridcolor": "white",
           "linecolor": "white",
           "ticks": "",
           "title": {
            "standoff": 15
           },
           "zerolinecolor": "white",
           "zerolinewidth": 2
          },
          "yaxis": {
           "automargin": true,
           "gridcolor": "white",
           "linecolor": "white",
           "ticks": "",
           "title": {
            "standoff": 15
           },
           "zerolinecolor": "white",
           "zerolinewidth": 2
          }
         }
        },
        "width": 900
       }
      },
      "image/png": "[encoded data removed]",
      "text/html": [
       "<div>                            <div id=\"5e2f12a2-f39c-4e5b-af9d-81f170e0277f\" class=\"plotly-graph-div\" style=\"height:700px; width:900px;\"></div>            <script type=\"text/javascript\">                require([\"plotly\"], function(Plotly) {                    window.PLOTLYENV=window.PLOTLYENV || {};                                    if (document.getElementById(\"5e2f12a2-f39c-4e5b-af9d-81f170e0277f\")) {                    Plotly.newPlot(                        \"5e2f12a2-f39c-4e5b-af9d-81f170e0277f\",                        [{\"marker\":{\"color\":\"#D6D6D6\",\"line\":{\"color\":\"black\",\"width\":1},\"size\":10,\"symbol\":\"diamond\"},\"mode\":\"markers+text\",\"name\":\"forward\",\"text\":\"forward\",\"textposition\":\"top center\",\"x\":[4.314243316650391],\"y\":[-1.859092354774475],\"z\":[0.5313540101051331],\"type\":\"scatter3d\"},{\"marker\":{\"color\":\"#F93943\",\"line\":{\"color\":\"black\",\"width\":1},\"size\":10,\"symbol\":\"diamond\"},\"mode\":\"markers+text\",\"name\":\"bump\",\"text\":\"bump\",\"textposition\":\"top center\",\"x\":[6.107558250427246],\"y\":[-4.318171977996826],\"z\":[3.777513027191162],\"type\":\"scatter3d\"},{\"marker\":{\"color\":\"#FAE2DB\",\"line\":{\"color\":\"black\",\"width\":1},\"size\":10,\"symbol\":\"square\"},\"mode\":\"markers+text\",\"name\":\"front_empty\",\"text\":\"front\",\"textposition\":\"top center\",\"x\":[3.2386069297790527],\"y\":[0.23591995239257812],\"z\":[-1.974112629890442],\"type\":\"scatter3d\"},{\"marker\":{\"color\":\"#535865\",\"line\":{\"color\":\"black\",\"width\":1},\"size\":10,\"symbol\":\"square\"},\"mode\":\"markers+text\",\"name\":\"front_wall\",\"text\":\"front\",\"textposition\":\"top center\",\"x\":[4.432669639587402],\"y\":[-0.9964109063148499],\"z\":[1.495295524597168],\"type\":\"scatter3d\"},{\"marker\":{\"color\":\"#FAE2DB\",\"line\":{\"color\":\"black\",\"width\":1},\"size\":10,\"symbol\":\"square\"},\"mode\":\"markers+text\",\"name\":\"left_empty\",\"text\":\"left\",\"textposition\":\"top center\",\"x\":[-1.4698851108551025],\"y\":[5.559685707092285],\"z\":[-3.653602123260498],\"type\":\"scatter3d\"},{\"marker\":{\"color\":\"#535865\",\"line\":{\"color\":\"black\",\"width\":1},\"size\":10,\"symbol\":\"square\"},\"mode\":\"markers+text\",\"name\":\"left_wall\",\"text\":\"left\",\"textposition\":\"top center\",\"x\":[-2.2824251651763916],\"y\":[5.9041218757629395],\"z\":[-2.8661677837371826],\"type\":\"scatter3d\"},{\"marker\":{\"color\":\"#FAE2DB\",\"line\":{\"color\":\"black\",\"width\":1},\"size\":10,\"symbol\":\"square\"},\"mode\":\"markers+text\",\"name\":\"right_empty\",\"text\":\"right\",\"textposition\":\"top center\",\"x\":[-0.2249668836593628],\"y\":[-4.343005180358887],\"z\":[6.590700626373291],\"type\":\"scatter3d\"},{\"marker\":{\"color\":\"#535865\",\"line\":{\"color\":\"black\",\"width\":1},\"size\":10,\"symbol\":\"square\"},\"mode\":\"markers+text\",\"name\":\"right_wall\",\"text\":\"right\",\"textposition\":\"top center\",\"x\":[2.351701498031616],\"y\":[-2.613687038421631],\"z\":[4.608567237854004],\"type\":\"scatter3d\"},{\"marker\":{\"color\":\"#D6D6D6\",\"line\":{\"color\":\"black\",\"width\":1},\"size\":10,\"symbol\":\"circle\"},\"mode\":\"markers+text\",\"name\":\"turn_left\",\"text\":\"left\",\"textposition\":\"top center\",\"x\":[-1.4510064125061035],\"y\":[5.0348944664001465],\"z\":[-1.8033018112182617],\"type\":\"scatter3d\"},{\"marker\":{\"color\":\"#D6D6D6\",\"line\":{\"color\":\"black\",\"width\":1},\"size\":10,\"symbol\":\"circle\"},\"mode\":\"markers+text\",\"name\":\"turn_right\",\"text\":\"right\",\"textposition\":\"top center\",\"x\":[0.7458033561706543],\"y\":[-1.3663790225982666],\"z\":[3.349440813064575],\"type\":\"scatter3d\"}],                        {\"template\":{\"data\":{\"histogram2dcontour\":[{\"type\":\"histogram2dcontour\",\"colorbar\":{\"outlinewidth\":0,\"ticks\":\"\"},\"colorscale\":[[0.0,\"#0d0887\"],[0.1111111111111111,\"#46039f\"],[0.2222222222222222,\"#7201a8\"],[0.3333333333333333,\"#9c179e\"],[0.4444444444444444,\"#bd3786\"],[0.5555555555555556,\"#d8576b\"],[0.6666666666666666,\"#ed7953\"],[0.7777777777777778,\"#fb9f3a\"],[0.8888888888888888,\"#fdca26\"],[1.0,\"#f0f921\"]]}],\"choropleth\":[{\"type\":\"choropleth\",\"colorbar\":{\"outlinewidth\":0,\"ticks\":\"\"}}],\"histogram2d\":[{\"type\":\"histogram2d\",\"colorbar\":{\"outlinewidth\":0,\"ticks\":\"\"},\"colorscale\":[[0.0,\"#0d0887\"],[0.1111111111111111,\"#46039f\"],[0.2222222222222222,\"#7201a8\"],[0.3333333333333333,\"#9c179e\"],[0.4444444444444444,\"#bd3786\"],[0.5555555555555556,\"#d8576b\"],[0.6666666666666666,\"#ed7953\"],[0.7777777777777778,\"#fb9f3a\"],[0.8888888888888888,\"#fdca26\"],[1.0,\"#f0f921\"]]}],\"heatmap\":[{\"type\":\"heatmap\",\"colorbar\":{\"outlinewidth\":0,\"ticks\":\"\"},\"colorscale\":[[0.0,\"#0d0887\"],[0.1111111111111111,\"#46039f\"],[0.2222222222222222,\"#7201a8\"],[0.3333333333333333,\"#9c179e\"],[0.4444444444444444,\"#bd3786\"],[0.5555555555555556,\"#d8576b\"],[0.6666666666666666,\"#ed7953\"],[0.7777777777777778,\"#fb9f3a\"],[0.8888888888888888,\"#fdca26\"],[1.0,\"#f0f921\"]]}],\"heatmapgl\":[{\"type\":\"heatmapgl\",\"colorbar\":{\"outlinewidth\":0,\"ticks\":\"\"},\"colorscale\":[[0.0,\"#0d0887\"],[0.1111111111111111,\"#46039f\"],[0.2222222222222222,\"#7201a8\"],[0.3333333333333333,\"#9c179e\"],[0.4444444444444444,\"#bd3786\"],[0.5555555555555556,\"#d8576b\"],[0.6666666666666666,\"#ed7953\"],[0.7777777777777778,\"#fb9f3a\"],[0.8888888888888888,\"#fdca26\"],[1.0,\"#f0f921\"]]}],\"contourcarpet\":[{\"type\":\"contourcarpet\",\"colorbar\":{\"outlinewidth\":0,\"ticks\":\"\"}}],\"contour\":[{\"type\":\"contour\",\"colorbar\":{\"outlinewidth\":0,\"ticks\":\"\"},\"colorscale\":[[0.0,\"#0d0887\"],[0.1111111111111111,\"#46039f\"],[0.2222222222222222,\"#7201a8\"],[0.3333333333333333,\"#9c179e\"],[0.4444444444444444,\"#bd3786\"],[0.5555555555555556,\"#d8576b\"],[0.6666666666666666,\"#ed7953\"],[0.7777777777777778,\"#fb9f3a\"],[0.8888888888888888,\"#fdca26\"],[1.0,\"#f0f921\"]]}],\"surface\":[{\"type\":\"surface\",\"colorbar\":{\"outlinewidth\":0,\"ticks\":\"\"},\"colorscale\":[[0.0,\"#0d0887\"],[0.1111111111111111,\"#46039f\"],[0.2222222222222222,\"#7201a8\"],[0.3333333333333333,\"#9c179e\"],[0.4444444444444444,\"#bd3786\"],[0.5555555555555556,\"#d8576b\"],[0.6666666666666666,\"#ed7953\"],[0.7777777777777778,\"#fb9f3a\"],[0.8888888888888888,\"#fdca26\"],[1.0,\"#f0f921\"]]}],\"mesh3d\":[{\"type\":\"mesh3d\",\"colorbar\":{\"outlinewidth\":0,\"ticks\":\"\"}}],\"scatter\":[{\"fillpattern\":{\"fillmode\":\"overlay\",\"size\":10,\"solidity\":0.2},\"type\":\"scatter\"}],\"parcoords\":[{\"type\":\"parcoords\",\"line\":{\"colorbar\":{\"outlinewidth\":0,\"ticks\":\"\"}}}],\"scatterpolargl\":[{\"type\":\"scatterpolargl\",\"marker\":{\"colorbar\":{\"outlinewidth\":0,\"ticks\":\"\"}}}],\"bar\":[{\"error_x\":{\"color\":\"#2a3f5f\"},\"error_y\":{\"color\":\"#2a3f5f\"},\"marker\":{\"line\":{\"color\":\"#E5ECF6\",\"width\":0.5},\"pattern\":{\"fillmode\":\"overlay\",\"size\":10,\"solidity\":0.2}},\"type\":\"bar\"}],\"scattergeo\":[{\"type\":\"scattergeo\",\"marker\":{\"colorbar\":{\"outlinewidth\":0,\"ticks\":\"\"}}}],\"scatterpolar\":[{\"type\":\"scatterpolar\",\"marker\":{\"colorbar\":{\"outlinewidth\":0,\"ticks\":\"\"}}}],\"histogram\":[{\"marker\":{\"pattern\":{\"fillmode\":\"overlay\",\"size\":10,\"solidity\":0.2}},\"type\":\"histogram\"}],\"scattergl\":[{\"type\":\"scattergl\",\"marker\":{\"colorbar\":{\"outlinewidth\":0,\"ticks\":\"\"}}}],\"scatter3d\":[{\"type\":\"scatter3d\",\"line\":{\"colorbar\":{\"outlinewidth\":0,\"ticks\":\"\"}},\"marker\":{\"colorbar\":{\"outlinewidth\":0,\"ticks\":\"\"}}}],\"scattermapbox\":[{\"type\":\"scattermapbox\",\"marker\":{\"colorbar\":{\"outlinewidth\":0,\"ticks\":\"\"}}}],\"scatterternary\":[{\"type\":\"scatterternary\",\"marker\":{\"colorbar\":{\"outlinewidth\":0,\"ticks\":\"\"}}}],\"scattercarpet\":[{\"type\":\"scattercarpet\",\"marker\":{\"colorbar\":{\"outlinewidth\":0,\"ticks\":\"\"}}}],\"carpet\":[{\"aaxis\":{\"endlinecolor\":\"#2a3f5f\",\"gridcolor\":\"white\",\"linecolor\":\"white\",\"minorgridcolor\":\"white\",\"startlinecolor\":\"#2a3f5f\"},\"baxis\":{\"endlinecolor\":\"#2a3f5f\",\"gridcolor\":\"white\",\"linecolor\":\"white\",\"minorgridcolor\":\"white\",\"startlinecolor\":\"#2a3f5f\"},\"type\":\"carpet\"}],\"table\":[{\"cells\":{\"fill\":{\"color\":\"#EBF0F8\"},\"line\":{\"color\":\"white\"}},\"header\":{\"fill\":{\"color\":\"#C8D4E3\"},\"line\":{\"color\":\"white\"}},\"type\":\"table\"}],\"barpolar\":[{\"marker\":{\"line\":{\"color\":\"#E5ECF6\",\"width\":0.5},\"pattern\":{\"fillmode\":\"overlay\",\"size\":10,\"solidity\":0.2}},\"type\":\"barpolar\"}],\"pie\":[{\"automargin\":true,\"type\":\"pie\"}]},\"layout\":{\"autotypenumbers\":\"strict\",\"colorway\":[\"#636efa\",\"#EF553B\",\"#00cc96\",\"#ab63fa\",\"#FFA15A\",\"#19d3f3\",\"#FF6692\",\"#B6E880\",\"#FF97FF\",\"#FECB52\"],\"font\":{\"color\":\"#2a3f5f\"},\"hovermode\":\"closest\",\"hoverlabel\":{\"align\":\"left\"},\"paper_bgcolor\":\"white\",\"plot_bgcolor\":\"#E5ECF6\",\"polar\":{\"bgcolor\":\"#E5ECF6\",\"angularaxis\":{\"gridcolor\":\"white\",\"linecolor\":\"white\",\"ticks\":\"\"},\"radialaxis\":{\"gridcolor\":\"white\",\"linecolor\":\"white\",\"ticks\":\"\"}},\"ternary\":{\"bgcolor\":\"#E5ECF6\",\"aaxis\":{\"gridcolor\":\"white\",\"linecolor\":\"white\",\"ticks\":\"\"},\"baxis\":{\"gridcolor\":\"white\",\"linecolor\":\"white\",\"ticks\":\"\"},\"caxis\":{\"gridcolor\":\"white\",\"linecolor\":\"white\",\"ticks\":\"\"}},\"coloraxis\":{\"colorbar\":{\"outlinewidth\":0,\"ticks\":\"\"}},\"colorscale\":{\"sequential\":[[0.0,\"#0d0887\"],[0.1111111111111111,\"#46039f\"],[0.2222222222222222,\"#7201a8\"],[0.3333333333333333,\"#9c179e\"],[0.4444444444444444,\"#bd3786\"],[0.5555555555555556,\"#d8576b\"],[0.6666666666666666,\"#ed7953\"],[0.7777777777777778,\"#fb9f3a\"],[0.8888888888888888,\"#fdca26\"],[1.0,\"#f0f921\"]],\"sequentialminus\":[[0.0,\"#0d0887\"],[0.1111111111111111,\"#46039f\"],[0.2222222222222222,\"#7201a8\"],[0.3333333333333333,\"#9c179e\"],[0.4444444444444444,\"#bd3786\"],[0.5555555555555556,\"#d8576b\"],[0.6666666666666666,\"#ed7953\"],[0.7777777777777778,\"#fb9f3a\"],[0.8888888888888888,\"#fdca26\"],[1.0,\"#f0f921\"]],\"diverging\":[[0,\"#8e0152\"],[0.1,\"#c51b7d\"],[0.2,\"#de77ae\"],[0.3,\"#f1b6da\"],[0.4,\"#fde0ef\"],[0.5,\"#f7f7f7\"],[0.6,\"#e6f5d0\"],[0.7,\"#b8e186\"],[0.8,\"#7fbc41\"],[0.9,\"#4d9221\"],[1,\"#276419\"]]},\"xaxis\":{\"gridcolor\":\"white\",\"linecolor\":\"white\",\"ticks\":\"\",\"title\":{\"standoff\":15},\"zerolinecolor\":\"white\",\"automargin\":true,\"zerolinewidth\":2},\"yaxis\":{\"gridcolor\":\"white\",\"linecolor\":\"white\",\"ticks\":\"\",\"title\":{\"standoff\":15},\"zerolinecolor\":\"white\",\"automargin\":true,\"zerolinewidth\":2},\"scene\":{\"xaxis\":{\"backgroundcolor\":\"#E5ECF6\",\"gridcolor\":\"white\",\"linecolor\":\"white\",\"showbackground\":true,\"ticks\":\"\",\"zerolinecolor\":\"white\",\"gridwidth\":2},\"yaxis\":{\"backgroundcolor\":\"#E5ECF6\",\"gridcolor\":\"white\",\"linecolor\":\"white\",\"showbackground\":true,\"ticks\":\"\",\"zerolinecolor\":\"white\",\"gridwidth\":2},\"zaxis\":{\"backgroundcolor\":\"#E5ECF6\",\"gridcolor\":\"white\",\"linecolor\":\"white\",\"showbackground\":true,\"ticks\":\"\",\"zerolinecolor\":\"white\",\"gridwidth\":2}},\"shapedefaults\":{\"line\":{\"color\":\"#2a3f5f\"}},\"annotationdefaults\":{\"arrowcolor\":\"#2a3f5f\",\"arrowhead\":0,\"arrowwidth\":1},\"geo\":{\"bgcolor\":\"white\",\"landcolor\":\"#E5ECF6\",\"subunitcolor\":\"white\",\"showland\":true,\"showlakes\":true,\"lakecolor\":\"white\"},\"title\":{\"x\":0.05},\"mapbox\":{\"style\":\"light\"}}},\"width\":900,\"height\":700,\"scene\":{\"xaxis\":{\"title\":{\"text\":\"X\"}},\"yaxis\":{\"title\":{\"text\":\"Y\"}},\"zaxis\":{\"title\":{\"text\":\"Z\"}}}},                        {\"toImageButtonOptions\": {\"format\": \"svg\"}, \"responsive\": true}                    ).then(function(){\n",
       "                            \n",
       "var gd = document.getElementById('5e2f12a2-f39c-4e5b-af9d-81f170e0277f');\n",
       "var x = new MutationObserver(function (mutations, observer) {{\n",
       "        var display = window.getComputedStyle(gd).display;\n",
       "        if (!display || display === 'none') {{\n",
       "            console.log([gd, 'removed!']);\n",
       "            Plotly.purge(gd);\n",
       "            observer.disconnect();\n",
       "        }}\n",
       "}});\n",
       "\n",
       "// Listen for the removal of the full notebook cells\n",
       "var notebookContainer = gd.closest('#notebook-container');\n",
       "if (notebookContainer) {{\n",
       "    x.observe(notebookContainer, {childList: true});\n",
       "}}\n",
       "\n",
       "// Listen for the clearing of the current output cell\n",
       "var outputEl = gd.closest('.output');\n",
       "if (outputEl) {{\n",
       "    x.observe(outputEl, {childList: true});\n",
       "}}\n",
       "\n",
       "                        })                };                });            </script>        </div>"
      ]
     },
     "metadata": {},
     "output_type": "display_data"
    }
   ],
   "source": [
    "projected = project_token_embeddings_to_3D(model)\n",
    "plotly_embedding(projected)"
   ]
  },
  {
   "cell_type": "markdown",
   "id": "5414d8a1-8fc6-4528-a811-7092b6c9c932",
   "metadata": {},
   "source": [
    "Sous certains angles de projection, on voit des regroupements intéressants des tokens par coté (Figure 1) ou par type de sensation (\"emtpy\" / \"wall\") (Figure 2)"
   ]
  },
  {
   "cell_type": "markdown",
   "id": "4264ecfe-3134-44f9-bd34-0122bffdc425",
   "metadata": {},
   "source": [
    "![Figure 1](img/7-embedding_lateralisation.svg)\n",
    "\n",
    "_Figure 1: Projection qui met en évidence les regroupements par coté (\"left\", \"front\", \"right\")_"
   ]
  },
  {
   "cell_type": "markdown",
   "id": "0e7fb34d-afad-4466-b522-a34d88123be3",
   "metadata": {},
   "source": [
    "![Figure 1](img/7-embedding_feel.svg)\n",
    "\n",
    "_Figure 2: Projection qui met en évidence les regroupements par type de sensation (\"empty\" ou \"wall\")_"
   ]
  },
  {
   "cell_type": "code",
   "execution_count": null,
   "id": "83cea8a9-ab2e-45d0-ad1a-2e8ce6ef76c6",
   "metadata": {},
   "outputs": [],
   "source": []
  }
 ],
 "metadata": {
  "kernelspec": {
   "display_name": "Python 3 (ipykernel)",
   "language": "python",
   "name": "python3"
  },
  "language_info": {
   "codemirror_mode": {
    "name": "ipython",
    "version": 3
   },
   "file_extension": ".py",
   "mimetype": "text/x-python",
   "name": "python",
   "nbconvert_exporter": "python",
   "pygments_lexer": "ipython3",
   "version": "3.9.5"
  }
 },
 "nbformat": 4,
 "nbformat_minor": 5
}
