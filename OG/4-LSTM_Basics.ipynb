{
 "cells": [
  {
   "cell_type": "markdown",
   "id": "346ef9bd-c217-4fab-b06e-84fa9b5eb67c",
   "metadata": {},
   "source": [
    "# TUTOREL LSTM PAR OLIVIER"
   ]
  },
  {
   "cell_type": "markdown",
   "id": "eecf92b4-2d7e-42cd-b526-6515bc4914cf",
   "metadata": {},
   "source": [
    "# Préparons l'environnement"
   ]
  },
  {
   "cell_type": "code",
   "execution_count": 21,
   "id": "9ff90728-b73f-4bad-bff7-e624ed0bb91d",
   "metadata": {},
   "outputs": [],
   "source": [
    "# Import necessary libraries\n",
    "import numpy as np\n",
    "import matplotlib.pyplot as plt\n",
    "from matplotlib.colors import ListedColormap, BoundaryNorm\n",
    "from ipywidgets import Output\n",
    "from IPython.display import display"
   ]
  },
  {
   "cell_type": "markdown",
   "id": "02414e4b-2baf-4727-b50f-be5788ca833f",
   "metadata": {},
   "source": [
    "Les actions"
   ]
  },
  {
   "cell_type": "code",
   "execution_count": 22,
   "id": "6b9ef85f-6a1a-427b-80e4-aa0642469267",
   "metadata": {},
   "outputs": [],
   "source": [
    "FORWARD = 2\n",
    "TURN_LEFT = 3\n",
    "TURN_RIGHT = 4\n",
    "FEEL_FRONT = 5"
   ]
  },
  {
   "cell_type": "markdown",
   "id": "4c15c9fb-c769-433e-a221-c280c316163b",
   "metadata": {},
   "source": [
    "Le Small Loop"
   ]
  },
  {
   "cell_type": "code",
   "execution_count": 23,
   "id": "7caf41c6-80d2-43ed-86c0-0a185117cdd4",
   "metadata": {
    "jupyter": {
     "source_hidden": true
    }
   },
   "outputs": [],
   "source": [
    "LEFT = 0\n",
    "DOWN = 1\n",
    "RIGHT = 2\n",
    "UP = 3\n",
    "FEELING = 2\n",
    "BUMPING = 3\n",
    "\n",
    "class SmallLoop():\n",
    "    def __init__(self, poX, poY, direction):\n",
    "        self.grid = np.array([\n",
    "                [1, 1, 1, 1, 1],\n",
    "                [1, 0, 0, 0, 1],\n",
    "                [1, 0, 1, 0, 1],\n",
    "                [1, 0, 0, 0, 1],\n",
    "                [1, 1, 1, 1, 1]\n",
    "        ])\n",
    "        self.maze = self.grid.copy()\n",
    "        self.poX = poX\n",
    "        self.poY = poY\n",
    "        self.direction = direction\n",
    "        self.cmap = ListedColormap(['white', 'green', 'yellow', 'red'])\n",
    "        self.norm = BoundaryNorm([-0.5, 0.5, 1.5, 2.5, 3.5], self.cmap.N)\n",
    "\n",
    "    def outcome(self, action):\n",
    "        # print('before:', self.agent_position.strPosition(), action_dcit[action])\n",
    "        self.maze[:,:] = self.grid\n",
    "        result = 0\n",
    "        \n",
    "        if action == FORWARD:  # move forward\n",
    "            # print('the action is move forward')\n",
    "            # print(str(self.position.pointX)+': '+ str(self.position.pointY)+ ' ' +self.direction, action)\n",
    "        \n",
    "            if self.direction == LEFT:\n",
    "                if self.maze[self.poX][self.poY - 1] == 0:\n",
    "                    self.poY -= 1\n",
    "                else:\n",
    "                    self.maze[self.poX][self.poY - 1] = BUMPING\n",
    "                    result = 1\n",
    "            elif self.direction == DOWN:\n",
    "                if self.maze[self.poX + 1][self.poY] == 0:\n",
    "                    self.poX += 1\n",
    "                else:\n",
    "                    self.maze[self.poX + 1][self.poY] = BUMPING\n",
    "                    result = 1\n",
    "            elif self.direction == RIGHT:\n",
    "                if self.maze[self.poX][self.poY + 1] == 0:\n",
    "                    self.poY += 1\n",
    "                else:\n",
    "                    self.maze[self.poX][self.poY + 1] = BUMPING\n",
    "                    result = 1\n",
    "            elif self.direction == UP:\n",
    "                if self.maze[self.poX - 1][self.poY] == 0:\n",
    "                    self.poX -= 1\n",
    "                else:\n",
    "                    self.maze[self.poX - 1][self.poY] = BUMPING\n",
    "                    result = 1\n",
    "            # print(str(self.position.pointX)+': '+ str(self.position.pointY)+ ' ' +self.direction, action)\n",
    "        elif action == TURN_RIGHT:\n",
    "            if self.direction == LEFT:\n",
    "                self.direction = UP\n",
    "            elif self.direction == DOWN:\n",
    "                self.direction = LEFT\n",
    "            elif self.direction == RIGHT:\n",
    "                self.direction = DOWN\n",
    "            elif self.direction == UP:\n",
    "                self.direction = RIGHT\n",
    "        elif action == TURN_LEFT:\n",
    "            if self.direction == LEFT:\n",
    "                self.direction = DOWN\n",
    "            elif self.direction == DOWN:\n",
    "                self.direction = RIGHT\n",
    "            elif self.direction == RIGHT:\n",
    "                self.direction = UP\n",
    "            elif self.direction == UP:\n",
    "                self.direction = LEFT\n",
    "        elif action == FEEL_FRONT:\n",
    "            if self.direction == LEFT:\n",
    "                if self.maze[self.poX][self.poY - 1] != 0:\n",
    "                    result = 1\n",
    "                self.maze[self.poX][self.poY - 1] = FEELING\n",
    "            elif self.direction == DOWN:\n",
    "                if self.maze[self.poX + 1][self.poY] != 0:\n",
    "                    result = 1\n",
    "                self.maze[self.poX + 1][self.poY] = FEELING\n",
    "            elif self.direction == RIGHT:\n",
    "                if self.maze[self.poX][self.poY + 1] != 0:\n",
    "                    result = 1\n",
    "                self.maze[self.poX][self.poY + 1] = FEELING\n",
    "            elif self.direction == UP:\n",
    "                if self.maze[self.poX - 1][self.poY] != 0:\n",
    "                    result = 1\n",
    "                self.maze[self.poX - 1][self.poY] = FEELING\n",
    "        elif action == FEEL_LEFT:\n",
    "            if self.direction == LEFT:\n",
    "                if self.maze[self.poX + 1][self.poY] != 0:\n",
    "                    result = 1\n",
    "                self.maze[self.poX + 1][self.poY] = FEELING\n",
    "            elif self.direction == DOWN:\n",
    "                if self.maze[self.poX][self.poY + 1] != 0:\n",
    "                    result = 1\n",
    "                self.maze[self.poX][self.poY + 1] = FEELING\n",
    "            elif self.direction == RIGHT:\n",
    "                if self.maze[self.poX - 1][self.poY] != 0:\n",
    "                    result = 1\n",
    "                self.maze[self.poX - 1][self.poY] = FEELING\n",
    "            elif self.direction == UP:\n",
    "                if self.maze[self.poX][self.poY - 1] != 0:\n",
    "                    result = 1\n",
    "                self.maze[self.poX][self.poY - 1] = FEELING\n",
    "        elif action == FEEL_RIGHT:\n",
    "            if self.direction == LEFT:\n",
    "                if self.maze[self.poX - 1][self.poY] != 0:\n",
    "                    result = 1\n",
    "                self.maze[self.poX - 1][self.poY] = FEELING\n",
    "            elif self.direction == DOWN:\n",
    "                if self.maze[self.poX][self.poY - 1] != 0:\n",
    "                    result = 1\n",
    "                self.maze[self.poX][self.poY - 1] = FEELING\n",
    "            elif self.direction == RIGHT:\n",
    "                if self.maze[self.poX + 1][self.poY] != 0:\n",
    "                    result = 1\n",
    "                self.maze[self.poX + 1][self.poY] = FEELING\n",
    "            elif self.direction == UP:\n",
    "                if self.maze[self.poX][self.poY + 1] != 0:\n",
    "                    result = 1\n",
    "                self.maze[self.poX][self.poY + 1] = FEELING\n",
    "        # print(f\"Line: {self.poX}, Column: {self.poY}, direction: {self.direction}\")\n",
    "        return result  \n",
    "    \n",
    "    def display(self):\n",
    "        out.clear_output(wait=True)\n",
    "        with out:\n",
    "            fig, ax = plt.subplots()\n",
    "            # ax.set_xticks([])\n",
    "            # ax.set_yticks([])\n",
    "            # ax.axis('off')\n",
    "            # ax.imshow(self.maze, cmap='Greens', vmin=0, vmax=2)\n",
    "            ax.imshow(self.maze, cmap=self.cmap, norm=self.norm)\n",
    "            if self.direction == LEFT:\n",
    "                # Y is column and X is line\n",
    "                plt.scatter(self.poY, self.poX, s=200, marker='<')\n",
    "            elif self.direction == DOWN:\n",
    "                plt.scatter(self.poY, self.poX, s=200, marker='v')\n",
    "            elif self.direction == RIGHT:\n",
    "                plt.scatter(self.poY, self.poX, s=200, marker='>')\n",
    "            else: # UP\n",
    "                plt.scatter(self.poY, self.poX, s=200, marker='^')\n",
    "            plt.show()\n"
   ]
  },
  {
   "cell_type": "code",
   "execution_count": 24,
   "id": "fa51e9c7-cfcb-480c-b7ea-138291a1d431",
   "metadata": {},
   "outputs": [],
   "source": [
    "small_loop = SmallLoop(1, 1, 0)"
   ]
  },
  {
   "cell_type": "code",
   "execution_count": 25,
   "id": "ee7240d7-136e-4e33-83b6-828c0be99962",
   "metadata": {},
   "outputs": [
    {
     "data": {
      "application/vnd.jupyter.widget-view+json": {
       "model_id": "d53ecf7cbf854a8f9e2d26de498f151f",
       "version_major": 2,
       "version_minor": 0
      },
      "text/plain": [
       "Output()"
      ]
     },
     "metadata": {},
     "output_type": "display_data"
    }
   ],
   "source": [
    "# Run the interaction loop\n",
    "step = 0\n",
    "outcome = 0\n",
    "\n",
    "# Display\n",
    "out = Output()\n",
    "small_loop.display()\n",
    "display(out)\n",
    "\n",
    "actions, outcomes = [], []\n",
    "np.random.seed(0)"
   ]
  },
  {
   "cell_type": "markdown",
   "id": "3aeb933a-7fff-4c8c-9778-6aa188a3c115",
   "metadata": {},
   "source": [
    "# Enregistrons des données d'expérience"
   ]
  },
  {
   "cell_type": "code",
   "execution_count": 26,
   "id": "4a2531bc-0c9f-4430-b5c9-0fe54a5e81fd",
   "metadata": {},
   "outputs": [
    {
     "name": "stdout",
     "output_type": "stream",
     "text": [
      "[2, 5, 3, 2, 5, 5, 5, 5, 3, 5, 3, 4, 2, 5, 4, 2, 2, 2, 4, 3, 4, 5, 5, 4, 2, 3, 3, 3, 3, 2, 3, 2, 5, 2, 5, 3, 4, 5, 5, 2, 4, 5, 2, 3, 5, 3, 5, 5, 4]\n",
      "[1, 1, 0, 0, 0, 0, 0, 0, 0, 1, 0, 0, 1, 1, 0, 0, 1, 1, 0, 0, 0, 1, 1, 0, 0, 0, 0, 0, 0, 0, 0, 1, 1, 1, 1, 0, 0, 1, 1, 1, 0, 1, 1, 0, 1, 0, 0, 0, 0]\n"
     ]
    }
   ],
   "source": [
    "for step in range(1, 50):\n",
    "    # action = step % 4\n",
    "    action = np.random.choice([FORWARD, TURN_LEFT, TURN_RIGHT, FEEL_FRONT])\n",
    "    outcome = small_loop.outcome(action)\n",
    "    small_loop.display()\n",
    "    actions.append(action)\n",
    "    outcomes.append(outcome)\n",
    "\n",
    "print(actions)\n",
    "print(outcomes)"
   ]
  },
  {
   "cell_type": "markdown",
   "id": "75651c12-304d-431c-906d-49bb256302e3",
   "metadata": {},
   "source": [
    "# Créons le dataset"
   ]
  },
  {
   "cell_type": "code",
   "execution_count": 27,
   "id": "e7f416ec-dd0c-460c-b062-80090c1ac232",
   "metadata": {},
   "outputs": [],
   "source": [
    "import torch\n",
    "import torch.nn as nn\n",
    "from torch.utils.data import Dataset\n",
    "\n",
    "class CustomDataSetRNN(Dataset):\n",
    "    def __init__(self, actions:list, outcomes:list, dim_out:int, context_lenght:int, tokenizer=None):\n",
    "        \"\"\"\n",
    "        Creates a custom dataset\n",
    "\n",
    "        :param actions: list of actions\n",
    "        :param outcomes: list of outcomes\n",
    "        :param context_lenght: the length of the context\n",
    "        :param tokenizer: tokenizer to encode the actions and outcomes\n",
    "        \"\"\"\n",
    "        # Je ne suis pas sur d'y garder\n",
    "        assert context_lenght % 2 != 0, \"context_lenght must be odd\"\n",
    "        assert len(actions) == len(outcomes), \"actions and outcomes must have the same length\"\n",
    "        assert context_lenght <= len(actions) * 2, \"context_lenght must be less than or equal to the length of actions * 2\"\n",
    "        assert context_lenght > 0, \"context_lenght can't be negative or zero\"\n",
    "\n",
    "        self.actions = actions\n",
    "        self.outcomes = outcomes\n",
    "        self.context_lenght = context_lenght\n",
    "        self.tokenizer = tokenizer\n",
    "        self.dim_out = dim_out\n",
    "\n",
    "    def create_x(self, idx):\n",
    "        gap = (self.context_lenght - 1) // 2\n",
    "        x = []\n",
    "        for i in range(idx, idx + gap):\n",
    "            x.append(self.actions[i])\n",
    "            x.append(self.outcomes[i])\n",
    "        x.append(self.actions[idx + gap])\n",
    "        y = self.outcomes[idx + gap]\n",
    "        if self.tokenizer is not None:\n",
    "            x = self.tokenizer.encode(x)\n",
    "            y = self.tokenizer.encode(y)\n",
    "        return x, y\n",
    "        \n",
    "                \n",
    "    def __len__(self):\n",
    "        gap = (self.context_lenght + 1) // 2\n",
    "        return len(self.actions) + 1 - gap\n",
    "\n",
    "    def __getitem__(self, idx):\n",
    "        \"\"\"\n",
    "        Get the item at the index idx\n",
    "\n",
    "        :param idx: index\n",
    "        :return: x, y\n",
    "\n",
    "        Example\n",
    "        --------\n",
    "        actions = [\"a\", \"b\", \"c\", \"d\", \"e\"] \\n\n",
    "        outcomes = [\"1\", \"2\", \"3\", \"4\", \"5\"] \\n\n",
    "        context_lenght = 3 \\n\n",
    "        dataset = CustomDataSet(actions, outcomes, context_lenght) \\n\n",
    "        dataset[0] -> ([\"a\", \"1\", \"b\"], \"2\") \\n\n",
    "        dataset[1] -> ([\"b\", \"2\", \"c\"], \"3\") \\n\n",
    "        dataset[2] -> ([\"c\", \"3\", \"d\"], \"4\") \\n\n",
    "        dataset[3] -> ([\"d\", \"4\", \"e\"], \"5\") \\n\n",
    "        \"\"\"\n",
    "        x = []\n",
    "        x, label = self.create_x(idx)\n",
    "        x = torch.tensor(x, dtype=torch.int)\n",
    "        label = torch.tensor(label)\n",
    "        return x, label"
   ]
  },
  {
   "cell_type": "code",
   "execution_count": 28,
   "id": "717e39e2-5485-454c-88d8-a4fc461c7de2",
   "metadata": {},
   "outputs": [
    {
     "name": "stdout",
     "output_type": "stream",
     "text": [
      "(tensor([2, 1, 5, 1, 3], dtype=torch.int32), tensor(0))\n"
     ]
    }
   ],
   "source": [
    "data_set = CustomDataSetRNN(actions=actions, outcomes=outcomes, context_lenght=5, dim_out=2)\n",
    "print(data_set[0])"
   ]
  },
  {
   "cell_type": "markdown",
   "id": "0b25b60f-4c75-4699-a27f-93ae3a5705ac",
   "metadata": {},
   "source": [
    "On crée le data_loader. \n",
    "\n",
    "On met le num_worker à 0 sinon on obtient une erreur de timeout."
   ]
  },
  {
   "cell_type": "code",
   "execution_count": 29,
   "id": "ab8b0c51-f1aa-4ec8-b3cd-8b96034c6660",
   "metadata": {},
   "outputs": [],
   "source": [
    "from torch.utils.data import DataLoader\n",
    "\n",
    "data_loader_train = DataLoader(data_set, batch_size=16, shuffle=True, num_workers=0, drop_last=True)"
   ]
  },
  {
   "cell_type": "markdown",
   "id": "0b927fc6-bfd0-468f-ae66-33ab079c1033",
   "metadata": {},
   "source": [
    "# Créons le LSTM"
   ]
  },
  {
   "cell_type": "code",
   "execution_count": 30,
   "id": "1c0fc0b7-63fe-4807-9093-e906068017e7",
   "metadata": {},
   "outputs": [
    {
     "data": {
      "text/plain": [
       "<torch._C.Generator at 0x2134b83c1f0>"
      ]
     },
     "execution_count": 30,
     "metadata": {},
     "output_type": "execute_result"
    }
   ],
   "source": [
    "torch.manual_seed(0)"
   ]
  },
  {
   "cell_type": "code",
   "execution_count": 31,
   "id": "261bb9f4-9da7-4038-8cb6-b1aa50e1e883",
   "metadata": {},
   "outputs": [],
   "source": [
    "class LSTM(nn.Module):\n",
    "    def __init__(self, num_emb, output_size, num_layers=1, hidden_size=128):\n",
    "        super(LSTM, self).__init__()\n",
    "        \n",
    "        # Create an embedding layer to convert token indices to dense vectors\n",
    "        self.embedding = nn.Embedding(num_emb, hidden_size)\n",
    "        \n",
    "        # Define the LSTM layer\n",
    "        self.lstm = nn.LSTM(input_size=hidden_size, hidden_size=hidden_size, \n",
    "                            num_layers=num_layers, batch_first=True, dropout=0.5)\n",
    "        \n",
    "        # Define the output fully connected layer\n",
    "        self.fc_out = nn.Linear(hidden_size, output_size)\n",
    "\n",
    "    def forward(self, input_seq, hidden_in, mem_in):\n",
    "        # Convert token indices to dense vectors\n",
    "        input_embs = self.embedding(input_seq)\n",
    "\n",
    "        # Pass the embeddings through the LSTM layer\n",
    "        output, (hidden_out, mem_out) = self.lstm(input_embs, (hidden_in, mem_in))\n",
    "                \n",
    "        # Pass the LSTM output through the fully connected layer to get the final output\n",
    "        return self.fc_out(output), hidden_out, mem_out"
   ]
  },
  {
   "cell_type": "code",
   "execution_count": 32,
   "id": "eef2fd6a-fba1-4daf-a58d-9a852bdb5219",
   "metadata": {},
   "outputs": [
    {
     "name": "stderr",
     "output_type": "stream",
     "text": [
      "c:\\users\\ogeorgeon\\appdata\\local\\programs\\python\\python39\\lib\\site-packages\\torch\\nn\\modules\\rnn.py:88: UserWarning: dropout option adds dropout after all but last recurrent layer, so non-zero dropout expects num_layers greater than 1, but got dropout=0.5 and num_layers=1\n",
      "  warnings.warn(\"dropout option adds dropout after all but last \"\n"
     ]
    }
   ],
   "source": [
    "# Define the size of the hidden layer and number of LSTM layers\n",
    "hidden_size = 64\n",
    "num_layers = 1\n",
    "len_vocab = 4 + 2 # 4 actions + 2 outcomes\n",
    "\n",
    "# Create the LSTM classifier model\n",
    "lstm_classifier = LSTM(num_emb=len_vocab, output_size=2, num_layers=num_layers, hidden_size=hidden_size).to(\"cpu\")"
   ]
  },
  {
   "cell_type": "code",
   "execution_count": 33,
   "id": "42a121ba-b701-4f74-b3f3-8c07c9c84254",
   "metadata": {},
   "outputs": [],
   "source": [
    "import torch.optim as optim\n",
    "\n",
    "# Initialize the optimizer with Adam optimizer\n",
    "optimizer = optim.Adam(lstm_classifier.parameters(), lr=0.01)\n",
    "\n",
    "# Define the loss function as CrossEntropyLoss for classification\n",
    "loss_fn = nn.CrossEntropyLoss()"
   ]
  },
  {
   "cell_type": "markdown",
   "id": "10415d78-2c6b-4c68-ada3-879b1f629e79",
   "metadata": {},
   "source": [
    "# Entrainons "
   ]
  },
  {
   "cell_type": "code",
   "execution_count": 34,
   "id": "b7fa4958-837a-4b82-b696-903fd62797b2",
   "metadata": {},
   "outputs": [],
   "source": [
    "# Initialize lists to store training and test loss, as well as accuracy\n",
    "training_loss_logger = []\n",
    "training_acc_logger = []"
   ]
  },
  {
   "cell_type": "code",
   "execution_count": 35,
   "id": "daa52704-1c1f-416f-ada8-1f4cba288a27",
   "metadata": {},
   "outputs": [
    {
     "name": "stdout",
     "output_type": "stream",
     "text": [
      "acc : 0.375 / 6 / 16 for epoch 0\n",
      "acc : 0.5 / 16 / 32 for epoch 0\n",
      "acc : 0.5 / 16 / 32 for epoch 0\n",
      "acc : 0.8125 / 13 / 16 for epoch 1\n",
      "acc : 0.84375 / 27 / 32 for epoch 1\n",
      "acc : 0.84375 / 27 / 32 for epoch 1\n",
      "acc : 1.0 / 16 / 16 for epoch 2\n",
      "acc : 0.90625 / 29 / 32 for epoch 2\n",
      "acc : 0.90625 / 29 / 32 for epoch 2\n",
      "acc : 0.75 / 12 / 16 for epoch 3\n",
      "acc : 0.8125 / 26 / 32 for epoch 3\n",
      "acc : 0.8125 / 26 / 32 for epoch 3\n",
      "acc : 0.75 / 12 / 16 for epoch 4\n",
      "acc : 0.84375 / 27 / 32 for epoch 4\n",
      "acc : 0.84375 / 27 / 32 for epoch 4\n",
      "acc : 0.875 / 14 / 16 for epoch 5\n",
      "acc : 0.875 / 28 / 32 for epoch 5\n",
      "acc : 0.875 / 28 / 32 for epoch 5\n",
      "acc : 1.0 / 16 / 16 for epoch 6\n",
      "acc : 0.96875 / 31 / 32 for epoch 6\n",
      "acc : 0.96875 / 31 / 32 for epoch 6\n",
      "acc : 1.0 / 16 / 16 for epoch 7\n",
      "acc : 0.96875 / 31 / 32 for epoch 7\n",
      "acc : 0.96875 / 31 / 32 for epoch 7\n",
      "acc : 0.9375 / 15 / 16 for epoch 8\n",
      "acc : 0.90625 / 29 / 32 for epoch 8\n",
      "acc : 0.90625 / 29 / 32 for epoch 8\n",
      "acc : 1.0 / 16 / 16 for epoch 9\n",
      "acc : 0.9375 / 30 / 32 for epoch 9\n",
      "acc : 0.9375 / 30 / 32 for epoch 9\n",
      "acc : 1.0 / 16 / 16 for epoch 10\n",
      "acc : 1.0 / 32 / 32 for epoch 10\n",
      "acc : 1.0 / 32 / 32 for epoch 10\n",
      "acc : 1.0 / 16 / 16 for epoch 11\n",
      "acc : 1.0 / 32 / 32 for epoch 11\n",
      "acc : 1.0 / 32 / 32 for epoch 11\n",
      "acc : 0.9375 / 15 / 16 for epoch 12\n",
      "acc : 0.9375 / 30 / 32 for epoch 12\n",
      "acc : 0.9375 / 30 / 32 for epoch 12\n",
      "acc : 1.0 / 16 / 16 for epoch 13\n",
      "acc : 1.0 / 32 / 32 for epoch 13\n",
      "acc : 1.0 / 32 / 32 for epoch 13\n",
      "acc : 1.0 / 16 / 16 for epoch 14\n",
      "acc : 1.0 / 32 / 32 for epoch 14\n",
      "acc : 1.0 / 32 / 32 for epoch 14\n",
      "acc : 1.0 / 16 / 16 for epoch 15\n",
      "acc : 1.0 / 32 / 32 for epoch 15\n",
      "acc : 1.0 / 32 / 32 for epoch 15\n",
      "acc : 1.0 / 16 / 16 for epoch 16\n",
      "acc : 1.0 / 32 / 32 for epoch 16\n",
      "acc : 1.0 / 32 / 32 for epoch 16\n",
      "acc : 1.0 / 16 / 16 for epoch 17\n",
      "acc : 1.0 / 32 / 32 for epoch 17\n",
      "acc : 1.0 / 32 / 32 for epoch 17\n",
      "acc : 1.0 / 16 / 16 for epoch 18\n",
      "acc : 1.0 / 32 / 32 for epoch 18\n",
      "acc : 1.0 / 32 / 32 for epoch 18\n",
      "acc : 1.0 / 16 / 16 for epoch 19\n",
      "acc : 1.0 / 32 / 32 for epoch 19\n",
      "acc : 1.0 / 32 / 32 for epoch 19\n",
      "acc : 1.0 / 16 / 16 for epoch 20\n",
      "acc : 1.0 / 32 / 32 for epoch 20\n",
      "acc : 1.0 / 32 / 32 for epoch 20\n",
      "acc : 1.0 / 16 / 16 for epoch 21\n",
      "acc : 1.0 / 32 / 32 for epoch 21\n",
      "acc : 1.0 / 32 / 32 for epoch 21\n",
      "acc : 1.0 / 16 / 16 for epoch 22\n",
      "acc : 1.0 / 32 / 32 for epoch 22\n",
      "acc : 1.0 / 32 / 32 for epoch 22\n",
      "acc : 1.0 / 16 / 16 for epoch 23\n",
      "acc : 1.0 / 32 / 32 for epoch 23\n",
      "acc : 1.0 / 32 / 32 for epoch 23\n",
      "acc : 1.0 / 16 / 16 for epoch 24\n",
      "acc : 1.0 / 32 / 32 for epoch 24\n",
      "acc : 1.0 / 32 / 32 for epoch 24\n",
      "acc : 1.0 / 16 / 16 for epoch 25\n",
      "acc : 1.0 / 32 / 32 for epoch 25\n",
      "acc : 1.0 / 32 / 32 for epoch 25\n",
      "acc : 1.0 / 16 / 16 for epoch 26\n",
      "acc : 1.0 / 32 / 32 for epoch 26\n",
      "acc : 1.0 / 32 / 32 for epoch 26\n",
      "acc : 1.0 / 16 / 16 for epoch 27\n",
      "acc : 1.0 / 32 / 32 for epoch 27\n",
      "acc : 1.0 / 32 / 32 for epoch 27\n",
      "acc : 1.0 / 16 / 16 for epoch 28\n",
      "acc : 1.0 / 32 / 32 for epoch 28\n",
      "acc : 1.0 / 32 / 32 for epoch 28\n",
      "acc : 1.0 / 16 / 16 for epoch 29\n",
      "acc : 1.0 / 32 / 32 for epoch 29\n",
      "acc : 1.0 / 32 / 32 for epoch 29\n",
      "acc : 1.0 / 16 / 16 for epoch 30\n",
      "acc : 1.0 / 32 / 32 for epoch 30\n",
      "acc : 1.0 / 32 / 32 for epoch 30\n",
      "acc : 1.0 / 16 / 16 for epoch 31\n",
      "acc : 1.0 / 32 / 32 for epoch 31\n",
      "acc : 1.0 / 32 / 32 for epoch 31\n",
      "acc : 1.0 / 16 / 16 for epoch 32\n",
      "acc : 1.0 / 32 / 32 for epoch 32\n",
      "acc : 1.0 / 32 / 32 for epoch 32\n",
      "acc : 1.0 / 16 / 16 for epoch 33\n",
      "acc : 1.0 / 32 / 32 for epoch 33\n",
      "acc : 1.0 / 32 / 32 for epoch 33\n",
      "acc : 1.0 / 16 / 16 for epoch 34\n",
      "acc : 1.0 / 32 / 32 for epoch 34\n",
      "acc : 1.0 / 32 / 32 for epoch 34\n",
      "acc : 1.0 / 16 / 16 for epoch 35\n",
      "acc : 1.0 / 32 / 32 for epoch 35\n",
      "acc : 1.0 / 32 / 32 for epoch 35\n",
      "acc : 1.0 / 16 / 16 for epoch 36\n",
      "acc : 1.0 / 32 / 32 for epoch 36\n",
      "acc : 1.0 / 32 / 32 for epoch 36\n",
      "acc : 1.0 / 16 / 16 for epoch 37\n",
      "acc : 1.0 / 32 / 32 for epoch 37\n",
      "acc : 1.0 / 32 / 32 for epoch 37\n",
      "acc : 1.0 / 16 / 16 for epoch 38\n",
      "acc : 1.0 / 32 / 32 for epoch 38\n",
      "acc : 1.0 / 32 / 32 for epoch 38\n",
      "acc : 1.0 / 16 / 16 for epoch 39\n",
      "acc : 1.0 / 32 / 32 for epoch 39\n",
      "acc : 1.0 / 32 / 32 for epoch 39\n",
      "acc : 1.0 / 16 / 16 for epoch 40\n",
      "acc : 1.0 / 32 / 32 for epoch 40\n",
      "acc : 1.0 / 32 / 32 for epoch 40\n",
      "acc : 1.0 / 16 / 16 for epoch 41\n",
      "acc : 1.0 / 32 / 32 for epoch 41\n",
      "acc : 1.0 / 32 / 32 for epoch 41\n",
      "acc : 1.0 / 16 / 16 for epoch 42\n",
      "acc : 1.0 / 32 / 32 for epoch 42\n",
      "acc : 1.0 / 32 / 32 for epoch 42\n",
      "acc : 1.0 / 16 / 16 for epoch 43\n",
      "acc : 1.0 / 32 / 32 for epoch 43\n",
      "acc : 1.0 / 32 / 32 for epoch 43\n",
      "acc : 1.0 / 16 / 16 for epoch 44\n",
      "acc : 1.0 / 32 / 32 for epoch 44\n",
      "acc : 1.0 / 32 / 32 for epoch 44\n",
      "acc : 1.0 / 16 / 16 for epoch 45\n",
      "acc : 1.0 / 32 / 32 for epoch 45\n",
      "acc : 1.0 / 32 / 32 for epoch 45\n",
      "acc : 1.0 / 16 / 16 for epoch 46\n",
      "acc : 1.0 / 32 / 32 for epoch 46\n",
      "acc : 1.0 / 32 / 32 for epoch 46\n",
      "acc : 1.0 / 16 / 16 for epoch 47\n",
      "acc : 1.0 / 32 / 32 for epoch 47\n",
      "acc : 1.0 / 32 / 32 for epoch 47\n",
      "acc : 1.0 / 16 / 16 for epoch 48\n",
      "acc : 1.0 / 32 / 32 for epoch 48\n",
      "acc : 1.0 / 32 / 32 for epoch 48\n",
      "acc : 1.0 / 16 / 16 for epoch 49\n",
      "acc : 1.0 / 32 / 32 for epoch 49\n",
      "acc : 1.0 / 32 / 32 for epoch 49\n"
     ]
    }
   ],
   "source": [
    "# Initialize training and test accuracy\n",
    "train_acc = 0\n",
    "test_acc = 0\n",
    "device = \"cpu\"\n",
    "\n",
    "# Loop through each epoch\n",
    "for epoch in range(50):    \n",
    "    # Set model to training mode\n",
    "    lstm_classifier.train()\n",
    "    steps = 0\n",
    "    train_acc = 0\n",
    "    \n",
    "    # Iterate through training data loader\n",
    "    for text, label in data_loader_train:\n",
    "        bs = label.shape[0]\n",
    "        \n",
    "\n",
    "        # Initialize hidden and memory states\n",
    "        hidden = torch.zeros(num_layers, bs, hidden_size, device=device)\n",
    "        memory = torch.zeros(num_layers, bs, hidden_size, device=device)\n",
    "        \n",
    "        # Forward pass through the model\n",
    "        pred, hidden, memory = lstm_classifier(text, hidden, memory)\n",
    "\n",
    "        # Calculate the loss\n",
    "        loss = loss_fn(pred[:, -1, :], label)\n",
    "            \n",
    "        # Backpropagation and optimization\n",
    "        optimizer.zero_grad()\n",
    "        loss.backward()\n",
    "        optimizer.step()\n",
    "        \n",
    "        # Append training loss to logger\n",
    "        training_loss_logger.append(loss.item())\n",
    "        \n",
    "        # Calculate training accuracy\n",
    "        train_acc += (pred[:, -1, :].argmax(1) == label).sum()\n",
    "        steps += bs\n",
    "        print(f\"acc : {train_acc/steps} / {train_acc} / {steps} for epoch {epoch}\")\n",
    "        \n",
    "    # Calculate and append training accuracy for the epoch\n",
    "    print(f\"acc : {train_acc/steps} / {train_acc} / {steps} for epoch {epoch}\")\n",
    "    train_acc = train_acc / steps\n",
    "    training_acc_logger.append(train_acc)\n",
    "\n"
   ]
  },
  {
   "cell_type": "markdown",
   "id": "904b10f1-f506-43be-9d16-dcad93abd332",
   "metadata": {},
   "source": [
    "# Visualisons les résultats"
   ]
  },
  {
   "cell_type": "code",
   "execution_count": 36,
   "id": "45d6fb2e-0d66-4cbd-a7a3-5d5fb101dfa6",
   "metadata": {},
   "outputs": [],
   "source": [
    "def plot_acc(acc:list):\n",
    "    plt.plot(acc)\n",
    "    plt.xlabel('Epoch')\n",
    "    plt.ylabel('Accuracy')\n",
    "    plt.show()\n",
    "    plt.close()"
   ]
  },
  {
   "cell_type": "code",
   "execution_count": 37,
   "id": "0e628999-696a-4049-8f7e-e260b7342dd7",
   "metadata": {},
   "outputs": [
    {
     "data": {
      "image/png": "[encoded data removed]",
      "text/plain": [
       "<Figure size 640x480 with 1 Axes>"
      ]
     },
     "metadata": {},
     "output_type": "display_data"
    }
   ],
   "source": [
    "plot_acc(training_acc_logger)"
   ]
  },
  {
   "cell_type": "code",
   "execution_count": null,
   "id": "5d5a09ad-c7da-4192-b6e3-711265443166",
   "metadata": {},
   "outputs": [],
   "source": []
  }
 ],
 "metadata": {
  "kernelspec": {
   "display_name": "Python 3 (ipykernel)",
   "language": "python",
   "name": "python3"
  },
  "language_info": {
   "codemirror_mode": {
    "name": "ipython",
    "version": 3
   },
   "file_extension": ".py",
   "mimetype": "text/x-python",
   "name": "python",
   "nbconvert_exporter": "python",
   "pygments_lexer": "ipython3",
   "version": "3.9.5"
  }
 },
 "nbformat": 4,
 "nbformat_minor": 5
}
