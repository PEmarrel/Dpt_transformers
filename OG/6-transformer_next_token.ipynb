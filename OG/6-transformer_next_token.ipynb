{
 "cells": [
  {
   "cell_type": "markdown",
   "id": "5dc23876",
   "metadata": {},
   "source": [
    "# Notebook : Entraînement d'un Transformer simple pour la prédiction du prochain token"
   ]
  },
  {
   "cell_type": "code",
   "execution_count": 69,
   "id": "01f7f4b6",
   "metadata": {},
   "outputs": [],
   "source": [
    "\n",
    "import torch\n",
    "import torch.nn as nn\n",
    "import torch.nn.functional as F\n",
    "import torch.optim as optim\n",
    "from torch.utils.data import Dataset, DataLoader\n"
   ]
  },
  {
   "cell_type": "markdown",
   "id": "94af7cbf-54b7-4c6f-b069-67b65207858d",
   "metadata": {},
   "source": [
    "# Utilisons les séquences générées par Agent13"
   ]
  },
  {
   "cell_type": "code",
   "execution_count": 70,
   "id": "64a6be2a-2d7b-41ef-8fc4-0bb9ac568ec0",
   "metadata": {},
   "outputs": [],
   "source": [
    "Training_sequences = [\n",
    "[[0, 1], [1, 1], [1, 3], [3, 1], [1, 4], [4, 1], [1, 7], [7, 1], [1, 8], [8, 0], [0, 2], [2, 0], [3, 3], [3, 4], [4, 3], [3, 7], [7, 3], [3, 8], [3, 10], [10, 1], [1, 10], [10, 2], [5, 1], [3, 5], [5, 3], [3, 6], [6, 1], [1, 5], [5, 5], [5, 6], [6, 3], [5, 8], [8, 1], [7, 4], [4, 4], [4, 7], [7, 7], [7, 8], [0, 3], [6, 5], [5, 10]],\n",
    "[[0, 1, 1], [0, 1, 1], [1, 1, 3], [1, 1, 3], [1, 3, 1], [1, 3, 1], [3, 1, 4], [3, 1, 4], [1, 4, 1], [1, 4, 1], [4, 1, 7], [4, 1, 7], [1, 7, 1], [1, 7, 1], [7, 1, 8], [7, 1, 8], [1, 8, 0], [1, 8, 0], [8, 0, 2], [8, 0, 2], [0, 2, 0], [0, 2, 0], [2, 0, 3], [3, 3, 4], [3, 3, 4], [3, 4, 3], [3, 4, 3], [4, 3, 7], [4, 3, 7], [3, 7, 3], [3, 7, 3], [7, 3, 8], [7, 3, 8], [3, 10, 1], [3, 10, 1], [10, 1, 10], [10, 1, 10], [1, 10, 2], [1, 10, 2], [5, 1, 3], [5, 1, 3], [1, 3, 3], [1, 3, 3], [3, 3, 5], [3, 3, 5], [3, 5, 3], [3, 5, 3], [5, 3, 6], [5, 3, 6], [3, 6, 1], [3, 6, 1], [6, 1, 5], [6, 1, 5], [1, 5, 5], [1, 5, 5], [5, 5, 6], [5, 5, 6], [5, 6, 3], [5, 6, 3], [6, 3, 3], [6, 3, 3], [3, 5, 8], [3, 5, 8], [5, 8, 1], [5, 8, 1], [8, 1, 7], [8, 1, 7], [1, 7, 4], [1, 7, 4], [7, 4, 4], [7, 4, 4], [4, 4, 7], [4, 4, 7], [4, 7, 7], [4, 7, 7], [7, 7, 8], [7, 7, 8], [8, 0, 3], [6, 5, 10], [6, 5, 10], [2, 0, 3]],\n",
    "[[0, 1, 1, 3], [1, 1, 3, 1], [1, 3, 1, 4], [3, 1, 4, 1], [1, 4, 1, 7], [4, 1, 7, 1], [1, 7, 1, 8], [7, 1, 8, 0], [1, 8, 0, 2], [8, 0, 2, 0], [2, 0, 2, 0], [2, 0, 2, 0], [0, 2, 0, 3], [0, 2, 0, 3], [2, 0, 3, 3], [2, 0, 3, 3], [3, 3, 4, 3], [3, 4, 3, 7], [4, 3, 7, 3], [3, 7, 3, 8], [3, 8, 0, 2], [3, 8, 0, 2], [3, 10, 1, 10], [10, 1, 10, 2], [2, 0, 3, 5], [5, 1, 3, 3], [1, 3, 3, 5], [3, 3, 5, 3], [3, 5, 3, 6], [5, 3, 6, 1], [3, 6, 1, 5], [6, 1, 5, 5], [1, 5, 5, 6], [5, 5, 6, 3], [5, 6, 3, 3], [6, 3, 3, 5], [3, 3, 5, 8], [3, 5, 8, 1], [5, 8, 1, 7], [8, 1, 7, 4], [1, 7, 4, 4], [7, 4, 4, 7], [4, 4, 7, 7], [4, 7, 7, 8], [0, 2, 0, 3], [7, 8, 0, 3], [10, 2, 0, 3], [0, 2, 0, 2]],\n",
    "[[0, 2, 0, 2, 0], [2, 0, 2, 0, 3], [0, 2, 0, 3, 3], [2, 0, 3, 3, 4], [7, 3, 8, 0, 2], [0, 2, 0, 3, 10], [0, 2, 0, 3, 10], [10, 2, 0, 2, 0], [10, 2, 0, 2, 0], [2, 0, 3, 5, 1], [2, 0, 3, 5, 1], [8, 0, 2, 0, 3], [7, 8, 0, 3, 6], [5, 10, 2, 0, 3], [5, 10, 2, 0, 3], [8, 0, 2, 0, 2]],\n",
    "[[8, 0, 2, 0, 2, 0], [8, 0, 2, 0, 2, 0], [0, 2, 0, 2, 0, 3], [0, 2, 0, 2, 0, 3], [0, 2, 0, 3, 10, 1], [1, 10, 2, 0, 2, 0], [0, 2, 0, 2, 0, 3], [2, 0, 3, 5, 1, 3], [7, 8, 0, 2, 0, 3], [7, 8, 0, 3, 6, 5], [7, 8, 0, 3, 6, 5], [6, 5, 10, 2, 0, 3], [7, 8, 0, 2, 0, 2]]\n",
    "]"
   ]
  },
  {
   "cell_type": "code",
   "execution_count": 71,
   "id": "8b6ec28c",
   "metadata": {},
   "outputs": [],
   "source": [
    "class TokenDataset(Dataset):\n",
    "    def __init__(self, sequences, max_length=10):\n",
    "        self.sequences = sequences\n",
    "        self.max_length = max_length\n",
    "        \n",
    "    def __len__(self):\n",
    "        return len(self.sequences)\n",
    "\n",
    "    def __getitem__(self, idx):\n",
    "        seq = self.sequences[idx]\n",
    "        input_seq = seq[:-1]\n",
    "        target_seq = seq[1:]\n",
    "        # input_seq = input_seq + [0] * (self.max_length - len(input_seq))  # OG: pas de padding\n",
    "        # target_seq = target_seq + [0] * (self.max_length - len(target_seq))\n",
    "        return torch.tensor(input_seq), torch.tensor(target_seq)\n",
    "\n",
    "def create_dataloader(sequences, batch_size=2, max_length=10):\n",
    "    dataset = TokenDataset(sequences, max_length=max_length)\n",
    "    dataloader = DataLoader(dataset, batch_size=batch_size, shuffle=True)\n",
    "    return dataloader\n"
   ]
  },
  {
   "cell_type": "markdown",
   "id": "d81b47c9-ca82-4b0e-a956-3e6fcb217815",
   "metadata": {},
   "source": [
    "# Créons le modèle"
   ]
  },
  {
   "cell_type": "code",
   "execution_count": 72,
   "id": "cc6c9e8c",
   "metadata": {},
   "outputs": [],
   "source": [
    "\n",
    "class SimpleTransformer(nn.Module):\n",
    "    def __init__(self, vocab_size=12, d_model=32, nhead=4, num_layers=2, max_length=10):\n",
    "        super(SimpleTransformer, self).__init__()\n",
    "        self.token_emb = nn.Embedding(vocab_size, d_model)\n",
    "        self.pos_emb = nn.Embedding(max_length, d_model)\n",
    "        # encoder_layer = nn.TransformerEncoderLayer(d_model=d_model, nhead=nhead)\n",
    "        encoder_layer = nn.TransformerEncoderLayer(d_model=d_model, nhead=nhead, batch_first=True)\n",
    "        self.transformer_encoder = nn.TransformerEncoder(encoder_layer, num_layers=num_layers)\n",
    "        self.fc_out = nn.Linear(d_model, vocab_size)\n",
    "        self.max_length = max_length\n",
    "\n",
    "    def forward(self, x):\n",
    "        batch_size, seq_len = x.size()\n",
    "        positions = torch.arange(0, seq_len, device=x.device).unsqueeze(0).expand(batch_size, seq_len)\n",
    "        x = self.token_emb(x) + self.pos_emb(positions)\n",
    "        # x = x.permute(1, 0, 2)\n",
    "        # out = self.transformer_encoder(x)\n",
    "        # out = out.permute(1, 0, 2)\n",
    "        out = self.transformer_encoder(x)\n",
    "        logits = self.fc_out(out)\n",
    "        return logits\n"
   ]
  },
  {
   "cell_type": "code",
   "execution_count": 73,
   "id": "b651767a",
   "metadata": {},
   "outputs": [],
   "source": [
    "\n",
    "def predict_next_token_probs(model, input_sequence, max_length=10, device='cpu'):\n",
    "    model.eval()\n",
    "    if len(input_sequence) > max_length:\n",
    "        raise ValueError(f\"Input sequence length {len(input_sequence)} exceeds maximum {max_length}\")\n",
    "    input_seq = input_sequence # + [0] * (max_length - len(input_sequence))  OG no padding\n",
    "    input_tensor = torch.tensor(input_seq, device=device).unsqueeze(0)\n",
    "    with torch.no_grad():\n",
    "        logits = model(input_tensor)\n",
    "    return logits\n",
    "    last_index = len(input_sequence) - 1\n",
    "    logits_for_next_token = logits[0, last_index, :]\n",
    "    # Pairwise probabilities\n",
    "    pairwise_logits = logits[0, -1, :].reshape(-1, 2)\n",
    "    probabilities = nn.functional.softmax(pairwise_logits, dim=1).flatten().tolist()\n",
    "    return probabilities\n",
    "    # probs = F.softmax(logits_for_next_token, dim=0)\n",
    "    # return probs\n"
   ]
  },
  {
   "cell_type": "code",
   "execution_count": 82,
   "id": "998cb972",
   "metadata": {},
   "outputs": [],
   "source": [
    "\n",
    "def train_model(model, dataloader, num_epochs=10, learning_rate=1e-3, device='cpu'):\n",
    "    model.train()\n",
    "    # criterion = nn.CrossEntropyLoss(ignore_index=0)  OG no padding\n",
    "    criterion = nn.CrossEntropyLoss()\n",
    "    optimizer = optim.Adam(model.parameters(), lr=learning_rate)\n",
    "    for epoch in range(num_epochs):\n",
    "        total_loss = 0\n",
    "        total_correct = 0\n",
    "        total_tokens = 0\n",
    "        for inputs, targets in dataloader:\n",
    "            inputs, targets = inputs.to(device), targets.to(device)\n",
    "            optimizer.zero_grad()\n",
    "            outputs = model(inputs)\n",
    "            outputs = outputs.view(-1, outputs.size(-1))\n",
    "            targets = targets.view(-1)\n",
    "            loss = criterion(outputs, targets)\n",
    "            loss.backward()\n",
    "            optimizer.step()\n",
    "            total_loss += loss.item()\n",
    "            # Calcul de l'accuracy\n",
    "            preds = outputs.argmax(dim=1)\n",
    "            # mask = targets != 0  # on ignore les tokens de padding # OG pas de padding\n",
    "            correct = (preds == targets) # & mask\n",
    "            total_correct += correct.sum().item()\n",
    "            total_tokens += targets.numel()  # .sum().item() # OG pas de padding\n",
    "        avg_loss = total_loss / len(dataloader)\n",
    "        # print(f\"Époque [{epoch+1}/{num_epochs}], Perte moyenne : {avg_loss:.4f}\")\n",
    "        accuracy = total_correct / total_tokens if total_tokens > 0 else 0.0\n",
    "        print(f\"Époque [{epoch+1}/{num_epochs}], Perte moyenne : {avg_loss:.2f}, Accuracy : {accuracy:.2f} = {total_correct}/{total_tokens}\")"
   ]
  },
  {
   "cell_type": "markdown",
   "id": "48639edc-f12b-4ea0-88fb-78065dc91860",
   "metadata": {},
   "source": [
    "# Instancions le modèle"
   ]
  },
  {
   "cell_type": "code",
   "execution_count": 83,
   "id": "72f8a307-2254-4372-85ec-6729fe34c9f3",
   "metadata": {},
   "outputs": [],
   "source": [
    "torch.manual_seed(42)\n",
    "max_length = 6\n",
    "d_model = 16  # Dimension de l'embedding. Résultats visiblement moins bons en dessous de 16\n",
    "nhead = 4\n",
    "device = torch.device('cuda' if torch.cuda.is_available() else 'cpu')\n",
    "model = SimpleTransformer(vocab_size=12, d_model=d_model, nhead=nhead, max_length=max_length).to(device)"
   ]
  },
  {
   "cell_type": "code",
   "execution_count": 84,
   "id": "8ac0f8c2-67a1-4a92-9f14-f7ce7a761b2f",
   "metadata": {},
   "outputs": [
    {
     "name": "stdout",
     "output_type": "stream",
     "text": [
      "[[0, 1], [1, 1], [1, 3], [3, 1], [1, 4], [4, 1], [1, 7], [7, 1], [1, 8], [8, 0], [0, 2], [2, 0], [3, 3], [3, 4], [4, 3], [3, 7], [7, 3], [3, 8], [3, 10], [10, 1], [1, 10], [10, 2], [5, 1], [3, 5], [5, 3], [3, 6], [6, 1], [1, 5], [5, 5], [5, 6], [6, 3], [5, 8], [8, 1], [7, 4], [4, 4], [4, 7], [7, 7], [7, 8], [0, 3], [6, 5], [5, 10]]\n",
      "Époque [1/20], Perte moyenne : 2.77, Accuracy : 0.12 = 5/41\n",
      "Époque [2/20], Perte moyenne : 2.40, Accuracy : 0.12 = 5/41\n",
      "Époque [3/20], Perte moyenne : 2.24, Accuracy : 0.12 = 5/41\n",
      "Époque [4/20], Perte moyenne : 2.25, Accuracy : 0.24 = 10/41\n",
      "Époque [5/20], Perte moyenne : 2.22, Accuracy : 0.22 = 9/41\n",
      "Époque [6/20], Perte moyenne : 2.27, Accuracy : 0.17 = 7/41\n",
      "Époque [7/20], Perte moyenne : 2.19, Accuracy : 0.22 = 9/41\n",
      "Époque [8/20], Perte moyenne : 2.18, Accuracy : 0.22 = 9/41\n",
      "Époque [9/20], Perte moyenne : 2.19, Accuracy : 0.20 = 8/41\n",
      "Époque [10/20], Perte moyenne : 2.09, Accuracy : 0.24 = 10/41\n",
      "Époque [11/20], Perte moyenne : 2.11, Accuracy : 0.15 = 6/41\n",
      "Époque [12/20], Perte moyenne : 2.06, Accuracy : 0.27 = 11/41\n",
      "Époque [13/20], Perte moyenne : 2.06, Accuracy : 0.27 = 11/41\n",
      "Époque [14/20], Perte moyenne : 2.06, Accuracy : 0.22 = 9/41\n",
      "Époque [15/20], Perte moyenne : 2.06, Accuracy : 0.20 = 8/41\n",
      "Époque [16/20], Perte moyenne : 2.06, Accuracy : 0.24 = 10/41\n",
      "Époque [17/20], Perte moyenne : 2.01, Accuracy : 0.24 = 10/41\n",
      "Époque [18/20], Perte moyenne : 2.01, Accuracy : 0.15 = 6/41\n",
      "Époque [19/20], Perte moyenne : 2.01, Accuracy : 0.27 = 11/41\n",
      "Époque [20/20], Perte moyenne : 2.02, Accuracy : 0.22 = 9/41\n",
      "[[0, 1, 1], [0, 1, 1], [1, 1, 3], [1, 1, 3], [1, 3, 1], [1, 3, 1], [3, 1, 4], [3, 1, 4], [1, 4, 1], [1, 4, 1], [4, 1, 7], [4, 1, 7], [1, 7, 1], [1, 7, 1], [7, 1, 8], [7, 1, 8], [1, 8, 0], [1, 8, 0], [8, 0, 2], [8, 0, 2], [0, 2, 0], [0, 2, 0], [2, 0, 3], [3, 3, 4], [3, 3, 4], [3, 4, 3], [3, 4, 3], [4, 3, 7], [4, 3, 7], [3, 7, 3], [3, 7, 3], [7, 3, 8], [7, 3, 8], [3, 10, 1], [3, 10, 1], [10, 1, 10], [10, 1, 10], [1, 10, 2], [1, 10, 2], [5, 1, 3], [5, 1, 3], [1, 3, 3], [1, 3, 3], [3, 3, 5], [3, 3, 5], [3, 5, 3], [3, 5, 3], [5, 3, 6], [5, 3, 6], [3, 6, 1], [3, 6, 1], [6, 1, 5], [6, 1, 5], [1, 5, 5], [1, 5, 5], [5, 5, 6], [5, 5, 6], [5, 6, 3], [5, 6, 3], [6, 3, 3], [6, 3, 3], [3, 5, 8], [3, 5, 8], [5, 8, 1], [5, 8, 1], [8, 1, 7], [8, 1, 7], [1, 7, 4], [1, 7, 4], [7, 4, 4], [7, 4, 4], [4, 4, 7], [4, 4, 7], [4, 7, 7], [4, 7, 7], [7, 7, 8], [7, 7, 8], [8, 0, 3], [6, 5, 10], [6, 5, 10], [2, 0, 3]]\n",
      "Époque [1/20], Perte moyenne : 2.02, Accuracy : 0.19 = 31/162\n",
      "Époque [2/20], Perte moyenne : 2.02, Accuracy : 0.23 = 38/162\n",
      "Époque [3/20], Perte moyenne : 1.99, Accuracy : 0.27 = 44/162\n",
      "Époque [4/20], Perte moyenne : 1.83, Accuracy : 0.32 = 52/162\n",
      "Époque [5/20], Perte moyenne : 1.81, Accuracy : 0.33 = 53/162\n",
      "Époque [6/20], Perte moyenne : 1.83, Accuracy : 0.38 = 61/162\n",
      "Époque [7/20], Perte moyenne : 1.74, Accuracy : 0.38 = 61/162\n",
      "Époque [8/20], Perte moyenne : 1.68, Accuracy : 0.41 = 67/162\n",
      "Époque [9/20], Perte moyenne : 1.66, Accuracy : 0.40 = 65/162\n",
      "Époque [10/20], Perte moyenne : 1.59, Accuracy : 0.51 = 82/162\n",
      "Époque [11/20], Perte moyenne : 1.59, Accuracy : 0.51 = 83/162\n",
      "Époque [12/20], Perte moyenne : 1.53, Accuracy : 0.51 = 82/162\n",
      "Époque [13/20], Perte moyenne : 1.38, Accuracy : 0.52 = 84/162\n",
      "Époque [14/20], Perte moyenne : 1.44, Accuracy : 0.52 = 84/162\n",
      "Époque [15/20], Perte moyenne : 1.45, Accuracy : 0.56 = 90/162\n",
      "Époque [16/20], Perte moyenne : 1.38, Accuracy : 0.56 = 91/162\n",
      "Époque [17/20], Perte moyenne : 1.18, Accuracy : 0.65 = 106/162\n",
      "Époque [18/20], Perte moyenne : 1.21, Accuracy : 0.64 = 104/162\n",
      "Époque [19/20], Perte moyenne : 1.27, Accuracy : 0.63 = 102/162\n",
      "Époque [20/20], Perte moyenne : 1.22, Accuracy : 0.67 = 109/162\n",
      "[[0, 1, 1, 3], [1, 1, 3, 1], [1, 3, 1, 4], [3, 1, 4, 1], [1, 4, 1, 7], [4, 1, 7, 1], [1, 7, 1, 8], [7, 1, 8, 0], [1, 8, 0, 2], [8, 0, 2, 0], [2, 0, 2, 0], [2, 0, 2, 0], [0, 2, 0, 3], [0, 2, 0, 3], [2, 0, 3, 3], [2, 0, 3, 3], [3, 3, 4, 3], [3, 4, 3, 7], [4, 3, 7, 3], [3, 7, 3, 8], [3, 8, 0, 2], [3, 8, 0, 2], [3, 10, 1, 10], [10, 1, 10, 2], [2, 0, 3, 5], [5, 1, 3, 3], [1, 3, 3, 5], [3, 3, 5, 3], [3, 5, 3, 6], [5, 3, 6, 1], [3, 6, 1, 5], [6, 1, 5, 5], [1, 5, 5, 6], [5, 5, 6, 3], [5, 6, 3, 3], [6, 3, 3, 5], [3, 3, 5, 8], [3, 5, 8, 1], [5, 8, 1, 7], [8, 1, 7, 4], [1, 7, 4, 4], [7, 4, 4, 7], [4, 4, 7, 7], [4, 7, 7, 8], [0, 2, 0, 3], [7, 8, 0, 3], [10, 2, 0, 3], [0, 2, 0, 2]]\n",
      "Époque [1/20], Perte moyenne : 1.51, Accuracy : 0.50 = 72/144\n",
      "Époque [2/20], Perte moyenne : 1.45, Accuracy : 0.54 = 78/144\n",
      "Époque [3/20], Perte moyenne : 1.33, Accuracy : 0.58 = 84/144\n",
      "Époque [4/20], Perte moyenne : 1.21, Accuracy : 0.61 = 88/144\n",
      "Époque [5/20], Perte moyenne : 1.21, Accuracy : 0.65 = 94/144\n",
      "Époque [6/20], Perte moyenne : 1.14, Accuracy : 0.63 = 91/144\n",
      "Époque [7/20], Perte moyenne : 1.12, Accuracy : 0.65 = 94/144\n",
      "Époque [8/20], Perte moyenne : 1.10, Accuracy : 0.69 = 99/144\n",
      "Époque [9/20], Perte moyenne : 1.09, Accuracy : 0.65 = 94/144\n",
      "Époque [10/20], Perte moyenne : 1.04, Accuracy : 0.70 = 101/144\n",
      "Époque [11/20], Perte moyenne : 1.02, Accuracy : 0.69 = 100/144\n",
      "Époque [12/20], Perte moyenne : 0.95, Accuracy : 0.75 = 108/144\n",
      "Époque [13/20], Perte moyenne : 0.96, Accuracy : 0.74 = 106/144\n",
      "Époque [14/20], Perte moyenne : 0.92, Accuracy : 0.74 = 107/144\n",
      "Époque [15/20], Perte moyenne : 0.92, Accuracy : 0.77 = 111/144\n",
      "Époque [16/20], Perte moyenne : 0.89, Accuracy : 0.74 = 106/144\n",
      "Époque [17/20], Perte moyenne : 0.86, Accuracy : 0.73 = 105/144\n",
      "Époque [18/20], Perte moyenne : 0.89, Accuracy : 0.75 = 108/144\n",
      "Époque [19/20], Perte moyenne : 0.83, Accuracy : 0.76 = 110/144\n",
      "Époque [20/20], Perte moyenne : 0.87, Accuracy : 0.75 = 108/144\n",
      "[[0, 2, 0, 2, 0], [2, 0, 2, 0, 3], [0, 2, 0, 3, 3], [2, 0, 3, 3, 4], [7, 3, 8, 0, 2], [0, 2, 0, 3, 10], [0, 2, 0, 3, 10], [10, 2, 0, 2, 0], [10, 2, 0, 2, 0], [2, 0, 3, 5, 1], [2, 0, 3, 5, 1], [8, 0, 2, 0, 3], [7, 8, 0, 3, 6], [5, 10, 2, 0, 3], [5, 10, 2, 0, 3], [8, 0, 2, 0, 2]]\n",
      "Époque [1/20], Perte moyenne : 0.94, Accuracy : 0.73 = 47/64\n",
      "Époque [2/20], Perte moyenne : 0.83, Accuracy : 0.80 = 51/64\n",
      "Époque [3/20], Perte moyenne : 0.78, Accuracy : 0.80 = 51/64\n",
      "Époque [4/20], Perte moyenne : 0.72, Accuracy : 0.84 = 54/64\n",
      "Époque [5/20], Perte moyenne : 0.70, Accuracy : 0.81 = 52/64\n",
      "Époque [6/20], Perte moyenne : 0.62, Accuracy : 0.86 = 55/64\n",
      "Époque [7/20], Perte moyenne : 0.57, Accuracy : 0.84 = 54/64\n",
      "Époque [8/20], Perte moyenne : 0.56, Accuracy : 0.88 = 56/64\n",
      "Époque [9/20], Perte moyenne : 0.57, Accuracy : 0.86 = 55/64\n",
      "Époque [10/20], Perte moyenne : 0.56, Accuracy : 0.88 = 56/64\n",
      "Époque [11/20], Perte moyenne : 0.55, Accuracy : 0.89 = 57/64\n",
      "Époque [12/20], Perte moyenne : 0.49, Accuracy : 0.92 = 59/64\n",
      "Époque [13/20], Perte moyenne : 0.51, Accuracy : 0.91 = 58/64\n",
      "Époque [14/20], Perte moyenne : 0.55, Accuracy : 0.81 = 52/64\n",
      "Époque [15/20], Perte moyenne : 0.49, Accuracy : 0.89 = 57/64\n",
      "Époque [16/20], Perte moyenne : 0.47, Accuracy : 0.91 = 58/64\n",
      "Époque [17/20], Perte moyenne : 0.46, Accuracy : 0.89 = 57/64\n",
      "Époque [18/20], Perte moyenne : 0.41, Accuracy : 0.94 = 60/64\n",
      "Époque [19/20], Perte moyenne : 0.39, Accuracy : 0.94 = 60/64\n",
      "Époque [20/20], Perte moyenne : 0.44, Accuracy : 0.89 = 57/64\n",
      "[[8, 0, 2, 0, 2, 0], [8, 0, 2, 0, 2, 0], [0, 2, 0, 2, 0, 3], [0, 2, 0, 2, 0, 3], [0, 2, 0, 3, 10, 1], [1, 10, 2, 0, 2, 0], [0, 2, 0, 2, 0, 3], [2, 0, 3, 5, 1, 3], [7, 8, 0, 2, 0, 3], [7, 8, 0, 3, 6, 5], [7, 8, 0, 3, 6, 5], [6, 5, 10, 2, 0, 3], [7, 8, 0, 2, 0, 2]]\n",
      "Époque [1/20], Perte moyenne : 0.82, Accuracy : 0.75 = 49/65\n",
      "Époque [2/20], Perte moyenne : 0.66, Accuracy : 0.77 = 50/65\n",
      "Époque [3/20], Perte moyenne : 0.70, Accuracy : 0.75 = 49/65\n",
      "Époque [4/20], Perte moyenne : 0.54, Accuracy : 0.88 = 57/65\n",
      "Époque [5/20], Perte moyenne : 0.51, Accuracy : 0.89 = 58/65\n",
      "Époque [6/20], Perte moyenne : 0.45, Accuracy : 0.89 = 58/65\n",
      "Époque [7/20], Perte moyenne : 0.44, Accuracy : 0.91 = 59/65\n",
      "Époque [8/20], Perte moyenne : 0.42, Accuracy : 0.89 = 58/65\n",
      "Époque [9/20], Perte moyenne : 0.40, Accuracy : 0.92 = 60/65\n",
      "Époque [10/20], Perte moyenne : 0.39, Accuracy : 0.95 = 62/65\n",
      "Époque [11/20], Perte moyenne : 0.38, Accuracy : 0.97 = 63/65\n",
      "Époque [12/20], Perte moyenne : 0.35, Accuracy : 0.97 = 63/65\n",
      "Époque [13/20], Perte moyenne : 0.35, Accuracy : 0.97 = 63/65\n",
      "Époque [14/20], Perte moyenne : 0.33, Accuracy : 0.95 = 62/65\n",
      "Époque [15/20], Perte moyenne : 0.28, Accuracy : 0.97 = 63/65\n",
      "Époque [16/20], Perte moyenne : 0.31, Accuracy : 0.95 = 62/65\n",
      "Époque [17/20], Perte moyenne : 0.27, Accuracy : 0.97 = 63/65\n",
      "Époque [18/20], Perte moyenne : 0.30, Accuracy : 0.97 = 63/65\n",
      "Époque [19/20], Perte moyenne : 0.30, Accuracy : 0.97 = 63/65\n",
      "Époque [20/20], Perte moyenne : 0.27, Accuracy : 0.98 = 64/65\n"
     ]
    }
   ],
   "source": [
    "for example_sequences in Training_sequences:\n",
    "    print(example_sequences)\n",
    "    dataloader = create_dataloader(example_sequences, batch_size=16, max_length=max_length)\n",
    "    train_model(model, dataloader, num_epochs=20, learning_rate=1e-3, device=device)"
   ]
  },
  {
   "cell_type": "markdown",
   "id": "2531a66a-5b3c-4585-99e7-1da8e4dec624",
   "metadata": {},
   "source": [
    "# Prédiction"
   ]
  },
  {
   "cell_type": "code",
   "execution_count": 77,
   "id": "22c457d7",
   "metadata": {},
   "outputs": [
    {
     "name": "stdout",
     "output_type": "stream",
     "text": [
      "Predicted token: 0\n"
     ]
    },
    {
     "data": {
      "text/html": [
       "<div>\n",
       "<style scoped>\n",
       "    .dataframe tbody tr th:only-of-type {\n",
       "        vertical-align: middle;\n",
       "    }\n",
       "\n",
       "    .dataframe tbody tr th {\n",
       "        vertical-align: top;\n",
       "    }\n",
       "\n",
       "    .dataframe thead th {\n",
       "        text-align: right;\n",
       "    }\n",
       "</style>\n",
       "<table border=\"1\" class=\"dataframe\">\n",
       "  <thead>\n",
       "    <tr style=\"text-align: right;\">\n",
       "      <th></th>\n",
       "      <th>token</th>\n",
       "      <th>action</th>\n",
       "      <th>outcome</th>\n",
       "      <th>valence</th>\n",
       "      <th>probability</th>\n",
       "      <th>outcome_probs</th>\n",
       "    </tr>\n",
       "  </thead>\n",
       "  <tbody>\n",
       "    <tr>\n",
       "      <th>0</th>\n",
       "      <td>0</td>\n",
       "      <td>0</td>\n",
       "      <td>0</td>\n",
       "      <td>5</td>\n",
       "      <td>0.918104</td>\n",
       "      <td>0.994446</td>\n",
       "    </tr>\n",
       "    <tr>\n",
       "      <th>1</th>\n",
       "      <td>1</td>\n",
       "      <td>0</td>\n",
       "      <td>1</td>\n",
       "      <td>-10</td>\n",
       "      <td>0.005128</td>\n",
       "      <td>0.005554</td>\n",
       "    </tr>\n",
       "    <tr>\n",
       "      <th>2</th>\n",
       "      <td>2</td>\n",
       "      <td>1</td>\n",
       "      <td>0</td>\n",
       "      <td>-1</td>\n",
       "      <td>0.015539</td>\n",
       "      <td>0.812600</td>\n",
       "    </tr>\n",
       "    <tr>\n",
       "      <th>3</th>\n",
       "      <td>3</td>\n",
       "      <td>1</td>\n",
       "      <td>1</td>\n",
       "      <td>-1</td>\n",
       "      <td>0.003584</td>\n",
       "      <td>0.187400</td>\n",
       "    </tr>\n",
       "    <tr>\n",
       "      <th>4</th>\n",
       "      <td>4</td>\n",
       "      <td>2</td>\n",
       "      <td>0</td>\n",
       "      <td>-1</td>\n",
       "      <td>0.001403</td>\n",
       "      <td>0.097986</td>\n",
       "    </tr>\n",
       "    <tr>\n",
       "      <th>5</th>\n",
       "      <td>5</td>\n",
       "      <td>2</td>\n",
       "      <td>1</td>\n",
       "      <td>-1</td>\n",
       "      <td>0.012920</td>\n",
       "      <td>0.902014</td>\n",
       "    </tr>\n",
       "    <tr>\n",
       "      <th>6</th>\n",
       "      <td>6</td>\n",
       "      <td>3</td>\n",
       "      <td>0</td>\n",
       "      <td>-1</td>\n",
       "      <td>0.012563</td>\n",
       "      <td>0.744572</td>\n",
       "    </tr>\n",
       "    <tr>\n",
       "      <th>7</th>\n",
       "      <td>7</td>\n",
       "      <td>3</td>\n",
       "      <td>1</td>\n",
       "      <td>-1</td>\n",
       "      <td>0.004310</td>\n",
       "      <td>0.255428</td>\n",
       "    </tr>\n",
       "    <tr>\n",
       "      <th>8</th>\n",
       "      <td>8</td>\n",
       "      <td>4</td>\n",
       "      <td>0</td>\n",
       "      <td>-3</td>\n",
       "      <td>0.007862</td>\n",
       "      <td>0.687755</td>\n",
       "    </tr>\n",
       "    <tr>\n",
       "      <th>9</th>\n",
       "      <td>9</td>\n",
       "      <td>4</td>\n",
       "      <td>1</td>\n",
       "      <td>-3</td>\n",
       "      <td>0.003569</td>\n",
       "      <td>0.312245</td>\n",
       "    </tr>\n",
       "    <tr>\n",
       "      <th>10</th>\n",
       "      <td>10</td>\n",
       "      <td>5</td>\n",
       "      <td>0</td>\n",
       "      <td>-3</td>\n",
       "      <td>0.010127</td>\n",
       "      <td>0.674261</td>\n",
       "    </tr>\n",
       "    <tr>\n",
       "      <th>11</th>\n",
       "      <td>11</td>\n",
       "      <td>5</td>\n",
       "      <td>1</td>\n",
       "      <td>-3</td>\n",
       "      <td>0.004892</td>\n",
       "      <td>0.325739</td>\n",
       "    </tr>\n",
       "  </tbody>\n",
       "</table>\n",
       "</div>"
      ],
      "text/plain": [
       "    token  action  outcome  valence  probability  outcome_probs\n",
       "0       0       0        0        5     0.918104       0.994446\n",
       "1       1       0        1      -10     0.005128       0.005554\n",
       "2       2       1        0       -1     0.015539       0.812600\n",
       "3       3       1        1       -1     0.003584       0.187400\n",
       "4       4       2        0       -1     0.001403       0.097986\n",
       "5       5       2        1       -1     0.012920       0.902014\n",
       "6       6       3        0       -1     0.012563       0.744572\n",
       "7       7       3        1       -1     0.004310       0.255428\n",
       "8       8       4        0       -3     0.007862       0.687755\n",
       "9       9       4        1       -3     0.003569       0.312245\n",
       "10     10       5        0       -3     0.010127       0.674261\n",
       "11     11       5        1       -3     0.004892       0.325739"
      ]
     },
     "execution_count": 77,
     "metadata": {},
     "output_type": "execute_result"
    }
   ],
   "source": [
    "import pandas as pd\n",
    "\n",
    "input_sequence = [2]  # Expect next token 0\n",
    "logits = predict_next_token_probs(model, input_sequence, max_length=max_length, device=device)\n",
    "\n",
    "last_index = len(input_sequence) - 1\n",
    "logits_for_next_token = logits[0, last_index, :]\n",
    "probs = F.softmax(logits_for_next_token, dim=0)\n",
    "\n",
    "# probs est un tenseur 1D de taille (vocab_size,)\n",
    "most_probable_token = torch.argmax(probs).item()\n",
    "print(f\"Predicted token: {most_probable_token}\")\n",
    "\n",
    "# Pairwise probabilities\n",
    "pairwise_logits = logits_for_next_token.reshape(-1, 2)\n",
    "outcome_probs = nn.functional.softmax(pairwise_logits, dim=1).flatten().tolist()\n",
    "\n",
    "# Visualize the dataframe\n",
    "expected_df = pd.DataFrame({\n",
    "    'token':  [0, 1, 2, 3, 4, 5, 6, 7, 8, 9, 10, 11],\n",
    "    'action': [0, 0, 1, 1, 2, 2, 3, 3, 4, 4, 5, 5],\n",
    "    'outcome':[0, 1, 0, 1, 0, 1, 0, 1, 0, 1, 0, 1],\n",
    "    'valence':[5, -10, -1, -1, -1, -1, -1, -1, -3, -3, -3, -3],\n",
    "    'probability': probs, \n",
    "    'outcome_probs': outcome_probs})\n",
    "expected_df"
   ]
  },
  {
   "cell_type": "markdown",
   "id": "4550dfe3-2ca2-4ce2-b981-5eb95ce931e7",
   "metadata": {},
   "source": [
    "# On visualise l'embedding"
   ]
  },
  {
   "cell_type": "markdown",
   "id": "58f54a35-0098-4ead-8ce8-d20da72c65ee",
   "metadata": {},
   "source": [
    "La fonction de visualisation en 3D"
   ]
  },
  {
   "cell_type": "code",
   "execution_count": 78,
   "id": "7f3969ba-2aa5-4f01-b0ff-35d1d55bee53",
   "metadata": {
    "jupyter": {
     "source_hidden": true
    }
   },
   "outputs": [],
   "source": [
    "import matplotlib.pyplot as plt\n",
    "from mpl_toolkits.mplot3d import Axes3D\n",
    "import plotly.graph_objects as go\n",
    "\n",
    "# Liste de formes de marqueurs disponibles dans Plotly\n",
    "marker_symbols = ['diamond', 'diamond', 'square', 'square', 'square', 'square','square', 'square', 'circle', 'cross', 'circle', 'cross']\n",
    "# Couleurs (différentes pour chaque token)\n",
    "marker_colors = ['#D6D6D6', '#F93943', '#FAE2DB', '#535865', '#FAE2DB', '#535865', '#FAE2DB', '#535865', '#D6D6D6', '#D6D6D6', '#D6D6D6', '#D6D6D6']\n",
    "\n",
    "labels = ['forward', 'bump', 'front_empty', 'front_wall', 'left_empty', 'left_wall','right_empty', 'right_wall', 'turn_left', 'turn_left', 'turn_right', 'turn_righ']\n",
    "tags = ['forward', 'bump', 'front', 'front', 'left', 'left','right', 'right', 'left', '', 'right', '']\n",
    "\n",
    "def plotly_embedding(embedding_weights):\n",
    "    # Extraire les vecteurs d'embedding\n",
    "    # embedding_weights = agent._lstm.embedding.weight.data        \n",
    "    # Récupérer les coordonnées\n",
    "    x = embedding_weights[:, 0].detach().numpy()\n",
    "    y = embedding_weights[:, 1].detach().numpy()\n",
    "    z = embedding_weights[:, 2].detach().numpy()\n",
    "    #labels = [f\"Token {i}\" for i in range(agent._lstm.len_vocab)]\n",
    "    # Créer une figure Plotly\n",
    "    fig = go.Figure()\n",
    "    \n",
    "    for i in range(12):\n",
    "        # Exclude the turn wall interactions\n",
    "        if i in [9, 11]:\n",
    "            continue\n",
    "        fig.add_trace(go.Scatter3d(\n",
    "            x=[x[i]],\n",
    "            y=[y[i]],\n",
    "            z=[z[i]],\n",
    "            mode='markers+text',\n",
    "            name=labels[i],\n",
    "            marker=dict(\n",
    "                size=10,\n",
    "                color=marker_colors[i],\n",
    "                symbol=marker_symbols[i],\n",
    "                line=dict(width=1, color='black')\n",
    "            ),\n",
    "            text= tags[i],\n",
    "            textposition='top center'\n",
    "        ))    \n",
    "    fig.update_layout(\n",
    "        # title='Visualisation 3D des embeddings',\n",
    "        width=900,\n",
    "        height=700,\n",
    "        scene=dict(\n",
    "            xaxis_title='X',\n",
    "            yaxis_title='Y',\n",
    "            zaxis_title='Z'\n",
    "        )\n",
    "    )  \n",
    "    # Affichage interactif\n",
    "    fig.show(config={\"toImageButtonOptions\": {\"format\": \"svg\"}}) # Spécifie le format de sauvegarde associé au bouton \"download\" "
   ]
  },
  {
   "cell_type": "markdown",
   "id": "8b36b2a6-9e59-4339-8f00-4ead5f26e034",
   "metadata": {},
   "source": [
    "Différents essais de projection depuis l'espace d'embedding à 16 dimensions vers un espace à 3 dimensions."
   ]
  },
  {
   "cell_type": "code",
   "execution_count": 10,
   "id": "c41bab4e-1401-4573-b846-56c96cb2589d",
   "metadata": {},
   "outputs": [],
   "source": [
    "# Projection dans une direction aléatoire\n",
    "\n",
    "def project_token_embeddings_to_3D(model):\n",
    "    \"\"\"\n",
    "    Renvoie un tenseur (vocab_size, 3) correspondant aux embeddings de tokens projetés dans ℝ³.\n",
    "    \"\"\"\n",
    "    # Récupère la matrice d'embedding des tokens (vocab_size, d_model)\n",
    "    token_embeddings = model.token_emb.weight.data  # (vocab_size, d_model)\n",
    "\n",
    "    # Projection linéaire vers 3 dimensions\n",
    "    projector = nn.Linear(token_embeddings.size(1), 3, bias=False)  # d_model → 3\n",
    "\n",
    "    projected = projector(token_embeddings)  # (vocab_size, 3)\n",
    "    return projected\n"
   ]
  },
  {
   "cell_type": "code",
   "execution_count": 36,
   "id": "d83cabb6-3155-4f66-9566-cc6a2f9362b7",
   "metadata": {},
   "outputs": [],
   "source": [
    "# Projection sur les composantes principales\n",
    "\n",
    "from sklearn.decomposition import PCA\n",
    "import torch\n",
    "\n",
    "def project_token_embeddings_to_3D(model):\n",
    "    \"\"\"\n",
    "    Projects token embeddings from the model into a 3D space using PCA.\n",
    "\n",
    "    Args:\n",
    "        model (nn.Module): The model containing token embeddings.\n",
    "\n",
    "    Returns:\n",
    "        Tensor of shape (vocab_size, 3): The 3D coordinates of each token.\n",
    "    \"\"\"\n",
    "    # Extract the embedding weights\n",
    "    token_embeddings = model.token_emb.weight.detach().cpu().numpy()\n",
    "\n",
    "    # Apply PCA to reduce to 3 dimensions\n",
    "    pca = PCA(n_components=3)\n",
    "    projected = pca.fit_transform(token_embeddings)\n",
    "\n",
    "    # Return as a PyTorch tensor\n",
    "    return torch.tensor(projected)\n"
   ]
  },
  {
   "cell_type": "code",
   "execution_count": 34,
   "id": "3674d297-7a35-4ece-8f5a-47347b825054",
   "metadata": {},
   "outputs": [],
   "source": [
    "# Projection TSNE\n",
    "\n",
    "from sklearn.manifold import TSNE\n",
    "def project_token_embeddings_to_3D(model):\n",
    "    \"\"\"\n",
    "    Projette les embeddings des tokens du modèle dans un espace 3D à l'aide de t-SNE.\n",
    "\n",
    "    Args:\n",
    "        model (nn.Module): Le modèle contenant l'embedding des tokens.\n",
    "\n",
    "    Returns:\n",
    "        Tensor (vocab_size, 3) : les coordonnées 3D de chaque token.\n",
    "    \"\"\"\n",
    "    # Extraire les poids d'embedding\n",
    "    token_embeddings = model.token_emb.weight.detach().cpu().numpy()\n",
    "\n",
    "    # Appliquer t-SNE pour projeter en 3D\n",
    "    tsne = TSNE(n_components=3, perplexity=5, learning_rate=200, init='random', random_state=42)\n",
    "    projected = tsne.fit_transform(token_embeddings)\n",
    "\n",
    "    # Convertir en tenseur PyTorch pour compatibilité avec le reste\n",
    "    return torch.tensor(projected)\n"
   ]
  },
  {
   "cell_type": "code",
   "execution_count": 81,
   "id": "02bbb6a3-d46f-46f8-83bf-5236d25fc389",
   "metadata": {},
   "outputs": [],
   "source": [
    "# Projection par la methode des Feature Agglomeration\n",
    "\n",
    "group_axes = {\n",
    "    # \"direction_forward\": [0, 1, 2, 3],      # Tokens : forward, front_empty, front_wall\n",
    "    # \"direction_left\": [4, 5, 8],      # left_empty, left_wall, turn_left, turn_left (duplicated)\n",
    "    # \"direction_right\": [6, 7, 10],   # right_empty, right_wall, turn_right, turn_right\n",
    "    \"move\": [0, 8, 10],             # forward, turn_left, turn_right\n",
    "    \"feel_wall\": [3, 5, 7],         # bump, front_wall, left_wall, right_wall\n",
    "    \"feel_empty\": [2, 4, 6],\n",
    "}\n",
    "\n",
    "def project_token_embeddings_to_3D(model):\n",
    "    \"\"\"\n",
    "    Renvoie un tenseur (vocab_size, 3) correspondant aux embeddings de tokens projetés dans ℝ³.\n",
    "    \"\"\"\n",
    "    projections = []\n",
    "    for group in group_axes.values():\n",
    "        group_embedding = model.token_emb.weight[group].mean(dim=0)\n",
    "        projections.append(group_embedding)\n",
    "    projection_matrix = torch.stack(projections)  # shape (n_axes, d_model)\n",
    "\n",
    "    projected = torch.matmul(model.token_emb.weight, projection_matrix.T) \n",
    "\n",
    "    return projected\n"
   ]
  },
  {
   "cell_type": "code",
   "execution_count": 86,
   "id": "d10a2c62-3cc9-4f5c-8f74-9fac31965495",
   "metadata": {},
   "outputs": [
    {
     "data": {
      "application/vnd.plotly.v1+json": {
       "config": {
        "plotlyServerURL": "https://plot.ly",
        "toImageButtonOptions": {
         "format": "svg"
        }
       },
       "data": [
        {
         "marker": {
          "color": "#D6D6D6",
          "line": {
           "color": "black",
           "width": 1
          },
          "size": 10,
          "symbol": "diamond"
         },
         "mode": "markers+text",
         "name": "forward",
         "text": "forward",
         "textposition": "top center",
         "type": "scatter3d",
         "x": [
          10.306415557861328
         ],
         "y": [
          -4.105840682983398
         ],
         "z": [
          0.03127145767211914
         ]
        },
        {
         "marker": {
          "color": "#F93943",
          "line": {
           "color": "black",
           "width": 1
          },
          "size": 10,
          "symbol": "diamond"
         },
         "mode": "markers+text",
         "name": "bump",
         "text": "bump",
         "textposition": "top center",
         "type": "scatter3d",
         "x": [
          0.515725314617157
         ],
         "y": [
          0.46710681915283203
         ],
         "z": [
          -1.8418090343475342
         ]
        },
        {
         "marker": {
          "color": "#FAE2DB",
          "line": {
           "color": "black",
           "width": 1
          },
          "size": 10,
          "symbol": "square"
         },
         "mode": "markers+text",
         "name": "front_empty",
         "text": "front",
         "textposition": "top center",
         "type": "scatter3d",
         "x": [
          0.9791072607040405
         ],
         "y": [
          2.291215658187866
         ],
         "z": [
          8.155815124511719
         ]
        },
        {
         "marker": {
          "color": "#535865",
          "line": {
           "color": "black",
           "width": 1
          },
          "size": 10,
          "symbol": "square"
         },
         "mode": "markers+text",
         "name": "front_wall",
         "text": "front",
         "textposition": "top center",
         "type": "scatter3d",
         "x": [
          1.153974175453186
         ],
         "y": [
          4.052264213562012
         ],
         "z": [
          3.9902892112731934
         ]
        },
        {
         "marker": {
          "color": "#FAE2DB",
          "line": {
           "color": "black",
           "width": 1
          },
          "size": 10,
          "symbol": "square"
         },
         "mode": "markers+text",
         "name": "left_empty",
         "text": "left",
         "textposition": "top center",
         "type": "scatter3d",
         "x": [
          -1.0701735019683838
         ],
         "y": [
          -4.224750518798828
         ],
         "z": [
          4.174237251281738
         ]
        },
        {
         "marker": {
          "color": "#535865",
          "line": {
           "color": "black",
           "width": 1
          },
          "size": 10,
          "symbol": "square"
         },
         "mode": "markers+text",
         "name": "left_wall",
         "text": "left",
         "textposition": "top center",
         "type": "scatter3d",
         "x": [
          1.6586188077926636
         ],
         "y": [
          2.76058030128479
         ],
         "z": [
          -4.322061538696289
         ]
        },
        {
         "marker": {
          "color": "#FAE2DB",
          "line": {
           "color": "black",
           "width": 1
          },
          "size": 10,
          "symbol": "square"
         },
         "mode": "markers+text",
         "name": "right_empty",
         "text": "right",
         "textposition": "top center",
         "type": "scatter3d",
         "x": [
          -0.1537644863128662
         ],
         "y": [
          2.10617733001709
         ],
         "z": [
          5.190184116363525
         ]
        },
        {
         "marker": {
          "color": "#535865",
          "line": {
           "color": "black",
           "width": 1
          },
          "size": 10,
          "symbol": "square"
         },
         "mode": "markers+text",
         "name": "right_wall",
         "text": "right",
         "textposition": "top center",
         "type": "scatter3d",
         "x": [
          -2.5381603240966797
         ],
         "y": [
          2.6635427474975586
         ],
         "z": [
          0.5044146180152893
         ]
        },
        {
         "marker": {
          "color": "#D6D6D6",
          "line": {
           "color": "black",
           "width": 1
          },
          "size": 10,
          "symbol": "circle"
         },
         "mode": "markers+text",
         "name": "turn_left",
         "text": "left",
         "textposition": "top center",
         "type": "scatter3d",
         "x": [
          5.105317115783691
         ],
         "y": [
          1.2182362079620361
         ],
         "z": [
          -2.427443027496338
         ]
        },
        {
         "marker": {
          "color": "#D6D6D6",
          "line": {
           "color": "black",
           "width": 1
          },
          "size": 10,
          "symbol": "circle"
         },
         "mode": "markers+text",
         "name": "turn_right",
         "text": "right",
         "textposition": "top center",
         "type": "scatter3d",
         "x": [
          6.010633945465088
         ],
         "y": [
          3.162036895751953
         ],
         "z": [
          2.151340961456299
         ]
        }
       ],
       "layout": {
        "height": 700,
        "scene": {
         "aspectmode": "auto",
         "aspectratio": {
          "x": 1.1689834794819158,
          "y": 0.7532902269781526,
          "z": 1.1356102227393716
         },
         "camera": {
          "center": {
           "x": 0,
           "y": 0,
           "z": 0
          },
          "eye": {
           "x": -0.6318529603085441,
           "y": 1.6951456033232073,
           "z": 1.1894297877904896
          },
          "projection": {
           "type": "perspective"
          },
          "up": {
           "x": 0,
           "y": 0,
           "z": 1
          }
         },
         "xaxis": {
          "title": {
           "text": "X"
          },
          "type": "linear"
         },
         "yaxis": {
          "title": {
           "text": "Y"
          },
          "type": "linear"
         },
         "zaxis": {
          "title": {
           "text": "Z"
          },
          "type": "linear"
         }
        },
        "template": {
         "data": {
          "bar": [
           {
            "error_x": {
             "color": "#2a3f5f"
            },
            "error_y": {
             "color": "#2a3f5f"
            },
            "marker": {
             "line": {
              "color": "#E5ECF6",
              "width": 0.5
             },
             "pattern": {
              "fillmode": "overlay",
              "size": 10,
              "solidity": 0.2
             }
            },
            "type": "bar"
           }
          ],
          "barpolar": [
           {
            "marker": {
             "line": {
              "color": "#E5ECF6",
              "width": 0.5
             },
             "pattern": {
              "fillmode": "overlay",
              "size": 10,
              "solidity": 0.2
             }
            },
            "type": "barpolar"
           }
          ],
          "carpet": [
           {
            "aaxis": {
             "endlinecolor": "#2a3f5f",
             "gridcolor": "white",
             "linecolor": "white",
             "minorgridcolor": "white",
             "startlinecolor": "#2a3f5f"
            },
            "baxis": {
             "endlinecolor": "#2a3f5f",
             "gridcolor": "white",
             "linecolor": "white",
             "minorgridcolor": "white",
             "startlinecolor": "#2a3f5f"
            },
            "type": "carpet"
           }
          ],
          "choropleth": [
           {
            "colorbar": {
             "outlinewidth": 0,
             "ticks": ""
            },
            "type": "choropleth"
           }
          ],
          "contour": [
           {
            "colorbar": {
             "outlinewidth": 0,
             "ticks": ""
            },
            "colorscale": [
             [
              0,
              "#0d0887"
             ],
             [
              0.1111111111111111,
              "#46039f"
             ],
             [
              0.2222222222222222,
              "#7201a8"
             ],
             [
              0.3333333333333333,
              "#9c179e"
             ],
             [
              0.4444444444444444,
              "#bd3786"
             ],
             [
              0.5555555555555556,
              "#d8576b"
             ],
             [
              0.6666666666666666,
              "#ed7953"
             ],
             [
              0.7777777777777778,
              "#fb9f3a"
             ],
             [
              0.8888888888888888,
              "#fdca26"
             ],
             [
              1,
              "#f0f921"
             ]
            ],
            "type": "contour"
           }
          ],
          "contourcarpet": [
           {
            "colorbar": {
             "outlinewidth": 0,
             "ticks": ""
            },
            "type": "contourcarpet"
           }
          ],
          "heatmap": [
           {
            "colorbar": {
             "outlinewidth": 0,
             "ticks": ""
            },
            "colorscale": [
             [
              0,
              "#0d0887"
             ],
             [
              0.1111111111111111,
              "#46039f"
             ],
             [
              0.2222222222222222,
              "#7201a8"
             ],
             [
              0.3333333333333333,
              "#9c179e"
             ],
             [
              0.4444444444444444,
              "#bd3786"
             ],
             [
              0.5555555555555556,
              "#d8576b"
             ],
             [
              0.6666666666666666,
              "#ed7953"
             ],
             [
              0.7777777777777778,
              "#fb9f3a"
             ],
             [
              0.8888888888888888,
              "#fdca26"
             ],
             [
              1,
              "#f0f921"
             ]
            ],
            "type": "heatmap"
           }
          ],
          "heatmapgl": [
           {
            "colorbar": {
             "outlinewidth": 0,
             "ticks": ""
            },
            "colorscale": [
             [
              0,
              "#0d0887"
             ],
             [
              0.1111111111111111,
              "#46039f"
             ],
             [
              0.2222222222222222,
              "#7201a8"
             ],
             [
              0.3333333333333333,
              "#9c179e"
             ],
             [
              0.4444444444444444,
              "#bd3786"
             ],
             [
              0.5555555555555556,
              "#d8576b"
             ],
             [
              0.6666666666666666,
              "#ed7953"
             ],
             [
              0.7777777777777778,
              "#fb9f3a"
             ],
             [
              0.8888888888888888,
              "#fdca26"
             ],
             [
              1,
              "#f0f921"
             ]
            ],
            "type": "heatmapgl"
           }
          ],
          "histogram": [
           {
            "marker": {
             "pattern": {
              "fillmode": "overlay",
              "size": 10,
              "solidity": 0.2
             }
            },
            "type": "histogram"
           }
          ],
          "histogram2d": [
           {
            "colorbar": {
             "outlinewidth": 0,
             "ticks": ""
            },
            "colorscale": [
             [
              0,
              "#0d0887"
             ],
             [
              0.1111111111111111,
              "#46039f"
             ],
             [
              0.2222222222222222,
              "#7201a8"
             ],
             [
              0.3333333333333333,
              "#9c179e"
             ],
             [
              0.4444444444444444,
              "#bd3786"
             ],
             [
              0.5555555555555556,
              "#d8576b"
             ],
             [
              0.6666666666666666,
              "#ed7953"
             ],
             [
              0.7777777777777778,
              "#fb9f3a"
             ],
             [
              0.8888888888888888,
              "#fdca26"
             ],
             [
              1,
              "#f0f921"
             ]
            ],
            "type": "histogram2d"
           }
          ],
          "histogram2dcontour": [
           {
            "colorbar": {
             "outlinewidth": 0,
             "ticks": ""
            },
            "colorscale": [
             [
              0,
              "#0d0887"
             ],
             [
              0.1111111111111111,
              "#46039f"
             ],
             [
              0.2222222222222222,
              "#7201a8"
             ],
             [
              0.3333333333333333,
              "#9c179e"
             ],
             [
              0.4444444444444444,
              "#bd3786"
             ],
             [
              0.5555555555555556,
              "#d8576b"
             ],
             [
              0.6666666666666666,
              "#ed7953"
             ],
             [
              0.7777777777777778,
              "#fb9f3a"
             ],
             [
              0.8888888888888888,
              "#fdca26"
             ],
             [
              1,
              "#f0f921"
             ]
            ],
            "type": "histogram2dcontour"
           }
          ],
          "mesh3d": [
           {
            "colorbar": {
             "outlinewidth": 0,
             "ticks": ""
            },
            "type": "mesh3d"
           }
          ],
          "parcoords": [
           {
            "line": {
             "colorbar": {
              "outlinewidth": 0,
              "ticks": ""
             }
            },
            "type": "parcoords"
           }
          ],
          "pie": [
           {
            "automargin": true,
            "type": "pie"
           }
          ],
          "scatter": [
           {
            "fillpattern": {
             "fillmode": "overlay",
             "size": 10,
             "solidity": 0.2
            },
            "type": "scatter"
           }
          ],
          "scatter3d": [
           {
            "line": {
             "colorbar": {
              "outlinewidth": 0,
              "ticks": ""
             }
            },
            "marker": {
             "colorbar": {
              "outlinewidth": 0,
              "ticks": ""
             }
            },
            "type": "scatter3d"
           }
          ],
          "scattercarpet": [
           {
            "marker": {
             "colorbar": {
              "outlinewidth": 0,
              "ticks": ""
             }
            },
            "type": "scattercarpet"
           }
          ],
          "scattergeo": [
           {
            "marker": {
             "colorbar": {
              "outlinewidth": 0,
              "ticks": ""
             }
            },
            "type": "scattergeo"
           }
          ],
          "scattergl": [
           {
            "marker": {
             "colorbar": {
              "outlinewidth": 0,
              "ticks": ""
             }
            },
            "type": "scattergl"
           }
          ],
          "scattermapbox": [
           {
            "marker": {
             "colorbar": {
              "outlinewidth": 0,
              "ticks": ""
             }
            },
            "type": "scattermapbox"
           }
          ],
          "scatterpolar": [
           {
            "marker": {
             "colorbar": {
              "outlinewidth": 0,
              "ticks": ""
             }
            },
            "type": "scatterpolar"
           }
          ],
          "scatterpolargl": [
           {
            "marker": {
             "colorbar": {
              "outlinewidth": 0,
              "ticks": ""
             }
            },
            "type": "scatterpolargl"
           }
          ],
          "scatterternary": [
           {
            "marker": {
             "colorbar": {
              "outlinewidth": 0,
              "ticks": ""
             }
            },
            "type": "scatterternary"
           }
          ],
          "surface": [
           {
            "colorbar": {
             "outlinewidth": 0,
             "ticks": ""
            },
            "colorscale": [
             [
              0,
              "#0d0887"
             ],
             [
              0.1111111111111111,
              "#46039f"
             ],
             [
              0.2222222222222222,
              "#7201a8"
             ],
             [
              0.3333333333333333,
              "#9c179e"
             ],
             [
              0.4444444444444444,
              "#bd3786"
             ],
             [
              0.5555555555555556,
              "#d8576b"
             ],
             [
              0.6666666666666666,
              "#ed7953"
             ],
             [
              0.7777777777777778,
              "#fb9f3a"
             ],
             [
              0.8888888888888888,
              "#fdca26"
             ],
             [
              1,
              "#f0f921"
             ]
            ],
            "type": "surface"
           }
          ],
          "table": [
           {
            "cells": {
             "fill": {
              "color": "#EBF0F8"
             },
             "line": {
              "color": "white"
             }
            },
            "header": {
             "fill": {
              "color": "#C8D4E3"
             },
             "line": {
              "color": "white"
             }
            },
            "type": "table"
           }
          ]
         },
         "layout": {
          "annotationdefaults": {
           "arrowcolor": "#2a3f5f",
           "arrowhead": 0,
           "arrowwidth": 1
          },
          "autotypenumbers": "strict",
          "coloraxis": {
           "colorbar": {
            "outlinewidth": 0,
            "ticks": ""
           }
          },
          "colorscale": {
           "diverging": [
            [
             0,
             "#8e0152"
            ],
            [
             0.1,
             "#c51b7d"
            ],
            [
             0.2,
             "#de77ae"
            ],
            [
             0.3,
             "#f1b6da"
            ],
            [
             0.4,
             "#fde0ef"
            ],
            [
             0.5,
             "#f7f7f7"
            ],
            [
             0.6,
             "#e6f5d0"
            ],
            [
             0.7,
             "#b8e186"
            ],
            [
             0.8,
             "#7fbc41"
            ],
            [
             0.9,
             "#4d9221"
            ],
            [
             1,
             "#276419"
            ]
           ],
           "sequential": [
            [
             0,
             "#0d0887"
            ],
            [
             0.1111111111111111,
             "#46039f"
            ],
            [
             0.2222222222222222,
             "#7201a8"
            ],
            [
             0.3333333333333333,
             "#9c179e"
            ],
            [
             0.4444444444444444,
             "#bd3786"
            ],
            [
             0.5555555555555556,
             "#d8576b"
            ],
            [
             0.6666666666666666,
             "#ed7953"
            ],
            [
             0.7777777777777778,
             "#fb9f3a"
            ],
            [
             0.8888888888888888,
             "#fdca26"
            ],
            [
             1,
             "#f0f921"
            ]
           ],
           "sequentialminus": [
            [
             0,
             "#0d0887"
            ],
            [
             0.1111111111111111,
             "#46039f"
            ],
            [
             0.2222222222222222,
             "#7201a8"
            ],
            [
             0.3333333333333333,
             "#9c179e"
            ],
            [
             0.4444444444444444,
             "#bd3786"
            ],
            [
             0.5555555555555556,
             "#d8576b"
            ],
            [
             0.6666666666666666,
             "#ed7953"
            ],
            [
             0.7777777777777778,
             "#fb9f3a"
            ],
            [
             0.8888888888888888,
             "#fdca26"
            ],
            [
             1,
             "#f0f921"
            ]
           ]
          },
          "colorway": [
           "#636efa",
           "#EF553B",
           "#00cc96",
           "#ab63fa",
           "#FFA15A",
           "#19d3f3",
           "#FF6692",
           "#B6E880",
           "#FF97FF",
           "#FECB52"
          ],
          "font": {
           "color": "#2a3f5f"
          },
          "geo": {
           "bgcolor": "white",
           "lakecolor": "white",
           "landcolor": "#E5ECF6",
           "showlakes": true,
           "showland": true,
           "subunitcolor": "white"
          },
          "hoverlabel": {
           "align": "left"
          },
          "hovermode": "closest",
          "mapbox": {
           "style": "light"
          },
          "paper_bgcolor": "white",
          "plot_bgcolor": "#E5ECF6",
          "polar": {
           "angularaxis": {
            "gridcolor": "white",
            "linecolor": "white",
            "ticks": ""
           },
           "bgcolor": "#E5ECF6",
           "radialaxis": {
            "gridcolor": "white",
            "linecolor": "white",
            "ticks": ""
           }
          },
          "scene": {
           "xaxis": {
            "backgroundcolor": "#E5ECF6",
            "gridcolor": "white",
            "gridwidth": 2,
            "linecolor": "white",
            "showbackground": true,
            "ticks": "",
            "zerolinecolor": "white"
           },
           "yaxis": {
            "backgroundcolor": "#E5ECF6",
            "gridcolor": "white",
            "gridwidth": 2,
            "linecolor": "white",
            "showbackground": true,
            "ticks": "",
            "zerolinecolor": "white"
           },
           "zaxis": {
            "backgroundcolor": "#E5ECF6",
            "gridcolor": "white",
            "gridwidth": 2,
            "linecolor": "white",
            "showbackground": true,
            "ticks": "",
            "zerolinecolor": "white"
           }
          },
          "shapedefaults": {
           "line": {
            "color": "#2a3f5f"
           }
          },
          "ternary": {
           "aaxis": {
            "gridcolor": "white",
            "linecolor": "white",
            "ticks": ""
           },
           "baxis": {
            "gridcolor": "white",
            "linecolor": "white",
            "ticks": ""
           },
           "bgcolor": "#E5ECF6",
           "caxis": {
            "gridcolor": "white",
            "linecolor": "white",
            "ticks": ""
           }
          },
          "title": {
           "x": 0.05
          },
          "xaxis": {
           "automargin": true,
           "gridcolor": "white",
           "linecolor": "white",
           "ticks": "",
           "title": {
            "standoff": 15
           },
           "zerolinecolor": "white",
           "zerolinewidth": 2
          },
          "yaxis": {
           "automargin": true,
           "gridcolor": "white",
           "linecolor": "white",
           "ticks": "",
           "title": {
            "standoff": 15
           },
           "zerolinecolor": "white",
           "zerolinewidth": 2
          }
         }
        },
        "width": 900
       }
      },
      "image/png": "[encoded data removed]",
      "text/html": [
       "<div>                            <div id=\"b5f038ae-dbcc-411d-bbe9-5818a305b83b\" class=\"plotly-graph-div\" style=\"height:700px; width:900px;\"></div>            <script type=\"text/javascript\">                require([\"plotly\"], function(Plotly) {                    window.PLOTLYENV=window.PLOTLYENV || {};                                    if (document.getElementById(\"b5f038ae-dbcc-411d-bbe9-5818a305b83b\")) {                    Plotly.newPlot(                        \"b5f038ae-dbcc-411d-bbe9-5818a305b83b\",                        [{\"marker\":{\"color\":\"#D6D6D6\",\"line\":{\"color\":\"black\",\"width\":1},\"size\":10,\"symbol\":\"diamond\"},\"mode\":\"markers+text\",\"name\":\"forward\",\"text\":\"forward\",\"textposition\":\"top center\",\"x\":[10.306415557861328],\"y\":[-4.105840682983398],\"z\":[0.03127145767211914],\"type\":\"scatter3d\"},{\"marker\":{\"color\":\"#F93943\",\"line\":{\"color\":\"black\",\"width\":1},\"size\":10,\"symbol\":\"diamond\"},\"mode\":\"markers+text\",\"name\":\"bump\",\"text\":\"bump\",\"textposition\":\"top center\",\"x\":[0.515725314617157],\"y\":[0.46710681915283203],\"z\":[-1.8418090343475342],\"type\":\"scatter3d\"},{\"marker\":{\"color\":\"#FAE2DB\",\"line\":{\"color\":\"black\",\"width\":1},\"size\":10,\"symbol\":\"square\"},\"mode\":\"markers+text\",\"name\":\"front_empty\",\"text\":\"front\",\"textposition\":\"top center\",\"x\":[0.9791072607040405],\"y\":[2.291215658187866],\"z\":[8.155815124511719],\"type\":\"scatter3d\"},{\"marker\":{\"color\":\"#535865\",\"line\":{\"color\":\"black\",\"width\":1},\"size\":10,\"symbol\":\"square\"},\"mode\":\"markers+text\",\"name\":\"front_wall\",\"text\":\"front\",\"textposition\":\"top center\",\"x\":[1.153974175453186],\"y\":[4.052264213562012],\"z\":[3.9902892112731934],\"type\":\"scatter3d\"},{\"marker\":{\"color\":\"#FAE2DB\",\"line\":{\"color\":\"black\",\"width\":1},\"size\":10,\"symbol\":\"square\"},\"mode\":\"markers+text\",\"name\":\"left_empty\",\"text\":\"left\",\"textposition\":\"top center\",\"x\":[-1.0701735019683838],\"y\":[-4.224750518798828],\"z\":[4.174237251281738],\"type\":\"scatter3d\"},{\"marker\":{\"color\":\"#535865\",\"line\":{\"color\":\"black\",\"width\":1},\"size\":10,\"symbol\":\"square\"},\"mode\":\"markers+text\",\"name\":\"left_wall\",\"text\":\"left\",\"textposition\":\"top center\",\"x\":[1.6586188077926636],\"y\":[2.76058030128479],\"z\":[-4.322061538696289],\"type\":\"scatter3d\"},{\"marker\":{\"color\":\"#FAE2DB\",\"line\":{\"color\":\"black\",\"width\":1},\"size\":10,\"symbol\":\"square\"},\"mode\":\"markers+text\",\"name\":\"right_empty\",\"text\":\"right\",\"textposition\":\"top center\",\"x\":[-0.1537644863128662],\"y\":[2.10617733001709],\"z\":[5.190184116363525],\"type\":\"scatter3d\"},{\"marker\":{\"color\":\"#535865\",\"line\":{\"color\":\"black\",\"width\":1},\"size\":10,\"symbol\":\"square\"},\"mode\":\"markers+text\",\"name\":\"right_wall\",\"text\":\"right\",\"textposition\":\"top center\",\"x\":[-2.5381603240966797],\"y\":[2.6635427474975586],\"z\":[0.5044146180152893],\"type\":\"scatter3d\"},{\"marker\":{\"color\":\"#D6D6D6\",\"line\":{\"color\":\"black\",\"width\":1},\"size\":10,\"symbol\":\"circle\"},\"mode\":\"markers+text\",\"name\":\"turn_left\",\"text\":\"left\",\"textposition\":\"top center\",\"x\":[5.105317115783691],\"y\":[1.2182362079620361],\"z\":[-2.427443027496338],\"type\":\"scatter3d\"},{\"marker\":{\"color\":\"#D6D6D6\",\"line\":{\"color\":\"black\",\"width\":1},\"size\":10,\"symbol\":\"circle\"},\"mode\":\"markers+text\",\"name\":\"turn_right\",\"text\":\"right\",\"textposition\":\"top center\",\"x\":[6.010633945465088],\"y\":[3.162036895751953],\"z\":[2.151340961456299],\"type\":\"scatter3d\"}],                        {\"template\":{\"data\":{\"histogram2dcontour\":[{\"type\":\"histogram2dcontour\",\"colorbar\":{\"outlinewidth\":0,\"ticks\":\"\"},\"colorscale\":[[0.0,\"#0d0887\"],[0.1111111111111111,\"#46039f\"],[0.2222222222222222,\"#7201a8\"],[0.3333333333333333,\"#9c179e\"],[0.4444444444444444,\"#bd3786\"],[0.5555555555555556,\"#d8576b\"],[0.6666666666666666,\"#ed7953\"],[0.7777777777777778,\"#fb9f3a\"],[0.8888888888888888,\"#fdca26\"],[1.0,\"#f0f921\"]]}],\"choropleth\":[{\"type\":\"choropleth\",\"colorbar\":{\"outlinewidth\":0,\"ticks\":\"\"}}],\"histogram2d\":[{\"type\":\"histogram2d\",\"colorbar\":{\"outlinewidth\":0,\"ticks\":\"\"},\"colorscale\":[[0.0,\"#0d0887\"],[0.1111111111111111,\"#46039f\"],[0.2222222222222222,\"#7201a8\"],[0.3333333333333333,\"#9c179e\"],[0.4444444444444444,\"#bd3786\"],[0.5555555555555556,\"#d8576b\"],[0.6666666666666666,\"#ed7953\"],[0.7777777777777778,\"#fb9f3a\"],[0.8888888888888888,\"#fdca26\"],[1.0,\"#f0f921\"]]}],\"heatmap\":[{\"type\":\"heatmap\",\"colorbar\":{\"outlinewidth\":0,\"ticks\":\"\"},\"colorscale\":[[0.0,\"#0d0887\"],[0.1111111111111111,\"#46039f\"],[0.2222222222222222,\"#7201a8\"],[0.3333333333333333,\"#9c179e\"],[0.4444444444444444,\"#bd3786\"],[0.5555555555555556,\"#d8576b\"],[0.6666666666666666,\"#ed7953\"],[0.7777777777777778,\"#fb9f3a\"],[0.8888888888888888,\"#fdca26\"],[1.0,\"#f0f921\"]]}],\"heatmapgl\":[{\"type\":\"heatmapgl\",\"colorbar\":{\"outlinewidth\":0,\"ticks\":\"\"},\"colorscale\":[[0.0,\"#0d0887\"],[0.1111111111111111,\"#46039f\"],[0.2222222222222222,\"#7201a8\"],[0.3333333333333333,\"#9c179e\"],[0.4444444444444444,\"#bd3786\"],[0.5555555555555556,\"#d8576b\"],[0.6666666666666666,\"#ed7953\"],[0.7777777777777778,\"#fb9f3a\"],[0.8888888888888888,\"#fdca26\"],[1.0,\"#f0f921\"]]}],\"contourcarpet\":[{\"type\":\"contourcarpet\",\"colorbar\":{\"outlinewidth\":0,\"ticks\":\"\"}}],\"contour\":[{\"type\":\"contour\",\"colorbar\":{\"outlinewidth\":0,\"ticks\":\"\"},\"colorscale\":[[0.0,\"#0d0887\"],[0.1111111111111111,\"#46039f\"],[0.2222222222222222,\"#7201a8\"],[0.3333333333333333,\"#9c179e\"],[0.4444444444444444,\"#bd3786\"],[0.5555555555555556,\"#d8576b\"],[0.6666666666666666,\"#ed7953\"],[0.7777777777777778,\"#fb9f3a\"],[0.8888888888888888,\"#fdca26\"],[1.0,\"#f0f921\"]]}],\"surface\":[{\"type\":\"surface\",\"colorbar\":{\"outlinewidth\":0,\"ticks\":\"\"},\"colorscale\":[[0.0,\"#0d0887\"],[0.1111111111111111,\"#46039f\"],[0.2222222222222222,\"#7201a8\"],[0.3333333333333333,\"#9c179e\"],[0.4444444444444444,\"#bd3786\"],[0.5555555555555556,\"#d8576b\"],[0.6666666666666666,\"#ed7953\"],[0.7777777777777778,\"#fb9f3a\"],[0.8888888888888888,\"#fdca26\"],[1.0,\"#f0f921\"]]}],\"mesh3d\":[{\"type\":\"mesh3d\",\"colorbar\":{\"outlinewidth\":0,\"ticks\":\"\"}}],\"scatter\":[{\"fillpattern\":{\"fillmode\":\"overlay\",\"size\":10,\"solidity\":0.2},\"type\":\"scatter\"}],\"parcoords\":[{\"type\":\"parcoords\",\"line\":{\"colorbar\":{\"outlinewidth\":0,\"ticks\":\"\"}}}],\"scatterpolargl\":[{\"type\":\"scatterpolargl\",\"marker\":{\"colorbar\":{\"outlinewidth\":0,\"ticks\":\"\"}}}],\"bar\":[{\"error_x\":{\"color\":\"#2a3f5f\"},\"error_y\":{\"color\":\"#2a3f5f\"},\"marker\":{\"line\":{\"color\":\"#E5ECF6\",\"width\":0.5},\"pattern\":{\"fillmode\":\"overlay\",\"size\":10,\"solidity\":0.2}},\"type\":\"bar\"}],\"scattergeo\":[{\"type\":\"scattergeo\",\"marker\":{\"colorbar\":{\"outlinewidth\":0,\"ticks\":\"\"}}}],\"scatterpolar\":[{\"type\":\"scatterpolar\",\"marker\":{\"colorbar\":{\"outlinewidth\":0,\"ticks\":\"\"}}}],\"histogram\":[{\"marker\":{\"pattern\":{\"fillmode\":\"overlay\",\"size\":10,\"solidity\":0.2}},\"type\":\"histogram\"}],\"scattergl\":[{\"type\":\"scattergl\",\"marker\":{\"colorbar\":{\"outlinewidth\":0,\"ticks\":\"\"}}}],\"scatter3d\":[{\"type\":\"scatter3d\",\"line\":{\"colorbar\":{\"outlinewidth\":0,\"ticks\":\"\"}},\"marker\":{\"colorbar\":{\"outlinewidth\":0,\"ticks\":\"\"}}}],\"scattermapbox\":[{\"type\":\"scattermapbox\",\"marker\":{\"colorbar\":{\"outlinewidth\":0,\"ticks\":\"\"}}}],\"scatterternary\":[{\"type\":\"scatterternary\",\"marker\":{\"colorbar\":{\"outlinewidth\":0,\"ticks\":\"\"}}}],\"scattercarpet\":[{\"type\":\"scattercarpet\",\"marker\":{\"colorbar\":{\"outlinewidth\":0,\"ticks\":\"\"}}}],\"carpet\":[{\"aaxis\":{\"endlinecolor\":\"#2a3f5f\",\"gridcolor\":\"white\",\"linecolor\":\"white\",\"minorgridcolor\":\"white\",\"startlinecolor\":\"#2a3f5f\"},\"baxis\":{\"endlinecolor\":\"#2a3f5f\",\"gridcolor\":\"white\",\"linecolor\":\"white\",\"minorgridcolor\":\"white\",\"startlinecolor\":\"#2a3f5f\"},\"type\":\"carpet\"}],\"table\":[{\"cells\":{\"fill\":{\"color\":\"#EBF0F8\"},\"line\":{\"color\":\"white\"}},\"header\":{\"fill\":{\"color\":\"#C8D4E3\"},\"line\":{\"color\":\"white\"}},\"type\":\"table\"}],\"barpolar\":[{\"marker\":{\"line\":{\"color\":\"#E5ECF6\",\"width\":0.5},\"pattern\":{\"fillmode\":\"overlay\",\"size\":10,\"solidity\":0.2}},\"type\":\"barpolar\"}],\"pie\":[{\"automargin\":true,\"type\":\"pie\"}]},\"layout\":{\"autotypenumbers\":\"strict\",\"colorway\":[\"#636efa\",\"#EF553B\",\"#00cc96\",\"#ab63fa\",\"#FFA15A\",\"#19d3f3\",\"#FF6692\",\"#B6E880\",\"#FF97FF\",\"#FECB52\"],\"font\":{\"color\":\"#2a3f5f\"},\"hovermode\":\"closest\",\"hoverlabel\":{\"align\":\"left\"},\"paper_bgcolor\":\"white\",\"plot_bgcolor\":\"#E5ECF6\",\"polar\":{\"bgcolor\":\"#E5ECF6\",\"angularaxis\":{\"gridcolor\":\"white\",\"linecolor\":\"white\",\"ticks\":\"\"},\"radialaxis\":{\"gridcolor\":\"white\",\"linecolor\":\"white\",\"ticks\":\"\"}},\"ternary\":{\"bgcolor\":\"#E5ECF6\",\"aaxis\":{\"gridcolor\":\"white\",\"linecolor\":\"white\",\"ticks\":\"\"},\"baxis\":{\"gridcolor\":\"white\",\"linecolor\":\"white\",\"ticks\":\"\"},\"caxis\":{\"gridcolor\":\"white\",\"linecolor\":\"white\",\"ticks\":\"\"}},\"coloraxis\":{\"colorbar\":{\"outlinewidth\":0,\"ticks\":\"\"}},\"colorscale\":{\"sequential\":[[0.0,\"#0d0887\"],[0.1111111111111111,\"#46039f\"],[0.2222222222222222,\"#7201a8\"],[0.3333333333333333,\"#9c179e\"],[0.4444444444444444,\"#bd3786\"],[0.5555555555555556,\"#d8576b\"],[0.6666666666666666,\"#ed7953\"],[0.7777777777777778,\"#fb9f3a\"],[0.8888888888888888,\"#fdca26\"],[1.0,\"#f0f921\"]],\"sequentialminus\":[[0.0,\"#0d0887\"],[0.1111111111111111,\"#46039f\"],[0.2222222222222222,\"#7201a8\"],[0.3333333333333333,\"#9c179e\"],[0.4444444444444444,\"#bd3786\"],[0.5555555555555556,\"#d8576b\"],[0.6666666666666666,\"#ed7953\"],[0.7777777777777778,\"#fb9f3a\"],[0.8888888888888888,\"#fdca26\"],[1.0,\"#f0f921\"]],\"diverging\":[[0,\"#8e0152\"],[0.1,\"#c51b7d\"],[0.2,\"#de77ae\"],[0.3,\"#f1b6da\"],[0.4,\"#fde0ef\"],[0.5,\"#f7f7f7\"],[0.6,\"#e6f5d0\"],[0.7,\"#b8e186\"],[0.8,\"#7fbc41\"],[0.9,\"#4d9221\"],[1,\"#276419\"]]},\"xaxis\":{\"gridcolor\":\"white\",\"linecolor\":\"white\",\"ticks\":\"\",\"title\":{\"standoff\":15},\"zerolinecolor\":\"white\",\"automargin\":true,\"zerolinewidth\":2},\"yaxis\":{\"gridcolor\":\"white\",\"linecolor\":\"white\",\"ticks\":\"\",\"title\":{\"standoff\":15},\"zerolinecolor\":\"white\",\"automargin\":true,\"zerolinewidth\":2},\"scene\":{\"xaxis\":{\"backgroundcolor\":\"#E5ECF6\",\"gridcolor\":\"white\",\"linecolor\":\"white\",\"showbackground\":true,\"ticks\":\"\",\"zerolinecolor\":\"white\",\"gridwidth\":2},\"yaxis\":{\"backgroundcolor\":\"#E5ECF6\",\"gridcolor\":\"white\",\"linecolor\":\"white\",\"showbackground\":true,\"ticks\":\"\",\"zerolinecolor\":\"white\",\"gridwidth\":2},\"zaxis\":{\"backgroundcolor\":\"#E5ECF6\",\"gridcolor\":\"white\",\"linecolor\":\"white\",\"showbackground\":true,\"ticks\":\"\",\"zerolinecolor\":\"white\",\"gridwidth\":2}},\"shapedefaults\":{\"line\":{\"color\":\"#2a3f5f\"}},\"annotationdefaults\":{\"arrowcolor\":\"#2a3f5f\",\"arrowhead\":0,\"arrowwidth\":1},\"geo\":{\"bgcolor\":\"white\",\"landcolor\":\"#E5ECF6\",\"subunitcolor\":\"white\",\"showland\":true,\"showlakes\":true,\"lakecolor\":\"white\"},\"title\":{\"x\":0.05},\"mapbox\":{\"style\":\"light\"}}},\"width\":900,\"height\":700,\"scene\":{\"xaxis\":{\"title\":{\"text\":\"X\"}},\"yaxis\":{\"title\":{\"text\":\"Y\"}},\"zaxis\":{\"title\":{\"text\":\"Z\"}}}},                        {\"toImageButtonOptions\": {\"format\": \"svg\"}, \"responsive\": true}                    ).then(function(){\n",
       "                            \n",
       "var gd = document.getElementById('b5f038ae-dbcc-411d-bbe9-5818a305b83b');\n",
       "var x = new MutationObserver(function (mutations, observer) {{\n",
       "        var display = window.getComputedStyle(gd).display;\n",
       "        if (!display || display === 'none') {{\n",
       "            console.log([gd, 'removed!']);\n",
       "            Plotly.purge(gd);\n",
       "            observer.disconnect();\n",
       "        }}\n",
       "}});\n",
       "\n",
       "// Listen for the removal of the full notebook cells\n",
       "var notebookContainer = gd.closest('#notebook-container');\n",
       "if (notebookContainer) {{\n",
       "    x.observe(notebookContainer, {childList: true});\n",
       "}}\n",
       "\n",
       "// Listen for the clearing of the current output cell\n",
       "var outputEl = gd.closest('.output');\n",
       "if (outputEl) {{\n",
       "    x.observe(outputEl, {childList: true});\n",
       "}}\n",
       "\n",
       "                        })                };                });            </script>        </div>"
      ]
     },
     "metadata": {},
     "output_type": "display_data"
    }
   ],
   "source": [
    "projected = project_token_embeddings_to_3D(model)\n",
    "plotly_embedding(projected)"
   ]
  },
  {
   "cell_type": "markdown",
   "id": "3f1ac0ba-e689-4872-8f66-92c8c157ecc3",
   "metadata": {},
   "source": [
    "Sous certains angles de projection, on voit des regroupements intéressants des tokens, par example dans la Figure 1."
   ]
  },
  {
   "cell_type": "markdown",
   "id": "0f4fa9a2-f7b0-4652-8e0b-38c806490628",
   "metadata": {},
   "source": [
    "![embedding](6-embedding.svg)\n",
    "\n",
    "_Figure 1: Projection de l'embedding: Les interactions \"feel_empty\" sont regroupées en haut à droite, les interactions \"feel wall\" et \"bump\" en bas à droite, et les interactions de déplacement à gauche (\"forward\" et \"turn\")._"
   ]
  },
  {
   "cell_type": "code",
   "execution_count": null,
   "id": "11dcde7f-798e-4b3b-817f-840cdd9c02a7",
   "metadata": {},
   "outputs": [],
   "source": []
  }
 ],
 "metadata": {
  "kernelspec": {
   "display_name": "Python 3 (ipykernel)",
   "language": "python",
   "name": "python3"
  },
  "language_info": {
   "codemirror_mode": {
    "name": "ipython",
    "version": 3
   },
   "file_extension": ".py",
   "mimetype": "text/x-python",
   "name": "python",
   "nbconvert_exporter": "python",
   "pygments_lexer": "ipython3",
   "version": "3.9.5"
  }
 },
 "nbformat": 4,
 "nbformat_minor": 5
}
