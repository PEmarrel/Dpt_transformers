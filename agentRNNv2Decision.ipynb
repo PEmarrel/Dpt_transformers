{
 "cells": [
  {
   "cell_type": "code",
   "execution_count": 1,
   "metadata": {},
   "outputs": [],
   "source": [
    "from torch.utils.data import Dataset, DataLoader\n",
    "import torch.nn as nn\n",
    "import torch\n",
    "import numpy as np\n",
    "from matplotlib import pyplot as plt\n",
    "import time\n",
    "from tqdm.notebook import trange, tqdm\n",
    "import pandas as pd\n",
    "# Pour torch si vous avez un GPU\n",
    "# device = \"cpu\" if not torch.cuda.is_available() else \"cuda\"\n",
    "device = \"cpu\" # Pour forcer l'utilisation du CPU"
   ]
  },
  {
   "cell_type": "code",
   "execution_count": 2,
   "metadata": {},
   "outputs": [],
   "source": [
    "from environnement.environnement import Environnement as env # mother class\n",
    "from environnement.small_loop import small_loop\n",
    "\n",
    "# model machine learning\n",
    "from model.Tokenizer import *\n",
    "from model.RNN import *\n",
    "from model.CustomDataSet import CustomDataSet, CustomDataSetRNN\n",
    "from outil import *\n",
    "from inter.simpleInteraction import simpleInteraction as inter"
   ]
  },
  {
   "cell_type": "markdown",
   "metadata": {},
   "source": [
    "# L'agent :\n",
    "L'idée de se fichier est de mettre en place une exploration guidé. Le principe est de repérer les séquences pour lequel le model de prédicition n'est pas sûr, et de choisir celle qui aurait la meilleur valence. Cette idée ne peut fonctionner que si les séquences sont déterministe."
   ]
  },
  {
   "cell_type": "code",
   "execution_count": 3,
   "metadata": {},
   "outputs": [],
   "source": [
    "class AgentLSTM:\n",
    "    def __init__(self, valence:dict[inter, float], model:nn.Module, max_depth:int, seuil:float,\n",
    "                optimizer, loss_fn, gap_train:int=11, gap_predi:int=11, nb_epoch:int=100, data_validate=None):\n",
    "        self.model = model\n",
    "        self.valence = valence\n",
    "        self.optimizer = optimizer\n",
    "        self.loss_fn = loss_fn\n",
    "        self.gap_train = gap_train\n",
    "        self.gap_predi = gap_predi\n",
    "        self.nb_epoch = nb_epoch\n",
    "        self.seq_to_exe = [] # Séquence d'actions et d'outcome choisit par la décision\n",
    "        self.history_act = [] # Historique des actions\n",
    "        self.history_fb = [] # Historique des feedbacks\n",
    "        self.history_inter = [] # Historique des interactions\n",
    "        self.data_validate = data_validate\n",
    "        self.max_depth:int = max_depth\n",
    "        self.seuil:float = seuil\n",
    "        self.force_fit = False\n",
    "        \n",
    "        self.all_outcomes = set()\n",
    "        self.all_act = set()\n",
    "        key:inter = None\n",
    "        for key in valence.keys():\n",
    "            self.all_outcomes.add(key.getOutcome())\n",
    "            self.all_act.add(key.getAction())\n",
    "        self.all_outcomes = list(self.all_outcomes)\n",
    "        self.all_act = list(self.all_act)\n",
    "        \n",
    "        self.action_choice = self.all_act[0] # De base nous choisissons la première action\n",
    "        self.history_act.append(self.action_choice)\n",
    "        self.outcome_prediction = None # De base le modèl ne prédi rien\n",
    "        \n",
    "        # number_patern = np.sum([(len(self.all_act) * len(self.all_outcomes)) **i for i in range(1, (self.max_depth // 2) +1)])\n",
    "        number_patern = 2000000\n",
    "        self.prealloc_df = pd.DataFrame(np.empty((number_patern, 5)), columns=[\"proposition\", \"valence\", \"action\", \"probability\", \"val_sucess\"])\n",
    "        # self.prealloc_df = self.prealloc_df.astype({\"proposition\": \"U20\", \"valence\": float, \"action\": int, \"probability\": float})\n",
    "        self.current_index = 0\n",
    "        \n",
    "        self.visu_explo = pd.DataFrame(np.empty((number_patern, 2)), columns=[\"seqence\", \"valence\"])\n",
    "        self.visu_explo = self.visu_explo.astype({\"seqence\": \"U20\", \"valence\": float})\n",
    "        self.current_index_explo = 0\n",
    "        \n",
    "        self.seq_explo = []\n",
    "        self.valence_explo = -np.inf\n",
    "        \n",
    "        self.visu_val = pd.DataFrame(np.empty((len(data_validate[0]), 3)), columns=[\"seqence\", \"probablility\", \"good\"])\n",
    "        self.visu_val = self.visu_val.astype({\"seqence\": \"U20\", \"probablility\": float, \"good\": bool})\n",
    "        \n",
    "        # Nous avons besoin d'un tokenizer pour transformer les actions et outcomes en entiers\n",
    "        # Pour des questions de simplicité, nous voulons que les outcomes soient passé en premier\n",
    "        self.tokenizer = SimpleTokenizerV1(\n",
    "            vocab={key: i for i, key in enumerate(self.all_outcomes + self.all_act)})\n",
    "        \n",
    "        # Variable moniteur\n",
    "        self.loss_train = [] # Contient toutes les listes des pertes d'entrainement\n",
    "        self.loss_val = [] # Contient toutes les listes des pertes de validation\n",
    "        self.acc_train = []\n",
    "        self.acc_val = []\n",
    "        \n",
    "        self.time_train = []\n",
    "        self.time_compute_expected_valence = []\n",
    "        \n",
    "        \n",
    "    def fit(self):\n",
    "        \"\"\"\n",
    "        Fonction de l'agent pour entrainer le modèle\n",
    "        \"\"\"        \n",
    "        dataset = CustomDataSetRNN(actions=self.history_act, outcomes=self.history_fb, \n",
    "                                 context_lenght=self.gap_train, dim_out=len(self.all_outcomes),\n",
    "                                 tokenizer=self.tokenizer)\n",
    "        \n",
    "        data_loader = DataLoader(dataset, batch_size=32, shuffle=True)\n",
    "        \n",
    "        if self.data_validate is not None:\n",
    "            dataset_test = CustomDataSetRNN(actions=self.data_validate[0], outcomes=self.data_validate[1], \n",
    "                                 context_lenght=self.gap_train, dim_out=len(self.all_outcomes),\n",
    "                                 tokenizer=self.tokenizer)\n",
    "            data_loader_test = DataLoader(dataset_test, batch_size=32, shuffle=True)\n",
    "            loss_test = []\n",
    "        \n",
    "        time_train = time.time()\n",
    "        for i in range(self.nb_epoch):\n",
    "            self.model.train()\n",
    "            steps = 0\n",
    "            train_acc = 0\n",
    "            training_loss = []\n",
    "            for tmp, (x,t) in enumerate(data_loader):\n",
    "                bs = t.shape[0]\n",
    "                h = torch.zeros(self.model.num_layers, bs, self.model.hidden_size, device=device)\n",
    "                cell = torch.zeros(self.model.num_layers, bs, self.model.hidden_size, device=device)\n",
    "\n",
    "                pred, h, cell = self.model(x, h, cell)\n",
    "\n",
    "                loss = self.loss_fn(pred[:, -1, :], t)\n",
    "                training_loss.append(loss.item())\n",
    "                \n",
    "                self.optimizer.zero_grad()\n",
    "                loss.backward()\n",
    "                self.optimizer.step()\n",
    "                \n",
    "                train_acc += sum((pred[:, -1, :].argmax(1) == t).cpu().numpy())\n",
    "                steps += bs\n",
    "                \n",
    "            self.acc_train.append(train_acc / steps)\n",
    "            # time_val_epoch = time.time()\n",
    "            if self.data_validate is not None:\n",
    "                self.model.eval()\n",
    "                steps = 0\n",
    "                test_acc = 0\n",
    "                loss_test = []\n",
    "                \n",
    "                for text, label in data_loader_test:\n",
    "                    text = text.to(device)\n",
    "                    label = label.to(device)\n",
    "                    bs = label.shape[0]\n",
    "\n",
    "                    # Initialize hidden and memory states\n",
    "                    hidden = torch.zeros(self.model.num_layers, bs, self.model.hidden_size, device=device)\n",
    "                    memory = torch.zeros(self.model.num_layers, bs, self.model.hidden_size, device=device)\n",
    "                    \n",
    "                    # Forward pass through the model\n",
    "                    pred, hidden, memory = self.model(text, hidden, memory)\n",
    "                    \n",
    "                    for i in range(bs):\n",
    "                        self.visu_val.iloc[steps + i] = [str(self.tokenizer.decode(text[i].cpu().tolist())), \n",
    "                                                         float(torch.nn.functional.softmax(pred[i, -1, :], dim=-1).max().item()), \n",
    "                                                         int(pred[i, -1, :].argmax().item() == label[i])]\n",
    "\n",
    "                    # Calculate the loss\n",
    "                    loss = self.loss_fn(pred[:, -1, :], label)\n",
    "                    loss_test.append(loss.item())\n",
    "\n",
    "                    # Calculate test accuracy\n",
    "                    test_acc +=  sum((pred[:, -1, :].argmax(1) == label).cpu().numpy())\n",
    "                    steps += bs\n",
    "                    \n",
    "                loss_test.append(loss_test)\n",
    "                self.acc_val.append(test_acc / steps)\n",
    "                # print(f\"Validation time: {time.time() - time_val_epoch}\")    \n",
    "            self.loss_train.append(training_loss)\n",
    "            # If acc is 100% we stop the training\n",
    "            if self.acc_train[-1] >= 0.99:\n",
    "                for _ in range(i, self.nb_epoch):\n",
    "                    self.acc_train.append(self.acc_train[-1])\n",
    "                    self.acc_val.append(self.acc_val[-1])\n",
    "                break\n",
    "            \n",
    "        print(f\"Training time: {time.time() - time_train}\")\n",
    "        self.time_train.append(time.time() - time_train)\n",
    "                \n",
    "    def predict(self, action):\n",
    "        \"\"\"\n",
    "        Fonction de l'agent pour prédire l'outcome en fonction de l'action \\\n",
    "        utilise l'historique des actions et outcomes comme contexte\n",
    "\n",
    "        Args:\n",
    "            action : L'action dont on prédit l'outcome \n",
    "\n",
    "        Raises:\n",
    "            Exception: Si l'historique des actions et outcomes est insuffisant\n",
    "\n",
    "        Returns:\n",
    "            out : L'outcome prédit\n",
    "        \"\"\"        \n",
    "        # Nous devons recupérer les gap dernières actions/outcomes\n",
    "        x = []\n",
    "        for i in range(-(self.gap_predi - 1) // 2, 0, 1):\n",
    "            x.append(self.history_act[i])\n",
    "            x.append(self.history_fb[i])\n",
    "        x.append(action)\n",
    "        seq_to_pred = self.tokenizer.encode(x)\n",
    "        # On simule un batch de taille 1\n",
    "        seq_to_pred = torch.tensor([seq_to_pred], device=device)\n",
    "        h = torch.zeros(self.model.num_layers, 1, self.model.hidden_size, device=device)\n",
    "        cell = torch.zeros(self.model.num_layers, 1, self.model.hidden_size, device=device)\n",
    "        probs, _, _ = self.model(seq_to_pred, h, cell)\n",
    "        \n",
    "        pred_feedback = torch.argmax(probs[:, -1, :]).item()\n",
    "        pred_feedback = self.tokenizer.decode(pred_feedback)\n",
    "        \n",
    "        return pred_feedback\n",
    "    \n",
    "    def recursif_valance_explo(self, max_depth:int, seq_predi:list = [], valence_succes_pred:float = 0):\n",
    "        max_depth -= 1\n",
    "        inter_max, value = max(self.valence.items(), key=lambda y: y[1])\n",
    "        for _ in range(max_depth):\n",
    "            seq_predi += [inter_max.getAction(), inter_max.getOutcome()]\n",
    "            valence_succes_pred += value\n",
    "        self.visu_explo.iloc[self.current_index_explo] = [str(seq_predi), valence_succes_pred]\n",
    "        self.current_index_explo += 1\n",
    "        if valence_succes_pred > self.valence_explo:\n",
    "            self.seq_explo = seq_predi\n",
    "            self.valence_explo = valence_succes_pred                    \n",
    "    \n",
    "    def recursif_expective_valance(self, context:list, max_depth:int, seuil:float=0.5, proba:float = 1, seq_predi:list = [], valence_pred:float = 0, valence_succes_pred:float = 0):\n",
    "        \"\"\"\n",
    "        Create the list of proposed sequences\n",
    "        \"\"\"\n",
    "        max_depth -= 1\n",
    "        \n",
    "        self.model.eval()\n",
    "        # Compute the expected valence of each action\n",
    "        for act in self.all_act:\n",
    "            new_seq = seq_predi + [act]\n",
    "            seq_to_predict = context + [self.tokenizer.encode(act)]\n",
    "            \n",
    "            # print('find seq')\n",
    "            # print(new_seq)\n",
    "            # print([i for i in zip(self.history_act, self.history_fb)])\n",
    "            sub_list = subfinder(self.history_inter, seq_to_predict)\n",
    "            # print(sub_list)\n",
    "            # print(f'for act : {act} and context : {seq_to_predict}')\n",
    "            if sub_list == []:\n",
    "                # print('i want explore')\n",
    "                # Get max valence and outcome associate by act\n",
    "                inter_max, value = max([(inter(act, out), self.valence[inter(act, out)]) for out in self.all_outcomes], key=lambda y: y[1])\n",
    "                # print(\"debug\")\n",
    "                # print('act :', act)\n",
    "                # print(inter_max)\n",
    "                # print(value)\n",
    "                # print('valence_succes_pred :', valence_succes_pred)\n",
    "                # print('goal :', self.valence_explo)\n",
    "                new_seq += [inter_max.getOutcome()]\n",
    "                tmp_value = valence_succes_pred + value\n",
    "                self.visu_explo.iloc[self.current_index_explo] = [str(new_seq), valence_succes_pred]\n",
    "                self.current_index_explo += 1\n",
    "                if tmp_value > self.valence_explo:\n",
    "                    # print('start new sequence')\n",
    "                    # print(new_seq)\n",
    "                    # print('valence')\n",
    "                    # print(valence_succes_pred)\n",
    "                    self.seq_explo = new_seq\n",
    "                    self.valence_explo = valence_succes_pred\n",
    "                # Nous n'avons jamais vue la séquence, nous choisisont d'imaginer le meilleur sénario\n",
    "                # print('sequence not seen')\n",
    "                self.recursif_valance_explo(max_depth=max_depth, seq_predi=new_seq , \n",
    "                                            valence_succes_pred=tmp_value)\n",
    "                continue\n",
    "            # print('sequence already seen')\n",
    "            \n",
    "            seq_to_predict = torch.tensor([seq_to_predict], dtype=torch.int).to(device)\n",
    "\n",
    "            hidden = torch.zeros(self.model.num_layers, 1, self.model.hidden_size, device=device)\n",
    "            memory = torch.zeros(self.model.num_layers, 1, self.model.hidden_size, device=device)\n",
    "\n",
    "            x, _, _ = self.model(seq_to_predict, hidden, memory)\n",
    "            x = x[0, -1, :]\n",
    "            # Transforme x into list proba\n",
    "            probs = torch.nn.functional.softmax(x, dim=0).tolist()\n",
    "            # for each outcome, record the expected valence\n",
    "            for i, out in enumerate(self.all_outcomes):\n",
    "                tmp_new_seq = new_seq + [out]\n",
    "                tmp_proba = probs[i] * proba\n",
    "                # If the probability is above a threshold\n",
    "                sucess_valence = self.valence[inter(act, out)] + valence_succes_pred\n",
    "                expected_valence = None\n",
    "                if tmp_proba > seuil:\n",
    "                    expected_valence = float(np.round(self.valence[inter(act, out)] * tmp_proba, decimals=4)) + valence_pred\n",
    "                    # If the max_depth is not reached \n",
    "                    if max_depth > 0: \n",
    "                        # Recursively look for longer sequences\n",
    "                        new_context = context + self.tokenizer.encode([act, out])\n",
    "                        self.recursif_expective_valance(context=new_context[2:], max_depth=max_depth, seuil=seuil, \n",
    "                            proba=tmp_proba, seq_predi=tmp_new_seq.copy(), valence_pred=expected_valence, valence_succes_pred=sucess_valence)\n",
    "                self.prealloc_df.iloc[self.current_index] = [str(tmp_new_seq), expected_valence, tmp_new_seq[0], tmp_proba, sucess_valence]\n",
    "                self.current_index += 1\n",
    "    \n",
    "    def expective_valance(self, verbose:bool=False):\n",
    "        \"\"\"\n",
    "        Permet de calculer l'expective valance d'une séquence d'interaction\n",
    "\n",
    "        Args:\n",
    "            max_depth (int): _description_\n",
    "            seuil (float, optional): _description_. Defaults to 0.2.\n",
    "            verbose (bool, optional): _description_. Defaults to False.\n",
    "        \"\"\"\n",
    "        \n",
    "        x = []\n",
    "        for i in range(-(self.gap_predi - 1) // 2, 0, 1):\n",
    "            x.append(self.history_act[i])\n",
    "            x.append(self.history_fb[i])\n",
    "        seq_to_pred = self.tokenizer.encode(x)\n",
    "        self.prealloc_df[:] = np.empty((len(self.prealloc_df), 5))\n",
    "        self.prealloc_df[\"valence\"] = -np.inf\n",
    "        self.current_index = 0\n",
    "        self.seq_explo = []\n",
    "        self.valence_explo = -np.inf\n",
    "        self.visu_explo[:] = np.empty((len(self.visu_explo), 2))\n",
    "        self.current_index_explo = 0\n",
    "        return self.recursif_expective_valance(context=seq_to_pred,\n",
    "                                            max_depth=self.max_depth,\n",
    "                                            proba=1, seq_predi=[],\n",
    "                                            seuil=self.seuil)\n",
    "    def decide(self):\n",
    "        if self.seq_to_exe and len(self.seq_to_exe) > 1:\n",
    "            out = self.seq_to_exe.pop(0)\n",
    "            if out == self.history_fb[-1]:\n",
    "                act = self.seq_to_exe.pop(0)\n",
    "                return act\n",
    "            else:\n",
    "                self.force_fit = True\n",
    "        self.seq_to_exe = []        \n",
    "        \n",
    "        time_compute_expective_val = time.time()\n",
    "        self.expective_valance()\n",
    "        print(f\"Time to compute expective valance: {time.time() - time_compute_expective_val}\")\n",
    "        self.time_compute_expected_valence.append(time.time() - time_compute_expective_val)\n",
    "        # Keep row with probability between 0.4 and 0.6\n",
    "        # compute_df = self.prealloc_df[(self.prealloc_df[\"probability\"] > 0.3) & (self.prealloc_df[\"probability\"] < 0.7)]\n",
    "        # if len(compute_df) == 0:\n",
    "        self.seq_to_exe = self.prealloc_df.sort_values(by=\"valence\", ascending=False).iloc[0].proposition\n",
    "        expected_val = self.prealloc_df.sort_values(by=\"valence\", ascending=False).iloc[0].valence\n",
    "        # else:\n",
    "            # print(\"renforce ...\")\n",
    "            # self.seq_to_exe = compute_df.sort_values(by=\"val_sucess\", ascending=False).iloc[0].proposition\n",
    "            # self.force_fit = True\n",
    "        print(f\"before compute ... model predict : {self.seq_to_exe}, explo want : {self.seq_explo}\")\n",
    "        # tempo\n",
    "        print(f\"expected valence : {expected_val}\")\n",
    "        print(f\"valence explo : {self.valence_explo}\")\n",
    "        if self.seq_to_exe is not None and expected_val > self.valence_explo:\n",
    "            self.seq_to_exe = eval(self.seq_to_exe)\n",
    "            print(\"after compute ...\", self.seq_to_exe)\n",
    "        else:\n",
    "            print(\"explo ...\", self.seq_explo)\n",
    "            self.seq_to_exe = self.seq_explo\n",
    "            self.force_fit = True\n",
    "        act = self.seq_to_exe.pop(0)\n",
    "        return act\n",
    "        \n",
    "    def action(self, real_outcome, verbose=False, explore:bool=False):\n",
    "        \"\"\"\n",
    "        La fonction action permet à l'agent de choisir une action en fonction de l'outcome réel.\n",
    "        Cette fonction entraine le modèle a prévoir les outcomes futurs en fonction des actions passées.\n",
    "\n",
    "        Args:\n",
    "            real_outcome : L'outcome réel suite à l'action de l'agent\n",
    "            verbose : Affiche les informations sur l'entrainement ou non\n",
    "        \"\"\"\n",
    "        # La première étape est de sauvegarder l'outcome réel\n",
    "        self.history_fb.append(real_outcome)\n",
    "        self.history_inter.append(self.tokenizer.encode(real_outcome))\n",
    "        good_pred:bool = self.outcome_prediction == real_outcome\n",
    "        if verbose :\n",
    "            print(f\"\\033[0;31m Action: {self.action_choice} \\033[0m, Prediction: {self.outcome_prediction}, Outcome: {real_outcome}, \\033[0;31m Satisfaction: {good_pred} \\033[0m\")\n",
    "        \n",
    "        # Ensuite nous regardons si nous devons entrainer le modèle\n",
    "        # not(explore) and \n",
    "        if (not(good_pred) or self.force_fit)and len(self.history_fb) + len(self.history_fb) > self.gap_train:\n",
    "            self.fit()\n",
    "            self.force_fit = False\n",
    "            \n",
    "        elif len(self.history_fb) + len(self.history_fb) > self.gap_train:\n",
    "            for _ in range(self.nb_epoch):\n",
    "                self.acc_train.append(self.acc_train[-1])\n",
    "                self.acc_val.append(self.acc_val[-1])\n",
    "\n",
    "        # Nous devons maintenant choisir une action\n",
    "        if len(self.history_fb) + len(self.history_fb) > self.gap_predi:\n",
    "            self.action_choice = self.decide()\n",
    "            self.outcome_prediction = self.predict(self.action_choice)\n",
    "        else:\n",
    "            inter_max, value = max(self.valence.items(), key=lambda y: y[1])\n",
    "            self.action_choice = inter_max.getAction()\n",
    "        # self.action_choice = np.random.choice(self.all_act)\n",
    "        self.history_act.append(self.action_choice)\n",
    "        self.history_inter.append(self.tokenizer.encode(self.action_choice))\n",
    "        \n",
    "        return self.action_choice, self.outcome_prediction\n",
    "        \n",
    "        \n",
    "              "
   ]
  },
  {
   "cell_type": "code",
   "execution_count": null,
   "metadata": {},
   "outputs": [],
   "source": [
    "environenment = small_loop(x=1, y=1, theta=0, world=np.array([\n",
    "                [1, 1, 1, 1, 1],\n",
    "                [1, 0, 0, 0, 1],\n",
    "                [1, 0, 1, 0, 1],\n",
    "                [1, 0, 0, 0, 1],\n",
    "                [1, 1, 1, 1, 1],\n",
    "            ]))\n",
    "\n",
    "# environenment = small_loop(x=1, y=1, theta=0, world=np.array([\n",
    "#                 [1, 1, 1, 1, 1, 1],\n",
    "#                 [1, 0, 0, 0, 1, 1],\n",
    "#                 [1, 0, 1, 0, 0, 1],\n",
    "#                 [1, 0, 1, 1, 0, 1],\n",
    "#                 [1, 0, 0, 0, 0, 1],\n",
    "#                 [1, 1, 1, 1, 1, 1],\n",
    "#             ]))\n",
    "\n",
    "valence = {\n",
    "    inter('forward', 'empty') : 5,\n",
    "    inter('forward', 'wall') : -80,\n",
    "    inter('turn_left', 'empty') : -11,\n",
    "    inter('turn_left', 'wall') : -80,\n",
    "    inter('turn_right', 'empty') : -11,\n",
    "    inter('turn_right', 'wall') : -80,\n",
    "    inter('feel_front', 'wall') : -1,\n",
    "    inter('feel_front', 'empty') : -1,\n",
    "}"
   ]
  },
  {
   "cell_type": "code",
   "execution_count": 5,
   "metadata": {},
   "outputs": [
    {
     "name": "stderr",
     "output_type": "stream",
     "text": [
      "/home/pe/Documents/stage/Dpt_transformers/.venv/lib/python3.11/site-packages/torch/nn/modules/rnn.py:123: UserWarning: dropout option adds dropout after all but last recurrent layer, so non-zero dropout expects num_layers greater than 1, but got dropout=0.5 and num_layers=1\n",
      "  warnings.warn(\n"
     ]
    }
   ],
   "source": [
    "# torch.manual_seed(0)\n",
    "# np.random.seed(0)\n",
    "hidden_size = 16\n",
    "num_layers = 1\n",
    "len_vocab = len(environenment.get_outcomes() + environenment.get_actions())\n",
    "\n",
    "# Create the LSTM classifier model\n",
    "lstm_classifier = LSTM(num_emb=len_vocab, output_size=2, \n",
    "                       num_layers=num_layers, hidden_size=hidden_size, dropout=0.5).to(device)\n",
    "\n",
    "optimizer = torch.optim.Adam(lstm_classifier.parameters(), lr=0.001)\n",
    "loss_func = nn.CrossEntropyLoss()\n",
    "tokenizer = SimpleTokenizerV1(create_dico_numerate_word(environenment.get_outcomes() + environenment.get_actions()))"
   ]
  },
  {
   "cell_type": "code",
   "execution_count": 6,
   "metadata": {},
   "outputs": [
    {
     "data": {
      "application/vnd.jupyter.widget-view+json": {
       "model_id": "9cad31ac36a34a08871b418c667646c8",
       "version_major": 2,
       "version_minor": 0
      },
      "text/plain": [
       "  0%|          | 0/1000 [00:00<?, ?it/s]"
      ]
     },
     "metadata": {},
     "output_type": "display_data"
    }
   ],
   "source": [
    "# Pour évaluler la performance du modèle\n",
    "act_val, fb_val = [], []\n",
    "for i in trange(1000):\n",
    "    action = np.random.choice(environenment.get_actions())\n",
    "    outcome = environenment.outcome(action)\n",
    "    act_val.append(action)\n",
    "    fb_val.append(outcome)"
   ]
  },
  {
   "cell_type": "code",
   "execution_count": 7,
   "metadata": {},
   "outputs": [],
   "source": [
    "agent = AgentLSTM(valence=valence, model=lstm_classifier, optimizer=optimizer, loss_fn=loss_func,\n",
    "    gap_predi=7, gap_train=7, max_depth=5, seuil=0.3, nb_epoch=20,\n",
    "    data_validate=(act_val, fb_val))"
   ]
  },
  {
   "cell_type": "code",
   "execution_count": 8,
   "metadata": {},
   "outputs": [],
   "source": [
    "history_good = []\n",
    "history_good_inter = []\n",
    "history_bad_inter = []\n",
    "hisrory_val = []\n",
    "pourcent_by_10  = []\n",
    "by_10_good_inter  = []\n",
    "by_10_bad_inter  = []\n",
    "mean_val = []\n"
   ]
  },
  {
   "cell_type": "code",
   "execution_count": 9,
   "metadata": {},
   "outputs": [
    {
     "data": {
      "application/vnd.jupyter.widget-view+json": {
       "model_id": "754a46a24e4a4508a5be0cfdf2999517",
       "version_major": 2,
       "version_minor": 0
      },
      "text/plain": [
       "  0%|          | 0/150 [00:00<?, ?it/s]"
      ]
     },
     "metadata": {},
     "output_type": "display_data"
    },
    {
     "name": "stdout",
     "output_type": "stream",
     "text": [
      "\u001b[0;31m Action: turn_right \u001b[0m, Prediction: None, Outcome: empty, \u001b[0;31m Satisfaction: False \u001b[0m\n",
      "\u001b[0;31m Action: forward \u001b[0m, Prediction: None, Outcome: empty, \u001b[0;31m Satisfaction: False \u001b[0m\n",
      "\u001b[0;31m Action: forward \u001b[0m, Prediction: None, Outcome: wall, \u001b[0;31m Satisfaction: False \u001b[0m\n",
      "\u001b[0;31m Action: forward \u001b[0m, Prediction: None, Outcome: wall, \u001b[0;31m Satisfaction: False \u001b[0m\n"
     ]
    },
    {
     "name": "stderr",
     "output_type": "stream",
     "text": [
      "/tmp/ipykernel_6843/1606380904.py:125: FutureWarning: Setting an item of incompatible dtype is deprecated and will raise an error in a future version of pandas. Value '1' has dtype incompatible with bool, please explicitly cast to a compatible dtype first.\n",
      "  self.visu_val.iloc[steps + i] = [str(self.tokenizer.decode(text[i].cpu().tolist())),\n"
     ]
    },
    {
     "name": "stdout",
     "output_type": "stream",
     "text": [
      "Training time: 0.40198445320129395\n",
      "Time to compute expective valance: 0.0656287670135498\n",
      "before compute ... model predict : 0.0, explo want : ['forward', 'empty', 'forward', 'empty', 'forward', 'empty', 'forward', 'empty']\n",
      "expected valence : -inf\n",
      "valence explo : 40\n",
      "explo ... ['forward', 'empty', 'forward', 'empty', 'forward', 'empty', 'forward', 'empty']\n",
      "\u001b[0;31m Action: forward \u001b[0m, Prediction: wall, Outcome: wall, \u001b[0;31m Satisfaction: True \u001b[0m\n",
      "Training time: 0.30396294593811035\n",
      "Time to compute expective valance: 0.09434151649475098\n",
      "before compute ... model predict : 0.0, explo want : ['forward', 'empty', 'forward', 'empty', 'forward', 'empty', 'forward', 'empty']\n",
      "expected valence : -inf\n",
      "valence explo : 40\n",
      "explo ... ['forward', 'empty', 'forward', 'empty', 'forward', 'empty', 'forward', 'empty']\n",
      "\u001b[0;31m Action: forward \u001b[0m, Prediction: wall, Outcome: wall, \u001b[0;31m Satisfaction: True \u001b[0m\n",
      "Training time: 0.31255197525024414\n"
     ]
    },
    {
     "name": "stderr",
     "output_type": "stream",
     "text": [
      "/tmp/ipykernel_6843/1606380904.py:265: FutureWarning: Setting an item of incompatible dtype is deprecated and will raise an error in a future version of pandas. Value '['forward', 'wall', 'forward', 'wall']' has dtype incompatible with float64, please explicitly cast to a compatible dtype first.\n",
      "  self.prealloc_df.iloc[self.current_index] = [str(tmp_new_seq), expected_valence, tmp_new_seq[0], tmp_proba, sucess_valence]\n",
      "/tmp/ipykernel_6843/1606380904.py:265: FutureWarning: Setting an item of incompatible dtype is deprecated and will raise an error in a future version of pandas. Value 'forward' has dtype incompatible with float64, please explicitly cast to a compatible dtype first.\n",
      "  self.prealloc_df.iloc[self.current_index] = [str(tmp_new_seq), expected_valence, tmp_new_seq[0], tmp_proba, sucess_valence]\n"
     ]
    },
    {
     "name": "stdout",
     "output_type": "stream",
     "text": [
      "Time to compute expective valance: 0.42072606086730957\n",
      "before compute ... model predict : ['forward', 'empty'], explo want : ['forward', 'empty', 'forward', 'empty', 'forward', 'empty', 'forward', 'empty']\n",
      "expected valence : 4.7244\n",
      "valence explo : 40\n",
      "explo ... ['forward', 'empty', 'forward', 'empty', 'forward', 'empty', 'forward', 'empty']\n",
      "\u001b[0;31m Action: forward \u001b[0m, Prediction: wall, Outcome: wall, \u001b[0;31m Satisfaction: True \u001b[0m\n",
      "Training time: 0.3504815101623535\n",
      "Time to compute expective valance: 0.41834592819213867\n",
      "before compute ... model predict : ['forward', 'empty'], explo want : ['forward', 'empty', 'forward', 'empty', 'forward', 'empty', 'forward', 'empty']\n",
      "expected valence : 4.6736\n",
      "valence explo : 40\n",
      "explo ... ['forward', 'empty', 'forward', 'empty', 'forward', 'empty', 'forward', 'empty']\n",
      "\u001b[0;31m Action: forward \u001b[0m, Prediction: wall, Outcome: wall, \u001b[0;31m Satisfaction: True \u001b[0m\n",
      "Training time: 0.34553050994873047\n",
      "Time to compute expective valance: 0.3448190689086914\n",
      "before compute ... model predict : ['forward', 'empty'], explo want : ['forward', 'empty', 'forward', 'empty', 'forward', 'empty', 'forward', 'empty']\n",
      "expected valence : 4.6221\n",
      "valence explo : 40\n",
      "explo ... ['forward', 'empty', 'forward', 'empty', 'forward', 'empty', 'forward', 'empty']\n",
      "\u001b[0;31m Action: forward \u001b[0m, Prediction: wall, Outcome: wall, \u001b[0;31m Satisfaction: True \u001b[0m\n",
      "Training time: 0.31279921531677246\n",
      "Time to compute expective valance: 0.33875203132629395\n",
      "before compute ... model predict : ['forward', 'empty'], explo want : ['forward', 'empty', 'forward', 'empty', 'forward', 'empty', 'forward', 'empty']\n",
      "expected valence : 4.5699\n",
      "valence explo : 40\n",
      "explo ... ['forward', 'empty', 'forward', 'empty', 'forward', 'empty', 'forward', 'empty']\n",
      "\u001b[0;31m Action: forward \u001b[0m, Prediction: wall, Outcome: wall, \u001b[0;31m Satisfaction: True \u001b[0m\n",
      "Training time: 0.3179807662963867\n",
      "Time to compute expective valance: 0.4514293670654297\n",
      "before compute ... model predict : ['forward', 'empty'], explo want : ['forward', 'empty', 'forward', 'empty', 'forward', 'empty', 'forward', 'empty']\n",
      "expected valence : 4.5167\n",
      "valence explo : 40\n",
      "explo ... ['forward', 'empty', 'forward', 'empty', 'forward', 'empty', 'forward', 'empty']\n",
      "\u001b[0;31m Action: forward \u001b[0m, Prediction: wall, Outcome: wall, \u001b[0;31m Satisfaction: True \u001b[0m\n",
      "Training time: 0.30939292907714844\n",
      "Time to compute expective valance: 0.41965198516845703\n",
      "before compute ... model predict : ['forward', 'empty'], explo want : ['forward', 'empty', 'forward', 'empty', 'forward', 'empty', 'forward', 'empty']\n",
      "expected valence : 4.4622\n",
      "valence explo : 40\n",
      "explo ... ['forward', 'empty', 'forward', 'empty', 'forward', 'empty', 'forward', 'empty']\n",
      "\u001b[0;31m Action: forward \u001b[0m, Prediction: wall, Outcome: wall, \u001b[0;31m Satisfaction: True \u001b[0m\n",
      "Training time: 0.34086060523986816\n",
      "Time to compute expective valance: 0.45687341690063477\n",
      "before compute ... model predict : ['forward', 'empty'], explo want : ['forward', 'empty', 'forward', 'empty', 'forward', 'empty', 'forward', 'empty']\n",
      "expected valence : 4.4061\n",
      "valence explo : 40\n",
      "explo ... ['forward', 'empty', 'forward', 'empty', 'forward', 'empty', 'forward', 'empty']\n",
      "\u001b[0;31m Action: forward \u001b[0m, Prediction: wall, Outcome: wall, \u001b[0;31m Satisfaction: True \u001b[0m\n",
      "Training time: 0.31213808059692383\n",
      "Time to compute expective valance: 0.4236941337585449\n",
      "before compute ... model predict : ['forward', 'empty'], explo want : ['forward', 'empty', 'forward', 'empty', 'forward', 'empty', 'forward', 'empty']\n",
      "expected valence : 4.3484\n",
      "valence explo : 40\n",
      "explo ... ['forward', 'empty', 'forward', 'empty', 'forward', 'empty', 'forward', 'empty']\n",
      "\u001b[0;31m Action: forward \u001b[0m, Prediction: wall, Outcome: wall, \u001b[0;31m Satisfaction: True \u001b[0m\n",
      "Training time: 0.29850125312805176\n",
      "Time to compute expective valance: 0.42536115646362305\n",
      "before compute ... model predict : ['forward', 'empty'], explo want : ['forward', 'empty', 'forward', 'empty', 'forward', 'empty', 'forward', 'empty']\n",
      "expected valence : 4.2887\n",
      "valence explo : 40\n",
      "explo ... ['forward', 'empty', 'forward', 'empty', 'forward', 'empty', 'forward', 'empty']\n",
      "\u001b[0;31m Action: forward \u001b[0m, Prediction: wall, Outcome: wall, \u001b[0;31m Satisfaction: True \u001b[0m\n",
      "Training time: 0.3046410083770752\n",
      "Time to compute expective valance: 0.42214465141296387\n",
      "before compute ... model predict : ['forward', 'empty'], explo want : ['forward', 'empty', 'forward', 'empty', 'forward', 'empty', 'forward', 'empty']\n",
      "expected valence : 4.2269\n",
      "valence explo : 40\n",
      "explo ... ['forward', 'empty', 'forward', 'empty', 'forward', 'empty', 'forward', 'empty']\n",
      "\u001b[0;31m Action: forward \u001b[0m, Prediction: wall, Outcome: wall, \u001b[0;31m Satisfaction: True \u001b[0m\n",
      "Training time: 0.3431882858276367\n",
      "Time to compute expective valance: 0.44661760330200195\n",
      "before compute ... model predict : ['forward', 'empty'], explo want : ['forward', 'empty', 'forward', 'empty', 'forward', 'empty', 'forward', 'empty']\n",
      "expected valence : 4.163\n",
      "valence explo : 40\n",
      "explo ... ['forward', 'empty', 'forward', 'empty', 'forward', 'empty', 'forward', 'empty']\n",
      "\u001b[0;31m Action: forward \u001b[0m, Prediction: wall, Outcome: wall, \u001b[0;31m Satisfaction: True \u001b[0m\n",
      "Training time: 0.30950355529785156\n",
      "Time to compute expective valance: 0.42084288597106934\n",
      "before compute ... model predict : ['forward', 'empty'], explo want : ['forward', 'empty', 'forward', 'empty', 'forward', 'empty', 'forward', 'empty']\n",
      "expected valence : 4.0968\n",
      "valence explo : 40\n",
      "explo ... ['forward', 'empty', 'forward', 'empty', 'forward', 'empty', 'forward', 'empty']\n",
      "\u001b[0;31m Action: forward \u001b[0m, Prediction: wall, Outcome: wall, \u001b[0;31m Satisfaction: True \u001b[0m\n",
      "Training time: 0.3017733097076416\n",
      "Time to compute expective valance: 0.4241602420806885\n",
      "before compute ... model predict : ['forward', 'empty'], explo want : ['forward', 'empty', 'forward', 'empty', 'forward', 'empty', 'forward', 'empty']\n",
      "expected valence : 4.0281\n",
      "valence explo : 40\n",
      "explo ... ['forward', 'empty', 'forward', 'empty', 'forward', 'empty', 'forward', 'empty']\n",
      "\u001b[0;31m Action: forward \u001b[0m, Prediction: wall, Outcome: wall, \u001b[0;31m Satisfaction: True \u001b[0m\n",
      "Training time: 0.31859779357910156\n",
      "Time to compute expective valance: 0.46024322509765625\n",
      "before compute ... model predict : ['forward', 'empty'], explo want : ['forward', 'empty', 'forward', 'empty', 'forward', 'empty', 'forward', 'empty']\n",
      "expected valence : 3.957\n",
      "valence explo : 40\n",
      "explo ... ['forward', 'empty', 'forward', 'empty', 'forward', 'empty', 'forward', 'empty']\n",
      "\u001b[0;31m Action: forward \u001b[0m, Prediction: wall, Outcome: wall, \u001b[0;31m Satisfaction: True \u001b[0m\n",
      "Training time: 0.3056809902191162\n",
      "Time to compute expective valance: 0.39429688453674316\n",
      "before compute ... model predict : ['forward', 'empty'], explo want : ['forward', 'empty', 'forward', 'empty', 'forward', 'empty', 'forward', 'empty']\n",
      "expected valence : 3.8833\n",
      "valence explo : 40\n",
      "explo ... ['forward', 'empty', 'forward', 'empty', 'forward', 'empty', 'forward', 'empty']\n",
      "\u001b[0;31m Action: forward \u001b[0m, Prediction: wall, Outcome: wall, \u001b[0;31m Satisfaction: True \u001b[0m\n",
      "Training time: 0.30405664443969727\n",
      "Time to compute expective valance: 0.438399076461792\n",
      "before compute ... model predict : ['forward', 'empty'], explo want : ['forward', 'empty', 'forward', 'empty', 'forward', 'empty', 'forward', 'empty']\n",
      "expected valence : 3.8071\n",
      "valence explo : 40\n",
      "explo ... ['forward', 'empty', 'forward', 'empty', 'forward', 'empty', 'forward', 'empty']\n",
      "\u001b[0;31m Action: forward \u001b[0m, Prediction: wall, Outcome: wall, \u001b[0;31m Satisfaction: True \u001b[0m\n",
      "Training time: 0.3007524013519287\n",
      "Time to compute expective valance: 0.3845186233520508\n",
      "before compute ... model predict : ['forward', 'empty'], explo want : ['forward', 'empty', 'forward', 'empty', 'forward', 'empty', 'forward', 'empty']\n",
      "expected valence : 3.7283\n",
      "valence explo : 40\n",
      "explo ... ['forward', 'empty', 'forward', 'empty', 'forward', 'empty', 'forward', 'empty']\n",
      "\u001b[0;31m Action: forward \u001b[0m, Prediction: wall, Outcome: wall, \u001b[0;31m Satisfaction: True \u001b[0m\n",
      "Training time: 0.3302736282348633\n",
      "Time to compute expective valance: 0.41749143600463867\n",
      "before compute ... model predict : ['forward', 'empty'], explo want : ['forward', 'empty', 'forward', 'empty', 'forward', 'empty', 'forward', 'empty']\n",
      "expected valence : 3.6469\n",
      "valence explo : 40\n",
      "explo ... ['forward', 'empty', 'forward', 'empty', 'forward', 'empty', 'forward', 'empty']\n",
      "\u001b[0;31m Action: forward \u001b[0m, Prediction: wall, Outcome: wall, \u001b[0;31m Satisfaction: True \u001b[0m\n",
      "Training time: 0.3137526512145996\n",
      "Time to compute expective valance: 0.3893585205078125\n",
      "before compute ... model predict : ['forward', 'empty'], explo want : ['forward', 'empty', 'forward', 'empty', 'forward', 'empty', 'forward', 'empty']\n",
      "expected valence : 3.5628\n",
      "valence explo : 40\n",
      "explo ... ['forward', 'empty', 'forward', 'empty', 'forward', 'empty', 'forward', 'empty']\n",
      "\u001b[0;31m Action: forward \u001b[0m, Prediction: wall, Outcome: wall, \u001b[0;31m Satisfaction: True \u001b[0m\n",
      "Training time: 0.3088645935058594\n",
      "Time to compute expective valance: 0.4482893943786621\n",
      "before compute ... model predict : ['forward', 'empty'], explo want : ['forward', 'empty', 'forward', 'empty', 'forward', 'empty', 'forward', 'empty']\n",
      "expected valence : 3.4763\n",
      "valence explo : 40\n",
      "explo ... ['forward', 'empty', 'forward', 'empty', 'forward', 'empty', 'forward', 'empty']\n",
      "\u001b[0;31m Action: forward \u001b[0m, Prediction: wall, Outcome: wall, \u001b[0;31m Satisfaction: True \u001b[0m\n",
      "Training time: 0.30924558639526367\n",
      "Time to compute expective valance: 0.4845409393310547\n",
      "before compute ... model predict : ['forward', 'empty'], explo want : ['forward', 'empty', 'forward', 'empty', 'forward', 'empty', 'forward', 'empty']\n",
      "expected valence : 3.3873\n",
      "valence explo : 40\n",
      "explo ... ['forward', 'empty', 'forward', 'empty', 'forward', 'empty', 'forward', 'empty']\n",
      "\u001b[0;31m Action: forward \u001b[0m, Prediction: wall, Outcome: wall, \u001b[0;31m Satisfaction: True \u001b[0m\n",
      "Training time: 0.305553674697876\n",
      "Time to compute expective valance: 0.5556857585906982\n",
      "before compute ... model predict : ['forward', 'empty'], explo want : ['forward', 'empty', 'forward', 'empty', 'forward', 'empty', 'forward', 'empty']\n",
      "expected valence : 3.2959\n",
      "valence explo : 40\n",
      "explo ... ['forward', 'empty', 'forward', 'empty', 'forward', 'empty', 'forward', 'empty']\n",
      "\u001b[0;31m Action: forward \u001b[0m, Prediction: wall, Outcome: wall, \u001b[0;31m Satisfaction: True \u001b[0m\n",
      "Training time: 0.31915283203125\n",
      "Time to compute expective valance: 0.560154914855957\n",
      "before compute ... model predict : ['forward', 'empty'], explo want : ['forward', 'empty', 'forward', 'empty', 'forward', 'empty', 'forward', 'empty']\n",
      "expected valence : 3.2023\n",
      "valence explo : 40\n",
      "explo ... ['forward', 'empty', 'forward', 'empty', 'forward', 'empty', 'forward', 'empty']\n",
      "\u001b[0;31m Action: forward \u001b[0m, Prediction: wall, Outcome: wall, \u001b[0;31m Satisfaction: True \u001b[0m\n",
      "Training time: 0.30216073989868164\n",
      "Time to compute expective valance: 0.4993157386779785\n",
      "before compute ... model predict : ['forward', 'empty'], explo want : ['forward', 'empty', 'forward', 'empty', 'forward', 'empty', 'forward', 'empty']\n",
      "expected valence : 3.1067\n",
      "valence explo : 40\n",
      "explo ... ['forward', 'empty', 'forward', 'empty', 'forward', 'empty', 'forward', 'empty']\n",
      "\u001b[0;31m Action: forward \u001b[0m, Prediction: wall, Outcome: wall, \u001b[0;31m Satisfaction: True \u001b[0m\n",
      "Training time: 0.33086490631103516\n",
      "Time to compute expective valance: 0.5529630184173584\n",
      "before compute ... model predict : ['forward', 'empty'], explo want : ['forward', 'empty', 'forward', 'empty', 'forward', 'empty', 'forward', 'empty']\n",
      "expected valence : 3.0093\n",
      "valence explo : 40\n",
      "explo ... ['forward', 'empty', 'forward', 'empty', 'forward', 'empty', 'forward', 'empty']\n",
      "\u001b[0;31m Action: forward \u001b[0m, Prediction: wall, Outcome: wall, \u001b[0;31m Satisfaction: True \u001b[0m\n",
      "Training time: 0.3307788372039795\n",
      "Time to compute expective valance: 0.5574352741241455\n",
      "before compute ... model predict : ['forward', 'wall'], explo want : ['feel_front', 'wall', 'forward', 'empty', 'forward', 'empty', 'forward', 'empty']\n",
      "expected valence : -56.7175\n",
      "valence explo : 20\n",
      "explo ... ['feel_front', 'wall', 'forward', 'empty', 'forward', 'empty', 'forward', 'empty']\n",
      "\u001b[0;31m Action: feel_front \u001b[0m, Prediction: wall, Outcome: wall, \u001b[0;31m Satisfaction: True \u001b[0m\n",
      "Training time: 0.2980988025665283\n",
      "\u001b[0;31m Action: forward \u001b[0m, Prediction: wall, Outcome: wall, \u001b[0;31m Satisfaction: True \u001b[0m\n",
      "Time to compute expective valance: 0.09646940231323242\n",
      "before compute ... model predict : 0.0, explo want : ['forward', 'empty', 'forward', 'empty', 'forward', 'empty', 'forward', 'empty']\n",
      "expected valence : -inf\n",
      "valence explo : 40\n",
      "explo ... ['forward', 'empty', 'forward', 'empty', 'forward', 'empty', 'forward', 'empty']\n",
      "\u001b[0;31m Action: forward \u001b[0m, Prediction: wall, Outcome: wall, \u001b[0;31m Satisfaction: True \u001b[0m\n",
      "Training time: 0.3090934753417969\n",
      "Time to compute expective valance: 0.08804154396057129\n",
      "before compute ... model predict : 0.0, explo want : ['forward', 'empty', 'forward', 'empty', 'forward', 'empty', 'forward', 'empty']\n",
      "expected valence : -inf\n",
      "valence explo : 40\n",
      "explo ... ['forward', 'empty', 'forward', 'empty', 'forward', 'empty', 'forward', 'empty']\n",
      "\u001b[0;31m Action: forward \u001b[0m, Prediction: wall, Outcome: wall, \u001b[0;31m Satisfaction: True \u001b[0m\n",
      "Training time: 0.3061544895172119\n",
      "Time to compute expective valance: 1.498901128768921\n",
      "before compute ... model predict : ['feel_front', 'wall'], explo want : ['turn_right', 'empty', 'forward', 'empty', 'forward', 'empty', 'forward', 'empty']\n",
      "expected valence : -7.1608\n",
      "valence explo : 13\n",
      "explo ... ['turn_right', 'empty', 'forward', 'empty', 'forward', 'empty', 'forward', 'empty']\n",
      "\u001b[0;31m Action: turn_right \u001b[0m, Prediction: wall, Outcome: empty, \u001b[0;31m Satisfaction: False \u001b[0m\n",
      "Training time: 5.981062173843384\n",
      "\u001b[0;31m Action: forward \u001b[0m, Prediction: wall, Outcome: empty, \u001b[0;31m Satisfaction: False \u001b[0m\n",
      "Training time: 6.0914387702941895\n",
      "\u001b[0;31m Action: forward \u001b[0m, Prediction: wall, Outcome: empty, \u001b[0;31m Satisfaction: False \u001b[0m\n",
      "Training time: 6.053809642791748\n",
      "\u001b[0;31m Action: forward \u001b[0m, Prediction: empty, Outcome: wall, \u001b[0;31m Satisfaction: False \u001b[0m\n",
      "Training time: 6.316346883773804\n",
      "Time to compute expective valance: 0.09365391731262207\n",
      "before compute ... model predict : 0.0, explo want : ['forward', 'empty', 'forward', 'empty', 'forward', 'empty', 'forward', 'empty']\n",
      "expected valence : -inf\n",
      "valence explo : 40\n",
      "explo ... ['forward', 'empty', 'forward', 'empty', 'forward', 'empty', 'forward', 'empty']\n",
      "\u001b[0;31m Action: forward \u001b[0m, Prediction: wall, Outcome: wall, \u001b[0;31m Satisfaction: True \u001b[0m\n",
      "Training time: 6.134140491485596\n",
      "Time to compute expective valance: 2.6566905975341797\n",
      "before compute ... model predict : ['forward', 'wall'], explo want : ['feel_front', 'wall', 'forward', 'empty', 'forward', 'empty', 'forward', 'empty']\n",
      "expected valence : -78.7404\n",
      "valence explo : 20\n",
      "explo ... ['feel_front', 'wall', 'forward', 'empty', 'forward', 'empty', 'forward', 'empty']\n",
      "\u001b[0;31m Action: feel_front \u001b[0m, Prediction: wall, Outcome: wall, \u001b[0;31m Satisfaction: True \u001b[0m\n",
      "Training time: 4.2485270500183105\n",
      "\u001b[0;31m Action: forward \u001b[0m, Prediction: wall, Outcome: wall, \u001b[0;31m Satisfaction: True \u001b[0m\n",
      "Time to compute expective valance: 1.9554252624511719\n",
      "before compute ... model predict : ['forward', 'wall'], explo want : ['feel_front', 'wall', 'forward', 'empty', 'forward', 'empty', 'forward', 'empty']\n",
      "expected valence : -79.2996\n",
      "valence explo : 20\n",
      "explo ... ['feel_front', 'wall', 'forward', 'empty', 'forward', 'empty', 'forward', 'empty']\n",
      "\u001b[0;31m Action: feel_front \u001b[0m, Prediction: wall, Outcome: wall, \u001b[0;31m Satisfaction: True \u001b[0m\n",
      "Training time: 0.30767321586608887\n",
      "\u001b[0;31m Action: forward \u001b[0m, Prediction: wall, Outcome: wall, \u001b[0;31m Satisfaction: True \u001b[0m\n",
      "Time to compute expective valance: 3.1855602264404297\n",
      "before compute ... model predict : ['feel_front', 'wall'], explo want : ['turn_right', 'empty', 'forward', 'empty', 'forward', 'empty', 'forward', 'empty']\n",
      "expected valence : -9.8664\n",
      "valence explo : 13\n",
      "explo ... ['turn_right', 'empty', 'forward', 'empty', 'forward', 'empty', 'forward', 'empty']\n",
      "\u001b[0;31m Action: turn_right \u001b[0m, Prediction: empty, Outcome: empty, \u001b[0;31m Satisfaction: True \u001b[0m\n",
      "Training time: 0.30828094482421875\n",
      "\u001b[0;31m Action: forward \u001b[0m, Prediction: empty, Outcome: empty, \u001b[0;31m Satisfaction: True \u001b[0m\n",
      "\u001b[0;31m Action: forward \u001b[0m, Prediction: empty, Outcome: empty, \u001b[0;31m Satisfaction: True \u001b[0m\n",
      "\u001b[0;31m Action: forward \u001b[0m, Prediction: wall, Outcome: wall, \u001b[0;31m Satisfaction: True \u001b[0m\n",
      "Time to compute expective valance: 3.025545597076416\n",
      "before compute ... model predict : ['forward', 'wall'], explo want : ['feel_front', 'wall', 'forward', 'empty', 'forward', 'empty', 'forward', 'empty']\n",
      "expected valence : -77.0952\n",
      "valence explo : 20\n",
      "explo ... ['feel_front', 'wall', 'forward', 'empty', 'forward', 'empty', 'forward', 'empty']\n",
      "\u001b[0;31m Action: feel_front \u001b[0m, Prediction: wall, Outcome: wall, \u001b[0;31m Satisfaction: True \u001b[0m\n",
      "Training time: 0.30244994163513184\n",
      "\u001b[0;31m Action: forward \u001b[0m, Prediction: wall, Outcome: wall, \u001b[0;31m Satisfaction: True \u001b[0m\n",
      "Time to compute expective valance: 3.998650550842285\n",
      "before compute ... model predict : ['turn_right', 'empty', 'forward', 'empty'], explo want : ['turn_left', 'empty', 'forward', 'empty', 'forward', 'empty', 'forward', 'empty']\n",
      "expected valence : -7.3046\n",
      "valence explo : 13\n",
      "explo ... ['turn_left', 'empty', 'forward', 'empty', 'forward', 'empty', 'forward', 'empty']\n",
      "\u001b[0;31m Action: turn_left \u001b[0m, Prediction: wall, Outcome: empty, \u001b[0;31m Satisfaction: False \u001b[0m\n",
      "Training time: 6.126555681228638\n",
      "\u001b[0;31m Action: forward \u001b[0m, Prediction: wall, Outcome: wall, \u001b[0;31m Satisfaction: True \u001b[0m\n",
      "Time to compute expective valance: 0.0977013111114502\n",
      "before compute ... model predict : 0.0, explo want : ['forward', 'empty', 'forward', 'empty', 'forward', 'empty', 'forward', 'empty']\n",
      "expected valence : -inf\n",
      "valence explo : 40\n",
      "explo ... ['forward', 'empty', 'forward', 'empty', 'forward', 'empty', 'forward', 'empty']\n",
      "\u001b[0;31m Action: forward \u001b[0m, Prediction: wall, Outcome: wall, \u001b[0;31m Satisfaction: True \u001b[0m\n",
      "Training time: 6.083245515823364\n",
      "Time to compute expective valance: 0.10249638557434082\n",
      "before compute ... model predict : 0.0, explo want : ['forward', 'empty', 'forward', 'empty', 'forward', 'empty', 'forward', 'empty']\n",
      "expected valence : -inf\n",
      "valence explo : 40\n",
      "explo ... ['forward', 'empty', 'forward', 'empty', 'forward', 'empty', 'forward', 'empty']\n",
      "\u001b[0;31m Action: forward \u001b[0m, Prediction: wall, Outcome: wall, \u001b[0;31m Satisfaction: True \u001b[0m\n",
      "Training time: 5.771780967712402\n",
      "Time to compute expective valance: 7.045225143432617\n",
      "before compute ... model predict : ['turn_right', 'empty', 'forward', 'empty', 'forward', 'empty'], explo want : ['turn_left', 'empty', 'forward', 'empty', 'forward', 'empty', 'forward', 'empty']\n",
      "expected valence : -1.5217999999999998\n",
      "valence explo : 13\n",
      "explo ... ['turn_left', 'empty', 'forward', 'empty', 'forward', 'empty', 'forward', 'empty']\n",
      "\u001b[0;31m Action: turn_left \u001b[0m, Prediction: empty, Outcome: empty, \u001b[0;31m Satisfaction: True \u001b[0m\n",
      "Training time: 0.32100892066955566\n",
      "\u001b[0;31m Action: forward \u001b[0m, Prediction: wall, Outcome: empty, \u001b[0;31m Satisfaction: False \u001b[0m\n",
      "Training time: 6.274360418319702\n",
      "\u001b[0;31m Action: forward \u001b[0m, Prediction: wall, Outcome: empty, \u001b[0;31m Satisfaction: False \u001b[0m\n",
      "Training time: 6.222167491912842\n",
      "\u001b[0;31m Action: forward \u001b[0m, Prediction: wall, Outcome: wall, \u001b[0;31m Satisfaction: True \u001b[0m\n",
      "Time to compute expective valance: 6.613219976425171\n",
      "before compute ... model predict : ['feel_front', 'wall'], explo want : ['turn_right', 'empty', 'forward', 'empty', 'forward', 'empty', 'forward', 'empty']\n",
      "expected valence : -9.8654\n",
      "valence explo : 13\n",
      "explo ... ['turn_right', 'empty', 'forward', 'empty', 'forward', 'empty', 'forward', 'empty']\n",
      "\u001b[0;31m Action: turn_right \u001b[0m, Prediction: empty, Outcome: empty, \u001b[0;31m Satisfaction: True \u001b[0m\n",
      "Training time: 6.181468725204468\n",
      "\u001b[0;31m Action: forward \u001b[0m, Prediction: empty, Outcome: wall, \u001b[0;31m Satisfaction: False \u001b[0m\n",
      "Training time: 6.2228851318359375\n",
      "Time to compute expective valance: 0.09853529930114746\n",
      "before compute ... model predict : 0.0, explo want : ['forward', 'empty', 'forward', 'empty', 'forward', 'empty', 'forward', 'empty']\n",
      "expected valence : -inf\n",
      "valence explo : 40\n",
      "explo ... ['forward', 'empty', 'forward', 'empty', 'forward', 'empty', 'forward', 'empty']\n",
      "\u001b[0;31m Action: forward \u001b[0m, Prediction: wall, Outcome: wall, \u001b[0;31m Satisfaction: True \u001b[0m\n",
      "Training time: 6.173152685165405\n",
      "Time to compute expective valance: 0.10232734680175781\n",
      "before compute ... model predict : 0.0, explo want : ['forward', 'empty', 'forward', 'empty', 'forward', 'empty', 'forward', 'empty']\n",
      "expected valence : -inf\n",
      "valence explo : 40\n",
      "explo ... ['forward', 'empty', 'forward', 'empty', 'forward', 'empty', 'forward', 'empty']\n",
      "\u001b[0;31m Action: forward \u001b[0m, Prediction: wall, Outcome: wall, \u001b[0;31m Satisfaction: True \u001b[0m\n",
      "Training time: 6.18330979347229\n",
      "Time to compute expective valance: 9.567803382873535\n",
      "before compute ... model predict : ['turn_right', 'empty', 'forward', 'empty', 'forward', 'empty'], explo want : ['feel_front', 'wall', 'feel_front', 'wall', 'forward', 'empty', 'forward', 'empty']\n",
      "expected valence : -2.3813000000000013\n",
      "valence explo : 0\n",
      "explo ... ['feel_front', 'wall', 'feel_front', 'wall', 'forward', 'empty', 'forward', 'empty']\n",
      "\u001b[0;31m Action: feel_front \u001b[0m, Prediction: wall, Outcome: wall, \u001b[0;31m Satisfaction: True \u001b[0m\n",
      "Training time: 6.197468042373657\n",
      "\u001b[0;31m Action: feel_front \u001b[0m, Prediction: wall, Outcome: wall, \u001b[0;31m Satisfaction: True \u001b[0m\n",
      "\u001b[0;31m Action: forward \u001b[0m, Prediction: wall, Outcome: wall, \u001b[0;31m Satisfaction: True \u001b[0m\n",
      "Time to compute expective valance: 0.10604739189147949\n",
      "before compute ... model predict : 0.0, explo want : ['forward', 'empty', 'forward', 'empty', 'forward', 'empty', 'forward', 'empty']\n",
      "expected valence : -inf\n",
      "valence explo : 40\n",
      "explo ... ['forward', 'empty', 'forward', 'empty', 'forward', 'empty', 'forward', 'empty']\n",
      "\u001b[0;31m Action: forward \u001b[0m, Prediction: wall, Outcome: wall, \u001b[0;31m Satisfaction: True \u001b[0m\n",
      "Training time: 6.142545223236084\n",
      "Time to compute expective valance: 5.9855055809021\n",
      "before compute ... model predict : ['forward', 'wall'], explo want : ['feel_front', 'wall', 'forward', 'empty', 'forward', 'empty', 'forward', 'empty']\n",
      "expected valence : -79.9286\n",
      "valence explo : 20\n",
      "explo ... ['feel_front', 'wall', 'forward', 'empty', 'forward', 'empty', 'forward', 'empty']\n",
      "\u001b[0;31m Action: feel_front \u001b[0m, Prediction: wall, Outcome: wall, \u001b[0;31m Satisfaction: True \u001b[0m\n",
      "Training time: 6.11752462387085\n",
      "\u001b[0;31m Action: forward \u001b[0m, Prediction: wall, Outcome: wall, \u001b[0;31m Satisfaction: True \u001b[0m\n",
      "Time to compute expective valance: 9.386599063873291\n",
      "before compute ... model predict : ['turn_right', 'empty', 'forward', 'empty', 'forward', 'empty'], explo want : ['feel_front', 'wall', 'feel_front', 'wall', 'forward', 'empty', 'forward', 'empty']\n",
      "expected valence : -2.5116999999999976\n",
      "valence explo : 0\n",
      "explo ... ['feel_front', 'wall', 'feel_front', 'wall', 'forward', 'empty', 'forward', 'empty']\n",
      "\u001b[0;31m Action: feel_front \u001b[0m, Prediction: wall, Outcome: wall, \u001b[0;31m Satisfaction: True \u001b[0m\n",
      "Training time: 6.157008409500122\n",
      "\u001b[0;31m Action: feel_front \u001b[0m, Prediction: wall, Outcome: wall, \u001b[0;31m Satisfaction: True \u001b[0m\n",
      "\u001b[0;31m Action: forward \u001b[0m, Prediction: wall, Outcome: wall, \u001b[0;31m Satisfaction: True \u001b[0m\n",
      "Time to compute expective valance: 5.375729560852051\n",
      "before compute ... model predict : ['forward', 'wall'], explo want : ['feel_front', 'wall', 'forward', 'empty', 'forward', 'empty', 'forward', 'empty']\n",
      "expected valence : -79.972\n",
      "valence explo : 20\n",
      "explo ... ['feel_front', 'wall', 'forward', 'empty', 'forward', 'empty', 'forward', 'empty']\n",
      "\u001b[0;31m Action: feel_front \u001b[0m, Prediction: wall, Outcome: wall, \u001b[0;31m Satisfaction: True \u001b[0m\n",
      "Training time: 6.154179096221924\n",
      "\u001b[0;31m Action: forward \u001b[0m, Prediction: wall, Outcome: wall, \u001b[0;31m Satisfaction: True \u001b[0m\n",
      "Time to compute expective valance: 10.883776187896729\n",
      "before compute ... model predict : ['turn_right', 'empty', 'forward', 'empty', 'forward', 'empty'], explo want : ['turn_right', 'empty', 'feel_front', 'wall', 'forward', 'empty', 'forward', 'empty']\n",
      "expected valence : 0.7073999999999998\n",
      "valence explo : -7\n",
      "after compute ... ['turn_right', 'empty', 'forward', 'empty', 'forward', 'empty']\n",
      "\u001b[0;31m Action: turn_right \u001b[0m, Prediction: empty, Outcome: empty, \u001b[0;31m Satisfaction: True \u001b[0m\n",
      "Training time: 2.739063262939453\n",
      "\u001b[0;31m Action: forward \u001b[0m, Prediction: empty, Outcome: empty, \u001b[0;31m Satisfaction: True \u001b[0m\n",
      "\u001b[0;31m Action: forward \u001b[0m, Prediction: empty, Outcome: empty, \u001b[0;31m Satisfaction: True \u001b[0m\n",
      "Time to compute expective valance: 4.702380895614624\n",
      "before compute ... model predict : ['forward', 'wall'], explo want : ['feel_front', 'wall', 'forward', 'empty', 'forward', 'empty', 'forward', 'empty']\n",
      "expected valence : -79.3958\n",
      "valence explo : 20\n",
      "explo ... ['feel_front', 'wall', 'forward', 'empty', 'forward', 'empty', 'forward', 'empty']\n",
      "\u001b[0;31m Action: feel_front \u001b[0m, Prediction: wall, Outcome: wall, \u001b[0;31m Satisfaction: True \u001b[0m\n",
      "Training time: 0.3107304573059082\n",
      "\u001b[0;31m Action: forward \u001b[0m, Prediction: wall, Outcome: wall, \u001b[0;31m Satisfaction: True \u001b[0m\n",
      "Time to compute expective valance: 0.10368680953979492\n",
      "before compute ... model predict : 0.0, explo want : ['forward', 'empty', 'forward', 'empty', 'forward', 'empty', 'forward', 'empty']\n",
      "expected valence : -inf\n",
      "valence explo : 40\n",
      "explo ... ['forward', 'empty', 'forward', 'empty', 'forward', 'empty', 'forward', 'empty']\n",
      "\u001b[0;31m Action: forward \u001b[0m, Prediction: wall, Outcome: wall, \u001b[0;31m Satisfaction: True \u001b[0m\n",
      "Training time: 0.35399413108825684\n",
      "Time to compute expective valance: 10.164671659469604\n",
      "before compute ... model predict : ['feel_front', 'wall'], explo want : ['turn_right', 'empty', 'forward', 'empty', 'forward', 'empty', 'forward', 'empty']\n",
      "expected valence : -9.9955\n",
      "valence explo : 13\n",
      "explo ... ['turn_right', 'empty', 'forward', 'empty', 'forward', 'empty', 'forward', 'empty']\n",
      "\u001b[0;31m Action: turn_right \u001b[0m, Prediction: empty, Outcome: empty, \u001b[0;31m Satisfaction: True \u001b[0m\n",
      "Training time: 0.3126339912414551\n",
      "\u001b[0;31m Action: forward \u001b[0m, Prediction: empty, Outcome: empty, \u001b[0;31m Satisfaction: True \u001b[0m\n",
      "\u001b[0;31m Action: forward \u001b[0m, Prediction: empty, Outcome: empty, \u001b[0;31m Satisfaction: True \u001b[0m\n",
      "\u001b[0;31m Action: forward \u001b[0m, Prediction: wall, Outcome: wall, \u001b[0;31m Satisfaction: True \u001b[0m\n",
      "Time to compute expective valance: 9.385614395141602\n",
      "before compute ... model predict : ['turn_right', 'empty', 'forward', 'empty', 'forward', 'empty'], explo want : ['turn_left', 'empty', 'forward', 'empty', 'forward', 'empty', 'forward', 'empty']\n",
      "expected valence : -6.893800000000001\n",
      "valence explo : 13\n",
      "explo ... ['turn_left', 'empty', 'forward', 'empty', 'forward', 'empty', 'forward', 'empty']\n",
      "\u001b[0;31m Action: turn_left \u001b[0m, Prediction: empty, Outcome: empty, \u001b[0;31m Satisfaction: True \u001b[0m\n",
      "Training time: 3.3616647720336914\n",
      "\u001b[0;31m Action: forward \u001b[0m, Prediction: empty, Outcome: wall, \u001b[0;31m Satisfaction: False \u001b[0m\n",
      "Training time: 4.802870750427246\n",
      "Time to compute expective valance: 3.1180946826934814\n",
      "before compute ... model predict : ['forward', 'wall'], explo want : ['feel_front', 'wall', 'forward', 'empty', 'forward', 'empty', 'forward', 'empty']\n",
      "expected valence : -79.4176\n",
      "valence explo : 20\n",
      "explo ... ['feel_front', 'wall', 'forward', 'empty', 'forward', 'empty', 'forward', 'empty']\n",
      "\u001b[0;31m Action: feel_front \u001b[0m, Prediction: wall, Outcome: wall, \u001b[0;31m Satisfaction: True \u001b[0m\n",
      "Training time: 0.3117382526397705\n",
      "\u001b[0;31m Action: forward \u001b[0m, Prediction: wall, Outcome: wall, \u001b[0;31m Satisfaction: True \u001b[0m\n",
      "Time to compute expective valance: 11.765869617462158\n",
      "before compute ... model predict : ['turn_right', 'empty', 'forward', 'empty', 'forward', 'empty'], explo want : ['turn_right', 'empty', 'feel_front', 'wall', 'forward', 'empty', 'forward', 'empty']\n",
      "expected valence : 1.6026000000000007\n",
      "valence explo : -7\n",
      "after compute ... ['turn_right', 'empty', 'forward', 'empty', 'forward', 'empty']\n",
      "\u001b[0;31m Action: turn_right \u001b[0m, Prediction: empty, Outcome: empty, \u001b[0;31m Satisfaction: True \u001b[0m\n",
      "Training time: 0.3083024024963379\n",
      "\u001b[0;31m Action: forward \u001b[0m, Prediction: empty, Outcome: wall, \u001b[0;31m Satisfaction: False \u001b[0m\n",
      "Training time: 6.221428871154785\n",
      "Time to compute expective valance: 3.1957669258117676\n",
      "before compute ... model predict : ['forward', 'wall'], explo want : ['feel_front', 'wall', 'forward', 'empty', 'forward', 'empty', 'forward', 'empty']\n",
      "expected valence : -79.121\n",
      "valence explo : 20\n",
      "explo ... ['feel_front', 'wall', 'forward', 'empty', 'forward', 'empty', 'forward', 'empty']\n",
      "\u001b[0;31m Action: feel_front \u001b[0m, Prediction: wall, Outcome: wall, \u001b[0;31m Satisfaction: True \u001b[0m\n",
      "Training time: 6.1361918449401855\n",
      "\u001b[0;31m Action: forward \u001b[0m, Prediction: wall, Outcome: wall, \u001b[0;31m Satisfaction: True \u001b[0m\n",
      "Time to compute expective valance: 11.739643812179565\n",
      "before compute ... model predict : ['turn_right', 'empty', 'forward', 'empty', 'forward', 'empty'], explo want : ['turn_right', 'empty', 'feel_front', 'wall', 'forward', 'empty', 'forward', 'empty']\n",
      "expected valence : -1.6595000000000004\n",
      "valence explo : -7\n",
      "after compute ... ['turn_right', 'empty', 'forward', 'empty', 'forward', 'empty']\n",
      "\u001b[0;31m Action: turn_right \u001b[0m, Prediction: empty, Outcome: empty, \u001b[0;31m Satisfaction: True \u001b[0m\n",
      "Training time: 6.196338891983032\n",
      "\u001b[0;31m Action: forward \u001b[0m, Prediction: empty, Outcome: empty, \u001b[0;31m Satisfaction: True \u001b[0m\n",
      "\u001b[0;31m Action: forward \u001b[0m, Prediction: empty, Outcome: empty, \u001b[0;31m Satisfaction: True \u001b[0m\n",
      "Time to compute expective valance: 6.496822834014893\n",
      "before compute ... model predict : ['feel_front', 'wall'], explo want : ['turn_right', 'empty', 'forward', 'empty', 'forward', 'empty', 'forward', 'empty']\n",
      "expected valence : -9.9748\n",
      "valence explo : 13\n",
      "explo ... ['turn_right', 'empty', 'forward', 'empty', 'forward', 'empty', 'forward', 'empty']\n",
      "\u001b[0;31m Action: turn_right \u001b[0m, Prediction: empty, Outcome: empty, \u001b[0;31m Satisfaction: True \u001b[0m\n",
      "Training time: 6.05818772315979\n",
      "\u001b[0;31m Action: forward \u001b[0m, Prediction: wall, Outcome: empty, \u001b[0;31m Satisfaction: False \u001b[0m\n",
      "Training time: 6.026983022689819\n",
      "\u001b[0;31m Action: forward \u001b[0m, Prediction: wall, Outcome: empty, \u001b[0;31m Satisfaction: False \u001b[0m\n",
      "Training time: 6.076715707778931\n",
      "\u001b[0;31m Action: forward \u001b[0m, Prediction: wall, Outcome: wall, \u001b[0;31m Satisfaction: True \u001b[0m\n",
      "Time to compute expective valance: 10.512848138809204\n",
      "before compute ... model predict : ['feel_front', 'wall'], explo want : ['feel_front', 'wall', 'feel_front', 'wall', 'forward', 'empty', 'forward', 'empty']\n",
      "expected valence : -9.9564\n",
      "valence explo : 0\n",
      "explo ... ['feel_front', 'wall', 'feel_front', 'wall', 'forward', 'empty', 'forward', 'empty']\n",
      "\u001b[0;31m Action: feel_front \u001b[0m, Prediction: wall, Outcome: wall, \u001b[0;31m Satisfaction: True \u001b[0m\n",
      "Training time: 6.064678907394409\n",
      "\u001b[0;31m Action: feel_front \u001b[0m, Prediction: wall, Outcome: wall, \u001b[0;31m Satisfaction: True \u001b[0m\n",
      "\u001b[0;31m Action: forward \u001b[0m, Prediction: wall, Outcome: wall, \u001b[0;31m Satisfaction: True \u001b[0m\n",
      "Time to compute expective valance: 9.302503108978271\n",
      "before compute ... model predict : ['feel_front', 'wall'], explo want : ['turn_right', 'empty', 'forward', 'empty', 'forward', 'empty', 'forward', 'empty']\n",
      "expected valence : -9.9993\n",
      "valence explo : 13\n",
      "explo ... ['turn_right', 'empty', 'forward', 'empty', 'forward', 'empty', 'forward', 'empty']\n",
      "\u001b[0;31m Action: turn_right \u001b[0m, Prediction: empty, Outcome: empty, \u001b[0;31m Satisfaction: True \u001b[0m\n",
      "Training time: 6.129807233810425\n",
      "\u001b[0;31m Action: forward \u001b[0m, Prediction: empty, Outcome: empty, \u001b[0;31m Satisfaction: True \u001b[0m\n",
      "\u001b[0;31m Action: forward \u001b[0m, Prediction: empty, Outcome: empty, \u001b[0;31m Satisfaction: True \u001b[0m\n",
      "\u001b[0;31m Action: forward \u001b[0m, Prediction: wall, Outcome: wall, \u001b[0;31m Satisfaction: True \u001b[0m\n",
      "Time to compute expective valance: 12.16987419128418\n",
      "before compute ... model predict : ['feel_front', 'wall'], explo want : ['turn_right', 'empty', 'feel_front', 'wall', 'forward', 'empty', 'forward', 'empty']\n",
      "expected valence : -9.9772\n",
      "valence explo : -7\n",
      "explo ... ['turn_right', 'empty', 'feel_front', 'wall', 'forward', 'empty', 'forward', 'empty']\n",
      "\u001b[0;31m Action: turn_right \u001b[0m, Prediction: empty, Outcome: empty, \u001b[0;31m Satisfaction: True \u001b[0m\n",
      "Training time: 0.3062095642089844\n",
      "\u001b[0;31m Action: feel_front \u001b[0m, Prediction: wall, Outcome: empty, \u001b[0;31m Satisfaction: False \u001b[0m\n",
      "Training time: 3.03114652633667\n",
      "Time to compute expective valance: 0.09237265586853027\n",
      "before compute ... model predict : 0.0, explo want : ['forward', 'empty', 'forward', 'empty', 'forward', 'empty', 'forward', 'empty']\n",
      "expected valence : -inf\n",
      "valence explo : 40\n",
      "explo ... ['forward', 'empty', 'forward', 'empty', 'forward', 'empty', 'forward', 'empty']\n",
      "\u001b[0;31m Action: forward \u001b[0m, Prediction: empty, Outcome: empty, \u001b[0;31m Satisfaction: True \u001b[0m\n",
      "Training time: 0.30872678756713867\n",
      "\u001b[0;31m Action: forward \u001b[0m, Prediction: wall, Outcome: empty, \u001b[0;31m Satisfaction: False \u001b[0m\n",
      "Training time: 4.851759672164917\n",
      "\u001b[0;31m Action: forward \u001b[0m, Prediction: wall, Outcome: wall, \u001b[0;31m Satisfaction: True \u001b[0m\n",
      "Time to compute expective valance: 12.730282306671143\n",
      "before compute ... model predict : ['feel_front', 'wall'], explo want : ['turn_left', 'empty', 'feel_front', 'wall', 'forward', 'empty', 'forward', 'empty']\n",
      "expected valence : -9.9525\n",
      "valence explo : -7\n",
      "explo ... ['turn_left', 'empty', 'feel_front', 'wall', 'forward', 'empty', 'forward', 'empty']\n",
      "\u001b[0;31m Action: turn_left \u001b[0m, Prediction: empty, Outcome: empty, \u001b[0;31m Satisfaction: True \u001b[0m\n",
      "Training time: 0.3108632564544678\n",
      "\u001b[0;31m Action: feel_front \u001b[0m, Prediction: wall, Outcome: wall, \u001b[0;31m Satisfaction: True \u001b[0m\n",
      "\u001b[0;31m Action: forward \u001b[0m, Prediction: wall, Outcome: wall, \u001b[0;31m Satisfaction: True \u001b[0m\n",
      "Time to compute expective valance: 0.10314178466796875\n",
      "before compute ... model predict : 0.0, explo want : ['forward', 'empty', 'forward', 'empty', 'forward', 'empty', 'forward', 'empty']\n",
      "expected valence : -inf\n",
      "valence explo : 40\n",
      "explo ... ['forward', 'empty', 'forward', 'empty', 'forward', 'empty', 'forward', 'empty']\n",
      "\u001b[0;31m Action: forward \u001b[0m, Prediction: wall, Outcome: wall, \u001b[0;31m Satisfaction: True \u001b[0m\n",
      "Training time: 1.8453068733215332\n",
      "Time to compute expective valance: 11.221697330474854\n",
      "before compute ... model predict : ['turn_right', 'empty', 'forward', 'empty', 'forward', 'empty'], explo want : ['turn_left', 'empty', 'forward', 'empty', 'forward', 'empty', 'forward', 'empty']\n",
      "expected valence : 2.5572999999999997\n",
      "valence explo : 13\n",
      "explo ... ['turn_left', 'empty', 'forward', 'empty', 'forward', 'empty', 'forward', 'empty']\n",
      "\u001b[0;31m Action: turn_left \u001b[0m, Prediction: empty, Outcome: empty, \u001b[0;31m Satisfaction: True \u001b[0m\n",
      "Training time: 0.3557147979736328\n",
      "\u001b[0;31m Action: forward \u001b[0m, Prediction: empty, Outcome: empty, \u001b[0;31m Satisfaction: True \u001b[0m\n",
      "\u001b[0;31m Action: forward \u001b[0m, Prediction: empty, Outcome: empty, \u001b[0;31m Satisfaction: True \u001b[0m\n",
      "\u001b[0;31m Action: forward \u001b[0m, Prediction: wall, Outcome: wall, \u001b[0;31m Satisfaction: True \u001b[0m\n",
      "Time to compute expective valance: 13.434509992599487\n",
      "before compute ... model predict : ['feel_front', 'wall'], explo want : ['feel_front', 'wall', 'turn_right', 'empty', 'forward', 'empty', 'forward', 'empty']\n",
      "expected valence : -9.9595\n",
      "valence explo : -7\n",
      "explo ... ['feel_front', 'wall', 'turn_right', 'empty', 'forward', 'empty', 'forward', 'empty']\n",
      "\u001b[0;31m Action: feel_front \u001b[0m, Prediction: wall, Outcome: wall, \u001b[0;31m Satisfaction: True \u001b[0m\n",
      "Training time: 0.3103647232055664\n",
      "\u001b[0;31m Action: turn_right \u001b[0m, Prediction: empty, Outcome: empty, \u001b[0;31m Satisfaction: True \u001b[0m\n",
      "\u001b[0;31m Action: forward \u001b[0m, Prediction: empty, Outcome: wall, \u001b[0;31m Satisfaction: False \u001b[0m\n",
      "Training time: 6.061547517776489\n",
      "Time to compute expective valance: 0.08867120742797852\n",
      "before compute ... model predict : 0.0, explo want : ['forward', 'empty', 'forward', 'empty', 'forward', 'empty', 'forward', 'empty']\n",
      "expected valence : -inf\n",
      "valence explo : 40\n",
      "explo ... ['forward', 'empty', 'forward', 'empty', 'forward', 'empty', 'forward', 'empty']\n",
      "\u001b[0;31m Action: forward \u001b[0m, Prediction: wall, Outcome: wall, \u001b[0;31m Satisfaction: True \u001b[0m\n",
      "Training time: 6.054543972015381\n",
      "Time to compute expective valance: 6.554122686386108\n",
      "before compute ... model predict : ['forward', 'wall', 'turn_left', 'empty', 'forward', 'empty', 'forward', 'empty'], explo want : ['feel_front', 'wall', 'forward', 'empty', 'forward', 'empty', 'forward', 'empty']\n",
      "expected valence : -77.875\n",
      "valence explo : 20\n",
      "explo ... ['feel_front', 'wall', 'forward', 'empty', 'forward', 'empty', 'forward', 'empty']\n",
      "\u001b[0;31m Action: feel_front \u001b[0m, Prediction: wall, Outcome: wall, \u001b[0;31m Satisfaction: True \u001b[0m\n",
      "Training time: 2.4904685020446777\n",
      "\u001b[0;31m Action: forward \u001b[0m, Prediction: wall, Outcome: wall, \u001b[0;31m Satisfaction: True \u001b[0m\n",
      "Time to compute expective valance: 13.85476803779602\n",
      "before compute ... model predict : ['turn_right', 'empty', 'forward', 'empty', 'forward', 'empty'], explo want : ['turn_right', 'empty', 'feel_front', 'wall', 'forward', 'empty', 'forward', 'empty']\n",
      "expected valence : -2.162899999999997\n",
      "valence explo : -7\n",
      "after compute ... ['turn_right', 'empty', 'forward', 'empty', 'forward', 'empty']\n",
      "\u001b[0;31m Action: turn_right \u001b[0m, Prediction: empty, Outcome: empty, \u001b[0;31m Satisfaction: True \u001b[0m\n",
      "Training time: 0.3205387592315674\n",
      "\u001b[0;31m Action: forward \u001b[0m, Prediction: empty, Outcome: empty, \u001b[0;31m Satisfaction: True \u001b[0m\n",
      "\u001b[0;31m Action: forward \u001b[0m, Prediction: empty, Outcome: empty, \u001b[0;31m Satisfaction: True \u001b[0m\n",
      "Time to compute expective valance: 10.144293785095215\n",
      "before compute ... model predict : ['turn_right', 'empty', 'forward', 'empty', 'forward', 'empty'], explo want : ['turn_left', 'empty', 'forward', 'empty', 'forward', 'empty', 'forward', 'empty']\n",
      "expected valence : 2.548600000000002\n",
      "valence explo : 13\n",
      "explo ... ['turn_left', 'empty', 'forward', 'empty', 'forward', 'empty', 'forward', 'empty']\n",
      "\u001b[0;31m Action: turn_left \u001b[0m, Prediction: empty, Outcome: empty, \u001b[0;31m Satisfaction: True \u001b[0m\n",
      "Training time: 0.3363163471221924\n",
      "\u001b[0;31m Action: forward \u001b[0m, Prediction: wall, Outcome: wall, \u001b[0;31m Satisfaction: True \u001b[0m\n",
      "Time to compute expective valance: 0.09734416007995605\n",
      "before compute ... model predict : 0.0, explo want : ['forward', 'empty', 'forward', 'empty', 'forward', 'empty', 'forward', 'empty']\n",
      "expected valence : -inf\n",
      "valence explo : 40\n",
      "explo ... ['forward', 'empty', 'forward', 'empty', 'forward', 'empty', 'forward', 'empty']\n",
      "\u001b[0;31m Action: forward \u001b[0m, Prediction: wall, Outcome: wall, \u001b[0;31m Satisfaction: True \u001b[0m\n",
      "Training time: 0.6212601661682129\n",
      "Time to compute expective valance: 6.658055782318115\n",
      "before compute ... model predict : ['forward', 'wall', 'turn_left', 'empty', 'forward', 'empty', 'forward', 'empty'], explo want : ['feel_front', 'wall', 'forward', 'empty', 'forward', 'empty', 'forward', 'empty']\n",
      "expected valence : -77.5015\n",
      "valence explo : 20\n",
      "explo ... ['feel_front', 'wall', 'forward', 'empty', 'forward', 'empty', 'forward', 'empty']\n",
      "\u001b[0;31m Action: feel_front \u001b[0m, Prediction: wall, Outcome: wall, \u001b[0;31m Satisfaction: True \u001b[0m\n",
      "Training time: 0.3175790309906006\n",
      "\u001b[0;31m Action: forward \u001b[0m, Prediction: wall, Outcome: wall, \u001b[0;31m Satisfaction: True \u001b[0m\n",
      "Time to compute expective valance: 14.790513277053833\n",
      "before compute ... model predict : ['turn_right', 'empty', 'forward', 'empty', 'forward', 'empty'], explo want : ['turn_right', 'empty', 'feel_front', 'wall', 'forward', 'empty', 'forward', 'empty']\n",
      "expected valence : -1.2236000000000002\n",
      "valence explo : -7\n",
      "after compute ... ['turn_right', 'empty', 'forward', 'empty', 'forward', 'empty']\n",
      "\u001b[0;31m Action: turn_right \u001b[0m, Prediction: empty, Outcome: empty, \u001b[0;31m Satisfaction: True \u001b[0m\n",
      "Training time: 0.3180081844329834\n",
      "\u001b[0;31m Action: forward \u001b[0m, Prediction: empty, Outcome: wall, \u001b[0;31m Satisfaction: False \u001b[0m\n",
      "Training time: 6.119391202926636\n",
      "Time to compute expective valance: 8.480361461639404\n",
      "before compute ... model predict : ['feel_front', 'wall'], explo want : ['turn_right', 'empty', 'forward', 'empty', 'forward', 'empty', 'forward', 'empty']\n",
      "expected valence : -9.9407\n",
      "valence explo : 13\n",
      "explo ... ['turn_right', 'empty', 'forward', 'empty', 'forward', 'empty', 'forward', 'empty']\n",
      "\u001b[0;31m Action: turn_right \u001b[0m, Prediction: empty, Outcome: empty, \u001b[0;31m Satisfaction: True \u001b[0m\n",
      "Training time: 6.1428542137146\n",
      "\u001b[0;31m Action: forward \u001b[0m, Prediction: empty, Outcome: empty, \u001b[0;31m Satisfaction: True \u001b[0m\n",
      "\u001b[0;31m Action: forward \u001b[0m, Prediction: empty, Outcome: empty, \u001b[0;31m Satisfaction: True \u001b[0m\n",
      "\u001b[0;31m Action: forward \u001b[0m, Prediction: wall, Outcome: wall, \u001b[0;31m Satisfaction: True \u001b[0m\n",
      "Time to compute expective valance: 15.068271160125732\n",
      "before compute ... model predict : ['turn_right', 'empty', 'feel_front', 'empty', 'forward', 'empty', 'forward', 'empty'], explo want : ['feel_front', 'wall', 'turn_left', 'empty', 'forward', 'empty', 'forward', 'empty']\n",
      "expected valence : -8.7675\n",
      "valence explo : -7\n",
      "explo ... ['feel_front', 'wall', 'turn_left', 'empty', 'forward', 'empty', 'forward', 'empty']\n",
      "\u001b[0;31m Action: feel_front \u001b[0m, Prediction: wall, Outcome: wall, \u001b[0;31m Satisfaction: True \u001b[0m\n",
      "Training time: 6.0800042152404785\n",
      "\u001b[0;31m Action: turn_left \u001b[0m, Prediction: empty, Outcome: empty, \u001b[0;31m Satisfaction: True \u001b[0m\n",
      "\u001b[0;31m Action: forward \u001b[0m, Prediction: wall, Outcome: wall, \u001b[0;31m Satisfaction: True \u001b[0m\n",
      "Time to compute expective valance: 0.09561300277709961\n",
      "before compute ... model predict : 0.0, explo want : ['forward', 'empty', 'forward', 'empty', 'forward', 'empty', 'forward', 'empty']\n",
      "expected valence : -inf\n",
      "valence explo : 40\n",
      "explo ... ['forward', 'empty', 'forward', 'empty', 'forward', 'empty', 'forward', 'empty']\n",
      "\u001b[0;31m Action: forward \u001b[0m, Prediction: wall, Outcome: wall, \u001b[0;31m Satisfaction: True \u001b[0m\n",
      "Training time: 6.169438362121582\n",
      "Time to compute expective valance: 11.140209436416626\n",
      "before compute ... model predict : ['feel_front', 'wall'], explo want : ['turn_right', 'empty', 'forward', 'empty', 'forward', 'empty', 'forward', 'empty']\n",
      "expected valence : -9.9969\n",
      "valence explo : 13\n",
      "explo ... ['turn_right', 'empty', 'forward', 'empty', 'forward', 'empty', 'forward', 'empty']\n",
      "\u001b[0;31m Action: turn_right \u001b[0m, Prediction: empty, Outcome: empty, \u001b[0;31m Satisfaction: True \u001b[0m\n",
      "Training time: 6.442999839782715\n",
      "\u001b[0;31m Action: forward \u001b[0m, Prediction: empty, Outcome: wall, \u001b[0;31m Satisfaction: False \u001b[0m\n",
      "Training time: 6.169801473617554\n",
      "Time to compute expective valance: 12.021276712417603\n",
      "before compute ... model predict : ['turn_right', 'empty', 'forward', 'empty', 'forward', 'empty'], explo want : ['turn_left', 'empty', 'forward', 'empty', 'forward', 'empty', 'forward', 'empty']\n",
      "expected valence : 2.9292999999999996\n",
      "valence explo : 13\n",
      "explo ... ['turn_left', 'empty', 'forward', 'empty', 'forward', 'empty', 'forward', 'empty']\n",
      "\u001b[0;31m Action: turn_left \u001b[0m, Prediction: empty, Outcome: empty, \u001b[0;31m Satisfaction: True \u001b[0m\n",
      "Training time: 8.057936668395996\n",
      "\u001b[0;31m Action: forward \u001b[0m, Prediction: wall, Outcome: wall, \u001b[0;31m Satisfaction: True \u001b[0m\n",
      "Time to compute expective valance: 10.898035287857056\n",
      "before compute ... model predict : ['feel_front', 'wall'], explo want : ['turn_right', 'empty', 'forward', 'empty', 'forward', 'empty', 'forward', 'empty']\n",
      "expected valence : -9.9802\n",
      "valence explo : 13\n",
      "explo ... ['turn_right', 'empty', 'forward', 'empty', 'forward', 'empty', 'forward', 'empty']\n",
      "\u001b[0;31m Action: turn_right \u001b[0m, Prediction: empty, Outcome: empty, \u001b[0;31m Satisfaction: True \u001b[0m\n",
      "Training time: 6.335420608520508\n",
      "\u001b[0;31m Action: forward \u001b[0m, Prediction: empty, Outcome: wall, \u001b[0;31m Satisfaction: False \u001b[0m\n",
      "Training time: 6.291895627975464\n",
      "Time to compute expective valance: 12.674205780029297\n",
      "before compute ... model predict : ['turn_right', 'empty', 'forward', 'empty', 'forward', 'empty'], explo want : ['feel_front', 'wall', 'feel_front', 'wall', 'forward', 'empty', 'forward', 'empty']\n",
      "expected valence : 2.6973999999999982\n",
      "valence explo : 0\n",
      "after compute ... ['turn_right', 'empty', 'forward', 'empty', 'forward', 'empty']\n",
      "\u001b[0;31m Action: turn_right \u001b[0m, Prediction: empty, Outcome: empty, \u001b[0;31m Satisfaction: True \u001b[0m\n",
      "Training time: 6.358607530593872\n",
      "\u001b[0;31m Action: forward \u001b[0m, Prediction: empty, Outcome: empty, \u001b[0;31m Satisfaction: True \u001b[0m\n"
     ]
    }
   ],
   "source": [
    "# torch.manual_seed(0)\n",
    "# np.random.seed(0)\n",
    "\n",
    "outcome = environenment.outcome(agent.action_choice)\n",
    "\n",
    "for i in tqdm(range(150)):\n",
    "    action, predi = agent.action(outcome, verbose=True)\n",
    "    df = agent.prealloc_df\n",
    "    df_val = agent.visu_val\n",
    "    df_explo = agent.visu_explo\n",
    "    outcome = environenment.outcome(action)\n",
    "    history_good.append(outcome == predi)\n",
    "    history_good_inter.append((action == 'forward' and outcome == 'empty'))\n",
    "    history_bad_inter.append((action == 'forward' and outcome == 'wall'))\n",
    "    hisrory_val.append(valence[inter(action, outcome)])\n",
    "    pourcent_by_10.append(sum(history_good[-10:]) * 10 if len(history_good) >= 10 else 0)\n",
    "    by_10_good_inter.append(sum(history_good_inter[-10:]) if len(history_good_inter) >= 10 else 0)\n",
    "    by_10_bad_inter.append(sum(history_bad_inter[-10:]) if len(history_bad_inter) >= 10 else 0)\n",
    "    mean_val.append(np.mean(hisrory_val[-10:]) if len(hisrory_val) >= 10 else 0)\n",
    "    environenment.save_world()\n",
    "    \n",
    "pourcent_by_10 = pourcent_by_10[10:]\n",
    "by_10_good_inter = by_10_good_inter[10:]\n",
    "by_10_bad_inter = by_10_bad_inter[10:]\n",
    "mean_val = mean_val[10:]\n",
    "\n",
    "    \n",
    "# for i in tqdm(range(40)):\n",
    "#     action, predi = agent.action(outcome, verbose=True, explore=False)\n",
    "#     outcome = environenment.outcome(action)\n",
    "#     history_good.append(outcome == predi)\n",
    "#     pourcent_by_10.append(sum(history_good[-10:]) * 10 if len(history_good) >= 10 else 0)\n",
    "#     # env_test2.display_world(out)\n",
    "#     environenment.save_world()"
   ]
  },
  {
   "cell_type": "code",
   "execution_count": 10,
   "metadata": {},
   "outputs": [
    {
     "data": {
      "text/plain": [
       "[[('turn_left', 'empty'), ('turn_right', 'empty')]]"
      ]
     },
     "execution_count": 10,
     "metadata": {},
     "output_type": "execute_result"
    }
   ],
   "source": [
    "def subfinder(mylist, pattern):\n",
    "    matches = []\n",
    "    for i in range(len(mylist)):\n",
    "        if mylist[i] == pattern[0] and mylist[i:i+len(pattern)] == pattern:\n",
    "            matches.append(pattern)\n",
    "    return matches\n",
    "\n",
    "subfinder([('turn_left', 'empty'), ('turn_left', 'empty'), ('turn_right', 'empty'), ('turn_right', 'empty')],\n",
    "          [('turn_left', 'empty'), ('turn_right', 'empty')])\n"
   ]
  },
  {
   "cell_type": "code",
   "execution_count": 11,
   "metadata": {},
   "outputs": [
    {
     "name": "stdout",
     "output_type": "stream",
     "text": [
      "[\"('turn_right', 'empty')\", \"('forward', 'empty')\", \"('forward', 'wall')\", \"('forward', 'wall')\", \"('forward', 'wall')\", \"('forward', 'wall')\", \"('forward', 'wall')\", \"('forward', 'wall')\", \"('forward', 'wall')\", \"('forward', 'wall')\", \"('forward', 'wall')\", \"('forward', 'wall')\", \"('forward', 'wall')\", \"('forward', 'wall')\", \"('forward', 'wall')\", \"('forward', 'wall')\", \"('forward', 'wall')\", \"('forward', 'wall')\", \"('forward', 'wall')\", \"('forward', 'wall')\", \"('forward', 'wall')\", \"('forward', 'wall')\", \"('forward', 'wall')\", \"('forward', 'wall')\", \"('forward', 'wall')\", \"('forward', 'wall')\", \"('forward', 'wall')\", \"('forward', 'wall')\", \"('forward', 'wall')\", \"('forward', 'wall')\", \"('forward', 'wall')\", \"('feel_front', 'wall')\", \"('forward', 'wall')\", \"('forward', 'wall')\", \"('forward', 'wall')\", \"('turn_right', 'empty')\", \"('forward', 'empty')\", \"('forward', 'empty')\", \"('forward', 'wall')\", \"('forward', 'wall')\", \"('feel_front', 'wall')\", \"('forward', 'wall')\", \"('feel_front', 'wall')\", \"('forward', 'wall')\", \"('turn_right', 'empty')\", \"('forward', 'empty')\", \"('forward', 'empty')\", \"('forward', 'wall')\", \"('feel_front', 'wall')\", \"('forward', 'wall')\", \"('turn_left', 'empty')\", \"('forward', 'wall')\", \"('forward', 'wall')\", \"('forward', 'wall')\", \"('turn_left', 'empty')\", \"('forward', 'empty')\", \"('forward', 'empty')\", \"('forward', 'wall')\", \"('turn_right', 'empty')\", \"('forward', 'wall')\", \"('forward', 'wall')\", \"('forward', 'wall')\", \"('feel_front', 'wall')\", \"('feel_front', 'wall')\", \"('forward', 'wall')\", \"('forward', 'wall')\", \"('feel_front', 'wall')\", \"('forward', 'wall')\", \"('feel_front', 'wall')\", \"('feel_front', 'wall')\", \"('forward', 'wall')\", \"('feel_front', 'wall')\", \"('forward', 'wall')\", \"('turn_right', 'empty')\", \"('forward', 'empty')\", \"('forward', 'empty')\", \"('feel_front', 'wall')\", \"('forward', 'wall')\", \"('forward', 'wall')\", \"('turn_right', 'empty')\", \"('forward', 'empty')\", \"('forward', 'empty')\", \"('forward', 'wall')\", \"('turn_left', 'empty')\", \"('forward', 'wall')\", \"('feel_front', 'wall')\", \"('forward', 'wall')\", \"('turn_right', 'empty')\", \"('forward', 'wall')\", \"('feel_front', 'wall')\", \"('forward', 'wall')\", \"('turn_right', 'empty')\", \"('forward', 'empty')\", \"('forward', 'empty')\", \"('turn_right', 'empty')\", \"('forward', 'empty')\", \"('forward', 'empty')\", \"('forward', 'wall')\", \"('feel_front', 'wall')\", \"('feel_front', 'wall')\", \"('forward', 'wall')\", \"('turn_right', 'empty')\", \"('forward', 'empty')\", \"('forward', 'empty')\", \"('forward', 'wall')\", \"('turn_right', 'empty')\", \"('feel_front', 'empty')\", \"('forward', 'empty')\", \"('forward', 'empty')\", \"('forward', 'wall')\", \"('turn_left', 'empty')\", \"('feel_front', 'wall')\", \"('forward', 'wall')\", \"('forward', 'wall')\", \"('turn_left', 'empty')\", \"('forward', 'empty')\", \"('forward', 'empty')\", \"('forward', 'wall')\", \"('feel_front', 'wall')\", \"('turn_right', 'empty')\", \"('forward', 'wall')\", \"('forward', 'wall')\", \"('feel_front', 'wall')\", \"('forward', 'wall')\", \"('turn_right', 'empty')\", \"('forward', 'empty')\", \"('forward', 'empty')\", \"('turn_left', 'empty')\", \"('forward', 'wall')\", \"('forward', 'wall')\", \"('feel_front', 'wall')\", \"('forward', 'wall')\", \"('turn_right', 'empty')\", \"('forward', 'wall')\", \"('turn_right', 'empty')\", \"('forward', 'empty')\", \"('forward', 'empty')\", \"('forward', 'wall')\", \"('feel_front', 'wall')\", \"('turn_left', 'empty')\", \"('forward', 'wall')\", \"('forward', 'wall')\", \"('turn_right', 'empty')\", \"('forward', 'wall')\", \"('turn_left', 'empty')\", \"('forward', 'wall')\", \"('turn_right', 'empty')\", \"('forward', 'wall')\", \"('turn_right', 'empty')\", \"('forward', 'empty')\"]\n"
     ]
    }
   ],
   "source": [
    "print([str(i) for i in zip(agent.history_act, agent.history_fb)])"
   ]
  },
  {
   "cell_type": "code",
   "execution_count": 12,
   "metadata": {},
   "outputs": [
    {
     "data": {
      "image/png": "[encoded data removed]",
      "text/plain": [
       "<Figure size 640x480 with 1 Axes>"
      ]
     },
     "metadata": {},
     "output_type": "display_data"
    },
    {
     "data": {
      "image/png": "[encoded data removed]",
      "text/plain": [
       "<Figure size 640x480 with 1 Axes>"
      ]
     },
     "metadata": {},
     "output_type": "display_data"
    },
    {
     "data": {
      "image/png": "[encoded data removed]",
      "text/plain": [
       "<Figure size 640x480 with 1 Axes>"
      ]
     },
     "metadata": {},
     "output_type": "display_data"
    },
    {
     "data": {
      "image/png": "[encoded data removed]",
      "text/plain": [
       "<Figure size 640x480 with 1 Axes>"
      ]
     },
     "metadata": {},
     "output_type": "display_data"
    },
    {
     "data": {
      "image/png": "[encoded data removed]",
      "text/plain": [
       "<Figure size 640x480 with 1 Axes>"
      ]
     },
     "metadata": {},
     "output_type": "display_data"
    },
    {
     "data": {
      "image/png": "[encoded data removed]",
      "text/plain": [
       "<Figure size 640x480 with 1 Axes>"
      ]
     },
     "metadata": {},
     "output_type": "display_data"
    },
    {
     "data": {
      "image/png": "[encoded data removed]",
      "text/plain": [
       "<Figure size 640x480 with 1 Axes>"
      ]
     },
     "metadata": {},
     "output_type": "display_data"
    }
   ],
   "source": [
    "see_evolued_loss(agent.loss_train)\n",
    "see_evolued_loss(agent.loss_val)\n",
    "see_evolued_acc(agent.acc_train)\n",
    "see_evolued_acc(agent.acc_val)\n",
    "\n",
    "see_evolued_acc(agent.time_train)\n",
    "see_evolued_acc(agent.time_compute_expected_valence)\n",
    "\n",
    "pourcent_by_10 = [i / 10 for i in pourcent_by_10]\n",
    "plt.plot(by_10_bad_inter, label=f'bad inter', color='red')\n",
    "plt.plot(by_10_good_inter, label=f'good inter', color='green')\n",
    "plt.plot(pourcent_by_10, label=f'global', color='blue')\n",
    "plt.plot(mean_val, label=f'mean valence', color='black')\n",
    "plt.show()\n",
    "plt.close()\n",
    "\n"
   ]
  },
  {
   "cell_type": "code",
   "execution_count": 13,
   "metadata": {},
   "outputs": [
    {
     "data": {
      "application/vnd.plotly.v1+json": {
       "config": {
        "linkText": "Export to plot.ly",
        "plotlyServerURL": "https://plot.ly",
        "showLink": false
       },
       "data": [
        {
         "mode": "markers",
         "text": [
          "wall",
          "empty",
          "forward",
          "turn_left",
          "turn_right",
          "feel_front"
         ],
         "type": "scatter",
         "x": {
          "bdata": "I/EywaroCsIyOFRAxc4OQkNhucCicwFC",
          "dtype": "f4"
         },
         "y": {
          "bdata": "xNoMwmrVO0A3dJE85v+fQRJPFEJG+MXB",
          "dtype": "f4"
         }
        }
       ],
       "layout": {
        "hovermode": "closest",
        "template": {
         "data": {
          "bar": [
           {
            "error_x": {
             "color": "#2a3f5f"
            },
            "error_y": {
             "color": "#2a3f5f"
            },
            "marker": {
             "line": {
              "color": "#E5ECF6",
              "width": 0.5
             },
             "pattern": {
              "fillmode": "overlay",
              "size": 10,
              "solidity": 0.2
             }
            },
            "type": "bar"
           }
          ],
          "barpolar": [
           {
            "marker": {
             "line": {
              "color": "#E5ECF6",
              "width": 0.5
             },
             "pattern": {
              "fillmode": "overlay",
              "size": 10,
              "solidity": 0.2
             }
            },
            "type": "barpolar"
           }
          ],
          "carpet": [
           {
            "aaxis": {
             "endlinecolor": "#2a3f5f",
             "gridcolor": "white",
             "linecolor": "white",
             "minorgridcolor": "white",
             "startlinecolor": "#2a3f5f"
            },
            "baxis": {
             "endlinecolor": "#2a3f5f",
             "gridcolor": "white",
             "linecolor": "white",
             "minorgridcolor": "white",
             "startlinecolor": "#2a3f5f"
            },
            "type": "carpet"
           }
          ],
          "choropleth": [
           {
            "colorbar": {
             "outlinewidth": 0,
             "ticks": ""
            },
            "type": "choropleth"
           }
          ],
          "contour": [
           {
            "colorbar": {
             "outlinewidth": 0,
             "ticks": ""
            },
            "colorscale": [
             [
              0,
              "#0d0887"
             ],
             [
              0.1111111111111111,
              "#46039f"
             ],
             [
              0.2222222222222222,
              "#7201a8"
             ],
             [
              0.3333333333333333,
              "#9c179e"
             ],
             [
              0.4444444444444444,
              "#bd3786"
             ],
             [
              0.5555555555555556,
              "#d8576b"
             ],
             [
              0.6666666666666666,
              "#ed7953"
             ],
             [
              0.7777777777777778,
              "#fb9f3a"
             ],
             [
              0.8888888888888888,
              "#fdca26"
             ],
             [
              1,
              "#f0f921"
             ]
            ],
            "type": "contour"
           }
          ],
          "contourcarpet": [
           {
            "colorbar": {
             "outlinewidth": 0,
             "ticks": ""
            },
            "type": "contourcarpet"
           }
          ],
          "heatmap": [
           {
            "colorbar": {
             "outlinewidth": 0,
             "ticks": ""
            },
            "colorscale": [
             [
              0,
              "#0d0887"
             ],
             [
              0.1111111111111111,
              "#46039f"
             ],
             [
              0.2222222222222222,
              "#7201a8"
             ],
             [
              0.3333333333333333,
              "#9c179e"
             ],
             [
              0.4444444444444444,
              "#bd3786"
             ],
             [
              0.5555555555555556,
              "#d8576b"
             ],
             [
              0.6666666666666666,
              "#ed7953"
             ],
             [
              0.7777777777777778,
              "#fb9f3a"
             ],
             [
              0.8888888888888888,
              "#fdca26"
             ],
             [
              1,
              "#f0f921"
             ]
            ],
            "type": "heatmap"
           }
          ],
          "histogram": [
           {
            "marker": {
             "pattern": {
              "fillmode": "overlay",
              "size": 10,
              "solidity": 0.2
             }
            },
            "type": "histogram"
           }
          ],
          "histogram2d": [
           {
            "colorbar": {
             "outlinewidth": 0,
             "ticks": ""
            },
            "colorscale": [
             [
              0,
              "#0d0887"
             ],
             [
              0.1111111111111111,
              "#46039f"
             ],
             [
              0.2222222222222222,
              "#7201a8"
             ],
             [
              0.3333333333333333,
              "#9c179e"
             ],
             [
              0.4444444444444444,
              "#bd3786"
             ],
             [
              0.5555555555555556,
              "#d8576b"
             ],
             [
              0.6666666666666666,
              "#ed7953"
             ],
             [
              0.7777777777777778,
              "#fb9f3a"
             ],
             [
              0.8888888888888888,
              "#fdca26"
             ],
             [
              1,
              "#f0f921"
             ]
            ],
            "type": "histogram2d"
           }
          ],
          "histogram2dcontour": [
           {
            "colorbar": {
             "outlinewidth": 0,
             "ticks": ""
            },
            "colorscale": [
             [
              0,
              "#0d0887"
             ],
             [
              0.1111111111111111,
              "#46039f"
             ],
             [
              0.2222222222222222,
              "#7201a8"
             ],
             [
              0.3333333333333333,
              "#9c179e"
             ],
             [
              0.4444444444444444,
              "#bd3786"
             ],
             [
              0.5555555555555556,
              "#d8576b"
             ],
             [
              0.6666666666666666,
              "#ed7953"
             ],
             [
              0.7777777777777778,
              "#fb9f3a"
             ],
             [
              0.8888888888888888,
              "#fdca26"
             ],
             [
              1,
              "#f0f921"
             ]
            ],
            "type": "histogram2dcontour"
           }
          ],
          "mesh3d": [
           {
            "colorbar": {
             "outlinewidth": 0,
             "ticks": ""
            },
            "type": "mesh3d"
           }
          ],
          "parcoords": [
           {
            "line": {
             "colorbar": {
              "outlinewidth": 0,
              "ticks": ""
             }
            },
            "type": "parcoords"
           }
          ],
          "pie": [
           {
            "automargin": true,
            "type": "pie"
           }
          ],
          "scatter": [
           {
            "fillpattern": {
             "fillmode": "overlay",
             "size": 10,
             "solidity": 0.2
            },
            "type": "scatter"
           }
          ],
          "scatter3d": [
           {
            "line": {
             "colorbar": {
              "outlinewidth": 0,
              "ticks": ""
             }
            },
            "marker": {
             "colorbar": {
              "outlinewidth": 0,
              "ticks": ""
             }
            },
            "type": "scatter3d"
           }
          ],
          "scattercarpet": [
           {
            "marker": {
             "colorbar": {
              "outlinewidth": 0,
              "ticks": ""
             }
            },
            "type": "scattercarpet"
           }
          ],
          "scattergeo": [
           {
            "marker": {
             "colorbar": {
              "outlinewidth": 0,
              "ticks": ""
             }
            },
            "type": "scattergeo"
           }
          ],
          "scattergl": [
           {
            "marker": {
             "colorbar": {
              "outlinewidth": 0,
              "ticks": ""
             }
            },
            "type": "scattergl"
           }
          ],
          "scattermap": [
           {
            "marker": {
             "colorbar": {
              "outlinewidth": 0,
              "ticks": ""
             }
            },
            "type": "scattermap"
           }
          ],
          "scattermapbox": [
           {
            "marker": {
             "colorbar": {
              "outlinewidth": 0,
              "ticks": ""
             }
            },
            "type": "scattermapbox"
           }
          ],
          "scatterpolar": [
           {
            "marker": {
             "colorbar": {
              "outlinewidth": 0,
              "ticks": ""
             }
            },
            "type": "scatterpolar"
           }
          ],
          "scatterpolargl": [
           {
            "marker": {
             "colorbar": {
              "outlinewidth": 0,
              "ticks": ""
             }
            },
            "type": "scatterpolargl"
           }
          ],
          "scatterternary": [
           {
            "marker": {
             "colorbar": {
              "outlinewidth": 0,
              "ticks": ""
             }
            },
            "type": "scatterternary"
           }
          ],
          "surface": [
           {
            "colorbar": {
             "outlinewidth": 0,
             "ticks": ""
            },
            "colorscale": [
             [
              0,
              "#0d0887"
             ],
             [
              0.1111111111111111,
              "#46039f"
             ],
             [
              0.2222222222222222,
              "#7201a8"
             ],
             [
              0.3333333333333333,
              "#9c179e"
             ],
             [
              0.4444444444444444,
              "#bd3786"
             ],
             [
              0.5555555555555556,
              "#d8576b"
             ],
             [
              0.6666666666666666,
              "#ed7953"
             ],
             [
              0.7777777777777778,
              "#fb9f3a"
             ],
             [
              0.8888888888888888,
              "#fdca26"
             ],
             [
              1,
              "#f0f921"
             ]
            ],
            "type": "surface"
           }
          ],
          "table": [
           {
            "cells": {
             "fill": {
              "color": "#EBF0F8"
             },
             "line": {
              "color": "white"
             }
            },
            "header": {
             "fill": {
              "color": "#C8D4E3"
             },
             "line": {
              "color": "white"
             }
            },
            "type": "table"
           }
          ]
         },
         "layout": {
          "annotationdefaults": {
           "arrowcolor": "#2a3f5f",
           "arrowhead": 0,
           "arrowwidth": 1
          },
          "autotypenumbers": "strict",
          "coloraxis": {
           "colorbar": {
            "outlinewidth": 0,
            "ticks": ""
           }
          },
          "colorscale": {
           "diverging": [
            [
             0,
             "#8e0152"
            ],
            [
             0.1,
             "#c51b7d"
            ],
            [
             0.2,
             "#de77ae"
            ],
            [
             0.3,
             "#f1b6da"
            ],
            [
             0.4,
             "#fde0ef"
            ],
            [
             0.5,
             "#f7f7f7"
            ],
            [
             0.6,
             "#e6f5d0"
            ],
            [
             0.7,
             "#b8e186"
            ],
            [
             0.8,
             "#7fbc41"
            ],
            [
             0.9,
             "#4d9221"
            ],
            [
             1,
             "#276419"
            ]
           ],
           "sequential": [
            [
             0,
             "#0d0887"
            ],
            [
             0.1111111111111111,
             "#46039f"
            ],
            [
             0.2222222222222222,
             "#7201a8"
            ],
            [
             0.3333333333333333,
             "#9c179e"
            ],
            [
             0.4444444444444444,
             "#bd3786"
            ],
            [
             0.5555555555555556,
             "#d8576b"
            ],
            [
             0.6666666666666666,
             "#ed7953"
            ],
            [
             0.7777777777777778,
             "#fb9f3a"
            ],
            [
             0.8888888888888888,
             "#fdca26"
            ],
            [
             1,
             "#f0f921"
            ]
           ],
           "sequentialminus": [
            [
             0,
             "#0d0887"
            ],
            [
             0.1111111111111111,
             "#46039f"
            ],
            [
             0.2222222222222222,
             "#7201a8"
            ],
            [
             0.3333333333333333,
             "#9c179e"
            ],
            [
             0.4444444444444444,
             "#bd3786"
            ],
            [
             0.5555555555555556,
             "#d8576b"
            ],
            [
             0.6666666666666666,
             "#ed7953"
            ],
            [
             0.7777777777777778,
             "#fb9f3a"
            ],
            [
             0.8888888888888888,
             "#fdca26"
            ],
            [
             1,
             "#f0f921"
            ]
           ]
          },
          "colorway": [
           "#636efa",
           "#EF553B",
           "#00cc96",
           "#ab63fa",
           "#FFA15A",
           "#19d3f3",
           "#FF6692",
           "#B6E880",
           "#FF97FF",
           "#FECB52"
          ],
          "font": {
           "color": "#2a3f5f"
          },
          "geo": {
           "bgcolor": "white",
           "lakecolor": "white",
           "landcolor": "#E5ECF6",
           "showlakes": true,
           "showland": true,
           "subunitcolor": "white"
          },
          "hoverlabel": {
           "align": "left"
          },
          "hovermode": "closest",
          "mapbox": {
           "style": "light"
          },
          "paper_bgcolor": "white",
          "plot_bgcolor": "#E5ECF6",
          "polar": {
           "angularaxis": {
            "gridcolor": "white",
            "linecolor": "white",
            "ticks": ""
           },
           "bgcolor": "#E5ECF6",
           "radialaxis": {
            "gridcolor": "white",
            "linecolor": "white",
            "ticks": ""
           }
          },
          "scene": {
           "xaxis": {
            "backgroundcolor": "#E5ECF6",
            "gridcolor": "white",
            "gridwidth": 2,
            "linecolor": "white",
            "showbackground": true,
            "ticks": "",
            "zerolinecolor": "white"
           },
           "yaxis": {
            "backgroundcolor": "#E5ECF6",
            "gridcolor": "white",
            "gridwidth": 2,
            "linecolor": "white",
            "showbackground": true,
            "ticks": "",
            "zerolinecolor": "white"
           },
           "zaxis": {
            "backgroundcolor": "#E5ECF6",
            "gridcolor": "white",
            "gridwidth": 2,
            "linecolor": "white",
            "showbackground": true,
            "ticks": "",
            "zerolinecolor": "white"
           }
          },
          "shapedefaults": {
           "line": {
            "color": "#2a3f5f"
           }
          },
          "ternary": {
           "aaxis": {
            "gridcolor": "white",
            "linecolor": "white",
            "ticks": ""
           },
           "baxis": {
            "gridcolor": "white",
            "linecolor": "white",
            "ticks": ""
           },
           "bgcolor": "#E5ECF6",
           "caxis": {
            "gridcolor": "white",
            "linecolor": "white",
            "ticks": ""
           }
          },
          "title": {
           "x": 0.05
          },
          "xaxis": {
           "automargin": true,
           "gridcolor": "white",
           "linecolor": "white",
           "ticks": "",
           "title": {
            "standoff": 15
           },
           "zerolinecolor": "white",
           "zerolinewidth": 2
          },
          "yaxis": {
           "automargin": true,
           "gridcolor": "white",
           "linecolor": "white",
           "ticks": "",
           "title": {
            "standoff": 15
           },
           "zerolinecolor": "white",
           "zerolinewidth": 2
          }
         }
        },
        "title": {
         "text": "t-SNE 1 vs t-SNE 2"
        },
        "xaxis": {
         "title": {
          "text": "t-SNE 1"
         }
        },
        "yaxis": {
         "title": {
          "text": "t-SNE 2"
         }
        }
       }
      }
     },
     "metadata": {},
     "output_type": "display_data"
    }
   ],
   "source": [
    "from sklearn.manifold import TSNE\n",
    "import plotly.graph_objs as go\n",
    "import plotly.offline as py\n",
    "\n",
    "# Get weights\n",
    "embds = agent.model.embedding.weight.detach().cpu().numpy()\n",
    "\n",
    "# Plotting function\n",
    "def plot_words(data, start, stop, step):\n",
    "    trace = go.Scatter(\n",
    "        x = data[start:stop:step, 0], \n",
    "        y = data[start:stop:step, 1],\n",
    "        mode = 'markers',\n",
    "        text = [tokenizer.decode(i) for i in range(start, stop, step)]\n",
    "    )\n",
    "    layout = dict(title= 't-SNE 1 vs t-SNE 2',\n",
    "                  yaxis = dict(title='t-SNE 2'),\n",
    "                  xaxis = dict(title='t-SNE 1'),\n",
    "                  hovermode= 'closest')\n",
    "    fig = dict(data = [trace], layout= layout)\n",
    "    py.iplot(fig)\n",
    "\n",
    "# Visualize words in two dimensions \n",
    "# Set perplexity to a value less than the number of samples\n",
    "perplexity_value = min(30, len(embds) - 1)  # Ensure perplexity is less than the number of samples\n",
    "conv_tsne_embds = TSNE(n_components=2, perplexity=5).fit_transform(embds)\n",
    "plot_words(conv_tsne_embds, 0, len(embds), 1)"
   ]
  },
  {
   "cell_type": "code",
   "execution_count": null,
   "metadata": {},
   "outputs": [],
   "source": []
  },
  {
   "cell_type": "code",
   "execution_count": null,
   "metadata": {},
   "outputs": [],
   "source": []
  }
 ],
 "metadata": {
  "kernelspec": {
   "display_name": "Stage (torch)",
   "language": "python",
   "name": "dpt_transformers"
  },
  "language_info": {
   "codemirror_mode": {
    "name": "ipython",
    "version": 3
   },
   "file_extension": ".py",
   "mimetype": "text/x-python",
   "name": "python",
   "nbconvert_exporter": "python",
   "pygments_lexer": "ipython3",
   "version": "3.11.2"
  }
 },
 "nbformat": 4,
 "nbformat_minor": 2
}
