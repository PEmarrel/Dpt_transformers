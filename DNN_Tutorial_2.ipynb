{
 "cells": [
  {
   "cell_type": "markdown",
   "id": "08b65c0d-9446-4219-9edc-7eee31dbde36",
   "metadata": {},
   "source": [
    "# DNN POUR CONTEXTE D'UN CYCLE D'INTERACTION"
   ]
  },
  {
   "cell_type": "markdown",
   "id": "ea4dfcfe-a8e6-47c5-91f0-4d2071498df1",
   "metadata": {},
   "source": [
    "Tentive encore infructueuse"
   ]
  },
  {
   "cell_type": "markdown",
   "id": "83329c47-b6b8-4720-a992-b1fd3eb7013f",
   "metadata": {},
   "source": [
    "# On crée le modèle"
   ]
  },
  {
   "cell_type": "markdown",
   "id": "c77d524e-474f-4109-9381-aa88e2fb926b",
   "metadata": {},
   "source": [
    "Exemple: une couche de 10 neurones et une couche de 5 :"
   ]
  },
  {
   "cell_type": "code",
   "execution_count": 470,
   "id": "6903ecbd-2781-47df-9e24-9193a6797dd3",
   "metadata": {},
   "outputs": [],
   "source": [
    "hidden_size = [10, 5]"
   ]
  },
  {
   "cell_type": "code",
   "execution_count": 471,
   "id": "f69bfbe4-f786-493b-862a-1eaed8541971",
   "metadata": {},
   "outputs": [
    {
     "name": "stdout",
     "output_type": "stream",
     "text": [
      "liste hidden init [10, 5]\n"
     ]
    },
    {
     "data": {
      "text/plain": [
       "DeepNetwork(\n",
       "  (fc1): Linear(in_features=3, out_features=10, bias=True)\n",
       "  (hidden_layers): ModuleList(\n",
       "    (0): Linear(in_features=10, out_features=5, bias=True)\n",
       "  )\n",
       "  (fc4): Linear(in_features=5, out_features=2, bias=True)\n",
       ")"
      ]
     },
     "execution_count": 471,
     "metadata": {},
     "output_type": "execute_result"
    }
   ],
   "source": [
    "# Importe le modèle préparé par PE\n",
    "from model.DeepNN import DeepNetwork\n",
    "\n",
    "# Entrée: 3 previous_action, previous_outcome, action \n",
    "# Sortie: 2 probabilités (une pour chaque outcome)\n",
    "model_ML = DeepNetwork(hidden_size=hidden_size, input_size=3, output_size=2)\n",
    "model_ML.to(\"cpu\")"
   ]
  },
  {
   "cell_type": "markdown",
   "id": "c707067c-d678-4ecf-b48b-5f6133ef065c",
   "metadata": {},
   "source": [
    "# On tokenize le vocabulaire"
   ]
  },
  {
   "cell_type": "code",
   "execution_count": 472,
   "id": "da92a5d3-7726-434f-8b16-620f547b83d4",
   "metadata": {},
   "outputs": [
    {
     "name": "stdout",
     "output_type": "stream",
     "text": [
      "Vocabulaire: {'x': 0, 'y': 1, 'a': 2, 'b': 3}\n",
      "Test encode a: 2\n",
      "Test decode 1: y\n"
     ]
    }
   ],
   "source": [
    "# Import le tokenizer préparé par PE\n",
    "from model.Tokenizer import SimpleTokenizerV1\n",
    "from outil import create_dico_numerate_word\n",
    "\n",
    "# Notre vocabulaire:\n",
    "all_word = create_dico_numerate_word(['x', 'y', 'a', 'b'])\n",
    "# Voici all_word : {'x': 0, 'y': 1, 'a': 2, 'b': 3}\n",
    "print(\"Vocabulaire:\", all_word)\n",
    "# Nous n'avons pas besoin d'un tokenzier complexe, \n",
    "# il va avoir le même rôle qu'un dictionnaire\n",
    "tokenizer = SimpleTokenizerV1(all_word)\n",
    "# Maintenant pour encoder une action ou un outcome nous pouvons faire :\n",
    "print('Test encode a:', tokenizer.encode('a'))\n",
    "# et pour decoder :\n",
    "print('Test decode 1:', tokenizer.decode(1))"
   ]
  },
  {
   "cell_type": "markdown",
   "id": "dd17452c-926e-4fc3-ab41-5d34e043a9df",
   "metadata": {},
   "source": [
    "# On définit les paramètres du modèle"
   ]
  },
  {
   "cell_type": "markdown",
   "id": "37701691-d582-4240-835f-8b60e6330e21",
   "metadata": {},
   "source": [
    "Le `lr` et le `weight_decay` sont des paramètres très importants qui vont permettre de corriger plus ou moins vite le modèle. Une correction rapide est moins précise.\n"
   ]
  },
  {
   "cell_type": "code",
   "execution_count": 473,
   "id": "1940305a-0382-474b-9bca-91a25c59855a",
   "metadata": {},
   "outputs": [],
   "source": [
    "lr = 1e-1\n",
    "weight_decay = 1e-2"
   ]
  },
  {
   "cell_type": "code",
   "execution_count": 474,
   "id": "58900391-266c-48bb-9fb3-16a33f4af1da",
   "metadata": {},
   "outputs": [],
   "source": [
    "# On importe les outils fournis par torch\n",
    "import torch\n",
    "import torch.nn as nn\n",
    "\n",
    "# Le modèle a besoin d'un optimizer pour corriger les poids.\n",
    "optimizer = torch.optim.Adam(model_ML.parameters(), lr=lr, weight_decay=weight_decay)\n",
    "\n",
    "# Nous avons aussi besoin d'une fonction de loss, par exemple la CrossEntropy\n",
    "# Au vue de la simplicité de prédiction le type de loss importe peu\n",
    "loss_func = nn.CrossEntropyLoss()"
   ]
  },
  {
   "cell_type": "markdown",
   "id": "c7d85910-fff9-4116-8599-ad4618a25e76",
   "metadata": {},
   "source": [
    "# La fonction fit() qui utilise train_with_batch()"
   ]
  },
  {
   "cell_type": "code",
   "execution_count": 475,
   "id": "131e5434-95e4-4573-a5a2-3c914400589e",
   "metadata": {},
   "outputs": [],
   "source": [
    "# Importe la fonction train préparée par PE\n",
    "from model.DeepNN import train_with_batch\n",
    "from model.CustomLoader import CustomLoader\n",
    "\n",
    "def fit1(actions, outcomes):\n",
    "    actions = [[tokenizer.encode(act)] for act in actions]\n",
    "    actions = torch.tensor(actions, dtype=torch.float).to(\"cpu\") # On passe toutes les actions que l'agent a fais\n",
    "    outcomes = tokenizer.encode(outcomes)\n",
    "    outcomes = torch.tensor(outcomes, dtype=torch.long).to(\"cpu\") # On passe toutes outcomes qu'il a recu\n",
    "    data_loarder = CustomLoader(actions=actions, outcomes=outcomes, context_lenght=3)   \n",
    "    data_loader = torch.utils.data.DataLoader(data_loarder, batch_size=32, shuffle=True)\n",
    "    # On passe le modèle en mode train\n",
    "    model_ML.train()\n",
    "    # On appelle la fonction d'entrainement \n",
    "    train_with_batch(model_ML, \n",
    "            train_loader=data_loader,\n",
    "            optimizer=optimizer,\n",
    "            loss_func=loss_func,\n",
    "            nb_epochs=1,\n",
    "            validate_loader=None,\n",
    "            print_=True)"
   ]
  },
  {
   "cell_type": "code",
   "execution_count": 498,
   "id": "bb2b1cba-e7df-4f26-9505-dd2557745d5f",
   "metadata": {},
   "outputs": [
    {
     "name": "stdout",
     "output_type": "stream",
     "text": [
      "Epoch 1/1, Loss: 0.7127\n",
      "Epoch 1/1, Loss: 0.7007\n",
      "Epoch 1/1, Loss: 0.7061\n",
      "Epoch 1/1, Loss: 0.7149\n",
      "Epoch 1/1, Loss: 0.7126\n",
      "Epoch 1/1, Loss: 0.7006\n",
      "Epoch 1/1, Loss: 0.7062\n",
      "Epoch 1/1, Loss: 0.7149\n"
     ]
    }
   ],
   "source": [
    "fit1(['a', 'a'], ['x', 'y'])\n",
    "fit1(['a', 'a'], ['y', 'y'])\n",
    "fit1(['a', 'b'], ['x', 'x'])\n",
    "fit1(['a', 'b'], ['y', 'x'])\n",
    "fit1(['b', 'a'], ['x', 'x'])\n",
    "fit1(['b', 'a'], ['y', 'x'])\n",
    "fit1(['b', 'b'], ['x', 'y'])\n",
    "fit1(['b', 'b'], ['y', 'y'])"
   ]
  },
  {
   "cell_type": "markdown",
   "id": "da8a5705-8504-488b-80ab-c8625db9fa34",
   "metadata": {},
   "source": [
    "La loss converge vers 0.7. Ca ne marche pas"
   ]
  },
  {
   "cell_type": "markdown",
   "id": "fac914f4-a242-433d-9ebf-62589e9c5f7e",
   "metadata": {},
   "source": [
    "# La fonction fit() qui utilise train()"
   ]
  },
  {
   "cell_type": "code",
   "execution_count": 499,
   "id": "447b7c7c-5dcd-4b50-ade1-cab15fde8b69",
   "metadata": {},
   "outputs": [],
   "source": [
    "# Importe la fonction train préparée par PE\n",
    "from model.DeepNN import train\n",
    "\n",
    "def fit(previous_action, previous_outcome, action, outcome):\n",
    "    previous_action = tokenizer.encode(previous_action)\n",
    "    previous_outcome = tokenizer.encode(previous_outcome)\n",
    "    action = tokenizer.encode(action)\n",
    "    input = torch.tensor([previous_action, previous_outcome, action], dtype=torch.float).to(\"cpu\")\n",
    "    outcome = tokenizer.encode(outcome)\n",
    "    outcome = torch.tensor(outcome, dtype=torch.long).to(\"cpu\")\n",
    "    outcome = torch.nn.functional.one_hot(outcome, num_classes=2).to(torch.float)\n",
    "\n",
    "    # On passe le modèle en mode train\n",
    "    model_ML.train()\n",
    "    # On appelle la fonction d'entrainement \n",
    "    train(model_ML, \n",
    "            train_data=[(input, outcome)],\n",
    "            optimizer=optimizer,\n",
    "            loss_func=loss_func,\n",
    "            nb_epochs=1,\n",
    "            validate_loader=None,\n",
    "            print_=True)"
   ]
  },
  {
   "cell_type": "markdown",
   "id": "d53ef31a-79be-4de5-92a1-16f7d7341ddf",
   "metadata": {},
   "source": [
    "On entraine le modèle dans en environnement ou l'agent doit alterner les actions `a` et `b` pour obtenir `x` sinon il obtient `y`.\n",
    "\n",
    "Utiliser `Ctrl` + `Enter` pour l'exécuter plusieurs fois et voir la loss diminuer à chaque appel."
   ]
  },
  {
   "cell_type": "code",
   "execution_count": 513,
   "id": "ffa8ab7b-a130-407b-bc37-76acb29597ba",
   "metadata": {},
   "outputs": [
    {
     "name": "stdout",
     "output_type": "stream",
     "text": [
      "Epoch 1/1,\u001b[0m, Loss: 0.7128\n",
      "Epoch 1/1,\u001b[0m, Loss: 0.7007\n",
      "Epoch 1/1,\u001b[0m, Loss: 0.7063\n",
      "Epoch 1/1,\u001b[0m, Loss: 0.7150\n",
      "Epoch 1/1,\u001b[0m, Loss: 0.7128\n",
      "Epoch 1/1,\u001b[0m, Loss: 0.7007\n",
      "Epoch 1/1,\u001b[0m, Loss: 0.7062\n",
      "Epoch 1/1,\u001b[0m, Loss: 0.7150\n"
     ]
    }
   ],
   "source": [
    "fit('a', 'x', 'a', 'y')\n",
    "fit('a','y', 'a', 'y')\n",
    "fit('a','x', 'b', 'x')\n",
    "fit('a','y', 'b', 'x')\n",
    "fit('b','x', 'a', 'x')\n",
    "fit('b','y', 'a', 'x')\n",
    "fit('b','x', 'b', 'y')\n",
    "fit('b','y', 'b', 'y')"
   ]
  },
  {
   "cell_type": "markdown",
   "id": "06787737-05d4-4021-8eaf-196aafc26b88",
   "metadata": {},
   "source": [
    "La loss converge vers 0.7. Ca ne marche pas"
   ]
  },
  {
   "cell_type": "markdown",
   "id": "46b46c98-4281-4146-a7c7-3b2dc9250cad",
   "metadata": {},
   "source": [
    "Visualisons les prédictions quand previous action est `a` et previous outcome `x` :"
   ]
  },
  {
   "cell_type": "code",
   "execution_count": 514,
   "id": "d056c58a-7ee4-4bea-bd28-49b99725bc61",
   "metadata": {
    "jupyter": {
     "source_hidden": true
    }
   },
   "outputs": [
    {
     "data": {
      "image/png": "[encoded data removed]",
      "text/plain": [
       "<Figure size 300x200 with 1 Axes>"
      ]
     },
     "metadata": {},
     "output_type": "display_data"
    }
   ],
   "source": [
    "import matplotlib.pyplot as plt\n",
    "\n",
    "# Generate inputs in the range [2, 3]\n",
    "x1 = torch.full((100, 1), 2)  # previous action a\n",
    "x2 = torch.full((100, 1), 0)  # previous outcome x\n",
    "x3 = torch.linspace(2, 3, steps=100).unsqueeze(1)  # Shape (100,1)\n",
    "inputs = torch.cat((x1, x2, x3), dim=1)\n",
    "\n",
    "outputs = model_ML(inputs)\n",
    "\n",
    "# Extract the first output value for each input\n",
    "output_x = outputs[:, 0].detach().numpy()  # Detach and convert to NumPy\n",
    "output_y = outputs[:, 1].detach().numpy()  # Detach and convert to NumPy\n",
    "\n",
    "# Plot results\n",
    "plt.figure(figsize=(3, 2))  # Reduce figure size by half\n",
    "plt.plot(x3.numpy(), output_x, label=\"x\")\n",
    "plt.plot(x3.numpy(), output_y, label=\"y\")\n",
    "plt.xlabel(\"Action après action a et outcome x\")\n",
    "plt.ylabel(\"Output\")\n",
    "plt.title(\"Outputs for Inputs in [2, 3]\")\n",
    "plt.legend()\n",
    "plt.show()"
   ]
  },
  {
   "cell_type": "markdown",
   "id": "88de9698-9e40-4d03-9be1-487d2783e8dd",
   "metadata": {},
   "source": [
    "Il faut entrainer le modèle jusqu'a ce que `x` soit au dessous de `y` pour action 2 et en dessous pour action 3."
   ]
  },
  {
   "cell_type": "markdown",
   "id": "bd572606-93cc-4884-873c-2a2e30c0ac23",
   "metadata": {},
   "source": [
    "# La fonction predict()"
   ]
  },
  {
   "cell_type": "code",
   "execution_count": 515,
   "id": "d6ed6716-ca40-4b83-b228-7ce22ede7b4a",
   "metadata": {},
   "outputs": [],
   "source": [
    "def predict(previous_action, previous_outcome, action):\n",
    "    previous_action = tokenizer.encode(previous_action)\n",
    "    previous_outcome = tokenizer.encode(previous_outcome)\n",
    "    action = tokenizer.encode(action)\n",
    "    model_input = torch.tensor([previous_action, previous_outcome, action], dtype=torch.float).to(\"cpu\")\n",
    "    # On passer en mode evaluation\n",
    "    model_ML.eval() \n",
    "    prediction_tensor = model_ML(model_input)\n",
    "    print(prediction_tensor)\n",
    "    predicted_outcome_token = torch.argmax(prediction_tensor, dim=0).item()\n",
    "    return tokenizer.decode(predicted_outcome_token)"
   ]
  },
  {
   "cell_type": "code",
   "execution_count": 516,
   "id": "4f74ccc7-8e87-4006-b574-ff633f8125ea",
   "metadata": {},
   "outputs": [
    {
     "name": "stdout",
     "output_type": "stream",
     "text": [
      "tensor([-0.0624, -0.1012], grad_fn=<ViewBackward0>)\n",
      "Prediction pour axa: x\n",
      "tensor([-0.0624, -0.1012], grad_fn=<ViewBackward0>)\n",
      "Prediction pour axb: x\n",
      "tensor([-0.0624, -0.1012], grad_fn=<ViewBackward0>)\n",
      "Prediction pour aya: x\n",
      "tensor([-0.0624, -0.1012], grad_fn=<ViewBackward0>)\n",
      "Prediction pour ayb: x\n",
      "tensor([-0.0624, -0.1012], grad_fn=<ViewBackward0>)\n",
      "Prediction pour bxa: x\n",
      "tensor([-0.0624, -0.1012], grad_fn=<ViewBackward0>)\n",
      "Prediction pour bxb: x\n",
      "tensor([-0.0624, -0.1012], grad_fn=<ViewBackward0>)\n",
      "Prediction pour bya: x\n",
      "tensor([-0.0624, -0.1012], grad_fn=<ViewBackward0>)\n",
      "Prediction pour byb: x\n"
     ]
    }
   ],
   "source": [
    "predicted_outcome = predict('a', 'x', 'a')\n",
    "print(\"Prediction pour axa:\", predicted_outcome)\n",
    "predicted_outcome = predict('a', 'x', 'b')\n",
    "print(\"Prediction pour axb:\", predicted_outcome)\n",
    "predicted_outcome = predict('a', 'y', 'a')\n",
    "print(\"Prediction pour aya:\", predicted_outcome)\n",
    "predicted_outcome = predict('a', 'y', 'b')\n",
    "print(\"Prediction pour ayb:\", predicted_outcome)\n",
    "predicted_outcome = predict('b', 'x', 'a')\n",
    "print(\"Prediction pour bxa:\", predicted_outcome)\n",
    "predicted_outcome = predict('b', 'x', 'b')\n",
    "print(\"Prediction pour bxb:\", predicted_outcome)\n",
    "predicted_outcome = predict('b', 'y', 'a')\n",
    "print(\"Prediction pour bya:\", predicted_outcome)\n",
    "predicted_outcome = predict('b', 'y', 'b')\n",
    "print(\"Prediction pour byb:\", predicted_outcome)"
   ]
  },
  {
   "cell_type": "markdown",
   "id": "f72f5298-41e0-498a-92fa-e4ec99b05dd0",
   "metadata": {},
   "source": [
    "Le modèle ne parvient pas à faire de prédictions correctes"
   ]
  },
  {
   "cell_type": "code",
   "execution_count": null,
   "id": "b9d8839d-25fd-4f65-bd0b-4580e8a1e2d2",
   "metadata": {},
   "outputs": [],
   "source": []
  }
 ],
 "metadata": {
  "kernelspec": {
   "display_name": "Python 3 (ipykernel)",
   "language": "python",
   "name": "python3"
  },
  "language_info": {
   "codemirror_mode": {
    "name": "ipython",
    "version": 3
   },
   "file_extension": ".py",
   "mimetype": "text/x-python",
   "name": "python",
   "nbconvert_exporter": "python",
   "pygments_lexer": "ipython3",
   "version": "3.9.5"
  }
 },
 "nbformat": 4,
 "nbformat_minor": 5
}
