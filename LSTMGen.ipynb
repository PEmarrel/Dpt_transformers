{
 "cells": [
  {
   "cell_type": "code",
   "execution_count": 1,
   "metadata": {},
   "outputs": [],
   "source": [
    "import torch\n",
    "import torch.nn as nn\n",
    "import torch.optim as optim\n",
    "from torch.utils.data import DataLoader\n",
    "from torch.utils.data import Dataset\n",
    "import torch.nn.functional as F\n",
    "import torch.nn.init as init\n",
    "from torch.distributions import Categorical\n",
    "import numpy as np\n",
    "from tqdm import tqdm\n",
    "import pandas as pd\n",
    "\n",
    "from model.CustomDataSet import CustomDataSetRNN\n",
    "from model.Tokenizer import SimpleTokenizerV1\n",
    "from environnement.environnement1Str import Environnement1\n",
    "from environnement.environnement3Str import Environnement3\n",
    "from environnement.environnement6Str import Environnement6\n",
    "from environnement.small_loop import small_loop\n",
    "from environnement.gridWorld import gridWorld\n",
    "from model.RNN import LSTM_GenText\n",
    "from inter.simpleInteraction import simpleInteraction as inter\n",
    "\n",
    "from outil import *"
   ]
  },
  {
   "cell_type": "markdown",
   "metadata": {},
   "source": [
    "# Environement\n",
    "Nous prennons un environnement pour obtenir les tokens que nous voulons générer"
   ]
  },
  {
   "cell_type": "code",
   "execution_count": 2,
   "metadata": {},
   "outputs": [
    {
     "name": "stdout",
     "output_type": "stream",
     "text": [
      "The robot is in : 0  x: 1 y: 1\n",
      "World : [[1 1 1 1 1 1]\n",
      " [1 0 0 0 0 1]\n",
      " [1 0 0 0 0 1]\n",
      " [1 0 0 0 0 1]\n",
      " [1 0 0 0 0 1]\n",
      " [1 1 1 1 1 1]]\n"
     ]
    },
    {
     "data": {
      "image/png": "[encoded data removed]",
      "text/plain": [
       "<Figure size 500x500 with 1 Axes>"
      ]
     },
     "metadata": {},
     "output_type": "display_data"
    }
   ],
   "source": [
    "env_test = gridWorld(x= 1, y=1, theta=0, world= np.array([\n",
    "                [1, 1, 1, 1, 1, 1],\n",
    "                [1, 0, 0, 0, 0, 1],\n",
    "                [1, 0, 0, 0, 0, 1],\n",
    "                [1, 0, 0, 0, 0, 1],\n",
    "                [1, 0, 0, 0, 0, 1],\n",
    "                [1, 1, 1, 1, 1, 1],\n",
    "            ]))\n",
    "actions, outcomes = [], []\n",
    "env_test.display_world()"
   ]
  },
  {
   "cell_type": "markdown",
   "metadata": {},
   "source": [
    "# Liste vocab\n",
    "Nous pouvons maintenant définir notre liste de vocabulaire et notre tokenizer"
   ]
  },
  {
   "cell_type": "code",
   "execution_count": 3,
   "metadata": {},
   "outputs": [
    {
     "name": "stdout",
     "output_type": "stream",
     "text": [
      "<pad>\n",
      "('forward', 'wall')\n",
      "('forward', 'empty')\n",
      "('turn_left', 'empty')\n",
      "('turn_right', 'empty')\n",
      "('feel_front', 'wall')\n",
      "('feel_front', 'empty')\n",
      "('feel_left', 'wall')\n",
      "('feel_left', 'empty')\n",
      "('feel_right', 'wall')\n",
      "('feel_right', 'empty')\n",
      "{'<pad>': 0, ('forward', 'wall'): 1, ('forward', 'empty'): 2, ('turn_left', 'empty'): 3, ('turn_right', 'empty'): 4, ('feel_front', 'wall'): 5, ('feel_front', 'empty'): 6, ('feel_left', 'wall'): 7, ('feel_left', 'empty'): 8, ('feel_right', 'wall'): 9, ('feel_right', 'empty'): 10}\n"
     ]
    }
   ],
   "source": [
    "list_vocab = ['<pad>']\n",
    "# Nous notons tout les interactions techniquement possible\n",
    "for act in env_test.get_actions():\n",
    "    for fb in env_test.get_outcomes():\n",
    "        list_vocab.append((act, fb))\n",
    "\n",
    "# Nous pouvons suprimer des interactions qui ne sont en réalité pas possible.\n",
    "list_vocab.remove(('turn_left', 'wall'))\n",
    "list_vocab.remove(('turn_right', 'wall'))\n",
    "for element in list_vocab:\n",
    "    print(element)\n",
    "    \n",
    "tmp = create_dico_numerate_word(list_vocab)\n",
    "print(tmp)\n",
    "tokenizer = SimpleTokenizerV1(vocab=tmp)\n",
    "# Test tokenizer\n",
    "# print(tokenizer.encode((\"forward\", \"empty\")))\n",
    "# print(tokenizer.encode(\"<pad>\"))"
   ]
  },
  {
   "cell_type": "markdown",
   "metadata": {},
   "source": [
    "# Génération de texte\n",
    "## Entrainement ?\n",
    "\n",
    "Dans notre cas nous n'avons pas de données au début, l'agent n'a pas encore intéragit avec son environement. Donc nous n'avons pas de train possible.\n",
    "\n",
    "## Prompt\n",
    "Mais pour que le LSTM génére du texte il nous faut un prompt. Pour se faire nous avons plusieurs possiblité, soit nous appliquons une action de base (Ce qui est fait pour les agents précédent) soit nous lui donnons le token \\<pad\\>. Vue que le modèl n'est pas entrainner cela n'a pas d'importence. A noter que si plus tard nous lui donnons un entrainement qui utilise \\<pad\\> Alors il n'est plus pertinent d'utiliser cette balise comme cela."
   ]
  },
  {
   "cell_type": "code",
   "execution_count": 4,
   "metadata": {},
   "outputs": [],
   "source": [
    "# Mots que l'on veut prompt (ca doit être une liste)\n",
    "input_tokens = tokenizer.encode([\"<pad>\"])"
   ]
  },
  {
   "cell_type": "markdown",
   "metadata": {},
   "source": [
    "# Model\n",
    "Nous pouvons maintenant definir le modèl, nous prennons une configuration de base."
   ]
  },
  {
   "cell_type": "code",
   "execution_count": 5,
   "metadata": {},
   "outputs": [],
   "source": [
    "# Model\n",
    "torch.manual_seed(1)\n",
    "num_layers = 2\n",
    "hidden_size = 128\n",
    "temp = 1.0\n",
    "lstm_generator = LSTM_GenText(\n",
    "    num_emb=len(list_vocab),\n",
    "    hidden_size=hidden_size,\n",
    "    emb_size=hidden_size,\n",
    "    num_layers=num_layers,\n",
    "    dropout=0.1\n",
    ")\n"
   ]
  },
  {
   "cell_type": "markdown",
   "metadata": {},
   "source": [
    "## Première génération"
   ]
  },
  {
   "cell_type": "code",
   "execution_count": 6,
   "metadata": {},
   "outputs": [
    {
     "name": "stdout",
     "output_type": "stream",
     "text": [
      "\u001b[0;32m le tensor input : \u001b[0m\n",
      "tensor([[0]])\n",
      "\n",
      "\u001b[0;32m les tensor d'output :\u001b[0m\n",
      "('feel_left', 'empty')\n",
      "<pad>\n",
      "('turn_right', 'empty')\n",
      "('feel_front', 'wall')\n",
      "('turn_left', 'empty')\n",
      "('forward', 'empty')\n",
      "[tensor([[8]]), tensor([[0]]), tensor([[4]]), tensor([[5]]), tensor([[3]]), tensor([[2]])]\n"
     ]
    }
   ],
   "source": [
    "torch.manual_seed(1)\n",
    "# Nous devons reshape input_tokens pour qu'il soit de la forme (1, -1)\n",
    "# Pour résumer nous ajoutons une dimension pour le batch\n",
    "input_tokens = tokenizer.encode([\"<pad>\"])\n",
    "input_tokens = torch.tensor(input_tokens).reshape(1, -1)\n",
    "print(\"\\033[0;32m le tensor input : \\033[0m\")\n",
    "print(input_tokens)\n",
    "lstm_generator.eval()\n",
    "log_tokens = []\n",
    "\n",
    "def generate_sentence(lstm_generator, input_tokens):\n",
    "    # Disable gradient calculation\n",
    "    with torch.no_grad():    \n",
    "        # Initialize hidden and memory states\n",
    "        hidden = torch.zeros(num_layers, 1, hidden_size)\n",
    "        memory = torch.zeros(num_layers, 1, hidden_size)\n",
    "\n",
    "        # Generate text\n",
    "        for i in range(100): # On met une limite de 100 tokens\n",
    "            # Forward pass through LSTM generator\n",
    "            data_pred, hidden, memory = lstm_generator(input_tokens, hidden, memory)\n",
    "\n",
    "            # Sample from the distribution of probabilities (with temperature)\n",
    "            dist = Categorical(logits=data_pred[:, -1] / temp)\n",
    "            input_tokens = dist.sample().reshape(1, 1)\n",
    "\n",
    "            # Append generated token to log_tokens\n",
    "            log_tokens.append(input_tokens.cpu())\n",
    "\n",
    "            # Check for end-of-sentence token\n",
    "            if input_tokens.item() == tokenizer.encode(('forward', 'empty')): # Si le token est ('forward', 'empty') on s'arrête\n",
    "                break\n",
    "    return log_tokens, data_pred\n",
    "\n",
    "log_tokens, data_pred = generate_sentence(lstm_generator, input_tokens)\n",
    "print()\n",
    "print(\"\\033[0;32m les tensor d'output :\\033[0m\")\n",
    "for i in log_tokens:\n",
    "    print(tokenizer.decode(i.item()))\n",
    "print(log_tokens)\n",
    "\n"
   ]
  },
  {
   "cell_type": "code",
   "execution_count": 7,
   "metadata": {},
   "outputs": [
    {
     "data": {
      "text/plain": [
       "[<matplotlib.lines.Line2D at 0x7f59c32c7690>]"
      ]
     },
     "execution_count": 7,
     "metadata": {},
     "output_type": "execute_result"
    },
    {
     "data": {
      "image/png": "[encoded data removed]",
      "text/plain": [
       "<Figure size 640x480 with 1 Axes>"
      ]
     },
     "metadata": {},
     "output_type": "display_data"
    }
   ],
   "source": [
    "# La distribution de probabilité\n",
    "# ce qui correspond à la prédiction du modèle pour le prochain token\n",
    "# Cette distribution est calculée avec la fonction softmax et dépand de la température\n",
    "plt.xticks(range(len(list_vocab)), list_vocab, fontsize=8, rotation=60, ha='right')\n",
    "plt.plot(F.softmax(data_pred/temp, -1).cpu().numpy().flatten())"
   ]
  },
  {
   "cell_type": "markdown",
   "metadata": {},
   "source": [
    "## Output\n",
    "Ce que le modèl sort est très variable si nous ne fixons pas la seed. Le modèl propose une distribution corespondant à l'initialisation de ses poids (aléatoirement)."
   ]
  },
  {
   "cell_type": "markdown",
   "metadata": {},
   "source": [
    "## Appliquation de la génération\n",
    "Avec notre premier output nous pouvons demander à notre \"agent\" d'appliquer les actions des tokens pour vérifier si les prédictions sont bonne ou non. \n",
    "De manière évidente en début les prédictions ont que très peu de chance d'être bonne. Ce qui est normal l'agent doit découvrir son environement.\n"
   ]
  },
  {
   "cell_type": "code",
   "execution_count": 8,
   "metadata": {},
   "outputs": [],
   "source": [
    "def run_token(tokens:torch.Tensor, env):\n",
    "    \"\"\"Applique toutes les actions des tokens\n",
    "\n",
    "    Args:\n",
    "        token (torch.Tensor): La sortie brut du modèle de prédiction\n",
    "        env (env): L'environnement dans lequel on veut appliquer les actions\n",
    "\n",
    "    Returns:\n",
    "        list: La liste des actions\n",
    "        list: La liste des outcomes\n",
    "    \"\"\"\n",
    "    actions = []\n",
    "    outcomes = []\n",
    "    for tok in tokens:\n",
    "        interaction:tuple|str = tokenizer.decode(tok.item())\n",
    "        if interaction in [\"<pad>\"]: # Liste des tokens qui ne correspondent à aucune action\n",
    "            continue\n",
    "        actions.append(interaction[0]) # On ajoute l'action à la liste\n",
    "        outcomes.append(env.outcome(actions[-1])) # On récupère l'outcome de l'action\n",
    "    return actions, outcomes"
   ]
  },
  {
   "cell_type": "code",
   "execution_count": 9,
   "metadata": {},
   "outputs": [
    {
     "name": "stdout",
     "output_type": "stream",
     "text": [
      "Les actions tirées de la génération du modèle\n",
      "['feel_left', 'turn_right', 'feel_front', 'turn_left', 'forward']\n",
      "Les outcomes réel de l'environnement\n",
      "['wall', 'empty', 'empty', 'empty', 'wall']\n"
     ]
    }
   ],
   "source": [
    "tokens = log_tokens\n",
    "actions, outcomes = run_token(tokens, env_test)\n",
    "print(\"Les actions tirées de la génération du modèle\")\n",
    "print(actions)\n",
    "print(\"Les outcomes réel de l'environnement\")\n",
    "print(outcomes)"
   ]
  },
  {
   "cell_type": "markdown",
   "metadata": {},
   "source": [
    "# Train\n",
    "## Jeu de données\n",
    "Pour entrainer le modèle, il nous faut des données. Nous pouvons récupérer les interactions que \"l'agent\" à fait.\n",
    "### Traitement des interactions\n",
    "Nous avons les actions et outcomes, nous devons les transformers en token. Il nous faut une taille de contexte pour que l'entrainement soit fixe (cela améliore les performances). Nous pouvons prendre une grande taille que nous comblerons par des \\<pad\\>"
   ]
  },
  {
   "cell_type": "code",
   "execution_count": 10,
   "metadata": {},
   "outputs": [
    {
     "name": "stdout",
     "output_type": "stream",
     "text": [
      "\u001b[0;32mLes actions\u001b[0m ['feel_left', 'turn_right', 'feel_front', 'turn_left', 'forward'] \n",
      "\u001b[0;32met outcomes\u001b[0m ['wall', 'empty', 'empty', 'empty', 'wall']\n",
      "\u001b[0;32mLes tokens déduit\u001b[0m [7, 4, 6, 3, 1]\n"
     ]
    }
   ],
   "source": [
    "def action_outcome_to_token(actions, outcomes):\n",
    "    token = []\n",
    "    for i in range(len(actions)):\n",
    "        token.append(tokenizer.encode((actions[i], outcomes[i])))\n",
    "    return token\n",
    "\n",
    "print(f\"\\033[0;32mLes actions\\033[0m {actions} \\n\\033[0;32met outcomes\\033[0m {outcomes}\")\n",
    "seq_token = action_outcome_to_token(actions, outcomes)\n",
    "print(f\"\\033[0;32mLes tokens déduit\\033[0m {seq_token}\")\n"
   ]
  },
  {
   "cell_type": "code",
   "execution_count": 11,
   "metadata": {},
   "outputs": [
    {
     "name": "stdout",
     "output_type": "stream",
     "text": [
      "\u001b[0;32mLe data set\u001b[0m\n",
      "[7, 0, 0, 0, 0, 0, 0, 0, 0, 0]\n",
      "[4, 0, 0, 0, 0, 0, 0, 0, 0, 0]\n",
      "[6, 0, 0, 0, 0, 0, 0, 0, 0, 0]\n",
      "[3, 0, 0, 0, 0, 0, 0, 0, 0, 0]\n",
      "[1, 0, 0, 0, 0, 0, 0, 0, 0, 0]\n",
      "[7, 4, 0, 0, 0, 0, 0, 0, 0, 0]\n",
      "[4, 6, 0, 0, 0, 0, 0, 0, 0, 0]\n",
      "[6, 3, 0, 0, 0, 0, 0, 0, 0, 0]\n",
      "[3, 1, 0, 0, 0, 0, 0, 0, 0, 0]\n",
      "[7, 4, 6, 0, 0, 0, 0, 0, 0, 0]\n",
      "[4, 6, 3, 0, 0, 0, 0, 0, 0, 0]\n",
      "[6, 3, 1, 0, 0, 0, 0, 0, 0, 0]\n",
      "[7, 4, 6, 3, 0, 0, 0, 0, 0, 0]\n",
      "[4, 6, 3, 1, 0, 0, 0, 0, 0, 0]\n",
      "[7, 4, 6, 3, 1, 0, 0, 0, 0, 0]\n"
     ]
    }
   ],
   "source": [
    "# Création du data set :\n",
    "def create_data(tokens, context_lenght, padding, min = 1):\n",
    "    \"\"\"\n",
    "    Create the data\n",
    "    \"\"\"\n",
    "    sentences = []\n",
    "    for range_cut in range(min, len(tokens) +1):\n",
    "        for i in range(0, len(tokens) +1 - range_cut, 1):\n",
    "            sentences.append(tokens[i:i + range_cut])\n",
    "            sentences[-1] = sentences[-1] + [padding] * (context_lenght - len(sentences[-1]))\n",
    "    return sentences\n",
    "\n",
    "data_set = create_data(seq_token, 10, tokenizer.encode(\"<pad>\"))\n",
    "print(f\"\\033[0;32mLe data set\\033[0m\")\n",
    "for i in data_set:\n",
    "    print(i)\n",
    "    # print(tokenizer.decode(i))\n",
    "    # print()"
   ]
  },
  {
   "cell_type": "markdown",
   "metadata": {},
   "source": [
    "### Data set\n",
    "Maintenant que le data set est créer nous pouvons utiliser pytorch pour gérer notre data train. (Nous mettons aussi les données sous forme de tensor)"
   ]
  },
  {
   "cell_type": "code",
   "execution_count": 12,
   "metadata": {},
   "outputs": [
    {
     "name": "stdout",
     "output_type": "stream",
     "text": [
      "\u001b[0;32mLe data set\u001b[0m\n",
      "tensor([7, 0, 0, 0, 0, 0, 0, 0, 0, 0])\n",
      "tensor([4, 0, 0, 0, 0, 0, 0, 0, 0, 0])\n",
      "tensor([6, 0, 0, 0, 0, 0, 0, 0, 0, 0])\n",
      "tensor([3, 0, 0, 0, 0, 0, 0, 0, 0, 0])\n",
      "tensor([1, 0, 0, 0, 0, 0, 0, 0, 0, 0])\n",
      "tensor([7, 4, 0, 0, 0, 0, 0, 0, 0, 0])\n",
      "tensor([4, 6, 0, 0, 0, 0, 0, 0, 0, 0])\n",
      "tensor([6, 3, 0, 0, 0, 0, 0, 0, 0, 0])\n",
      "tensor([3, 1, 0, 0, 0, 0, 0, 0, 0, 0])\n",
      "tensor([7, 4, 6, 0, 0, 0, 0, 0, 0, 0])\n",
      "tensor([4, 6, 3, 0, 0, 0, 0, 0, 0, 0])\n",
      "tensor([6, 3, 1, 0, 0, 0, 0, 0, 0, 0])\n",
      "tensor([7, 4, 6, 3, 0, 0, 0, 0, 0, 0])\n",
      "tensor([4, 6, 3, 1, 0, 0, 0, 0, 0, 0])\n",
      "tensor([7, 4, 6, 3, 1, 0, 0, 0, 0, 0])\n"
     ]
    }
   ],
   "source": [
    "class CustomDataSetTextGenByToken(Dataset):\n",
    "    def __init__(self, token, context_lenght:int, id_pad:int=0, min:int = 1):\n",
    "        \"\"\"\n",
    "        Creates a custom dataset\n",
    "        \"\"\"\n",
    "        # Je ne suis pas sur d'y garder\n",
    "        # assert context_lenght % 2 != 0, \"context_lenght must be odd\"\n",
    "        # assert len(actions) == len(outcomes), \"actions and outcomes must have the same length\"\n",
    "        assert context_lenght > 0, \"context_lenght can't be negative or zero\"\n",
    "\n",
    "        self.context_lenght = context_lenght\n",
    "        self.tokenizer = tokenizer\n",
    "        self.dim_out = tokenizer.size_vocab\n",
    "        self.token = token\n",
    "        self.padding = id_pad\n",
    "        self.min = min\n",
    "        self.data = self.create_data()\n",
    "\n",
    "    def create_data(self):\n",
    "        \"\"\"\n",
    "        Create the data\n",
    "        \"\"\"\n",
    "        sentences = []\n",
    "        for range_cut in range(self.min, len(self.token) +1):\n",
    "            for i in range(0, len(self.token) +1 - range_cut, 1):\n",
    "                sentences.append(self.token[i:i + range_cut])\n",
    "                sentences[-1] = sentences[-1] + \\\n",
    "                                [self.padding] * (self.context_lenght - len(sentences[-1]))\n",
    "        return sentences\n",
    "\n",
    "    def __len__(self):\n",
    "        \"\"\"\n",
    "        Get the length of the dataset\n",
    "        :return: length\n",
    "        \"\"\"\n",
    "        return len(self.data)\n",
    "\n",
    "    def __getitem__(self, idx):\n",
    "        \"\"\"\n",
    "        Get the item at the index idx\n",
    "\n",
    "        :param idx: index\n",
    "        :return: x\n",
    "        \"\"\"\n",
    "        return torch.tensor(self.data[idx])\n",
    "    \n",
    "data_set = CustomDataSetTextGenByToken(\n",
    "    token=seq_token,\n",
    "    id_pad=tokenizer.encode(\"<pad>\"),\n",
    "    context_lenght=10,\n",
    "    min=1)\n",
    "print(f\"\\033[0;32mLe data set\\033[0m\")\n",
    "for i in data_set:\n",
    "    print(i)\n"
   ]
  },
  {
   "cell_type": "markdown",
   "metadata": {},
   "source": [
    "### Data loader"
   ]
  },
  {
   "cell_type": "code",
   "execution_count": 13,
   "metadata": {},
   "outputs": [],
   "source": [
    "data_loader_train = DataLoader(\n",
    "    data_set,\n",
    "    batch_size=1,\n",
    "    shuffle=True,\n",
    "    num_workers=8\n",
    ")"
   ]
  },
  {
   "cell_type": "markdown",
   "metadata": {},
   "source": [
    "### Loss et opti"
   ]
  },
  {
   "cell_type": "code",
   "execution_count": 17,
   "metadata": {},
   "outputs": [],
   "source": [
    "opti = optim.Adam(lstm_generator.parameters(), lr=0.001)\n",
    "loss_fct = nn.CrossEntropyLoss()"
   ]
  },
  {
   "cell_type": "markdown",
   "metadata": {},
   "source": [
    "## Training"
   ]
  },
  {
   "cell_type": "code",
   "execution_count": null,
   "metadata": {},
   "outputs": [
    {
     "ename": "NameError",
     "evalue": "name 'lstm_generator' is not defined",
     "output_type": "error",
     "traceback": [
      "\u001b[0;31m---------------------------------------------------------------------------\u001b[0m",
      "\u001b[0;31mNameError\u001b[0m                                 Traceback (most recent call last)",
      "Cell \u001b[0;32mIn[1], line 45\u001b[0m\n\u001b[1;32m     42\u001b[0m                 entropy_logger\u001b[38;5;241m.\u001b[39mappend(dist\u001b[38;5;241m.\u001b[39mentropy()\u001b[38;5;241m.\u001b[39mmean()\u001b[38;5;241m.\u001b[39mitem())\n\u001b[1;32m     43\u001b[0m     \u001b[38;5;28;01mreturn\u001b[39;00m training_loss_logger, entropy_logger\n\u001b[0;32m---> 45\u001b[0m training_loss_logger, entropy_logger \u001b[38;5;241m=\u001b[39m train(\u001b[43mlstm_generator\u001b[49m, \u001b[38;5;241m50\u001b[39m,opti, loss_fct)\n\u001b[1;32m     46\u001b[0m \u001b[38;5;66;03m# Display training loss and entropy\u001b[39;00m\n\u001b[1;32m     47\u001b[0m plt\u001b[38;5;241m.\u001b[39mplot(training_loss_logger)\n",
      "\u001b[0;31mNameError\u001b[0m: name 'lstm_generator' is not defined"
     ]
    }
   ],
   "source": [
    "def train(lstm_generator, nb_epoch:int, optimizer, loss_fn):\n",
    "    # Monitor training loss and entropy\n",
    "    training_loss_logger = []\n",
    "    entropy_logger = []\n",
    "\n",
    "    for epoch in tqdm(range(nb_epoch)):\n",
    "        # Set LSTM generator model to training mode\n",
    "        lstm_generator.train()\n",
    "        steps = 0\n",
    "        # Iterate over batches in training data loader\n",
    "        for text in tqdm(data_loader_train, desc=\"Training\", leave=False):\n",
    "            # Transform text tokens using training transform and move to device\n",
    "            bs = text.shape[0]\n",
    "            \n",
    "            # Randomly drop input tokens\n",
    "            # input_text = td(text_tokens[:, 0:-1])\n",
    "            # output_text = text_tokens[:, 1:]\n",
    "            input_text = text[:, 0:-1]\n",
    "            output_text = text[:, 1:]\n",
    "            \n",
    "            # Initialize the memory buffers\n",
    "            hidden = torch.zeros(num_layers, bs, hidden_size)\n",
    "            memory = torch.zeros(num_layers, bs, hidden_size)\n",
    "            \n",
    "            # Forward pass through the LSTM generator\n",
    "            pred, hidden, memory = lstm_generator(input_text, hidden, memory)\n",
    "\n",
    "            # Calculate loss\n",
    "            loss = loss_fn(pred.transpose(1, 2), output_text)\n",
    "            \n",
    "            # Zero gradients, perform backward pass, and update weights\n",
    "            optimizer.zero_grad()\n",
    "            loss.backward()\n",
    "            optimizer.step()\n",
    "            \n",
    "            # Log training loss\n",
    "            training_loss_logger.append(loss.item())\n",
    "            \n",
    "            # Log entropy during training (for monitoring)\n",
    "            with torch.no_grad():\n",
    "                dist = Categorical(logits=pred)\n",
    "                entropy_logger.append(dist.entropy().mean().item())\n",
    "    return training_loss_logger, entropy_logger\n",
    " \n",
    "training_loss_logger, entropy_logger = train(lstm_generator, 50, opti, loss_fct)\n",
    "# Display training loss and entropy\n",
    "plt.plot(training_loss_logger)\n",
    "plt.xlabel('Training Steps')\n",
    "plt.ylabel('Cross Entropy Loss')\n",
    "plt.title('Training Loss')\n",
    "plt.show()\n",
    "\n",
    "plt.plot(entropy_logger)\n",
    "plt.xlabel('Training Steps')\n",
    "plt.ylabel('Entropy')\n",
    "plt.title('Entropy')\n",
    "plt.show()"
   ]
  },
  {
   "cell_type": "markdown",
   "metadata": {},
   "source": [
    "# Boucle\n",
    "Maintenant que nous avons vue toutes les étapes, nous pouvons tenter de faire un modèle qui comprends l'environement !  \n",
    "Il est important de noté qu'il n'y a aucune volonté un certain chemin. Le modèle peut tout a fait apprendre \"forward\", \"wall\" en boucle."
   ]
  }
 ],
 "metadata": {
  "kernelspec": {
   "display_name": "Stage (torch)",
   "language": "python",
   "name": "dpt_transformers"
  },
  "language_info": {
   "codemirror_mode": {
    "name": "ipython",
    "version": 3
   },
   "file_extension": ".py",
   "mimetype": "text/x-python",
   "name": "python",
   "nbconvert_exporter": "python",
   "pygments_lexer": "ipython3",
   "version": "3.11.2"
  }
 },
 "nbformat": 4,
 "nbformat_minor": 2
}
