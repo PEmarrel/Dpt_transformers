{
 "cells": [
  {
   "cell_type": "code",
   "execution_count": 1,
   "metadata": {},
   "outputs": [],
   "source": [
    "from torch.utils.data import Dataset, DataLoader\n",
    "import torch.nn as nn\n",
    "import torch\n",
    "import numpy as np\n",
    "from matplotlib import pyplot as plt\n",
    "import time\n",
    "from tqdm.notebook import trange, tqdm\n",
    "import pandas as pd\n",
    "# Pour torch si vous avez un GPU\n",
    "device = \"cpu\" if not torch.cuda.is_available() else \"cuda\"\n",
    "# device = \"cpu\" # Pour forcer l'utilisation du CPU"
   ]
  },
  {
   "cell_type": "code",
   "execution_count": 2,
   "metadata": {},
   "outputs": [],
   "source": [
    "from environnement.environnement import Environnement as env # mother class\n",
    "from environnement.small_loop import small_loop\n",
    "from environnement.gridWord import gridWord\n",
    "\n",
    "# model machine learning\n",
    "from model.Tokenizer import *\n",
    "from model.RNN import *\n",
    "from model.CustomDataSet import CustomDataSet, CustomDataSetRNN\n",
    "from outil import *\n",
    "from inter.simpleInteraction import simpleInteraction as inter"
   ]
  },
  {
   "cell_type": "markdown",
   "metadata": {},
   "source": [
    "# L'agent :\n",
    "L'idée de se fichier est de mettre en place une exploration guidé. Le principe est de repérer les séquences pour lequel le model de prédicition n'est pas sûr, et de choisir celle qui aurait la meilleur valence. Cette idée ne peut fonctionner que si les séquences sont déterministe."
   ]
  },
  {
   "cell_type": "code",
   "execution_count": 3,
   "metadata": {},
   "outputs": [],
   "source": [
    "class AgentLSTM:\n",
    "    def __init__(self, valence:dict[inter, float], model:nn.Module, max_depth:int, seuil:float,\n",
    "                optimizer, loss_fn, gap_train:int=11, gap_predi:int=11, nb_epoch:int=100, data_validate=None):\n",
    "        self.model = model\n",
    "        self.valence = valence\n",
    "        self.optimizer = optimizer\n",
    "        self.loss_fn = loss_fn\n",
    "        self.gap_train = gap_train\n",
    "        self.gap_predi = gap_predi\n",
    "        self.nb_epoch = nb_epoch\n",
    "        self.seq_to_exe = [] # Séquence d'actions et d'outcome choisit par la décision\n",
    "        self.history_act = [] # Historique des actions\n",
    "        self.history_fb = [] # Historique des feedbacks\n",
    "        self.history_inter = [] # Historique des interactions\n",
    "        self.data_validate = data_validate\n",
    "        self.max_depth:int = max_depth\n",
    "        self.seuil:float = seuil\n",
    "        self.force_fit = False\n",
    "        \n",
    "        self.all_outcomes = set()\n",
    "        self.all_act = set()\n",
    "        key:inter = None\n",
    "        for key in valence.keys():\n",
    "            self.all_outcomes.add(key.getOutcome())\n",
    "            self.all_act.add(key.getAction())\n",
    "        self.all_outcomes = list(self.all_outcomes)\n",
    "        self.all_act = list(self.all_act)\n",
    "        \n",
    "        self.action_choice = self.all_act[0] # De base nous choisissons la première action\n",
    "        self.history_act.append(self.action_choice)\n",
    "        self.outcome_prediction = None # De base le modèl ne prédi rien\n",
    "        \n",
    "        # number_patern = np.sum([(len(self.all_act) * len(self.all_outcomes)) **i for i in range(1, (self.max_depth // 2) +1)])\n",
    "        number_patern = 2000000\n",
    "        self.prealloc_df = pd.DataFrame(np.empty((number_patern, 5)), columns=[\"proposition\", \"valence\", \"action\", \"probability\", \"val_sucess\"])\n",
    "        self.prealloc_df = self.prealloc_df.astype({\"proposition\": \"U20\", \"valence\": float, \"action\": \"U20\", \"probability\": float})\n",
    "        self.current_index = 0\n",
    "        \n",
    "        self.visu_explo = pd.DataFrame(np.empty((number_patern, 2)), columns=[\"seqence\", \"valence\"])\n",
    "        self.visu_explo = self.visu_explo.astype({\"seqence\": \"U20\", \"valence\": float})\n",
    "        self.current_index_explo = 0\n",
    "        \n",
    "        self.seq_explo = []\n",
    "        self.valence_explo = -np.inf\n",
    "        \n",
    "        self.visu_val = pd.DataFrame(np.empty((len(data_validate[0]), 3)), columns=[\"seqence\", \"probablility\", \"good\"])\n",
    "        self.visu_val = self.visu_val.astype({\"seqence\": \"U20\", \"probablility\": float, \"good\": bool})\n",
    "        \n",
    "        # Nous avons besoin d'un tokenizer pour transformer les actions et outcomes en entiers\n",
    "        # Pour des questions de simplicité, nous voulons que les outcomes soient passé en premier\n",
    "        self.tokenizer = SimpleTokenizerV1(\n",
    "            vocab={key: i for i, key in enumerate(self.all_outcomes + self.all_act)})\n",
    "        \n",
    "        # Variable moniteur\n",
    "        self.loss_train = [] # Contient toutes les listes des pertes d'entrainement\n",
    "        self.loss_val = [] # Contient toutes les listes des pertes de validation\n",
    "        self.acc_train = []\n",
    "        self.acc_val = []\n",
    "        \n",
    "        self.time_train = []\n",
    "        self.time_compute_expected_valence = []\n",
    "        self.predictExplo = []\n",
    "        \n",
    "        \n",
    "    def fit(self):\n",
    "        \"\"\"\n",
    "        Fonction de l'agent pour entrainer le modèle\n",
    "        \"\"\"        \n",
    "        dataset = CustomDataSetRNN(actions=self.history_act, outcomes=self.history_fb, \n",
    "                                 context_lenght=self.gap_train, dim_out=len(self.all_outcomes),\n",
    "                                 tokenizer=self.tokenizer)\n",
    "        \n",
    "        data_loader = DataLoader(dataset, batch_size=32, shuffle=True)\n",
    "        \n",
    "        if self.data_validate is not None:\n",
    "            dataset_test = CustomDataSetRNN(actions=self.data_validate[0], outcomes=self.data_validate[1], \n",
    "                                 context_lenght=self.gap_train, dim_out=len(self.all_outcomes),\n",
    "                                 tokenizer=self.tokenizer)\n",
    "            data_loader_test = DataLoader(dataset_test, batch_size=32, shuffle=True)\n",
    "            loss_test = []\n",
    "        \n",
    "        time_train = time.time()\n",
    "        for i in range(self.nb_epoch):\n",
    "            self.model.train()\n",
    "            steps = 0\n",
    "            train_acc = 0\n",
    "            training_loss = []\n",
    "            for tmp, (x,t) in enumerate(data_loader):\n",
    "                x = x.to(device)\n",
    "                t = t.to(device)\n",
    "                bs = t.shape[0]\n",
    "                h = torch.zeros(self.model.num_layers, bs, self.model.hidden_size, device=device)\n",
    "                cell = torch.zeros(self.model.num_layers, bs, self.model.hidden_size, device=device)\n",
    "\n",
    "                pred, h, cell = self.model(x, h, cell)\n",
    "\n",
    "                loss = self.loss_fn(pred[:, -1, :], t)\n",
    "                training_loss.append(loss.item())\n",
    "                \n",
    "                self.optimizer.zero_grad()\n",
    "                loss.backward()\n",
    "                self.optimizer.step()\n",
    "                \n",
    "                train_acc += sum((pred[:, -1, :].argmax(1) == t).cpu().numpy())\n",
    "                steps += bs\n",
    "                \n",
    "            self.acc_train.append(train_acc / steps)\n",
    "            # time_val_epoch = time.time()\n",
    "            if self.data_validate is not None:\n",
    "                self.model.eval()\n",
    "                steps = 0\n",
    "                test_acc = 0\n",
    "                loss_test = []\n",
    "                \n",
    "                for text, label in data_loader_test:\n",
    "                    text = text.to(device)\n",
    "                    label = label.to(device)\n",
    "                    bs = label.shape[0]\n",
    "\n",
    "                    # Initialize hidden and memory states\n",
    "                    hidden = torch.zeros(self.model.num_layers, bs, self.model.hidden_size, device=device)\n",
    "                    memory = torch.zeros(self.model.num_layers, bs, self.model.hidden_size, device=device)\n",
    "                    \n",
    "                    # Forward pass through the model\n",
    "                    pred, hidden, memory = self.model(text, hidden, memory)\n",
    "                    \n",
    "                    for i in range(bs):\n",
    "                        self.visu_val.iloc[steps + i] = [str(self.tokenizer.decode(text[i].cpu().tolist())), \n",
    "                                                         float(torch.nn.functional.softmax(pred[i, -1, :], dim=-1).max().item()), \n",
    "                                                         int(pred[i, -1, :].argmax().item() == label[i])]\n",
    "\n",
    "                    # Calculate the loss\n",
    "                    loss = self.loss_fn(pred[:, -1, :], label)\n",
    "                    loss_test.append(loss.item())\n",
    "\n",
    "                    # Calculate test accuracy\n",
    "                    test_acc +=  sum((pred[:, -1, :].argmax(1) == label).cpu().numpy())\n",
    "                    steps += bs\n",
    "                    \n",
    "                loss_test.append(loss_test)\n",
    "                self.acc_val.append(test_acc / steps)\n",
    "                # print(f\"Validation time: {time.time() - time_val_epoch}\")    \n",
    "            self.loss_train.append(training_loss)\n",
    "            # If acc is 100% we stop the training\n",
    "            if self.acc_train[-1] >= 0.99:\n",
    "                for _ in range(i, self.nb_epoch):\n",
    "                    self.acc_train.append(self.acc_train[-1])\n",
    "                    self.acc_val.append(self.acc_val[-1])\n",
    "                break\n",
    "            \n",
    "        print(f\"Training time: {time.time() - time_train}\")\n",
    "        self.time_train.append(time.time() - time_train)\n",
    "                \n",
    "    def predict(self, action):\n",
    "        \"\"\"\n",
    "        Fonction de l'agent pour prédire l'outcome en fonction de l'action \\\n",
    "        utilise l'historique des actions et outcomes comme contexte\n",
    "\n",
    "        Args:\n",
    "            action : L'action dont on prédit l'outcome \n",
    "\n",
    "        Raises:\n",
    "            Exception: Si l'historique des actions et outcomes est insuffisant\n",
    "\n",
    "        Returns:\n",
    "            out : L'outcome prédit\n",
    "        \"\"\"        \n",
    "        # Nous devons recupérer les gap dernières actions/outcomes\n",
    "        x = []\n",
    "        for i in range(-(self.gap_predi - 1) // 2, 0, 1):\n",
    "            x.append(self.history_act[i])\n",
    "            x.append(self.history_fb[i])\n",
    "        x.append(action)\n",
    "        seq_to_pred = self.tokenizer.encode(x)\n",
    "        # On simule un batch de taille 1\n",
    "        seq_to_pred = torch.tensor([seq_to_pred], device=device)\n",
    "        h = torch.zeros(self.model.num_layers, 1, self.model.hidden_size, device=device)\n",
    "        cell = torch.zeros(self.model.num_layers, 1, self.model.hidden_size, device=device)\n",
    "        probs, _, _ = self.model(seq_to_pred, h, cell)\n",
    "        \n",
    "        pred_feedback = torch.argmax(probs[:, -1, :]).item()\n",
    "        pred_feedback = self.tokenizer.decode(pred_feedback)\n",
    "        \n",
    "        return pred_feedback\n",
    "    \n",
    "    def recursif_valance_explo(self, max_depth:int, seq_predi:list = [], valence_succes_pred:float = 0):\n",
    "        max_depth -= 1\n",
    "        inter_max, value = max(self.valence.items(), key=lambda y: y[1])\n",
    "        for _ in range(max_depth):\n",
    "            seq_predi += [inter_max.getAction(), inter_max.getOutcome()]\n",
    "            valence_succes_pred += value\n",
    "        self.visu_explo.iloc[self.current_index_explo] = [str(seq_predi), valence_succes_pred]\n",
    "        self.current_index_explo += 1\n",
    "        if valence_succes_pred > self.valence_explo:\n",
    "            self.seq_explo = seq_predi\n",
    "            self.valence_explo = valence_succes_pred                    \n",
    "    \n",
    "    def recursif_expective_valance(self, context:list, max_depth:int, seuil:float=0.5, proba:float = 1, seq_predi:list = [], valence_pred:float = 0, valence_succes_pred:float = 0):\n",
    "        \"\"\"\n",
    "        Create the list of proposed sequences\n",
    "        \"\"\"\n",
    "        max_depth -= 1\n",
    "        \n",
    "        self.model.eval()\n",
    "        # Compute the expected valence of each action\n",
    "        for act in self.all_act:\n",
    "            new_seq = seq_predi + [act]\n",
    "            seq_to_predict = context + [self.tokenizer.encode(act)]\n",
    "            \n",
    "            # print('find seq')\n",
    "            # print(new_seq)\n",
    "            # print([i for i in zip(self.history_act, self.history_fb)])\n",
    "            sub_list = subfinder(self.history_inter, seq_to_predict[-3:])\n",
    "            # print(sub_list)\n",
    "            # print(f'for act : {act} and context : {seq_to_predict}')\n",
    "            if sub_list == []:\n",
    "                # print('i want explore')\n",
    "                # Get max valence and outcome associate by act\n",
    "                inter_max, value = max([(inter(act, out), self.valence[inter(act, out)]) for out in self.all_outcomes], key=lambda y: y[1])\n",
    "                # print(\"debug\")\n",
    "                # print('act :', act)\n",
    "                # print(inter_max)\n",
    "                # print(value)\n",
    "                # print('valence_succes_pred :', valence_succes_pred)\n",
    "                # print('goal :', self.valence_explo)\n",
    "                new_seq += [inter_max.getOutcome()]\n",
    "                tmp_value = valence_succes_pred + value\n",
    "                self.visu_explo.iloc[self.current_index_explo] = [str(new_seq), valence_succes_pred]\n",
    "                self.current_index_explo += 1\n",
    "                if tmp_value > self.valence_explo:\n",
    "                    # print('start new sequence')\n",
    "                    # print(new_seq)\n",
    "                    # print('valence')\n",
    "                    # print(valence_succes_pred)\n",
    "                    self.seq_explo = new_seq\n",
    "                    self.valence_explo = valence_succes_pred\n",
    "                # Nous n'avons jamais vue la séquence, nous choisisont d'imaginer le meilleur sénario\n",
    "                # print('sequence not seen')\n",
    "                self.recursif_valance_explo(max_depth=max_depth, seq_predi=new_seq , \n",
    "                                            valence_succes_pred=tmp_value)\n",
    "                continue\n",
    "            # print('sequence already seen')\n",
    "            \n",
    "            seq_to_predict = torch.tensor([seq_to_predict], dtype=torch.int).to(device)\n",
    "\n",
    "            hidden = torch.zeros(self.model.num_layers, 1, self.model.hidden_size, device=device)\n",
    "            memory = torch.zeros(self.model.num_layers, 1, self.model.hidden_size, device=device)\n",
    "\n",
    "            x, _, _ = self.model(seq_to_predict, hidden, memory)\n",
    "            x = x[0, -1, :]\n",
    "            # Transforme x into list proba\n",
    "            probs = torch.nn.functional.softmax(x, dim=0).tolist()\n",
    "            # for each outcome, record the expected valence\n",
    "            expected_valence = valence_pred\n",
    "            for i, out in enumerate(self.all_outcomes):\n",
    "                tmp_proba = probs[i] * proba\n",
    "                expected_valence += float(np.round(self.valence[inter(act, out)] * tmp_proba, decimals=4))\n",
    "            \n",
    "            for i, out in enumerate(self.all_outcomes):\n",
    "                visu_val = None\n",
    "                tmp_new_seq = new_seq + [out]\n",
    "                tmp_proba = probs[i] * proba\n",
    "                # If the probability is above a threshold\n",
    "                sucess_valence = self.valence[inter(act, out)] + valence_succes_pred\n",
    "                if tmp_proba > seuil:\n",
    "                    visu_val = expected_valence\n",
    "                    # If the max_depth is not reached \n",
    "                    if max_depth > 0: \n",
    "                        # Recursively look for longer sequences\n",
    "                        new_context = context + self.tokenizer.encode([act, out])\n",
    "                        self.recursif_expective_valance(context=new_context[2:], max_depth=max_depth, seuil=seuil, \n",
    "                            proba=tmp_proba, seq_predi=tmp_new_seq.copy(), valence_pred=expected_valence, valence_succes_pred=sucess_valence)\n",
    "                    else:\n",
    "                        self.prealloc_df.iloc[self.current_index] = [str(tmp_new_seq), visu_val, tmp_new_seq[0], tmp_proba, sucess_valence]\n",
    "                        self.current_index += 1\n",
    "    \n",
    "    def expective_valance(self, verbose:bool=False):\n",
    "        \"\"\"\n",
    "        Permet de calculer l'expective valance d'une séquence d'interaction\n",
    "\n",
    "        Args:\n",
    "            max_depth (int): _description_\n",
    "            seuil (float, optional): _description_. Defaults to 0.2.\n",
    "            verbose (bool, optional): _description_. Defaults to False.\n",
    "        \"\"\"\n",
    "        \n",
    "        x = []\n",
    "        for i in range(-(self.gap_predi - 1) // 2, 0, 1):\n",
    "            x.append(self.history_act[i])\n",
    "            x.append(self.history_fb[i])\n",
    "        seq_to_pred = self.tokenizer.encode(x)\n",
    "        self.prealloc_df[:] = np.empty((len(self.prealloc_df), 5))\n",
    "        self.prealloc_df[\"valence\"] = -np.inf\n",
    "        self.current_index = 0\n",
    "        self.seq_explo = []\n",
    "        self.valence_explo = -np.inf\n",
    "        self.visu_explo[:] = np.empty((len(self.visu_explo), 2))\n",
    "        self.current_index_explo = 0\n",
    "        return self.recursif_expective_valance(context=seq_to_pred,\n",
    "                                            max_depth=self.max_depth,\n",
    "                                            proba=1, seq_predi=[],\n",
    "                                            seuil=self.seuil)\n",
    "    def decide(self):\n",
    "        if self.seq_to_exe and len(self.seq_to_exe) > 1:\n",
    "            out = self.seq_to_exe.pop(0)\n",
    "            if out == self.history_fb[-1]:\n",
    "                self.predictExplo.append(self.predictExplo[-1])\n",
    "                act = self.seq_to_exe.pop(0)\n",
    "                return act\n",
    "            else:\n",
    "                self.force_fit = True\n",
    "        self.seq_to_exe = []        \n",
    "        \n",
    "        time_compute_expective_val = time.time()\n",
    "        self.expective_valance()\n",
    "        print(f\"Time to compute expective valance: {time.time() - time_compute_expective_val}\")\n",
    "        self.time_compute_expected_valence.append(time.time() - time_compute_expective_val)\n",
    "        # Keep row with probability between 0.4 and 0.6\n",
    "        # compute_df = self.prealloc_df[(self.prealloc_df[\"probability\"] > 0.3) & (self.prealloc_df[\"probability\"] < 0.7)]\n",
    "        # if len(compute_df) == 0:\n",
    "        self.seq_to_exe = self.prealloc_df.sort_values(by=\"valence\", ascending=False).iloc[0].proposition\n",
    "        expected_val = self.prealloc_df.sort_values(by=\"valence\", ascending=False).iloc[0].valence\n",
    "        # else: \n",
    "            # print(\"renforce ...\")\n",
    "            # self.seq_to_exe = compute_df.sort_values(by=\"val_sucess\", ascending=False).iloc[0].proposition\n",
    "            # self.force_fit = True\n",
    "        print(f\"expected valence : {expected_val:.2f} valence explo : {self.valence_explo:.2f} model predict : {self.seq_to_exe}, explo want : {self.seq_explo}\")\n",
    "        # tempo\n",
    "        if self.seq_to_exe is not None and expected_val > self.valence_explo:\n",
    "            self.seq_to_exe = eval(self.seq_to_exe)\n",
    "            print(\"\\033[0;35m after compute ... \\033[0m\", self.seq_to_exe)\n",
    "            self.predictExplo.append(1)\n",
    "        else:\n",
    "            print(\"\\033[0;36m explo ... \\033[0m\", self.seq_explo)\n",
    "            self.seq_to_exe = self.seq_explo\n",
    "            self.force_fit = True\n",
    "            self.predictExplo.append(0)\n",
    "        act = self.seq_to_exe.pop(0)\n",
    "        return act\n",
    "        \n",
    "    def action(self, real_outcome, verbose=False, explore:bool=False):\n",
    "        \"\"\"\n",
    "        La fonction action permet à l'agent de choisir une action en fonction de l'outcome réel.\n",
    "        Cette fonction entraine le modèle a prévoir les outcomes futurs en fonction des actions passées.\n",
    "\n",
    "        Args:\n",
    "            real_outcome : L'outcome réel suite à l'action de l'agent\n",
    "            verbose : Affiche les informations sur l'entrainement ou non\n",
    "        \"\"\"\n",
    "        # La première étape est de sauvegarder l'outcome réel\n",
    "        self.history_fb.append(real_outcome)\n",
    "        self.history_inter.append(self.tokenizer.encode(real_outcome))\n",
    "        good_pred:bool = self.outcome_prediction == real_outcome\n",
    "        if verbose :\n",
    "            print(f\"\\033[0;31m Action: {self.action_choice} \\033[0m, Prediction: {self.outcome_prediction}, Outcome: {real_outcome}, \\033[0;31m Satisfaction: {good_pred} \\033[0m\")\n",
    "        \n",
    "        # Ensuite nous regardons si nous devons entrainer le modèle\n",
    "        # not(explore) and \n",
    "        if (not(good_pred) or self.force_fit)and len(self.history_fb) + len(self.history_fb) > self.gap_train:\n",
    "            self.fit()\n",
    "            self.force_fit = False\n",
    "            \n",
    "        elif len(self.history_fb) + len(self.history_fb) > self.gap_train:\n",
    "            for _ in range(self.nb_epoch):\n",
    "                self.acc_train.append(self.acc_train[-1])\n",
    "                self.acc_val.append(self.acc_val[-1])\n",
    "\n",
    "        # Nous devons maintenant choisir une action\n",
    "        if len(self.history_fb) + len(self.history_fb) > self.gap_predi:\n",
    "            self.action_choice = self.decide()\n",
    "            self.outcome_prediction = self.predict(self.action_choice)\n",
    "        else:\n",
    "            inter_max, value = max(self.valence.items(), key=lambda y: y[1])\n",
    "            self.action_choice = inter_max.getAction()\n",
    "        # self.action_choice = np.random.choice(self.all_act)\n",
    "        self.history_act.append(self.action_choice)\n",
    "        self.history_inter.append(self.tokenizer.encode(self.action_choice))\n",
    "        \n",
    "        return self.action_choice, self.outcome_prediction\n",
    "        \n",
    "        \n",
    "              "
   ]
  },
  {
   "cell_type": "code",
   "execution_count": 4,
   "metadata": {},
   "outputs": [],
   "source": [
    "# environenment = small_loop(x=1, y=1, theta=0, world=np.array([\n",
    "#                 [1, 1, 1, 1, 1],\n",
    "#                 [1, 0, 0, 0, 1],\n",
    "#                 [1, 0, 1, 0, 1],\n",
    "#                 [1, 0, 0, 0, 1],\n",
    "#                 [1, 1, 1, 1, 1],\n",
    "#             ]))\n",
    "\n",
    "# environenment = small_loop(x=1, y=1, theta=0, world=np.array([\n",
    "#                 [1, 1, 1, 1, 1, 1],\n",
    "#                 [1, 0, 0, 0, 1, 1],\n",
    "#                 [1, 0, 1, 0, 0, 1],\n",
    "#                 [1, 0, 1, 1, 0, 1],\n",
    "#                 [1, 0, 0, 0, 0, 1],\n",
    "#                 [1, 1, 1, 1, 1, 1],\n",
    "#             ]))\n",
    "\n",
    "# environenment = small_loop(x=1, y=1, theta=0, world=np.array([\n",
    "#                 [1, 1, 1, 1, 1, 1],\n",
    "#                 [1, 0, 0, 0, 0, 1],\n",
    "#                 [1, 0, 0, 0, 0, 1],\n",
    "#                 [1, 0, 0, 0, 0, 1],\n",
    "#                 [1, 0, 0, 0, 0, 1],\n",
    "#                 [1, 1, 1, 1, 1, 1],\n",
    "#             ]))\n",
    "\n",
    "# valence = {\n",
    "#     inter('forward', 'empty') : 10,\n",
    "#     inter('forward', 'wall') : -100,\n",
    "#     inter('turn_left', 'empty') : -21,\n",
    "#     inter('turn_left', 'wall') : -100,\n",
    "#     inter('turn_right', 'empty') : -21,\n",
    "#     inter('turn_right', 'wall') : -100,\n",
    "#     inter('feel_front', 'wall') : -15,\n",
    "#     inter('feel_front', 'empty') : -12,\n",
    "# }"
   ]
  },
  {
   "cell_type": "code",
   "execution_count": 5,
   "metadata": {},
   "outputs": [],
   "source": [
    "environenment = gridWord(x=1, y=1, theta=0, world=np.array([\n",
    "                [1, 1, 1, 1, 1, 1],\n",
    "                [1, 0, 0, 0, 1, 1],\n",
    "                [1, 0, 1, 0, 0, 1],\n",
    "                [1, 0, 1, 1, 0, 1],\n",
    "                [1, 0, 0, 0, 0, 1],\n",
    "                [1, 1, 1, 1, 1, 1],\n",
    "            ]))\n",
    "\n",
    "valence = {\n",
    "    inter('forward', 'empty') : 10,\n",
    "    inter('forward', 'wall') : -100,\n",
    "    inter('turn_left', 'empty') : -21,\n",
    "    inter('turn_left', 'wall') : -100,\n",
    "    inter('turn_right', 'empty') : -21,\n",
    "    inter('turn_right', 'wall') : -100,\n",
    "    inter('feel_front', 'wall') : -15,\n",
    "    inter('feel_front', 'empty') : -12,\n",
    "    inter('feel_right', 'wall') : -15,\n",
    "    inter('feel_right', 'empty') : -12,\n",
    "    inter('feel_left', 'wall') : -15,\n",
    "    inter('feel_left', 'empty') : -12   \n",
    "}"
   ]
  },
  {
   "cell_type": "code",
   "execution_count": 6,
   "metadata": {},
   "outputs": [
    {
     "name": "stderr",
     "output_type": "stream",
     "text": [
      "/home/pe/Documents/stage/Dpt_transformers/.venv/lib/python3.11/site-packages/torch/nn/modules/rnn.py:123: UserWarning: dropout option adds dropout after all but last recurrent layer, so non-zero dropout expects num_layers greater than 1, but got dropout=0.5 and num_layers=1\n",
      "  warnings.warn(\n"
     ]
    }
   ],
   "source": [
    "# torch.manual_seed(0)\n",
    "# np.random.seed(0)\n",
    "hidden_size = 16\n",
    "num_layers = 1\n",
    "len_vocab = len(environenment.get_outcomes() + environenment.get_actions())\n",
    "\n",
    "# Create the LSTM classifier model\n",
    "lstm_classifier = LSTM(num_emb=len_vocab, output_size=2, \n",
    "                       num_layers=num_layers, hidden_size=hidden_size, dropout=0.5).to(device)\n",
    "\n",
    "optimizer = torch.optim.Adam(lstm_classifier.parameters(), lr=0.001)\n",
    "loss_func = nn.CrossEntropyLoss()\n",
    "tokenizer = SimpleTokenizerV1(create_dico_numerate_word(environenment.get_outcomes() + environenment.get_actions()))"
   ]
  },
  {
   "cell_type": "code",
   "execution_count": 7,
   "metadata": {},
   "outputs": [
    {
     "data": {
      "application/vnd.jupyter.widget-view+json": {
       "model_id": "2a50e5cea9ea4a2aa5b9bd901909a5e0",
       "version_major": 2,
       "version_minor": 0
      },
      "text/plain": [
       "  0%|          | 0/1000 [00:00<?, ?it/s]"
      ]
     },
     "metadata": {},
     "output_type": "display_data"
    }
   ],
   "source": [
    "# Pour évaluler la performance du modèle\n",
    "act_val, fb_val = [], []\n",
    "for i in trange(1000):\n",
    "    action = np.random.choice(environenment.get_actions())\n",
    "    outcome = environenment.outcome(action)\n",
    "    act_val.append(action)\n",
    "    fb_val.append(outcome)"
   ]
  },
  {
   "cell_type": "markdown",
   "metadata": {},
   "source": [
    "# Init model"
   ]
  },
  {
   "cell_type": "code",
   "execution_count": 8,
   "metadata": {},
   "outputs": [],
   "source": [
    "agent = AgentLSTM(valence=valence, model=lstm_classifier, optimizer=optimizer, loss_fn=loss_func,\n",
    "    gap_predi=7, gap_train=7, max_depth=5, seuil=0.3, nb_epoch=20,\n",
    "    data_validate=(act_val, fb_val))"
   ]
  },
  {
   "cell_type": "code",
   "execution_count": 9,
   "metadata": {},
   "outputs": [],
   "source": [
    "history_good = []\n",
    "history_good_inter = []\n",
    "history_bad_inter = []\n",
    "hisrory_val = []\n",
    "pourcent_by_10  = []\n",
    "by_10_good_inter  = []\n",
    "by_10_bad_inter  = []\n",
    "mean_val = []\n"
   ]
  },
  {
   "cell_type": "code",
   "execution_count": null,
   "metadata": {},
   "outputs": [
    {
     "data": {
      "application/vnd.jupyter.widget-view+json": {
       "model_id": "24780e340b1946a8bfaf7c4d468e32b8",
       "version_major": 2,
       "version_minor": 0
      },
      "text/plain": [
       "  0%|          | 0/100 [00:00<?, ?it/s]"
      ]
     },
     "metadata": {},
     "output_type": "display_data"
    },
    {
     "name": "stdout",
     "output_type": "stream",
     "text": [
      "\u001b[0;31m Action: forward \u001b[0m, Prediction: None, Outcome: wall, \u001b[0;31m Satisfaction: False \u001b[0m\n",
      "\u001b[0;31m Action: forward \u001b[0m, Prediction: None, Outcome: wall, \u001b[0;31m Satisfaction: False \u001b[0m\n",
      "\u001b[0;31m Action: forward \u001b[0m, Prediction: None, Outcome: wall, \u001b[0;31m Satisfaction: False \u001b[0m\n",
      "\u001b[0;31m Action: forward \u001b[0m, Prediction: None, Outcome: wall, \u001b[0;31m Satisfaction: False \u001b[0m\n"
     ]
    },
    {
     "name": "stderr",
     "output_type": "stream",
     "text": [
      "/tmp/ipykernel_11784/4006124349.py:128: FutureWarning: Setting an item of incompatible dtype is deprecated and will raise an error in a future version of pandas. Value '1' has dtype incompatible with bool, please explicitly cast to a compatible dtype first.\n",
      "  self.visu_val.iloc[steps + i] = [str(self.tokenizer.decode(text[i].cpu().tolist())),\n"
     ]
    },
    {
     "name": "stdout",
     "output_type": "stream",
     "text": [
      "Training time: 0.682765007019043\n",
      "Time to compute expective valance: 0.09362912178039551\n",
      "expected valence : -inf valence explo : 40.00 model predict : 0.0, explo want : ['forward', 'empty', 'forward', 'empty', 'forward', 'empty', 'forward', 'empty']\n",
      "\u001b[0;36m explo ... \u001b[0m ['forward', 'empty', 'forward', 'empty', 'forward', 'empty', 'forward', 'empty']\n",
      "\u001b[0;31m Action: forward \u001b[0m, Prediction: wall, Outcome: wall, \u001b[0;31m Satisfaction: True \u001b[0m\n",
      "Training time: 0.411942720413208\n",
      "Time to compute expective valance: 0.08363890647888184\n",
      "expected valence : -inf valence explo : 40.00 model predict : 0.0, explo want : ['forward', 'empty', 'forward', 'empty', 'forward', 'empty', 'forward', 'empty']\n",
      "\u001b[0;36m explo ... \u001b[0m ['forward', 'empty', 'forward', 'empty', 'forward', 'empty', 'forward', 'empty']\n",
      "\u001b[0;31m Action: forward \u001b[0m, Prediction: wall, Outcome: wall, \u001b[0;31m Satisfaction: True \u001b[0m\n",
      "Training time: 0.3838925361633301\n",
      "Time to compute expective valance: 0.06047654151916504\n",
      "expected valence : -inf valence explo : 40.00 model predict : 0.0, explo want : ['forward', 'empty', 'forward', 'empty', 'forward', 'empty', 'forward', 'empty']\n",
      "\u001b[0;36m explo ... \u001b[0m ['forward', 'empty', 'forward', 'empty', 'forward', 'empty', 'forward', 'empty']\n",
      "\u001b[0;31m Action: forward \u001b[0m, Prediction: wall, Outcome: wall, \u001b[0;31m Satisfaction: True \u001b[0m\n",
      "Training time: 0.37462759017944336\n",
      "Time to compute expective valance: 0.05722975730895996\n",
      "expected valence : -inf valence explo : 40.00 model predict : 0.0, explo want : ['forward', 'empty', 'forward', 'empty', 'forward', 'empty', 'forward', 'empty']\n",
      "\u001b[0;36m explo ... \u001b[0m ['forward', 'empty', 'forward', 'empty', 'forward', 'empty', 'forward', 'empty']\n",
      "\u001b[0;31m Action: forward \u001b[0m, Prediction: wall, Outcome: wall, \u001b[0;31m Satisfaction: True \u001b[0m\n",
      "Training time: 0.4061892032623291\n",
      "Time to compute expective valance: 0.06534123420715332\n",
      "expected valence : -inf valence explo : 40.00 model predict : 0.0, explo want : ['forward', 'empty', 'forward', 'empty', 'forward', 'empty', 'forward', 'empty']\n",
      "\u001b[0;36m explo ... \u001b[0m ['forward', 'empty', 'forward', 'empty', 'forward', 'empty', 'forward', 'empty']\n",
      "\u001b[0;31m Action: forward \u001b[0m, Prediction: wall, Outcome: wall, \u001b[0;31m Satisfaction: True \u001b[0m\n",
      "Training time: 0.39537978172302246\n",
      "Time to compute expective valance: 0.06781244277954102\n",
      "expected valence : -inf valence explo : 40.00 model predict : 0.0, explo want : ['forward', 'empty', 'forward', 'empty', 'forward', 'empty', 'forward', 'empty']\n",
      "\u001b[0;36m explo ... \u001b[0m ['forward', 'empty', 'forward', 'empty', 'forward', 'empty', 'forward', 'empty']\n",
      "\u001b[0;31m Action: forward \u001b[0m, Prediction: wall, Outcome: wall, \u001b[0;31m Satisfaction: True \u001b[0m\n",
      "Training time: 0.3795962333679199\n",
      "Time to compute expective valance: 0.06559205055236816\n",
      "expected valence : -inf valence explo : 40.00 model predict : 0.0, explo want : ['forward', 'empty', 'forward', 'empty', 'forward', 'empty', 'forward', 'empty']\n",
      "\u001b[0;36m explo ... \u001b[0m ['forward', 'empty', 'forward', 'empty', 'forward', 'empty', 'forward', 'empty']\n",
      "\u001b[0;31m Action: forward \u001b[0m, Prediction: wall, Outcome: wall, \u001b[0;31m Satisfaction: True \u001b[0m\n",
      "Training time: 0.393906831741333\n",
      "Time to compute expective valance: 0.0732722282409668\n",
      "expected valence : -inf valence explo : 40.00 model predict : 0.0, explo want : ['forward', 'empty', 'forward', 'empty', 'forward', 'empty', 'forward', 'empty']\n",
      "\u001b[0;36m explo ... \u001b[0m ['forward', 'empty', 'forward', 'empty', 'forward', 'empty', 'forward', 'empty']\n",
      "\u001b[0;31m Action: forward \u001b[0m, Prediction: wall, Outcome: wall, \u001b[0;31m Satisfaction: True \u001b[0m\n",
      "Training time: 0.3888566493988037\n",
      "Time to compute expective valance: 0.06201744079589844\n",
      "expected valence : -inf valence explo : 40.00 model predict : 0.0, explo want : ['forward', 'empty', 'forward', 'empty', 'forward', 'empty', 'forward', 'empty']\n",
      "\u001b[0;36m explo ... \u001b[0m ['forward', 'empty', 'forward', 'empty', 'forward', 'empty', 'forward', 'empty']\n",
      "\u001b[0;31m Action: forward \u001b[0m, Prediction: wall, Outcome: wall, \u001b[0;31m Satisfaction: True \u001b[0m\n",
      "Training time: 0.39083051681518555\n",
      "Time to compute expective valance: 0.06628060340881348\n",
      "expected valence : -inf valence explo : 40.00 model predict : 0.0, explo want : ['forward', 'empty', 'forward', 'empty', 'forward', 'empty', 'forward', 'empty']\n",
      "\u001b[0;36m explo ... \u001b[0m ['forward', 'empty', 'forward', 'empty', 'forward', 'empty', 'forward', 'empty']\n",
      "\u001b[0;31m Action: forward \u001b[0m, Prediction: wall, Outcome: wall, \u001b[0;31m Satisfaction: True \u001b[0m\n",
      "Training time: 0.3836629390716553\n",
      "Time to compute expective valance: 0.06659388542175293\n",
      "expected valence : -inf valence explo : 40.00 model predict : 0.0, explo want : ['forward', 'empty', 'forward', 'empty', 'forward', 'empty', 'forward', 'empty']\n",
      "\u001b[0;36m explo ... \u001b[0m ['forward', 'empty', 'forward', 'empty', 'forward', 'empty', 'forward', 'empty']\n",
      "\u001b[0;31m Action: forward \u001b[0m, Prediction: wall, Outcome: wall, \u001b[0;31m Satisfaction: True \u001b[0m\n",
      "Training time: 0.36320924758911133\n",
      "Time to compute expective valance: 0.05938529968261719\n",
      "expected valence : -inf valence explo : 40.00 model predict : 0.0, explo want : ['forward', 'empty', 'forward', 'empty', 'forward', 'empty', 'forward', 'empty']\n",
      "\u001b[0;36m explo ... \u001b[0m ['forward', 'empty', 'forward', 'empty', 'forward', 'empty', 'forward', 'empty']\n",
      "\u001b[0;31m Action: forward \u001b[0m, Prediction: wall, Outcome: wall, \u001b[0;31m Satisfaction: True \u001b[0m\n",
      "Training time: 0.39067816734313965\n",
      "Time to compute expective valance: 0.06566882133483887\n",
      "expected valence : -inf valence explo : 40.00 model predict : 0.0, explo want : ['forward', 'empty', 'forward', 'empty', 'forward', 'empty', 'forward', 'empty']\n",
      "\u001b[0;36m explo ... \u001b[0m ['forward', 'empty', 'forward', 'empty', 'forward', 'empty', 'forward', 'empty']\n",
      "\u001b[0;31m Action: forward \u001b[0m, Prediction: wall, Outcome: wall, \u001b[0;31m Satisfaction: True \u001b[0m\n",
      "Training time: 0.39768338203430176\n",
      "Time to compute expective valance: 0.061116933822631836\n",
      "expected valence : -inf valence explo : 40.00 model predict : 0.0, explo want : ['forward', 'empty', 'forward', 'empty', 'forward', 'empty', 'forward', 'empty']\n",
      "\u001b[0;36m explo ... \u001b[0m ['forward', 'empty', 'forward', 'empty', 'forward', 'empty', 'forward', 'empty']\n",
      "\u001b[0;31m Action: forward \u001b[0m, Prediction: wall, Outcome: wall, \u001b[0;31m Satisfaction: True \u001b[0m\n",
      "Training time: 0.47946858406066895\n",
      "Time to compute expective valance: 0.07347369194030762\n",
      "expected valence : -inf valence explo : 40.00 model predict : 0.0, explo want : ['forward', 'empty', 'forward', 'empty', 'forward', 'empty', 'forward', 'empty']\n",
      "\u001b[0;36m explo ... \u001b[0m ['forward', 'empty', 'forward', 'empty', 'forward', 'empty', 'forward', 'empty']\n",
      "\u001b[0;31m Action: forward \u001b[0m, Prediction: wall, Outcome: wall, \u001b[0;31m Satisfaction: True \u001b[0m\n",
      "Training time: 0.40523529052734375\n",
      "Time to compute expective valance: 0.0810546875\n",
      "expected valence : -inf valence explo : 40.00 model predict : 0.0, explo want : ['forward', 'empty', 'forward', 'empty', 'forward', 'empty', 'forward', 'empty']\n",
      "\u001b[0;36m explo ... \u001b[0m ['forward', 'empty', 'forward', 'empty', 'forward', 'empty', 'forward', 'empty']\n",
      "\u001b[0;31m Action: forward \u001b[0m, Prediction: wall, Outcome: wall, \u001b[0;31m Satisfaction: True \u001b[0m\n",
      "Training time: 0.3973217010498047\n",
      "Time to compute expective valance: 0.06142568588256836\n",
      "expected valence : -inf valence explo : 40.00 model predict : 0.0, explo want : ['forward', 'empty', 'forward', 'empty', 'forward', 'empty', 'forward', 'empty']\n",
      "\u001b[0;36m explo ... \u001b[0m ['forward', 'empty', 'forward', 'empty', 'forward', 'empty', 'forward', 'empty']\n",
      "\u001b[0;31m Action: forward \u001b[0m, Prediction: wall, Outcome: wall, \u001b[0;31m Satisfaction: True \u001b[0m\n",
      "Training time: 0.4207894802093506\n",
      "Time to compute expective valance: 0.07254385948181152\n",
      "expected valence : -inf valence explo : 40.00 model predict : 0.0, explo want : ['forward', 'empty', 'forward', 'empty', 'forward', 'empty', 'forward', 'empty']\n",
      "\u001b[0;36m explo ... \u001b[0m ['forward', 'empty', 'forward', 'empty', 'forward', 'empty', 'forward', 'empty']\n",
      "\u001b[0;31m Action: forward \u001b[0m, Prediction: wall, Outcome: wall, \u001b[0;31m Satisfaction: True \u001b[0m\n",
      "Training time: 0.39083075523376465\n",
      "Time to compute expective valance: 0.07014775276184082\n",
      "expected valence : -inf valence explo : 40.00 model predict : 0.0, explo want : ['forward', 'empty', 'forward', 'empty', 'forward', 'empty', 'forward', 'empty']\n",
      "\u001b[0;36m explo ... \u001b[0m ['forward', 'empty', 'forward', 'empty', 'forward', 'empty', 'forward', 'empty']\n",
      "\u001b[0;31m Action: forward \u001b[0m, Prediction: wall, Outcome: wall, \u001b[0;31m Satisfaction: True \u001b[0m\n",
      "Training time: 0.37993407249450684\n",
      "Time to compute expective valance: 0.06826210021972656\n",
      "expected valence : -inf valence explo : 40.00 model predict : 0.0, explo want : ['forward', 'empty', 'forward', 'empty', 'forward', 'empty', 'forward', 'empty']\n",
      "\u001b[0;36m explo ... \u001b[0m ['forward', 'empty', 'forward', 'empty', 'forward', 'empty', 'forward', 'empty']\n",
      "\u001b[0;31m Action: forward \u001b[0m, Prediction: wall, Outcome: wall, \u001b[0;31m Satisfaction: True \u001b[0m\n",
      "Training time: 0.4004392623901367\n",
      "Time to compute expective valance: 0.06622672080993652\n",
      "expected valence : -inf valence explo : 40.00 model predict : 0.0, explo want : ['forward', 'empty', 'forward', 'empty', 'forward', 'empty', 'forward', 'empty']\n",
      "\u001b[0;36m explo ... \u001b[0m ['forward', 'empty', 'forward', 'empty', 'forward', 'empty', 'forward', 'empty']\n",
      "\u001b[0;31m Action: forward \u001b[0m, Prediction: wall, Outcome: wall, \u001b[0;31m Satisfaction: True \u001b[0m\n",
      "Training time: 0.3930327892303467\n",
      "Time to compute expective valance: 0.0613856315612793\n",
      "expected valence : -inf valence explo : 40.00 model predict : 0.0, explo want : ['forward', 'empty', 'forward', 'empty', 'forward', 'empty', 'forward', 'empty']\n",
      "\u001b[0;36m explo ... \u001b[0m ['forward', 'empty', 'forward', 'empty', 'forward', 'empty', 'forward', 'empty']\n",
      "\u001b[0;31m Action: forward \u001b[0m, Prediction: wall, Outcome: wall, \u001b[0;31m Satisfaction: True \u001b[0m\n",
      "Training time: 0.4020681381225586\n",
      "Time to compute expective valance: 0.07054018974304199\n",
      "expected valence : -inf valence explo : 40.00 model predict : 0.0, explo want : ['forward', 'empty', 'forward', 'empty', 'forward', 'empty', 'forward', 'empty']\n",
      "\u001b[0;36m explo ... \u001b[0m ['forward', 'empty', 'forward', 'empty', 'forward', 'empty', 'forward', 'empty']\n",
      "\u001b[0;31m Action: forward \u001b[0m, Prediction: wall, Outcome: wall, \u001b[0;31m Satisfaction: True \u001b[0m\n",
      "Training time: 0.3837242126464844\n",
      "Time to compute expective valance: 0.07348942756652832\n",
      "expected valence : -inf valence explo : 40.00 model predict : 0.0, explo want : ['forward', 'empty', 'forward', 'empty', 'forward', 'empty', 'forward', 'empty']\n",
      "\u001b[0;36m explo ... \u001b[0m ['forward', 'empty', 'forward', 'empty', 'forward', 'empty', 'forward', 'empty']\n",
      "\u001b[0;31m Action: forward \u001b[0m, Prediction: wall, Outcome: wall, \u001b[0;31m Satisfaction: True \u001b[0m\n",
      "Training time: 0.3593747615814209\n",
      "Time to compute expective valance: 0.06415796279907227\n",
      "expected valence : -inf valence explo : 40.00 model predict : 0.0, explo want : ['forward', 'empty', 'forward', 'empty', 'forward', 'empty', 'forward', 'empty']\n",
      "\u001b[0;36m explo ... \u001b[0m ['forward', 'empty', 'forward', 'empty', 'forward', 'empty', 'forward', 'empty']\n",
      "\u001b[0;31m Action: forward \u001b[0m, Prediction: wall, Outcome: wall, \u001b[0;31m Satisfaction: True \u001b[0m\n",
      "Training time: 0.3903067111968994\n",
      "Time to compute expective valance: 0.07396078109741211\n",
      "expected valence : -inf valence explo : 40.00 model predict : 0.0, explo want : ['forward', 'empty', 'forward', 'empty', 'forward', 'empty', 'forward', 'empty']\n",
      "\u001b[0;36m explo ... \u001b[0m ['forward', 'empty', 'forward', 'empty', 'forward', 'empty', 'forward', 'empty']\n",
      "\u001b[0;31m Action: forward \u001b[0m, Prediction: wall, Outcome: wall, \u001b[0;31m Satisfaction: True \u001b[0m\n",
      "Training time: 0.3769676685333252\n",
      "Time to compute expective valance: 0.06402993202209473\n",
      "expected valence : -inf valence explo : 40.00 model predict : 0.0, explo want : ['forward', 'empty', 'forward', 'empty', 'forward', 'empty', 'forward', 'empty']\n",
      "\u001b[0;36m explo ... \u001b[0m ['forward', 'empty', 'forward', 'empty', 'forward', 'empty', 'forward', 'empty']\n",
      "\u001b[0;31m Action: forward \u001b[0m, Prediction: wall, Outcome: wall, \u001b[0;31m Satisfaction: True \u001b[0m\n",
      "Training time: 0.46588587760925293\n",
      "Time to compute expective valance: 0.06929159164428711\n",
      "expected valence : -inf valence explo : 40.00 model predict : 0.0, explo want : ['forward', 'empty', 'forward', 'empty', 'forward', 'empty', 'forward', 'empty']\n",
      "\u001b[0;36m explo ... \u001b[0m ['forward', 'empty', 'forward', 'empty', 'forward', 'empty', 'forward', 'empty']\n",
      "\u001b[0;31m Action: forward \u001b[0m, Prediction: wall, Outcome: wall, \u001b[0;31m Satisfaction: True \u001b[0m\n",
      "Training time: 0.4074068069458008\n",
      "Time to compute expective valance: 0.08243823051452637\n",
      "expected valence : -inf valence explo : 18.00 model predict : 0.0, explo want : ['feel_right', 'empty', 'forward', 'empty', 'forward', 'empty', 'forward', 'empty']\n",
      "\u001b[0;36m explo ... \u001b[0m ['feel_right', 'empty', 'forward', 'empty', 'forward', 'empty', 'forward', 'empty']\n",
      "\u001b[0;31m Action: feel_right \u001b[0m, Prediction: wall, Outcome: empty, \u001b[0;31m Satisfaction: False \u001b[0m\n",
      "Training time: 7.944039344787598\n",
      "\u001b[0;31m Action: forward \u001b[0m, Prediction: wall, Outcome: wall, \u001b[0;31m Satisfaction: True \u001b[0m\n",
      "Time to compute expective valance: 0.07763791084289551\n",
      "expected valence : -249.24 valence explo : 18.00 model predict : ['forward', 'wall', 'forward', 'wall', 'forward', 'wall', 'forward', 'wall', 'feel_right', 'wall'], explo want : ['feel_left', 'empty', 'forward', 'empty', 'forward', 'empty', 'forward', 'empty']\n",
      "\u001b[0;36m explo ... \u001b[0m ['feel_left', 'empty', 'forward', 'empty', 'forward', 'empty', 'forward', 'empty']\n",
      "\u001b[0;31m Action: feel_left \u001b[0m, Prediction: wall, Outcome: empty, \u001b[0;31m Satisfaction: False \u001b[0m\n",
      "Training time: 7.819124937057495\n",
      "\u001b[0;31m Action: forward \u001b[0m, Prediction: wall, Outcome: wall, \u001b[0;31m Satisfaction: True \u001b[0m\n",
      "Time to compute expective valance: 0.08129286766052246\n",
      "expected valence : -312.63 valence explo : 18.00 model predict : ['forward', 'wall', 'forward', 'wall', 'forward', 'wall', 'forward', 'wall', 'feel_right', 'wall'], explo want : ['feel_front', 'empty', 'forward', 'empty', 'forward', 'empty', 'forward', 'empty']\n",
      "\u001b[0;36m explo ... \u001b[0m ['feel_front', 'empty', 'forward', 'empty', 'forward', 'empty', 'forward', 'empty']\n",
      "\u001b[0;31m Action: feel_front \u001b[0m, Prediction: wall, Outcome: empty, \u001b[0;31m Satisfaction: False \u001b[0m\n",
      "Training time: 7.8384435176849365\n",
      "\u001b[0;31m Action: forward \u001b[0m, Prediction: wall, Outcome: wall, \u001b[0;31m Satisfaction: True \u001b[0m\n",
      "Time to compute expective valance: 0.10525989532470703\n",
      "expected valence : -371.54 valence explo : 15.00 model predict : ['forward', 'wall', 'forward', 'wall', 'forward', 'wall', 'forward', 'wall', 'feel_right', 'wall'], explo want : ['feel_right', 'wall', 'forward', 'empty', 'forward', 'empty', 'forward', 'empty']\n",
      "\u001b[0;36m explo ... \u001b[0m ['feel_right', 'wall', 'forward', 'empty', 'forward', 'empty', 'forward', 'empty']\n",
      "\u001b[0;31m Action: feel_right \u001b[0m, Prediction: wall, Outcome: empty, \u001b[0;31m Satisfaction: False \u001b[0m\n",
      "Training time: 8.041669368743896\n",
      "Time to compute expective valance: 0.10976624488830566\n",
      "expected valence : -188.72 valence explo : 18.00 model predict : ['forward', 'wall', 'feel_right', 'empty', 'forward', 'wall', 'forward', 'wall', 'forward', 'wall'], explo want : ['feel_right', 'empty', 'forward', 'empty', 'forward', 'empty', 'forward', 'empty']\n",
      "\u001b[0;36m explo ... \u001b[0m ['feel_right', 'empty', 'forward', 'empty', 'forward', 'empty', 'forward', 'empty']\n",
      "\u001b[0;31m Action: feel_right \u001b[0m, Prediction: empty, Outcome: empty, \u001b[0;31m Satisfaction: True \u001b[0m\n",
      "Training time: 3.8956241607666016\n",
      "\u001b[0;31m Action: forward \u001b[0m, Prediction: wall, Outcome: wall, \u001b[0;31m Satisfaction: True \u001b[0m\n",
      "Time to compute expective valance: 0.17630982398986816\n",
      "expected valence : -114.64 valence explo : 15.00 model predict : ['feel_right', 'empty', 'feel_right', 'empty', 'forward', 'wall', 'forward', 'wall', 'forward', 'wall'], explo want : ['feel_right', 'wall', 'forward', 'empty', 'forward', 'empty', 'forward', 'empty']\n",
      "\u001b[0;36m explo ... \u001b[0m ['feel_right', 'wall', 'forward', 'empty', 'forward', 'empty', 'forward', 'empty']\n",
      "\u001b[0;31m Action: feel_right \u001b[0m, Prediction: empty, Outcome: empty, \u001b[0;31m Satisfaction: True \u001b[0m\n",
      "Training time: 0.41915011405944824\n",
      "Time to compute expective valance: 0.15023231506347656\n",
      "expected valence : -160.34 valence explo : 18.00 model predict : ['feel_right', 'empty', 'forward', 'wall', 'forward', 'wall', 'forward', 'wall', 'feel_right', 'empty'], explo want : ['feel_left', 'empty', 'forward', 'empty', 'forward', 'empty', 'forward', 'empty']\n",
      "\u001b[0;36m explo ... \u001b[0m ['feel_left', 'empty', 'forward', 'empty', 'forward', 'empty', 'forward', 'empty']\n",
      "\u001b[0;31m Action: feel_left \u001b[0m, Prediction: empty, Outcome: empty, \u001b[0;31m Satisfaction: True \u001b[0m\n",
      "Training time: 0.3888685703277588\n",
      "\u001b[0;31m Action: forward \u001b[0m, Prediction: wall, Outcome: wall, \u001b[0;31m Satisfaction: True \u001b[0m\n",
      "Time to compute expective valance: 0.201246976852417\n",
      "expected valence : -120.26 valence explo : 15.00 model predict : ['feel_right', 'empty', 'feel_right', 'empty', 'forward', 'wall', 'forward', 'wall', 'forward', 'wall'], explo want : ['feel_right', 'wall', 'forward', 'empty', 'forward', 'empty', 'forward', 'empty']\n",
      "\u001b[0;36m explo ... \u001b[0m ['feel_right', 'wall', 'forward', 'empty', 'forward', 'empty', 'forward', 'empty']\n",
      "\u001b[0;31m Action: feel_right \u001b[0m, Prediction: empty, Outcome: empty, \u001b[0;31m Satisfaction: True \u001b[0m\n",
      "Training time: 0.3852062225341797\n",
      "Time to compute expective valance: 0.15122056007385254\n",
      "expected valence : -115.69 valence explo : 18.00 model predict : ['feel_right', 'empty', 'feel_right', 'empty', 'forward', 'wall', 'forward', 'wall', 'forward', 'wall'], explo want : ['feel_front', 'empty', 'forward', 'empty', 'forward', 'empty', 'forward', 'empty']\n",
      "\u001b[0;36m explo ... \u001b[0m ['feel_front', 'empty', 'forward', 'empty', 'forward', 'empty', 'forward', 'empty']\n",
      "\u001b[0;31m Action: feel_front \u001b[0m, Prediction: empty, Outcome: empty, \u001b[0;31m Satisfaction: True \u001b[0m\n",
      "Training time: 0.37752294540405273\n",
      "\u001b[0;31m Action: forward \u001b[0m, Prediction: wall, Outcome: wall, \u001b[0;31m Satisfaction: True \u001b[0m\n",
      "Time to compute expective valance: 0.20859742164611816\n",
      "expected valence : -117.47 valence explo : 15.00 model predict : ['feel_right', 'empty', 'feel_left', 'empty', 'forward', 'wall', 'forward', 'wall', 'forward', 'wall'], explo want : ['feel_left', 'wall', 'forward', 'empty', 'forward', 'empty', 'forward', 'empty']\n",
      "\u001b[0;36m explo ... \u001b[0m ['feel_left', 'wall', 'forward', 'empty', 'forward', 'empty', 'forward', 'empty']\n",
      "\u001b[0;31m Action: feel_left \u001b[0m, Prediction: empty, Outcome: empty, \u001b[0;31m Satisfaction: True \u001b[0m\n",
      "Training time: 0.3655848503112793\n",
      "Time to compute expective valance: 0.1238861083984375\n",
      "expected valence : -163.09 valence explo : 18.00 model predict : ['forward', 'wall', 'feel_right', 'empty', 'feel_right', 'empty', 'forward', 'wall', 'forward', 'wall'], explo want : ['feel_right', 'empty', 'forward', 'empty', 'forward', 'empty', 'forward', 'empty']\n",
      "\u001b[0;36m explo ... \u001b[0m ['feel_right', 'empty', 'forward', 'empty', 'forward', 'empty', 'forward', 'empty']\n",
      "\u001b[0;31m Action: feel_right \u001b[0m, Prediction: empty, Outcome: empty, \u001b[0;31m Satisfaction: True \u001b[0m\n",
      "Training time: 0.37577199935913086\n",
      "\u001b[0;31m Action: forward \u001b[0m, Prediction: wall, Outcome: wall, \u001b[0;31m Satisfaction: True \u001b[0m\n",
      "Time to compute expective valance: 0.24012351036071777\n",
      "expected valence : -112.68 valence explo : 15.00 model predict : ['feel_left', 'empty', 'feel_right', 'empty', 'forward', 'wall', 'forward', 'wall', 'forward', 'wall'], explo want : ['feel_left', 'wall', 'forward', 'empty', 'forward', 'empty', 'forward', 'empty']\n",
      "\u001b[0;36m explo ... \u001b[0m ['feel_left', 'wall', 'forward', 'empty', 'forward', 'empty', 'forward', 'empty']\n",
      "\u001b[0;31m Action: feel_left \u001b[0m, Prediction: empty, Outcome: empty, \u001b[0;31m Satisfaction: True \u001b[0m\n",
      "Training time: 0.3766207695007324\n",
      "Time to compute expective valance: 0.18455171585083008\n",
      "expected valence : -120.41 valence explo : 18.00 model predict : ['feel_right', 'empty', 'feel_left', 'empty', 'forward', 'wall', 'forward', 'wall', 'forward', 'wall'], explo want : ['feel_left', 'empty', 'forward', 'empty', 'forward', 'empty', 'forward', 'empty']\n",
      "\u001b[0;36m explo ... \u001b[0m ['feel_left', 'empty', 'forward', 'empty', 'forward', 'empty', 'forward', 'empty']\n",
      "\u001b[0;31m Action: feel_left \u001b[0m, Prediction: empty, Outcome: empty, \u001b[0;31m Satisfaction: True \u001b[0m\n",
      "Training time: 0.371326208114624\n",
      "\u001b[0;31m Action: forward \u001b[0m, Prediction: wall, Outcome: wall, \u001b[0;31m Satisfaction: True \u001b[0m\n",
      "Time to compute expective valance: 0.25052952766418457\n",
      "expected valence : -119.09 valence explo : 15.00 model predict : ['feel_left', 'empty', 'feel_right', 'empty', 'forward', 'wall', 'forward', 'wall', 'forward', 'wall'], explo want : ['feel_left', 'wall', 'forward', 'empty', 'forward', 'empty', 'forward', 'empty']\n",
      "\u001b[0;36m explo ... \u001b[0m ['feel_left', 'wall', 'forward', 'empty', 'forward', 'empty', 'forward', 'empty']\n",
      "\u001b[0;31m Action: feel_left \u001b[0m, Prediction: empty, Outcome: empty, \u001b[0;31m Satisfaction: True \u001b[0m\n",
      "Training time: 0.377288818359375\n",
      "Time to compute expective valance: 0.23322367668151855\n",
      "expected valence : -121.31 valence explo : 18.00 model predict : ['feel_left', 'empty', 'feel_right', 'empty', 'forward', 'wall', 'forward', 'wall', 'forward', 'wall'], explo want : ['feel_front', 'empty', 'forward', 'empty', 'forward', 'empty', 'forward', 'empty']\n",
      "\u001b[0;36m explo ... \u001b[0m ['feel_front', 'empty', 'forward', 'empty', 'forward', 'empty', 'forward', 'empty']\n",
      "\u001b[0;31m Action: feel_front \u001b[0m, Prediction: empty, Outcome: empty, \u001b[0;31m Satisfaction: True \u001b[0m\n",
      "Training time: 0.37100863456726074\n",
      "\u001b[0;31m Action: forward \u001b[0m, Prediction: wall, Outcome: wall, \u001b[0;31m Satisfaction: True \u001b[0m\n",
      "Time to compute expective valance: 0.2758007049560547\n",
      "expected valence : -113.30 valence explo : 15.00 model predict : ['feel_right', 'empty', 'feel_right', 'empty', 'forward', 'wall', 'forward', 'wall', 'feel_right', 'empty'], explo want : ['feel_left', 'wall', 'forward', 'empty', 'forward', 'empty', 'forward', 'empty']\n",
      "\u001b[0;36m explo ... \u001b[0m ['feel_left', 'wall', 'forward', 'empty', 'forward', 'empty', 'forward', 'empty']\n",
      "\u001b[0;31m Action: feel_left \u001b[0m, Prediction: empty, Outcome: empty, \u001b[0;31m Satisfaction: True \u001b[0m\n",
      "Training time: 0.408674955368042\n",
      "Time to compute expective valance: 0.3168036937713623\n",
      "expected valence : -110.08 valence explo : 15.00 model predict : ['feel_right', 'empty', 'feel_right', 'empty', 'forward', 'wall', 'forward', 'wall', 'feel_right', 'empty'], explo want : ['feel_left', 'wall', 'forward', 'empty', 'forward', 'empty', 'forward', 'empty']\n",
      "\u001b[0;36m explo ... \u001b[0m ['feel_left', 'wall', 'forward', 'empty', 'forward', 'empty', 'forward', 'empty']\n",
      "\u001b[0;31m Action: feel_left \u001b[0m, Prediction: empty, Outcome: empty, \u001b[0;31m Satisfaction: True \u001b[0m\n",
      "Training time: 0.3828861713409424\n",
      "Time to compute expective valance: 0.32880401611328125\n",
      "expected valence : -89.75 valence explo : 15.00 model predict : ['feel_right', 'empty', 'feel_right', 'empty', 'feel_right', 'empty', 'forward', 'wall', 'forward', 'wall'], explo want : ['feel_left', 'wall', 'forward', 'empty', 'forward', 'empty', 'forward', 'empty']\n",
      "\u001b[0;36m explo ... \u001b[0m ['feel_left', 'wall', 'forward', 'empty', 'forward', 'empty', 'forward', 'empty']\n",
      "\u001b[0;31m Action: feel_left \u001b[0m, Prediction: empty, Outcome: empty, \u001b[0;31m Satisfaction: True \u001b[0m\n",
      "Training time: 0.4020521640777588\n",
      "Time to compute expective valance: 0.33032965660095215\n",
      "expected valence : -92.32 valence explo : 15.00 model predict : ['feel_right', 'empty', 'feel_right', 'empty', 'feel_right', 'empty', 'forward', 'wall', 'forward', 'wall'], explo want : ['feel_left', 'wall', 'forward', 'empty', 'forward', 'empty', 'forward', 'empty']\n",
      "\u001b[0;36m explo ... \u001b[0m ['feel_left', 'wall', 'forward', 'empty', 'forward', 'empty', 'forward', 'empty']\n",
      "\u001b[0;31m Action: feel_left \u001b[0m, Prediction: empty, Outcome: empty, \u001b[0;31m Satisfaction: True \u001b[0m\n",
      "Training time: 0.42490410804748535\n",
      "Time to compute expective valance: 0.36409997940063477\n",
      "expected valence : -89.67 valence explo : 15.00 model predict : ['feel_right', 'empty', 'feel_right', 'empty', 'feel_front', 'empty', 'forward', 'wall', 'forward', 'wall'], explo want : ['feel_left', 'wall', 'forward', 'empty', 'forward', 'empty', 'forward', 'empty']\n",
      "\u001b[0;36m explo ... \u001b[0m ['feel_left', 'wall', 'forward', 'empty', 'forward', 'empty', 'forward', 'empty']\n",
      "\u001b[0;31m Action: feel_left \u001b[0m, Prediction: empty, Outcome: empty, \u001b[0;31m Satisfaction: True \u001b[0m\n",
      "Training time: 0.41520118713378906\n",
      "Time to compute expective valance: 0.4056539535522461\n",
      "expected valence : -88.52 valence explo : 15.00 model predict : ['feel_left', 'empty', 'feel_right', 'empty', 'feel_right', 'empty', 'forward', 'wall', 'forward', 'wall'], explo want : ['feel_left', 'wall', 'forward', 'empty', 'forward', 'empty', 'forward', 'empty']\n",
      "\u001b[0;36m explo ... \u001b[0m ['feel_left', 'wall', 'forward', 'empty', 'forward', 'empty', 'forward', 'empty']\n",
      "\u001b[0;31m Action: feel_left \u001b[0m, Prediction: empty, Outcome: empty, \u001b[0;31m Satisfaction: True \u001b[0m\n",
      "Training time: 0.3856234550476074\n",
      "Time to compute expective valance: 0.3818700313568115\n",
      "expected valence : -91.35 valence explo : 15.00 model predict : ['feel_left', 'empty', 'feel_right', 'empty', 'feel_right', 'empty', 'forward', 'wall', 'forward', 'wall'], explo want : ['feel_left', 'wall', 'forward', 'empty', 'forward', 'empty', 'forward', 'empty']\n",
      "\u001b[0;36m explo ... \u001b[0m ['feel_left', 'wall', 'forward', 'empty', 'forward', 'empty', 'forward', 'empty']\n",
      "\u001b[0;31m Action: feel_left \u001b[0m, Prediction: empty, Outcome: empty, \u001b[0;31m Satisfaction: True \u001b[0m\n",
      "Training time: 0.37393665313720703\n",
      "Time to compute expective valance: 0.414104700088501\n",
      "expected valence : -71.72 valence explo : 15.00 model predict : ['feel_right', 'empty', 'feel_right', 'empty', 'feel_right', 'empty', 'forward', 'wall', 'feel_right', 'empty'], explo want : ['feel_left', 'wall', 'forward', 'empty', 'forward', 'empty', 'forward', 'empty']\n",
      "\u001b[0;36m explo ... \u001b[0m ['feel_left', 'wall', 'forward', 'empty', 'forward', 'empty', 'forward', 'empty']\n",
      "\u001b[0;31m Action: feel_left \u001b[0m, Prediction: empty, Outcome: empty, \u001b[0;31m Satisfaction: True \u001b[0m\n",
      "Training time: 0.37221837043762207\n",
      "Time to compute expective valance: 0.43976306915283203\n",
      "expected valence : -73.47 valence explo : 15.00 model predict : ['feel_right', 'empty', 'feel_right', 'empty', 'feel_right', 'empty', 'forward', 'wall', 'feel_right', 'empty'], explo want : ['feel_left', 'wall', 'forward', 'empty', 'forward', 'empty', 'forward', 'empty']\n",
      "\u001b[0;36m explo ... \u001b[0m ['feel_left', 'wall', 'forward', 'empty', 'forward', 'empty', 'forward', 'empty']\n",
      "\u001b[0;31m Action: feel_left \u001b[0m, Prediction: empty, Outcome: empty, \u001b[0;31m Satisfaction: True \u001b[0m\n",
      "Training time: 0.36709094047546387\n",
      "Time to compute expective valance: 0.4855203628540039\n",
      "expected valence : -66.92 valence explo : 15.00 model predict : ['feel_right', 'empty', 'feel_right', 'empty', 'feel_right', 'empty', 'feel_right', 'empty', 'forward', 'wall'], explo want : ['feel_left', 'wall', 'forward', 'empty', 'forward', 'empty', 'forward', 'empty']\n",
      "\u001b[0;36m explo ... \u001b[0m ['feel_left', 'wall', 'forward', 'empty', 'forward', 'empty', 'forward', 'empty']\n",
      "\u001b[0;31m Action: feel_left \u001b[0m, Prediction: empty, Outcome: empty, \u001b[0;31m Satisfaction: True \u001b[0m\n",
      "Training time: 0.38932228088378906\n",
      "Time to compute expective valance: 0.5114550590515137\n",
      "expected valence : -68.65 valence explo : 9.00 model predict : ['feel_right', 'empty', 'feel_right', 'empty', 'feel_right', 'empty', 'feel_right', 'empty', 'forward', 'wall'], explo want : ['turn_left', 'empty', 'forward', 'empty', 'forward', 'empty', 'forward', 'empty']\n",
      "\u001b[0;36m explo ... \u001b[0m ['turn_left', 'empty', 'forward', 'empty', 'forward', 'empty', 'forward', 'empty']\n",
      "\u001b[0;31m Action: turn_left \u001b[0m, Prediction: wall, Outcome: empty, \u001b[0;31m Satisfaction: False \u001b[0m\n",
      "Training time: 7.586015462875366\n",
      "\u001b[0;31m Action: forward \u001b[0m, Prediction: wall, Outcome: empty, \u001b[0;31m Satisfaction: False \u001b[0m\n",
      "Training time: 7.678639650344849\n",
      "\u001b[0;31m Action: forward \u001b[0m, Prediction: wall, Outcome: wall, \u001b[0;31m Satisfaction: True \u001b[0m\n",
      "Time to compute expective valance: 0.7012372016906738\n",
      "expected valence : -54.42 valence explo : 9.00 model predict : ['feel_right', 'empty', 'feel_right', 'empty', 'feel_right', 'empty', 'feel_right', 'empty', 'feel_left', 'empty'], explo want : ['turn_left', 'empty', 'forward', 'empty', 'forward', 'empty', 'forward', 'empty']\n",
      "\u001b[0;36m explo ... \u001b[0m ['turn_left', 'empty', 'forward', 'empty', 'forward', 'empty', 'forward', 'empty']\n",
      "\u001b[0;31m Action: turn_left \u001b[0m, Prediction: wall, Outcome: empty, \u001b[0;31m Satisfaction: False \u001b[0m\n",
      "Training time: 8.7559335231781\n",
      "\u001b[0;31m Action: forward \u001b[0m, Prediction: wall, Outcome: wall, \u001b[0;31m Satisfaction: True \u001b[0m\n",
      "Time to compute expective valance: 0.985109806060791\n",
      "expected valence : -56.00 valence explo : 9.00 model predict : ['feel_right', 'empty', 'feel_right', 'empty', 'feel_right', 'empty', 'feel_right', 'empty', 'feel_left', 'empty'], explo want : ['turn_right', 'empty', 'forward', 'empty', 'forward', 'empty', 'forward', 'empty']\n",
      "\u001b[0;36m explo ... \u001b[0m ['turn_right', 'empty', 'forward', 'empty', 'forward', 'empty', 'forward', 'empty']\n",
      "\u001b[0;31m Action: turn_right \u001b[0m, Prediction: empty, Outcome: empty, \u001b[0;31m Satisfaction: True \u001b[0m\n",
      "Training time: 6.678663492202759\n",
      "\u001b[0;31m Action: forward \u001b[0m, Prediction: wall, Outcome: wall, \u001b[0;31m Satisfaction: True \u001b[0m\n",
      "Time to compute expective valance: 1.2414262294769287\n",
      "expected valence : -56.90 valence explo : -4.00 model predict : ['feel_right', 'empty', 'feel_right', 'empty', 'feel_right', 'empty', 'feel_right', 'empty', 'feel_left', 'empty'], explo want : ['feel_front', 'empty', 'feel_right', 'empty', 'forward', 'empty', 'forward', 'empty']\n",
      "\u001b[0;36m explo ... \u001b[0m ['feel_front', 'empty', 'feel_right', 'empty', 'forward', 'empty', 'forward', 'empty']\n",
      "\u001b[0;31m Action: feel_front \u001b[0m, Prediction: empty, Outcome: empty, \u001b[0;31m Satisfaction: True \u001b[0m\n",
      "Training time: 6.877643585205078\n",
      "\u001b[0;31m Action: feel_right \u001b[0m, Prediction: empty, Outcome: empty, \u001b[0;31m Satisfaction: True \u001b[0m\n",
      "\u001b[0;31m Action: forward \u001b[0m, Prediction: wall, Outcome: wall, \u001b[0;31m Satisfaction: True \u001b[0m\n",
      "Time to compute expective valance: 1.359832525253296\n",
      "expected valence : -57.05 valence explo : -4.00 model predict : ['feel_front', 'empty', 'feel_right', 'empty', 'feel_front', 'empty', 'feel_right', 'empty', 'feel_left', 'empty'], explo want : ['feel_front', 'empty', 'feel_left', 'empty', 'forward', 'empty', 'forward', 'empty']\n",
      "\u001b[0;36m explo ... \u001b[0m ['feel_front', 'empty', 'feel_left', 'empty', 'forward', 'empty', 'forward', 'empty']\n",
      "\u001b[0;31m Action: feel_front \u001b[0m, Prediction: empty, Outcome: empty, \u001b[0;31m Satisfaction: True \u001b[0m\n",
      "Training time: 0.4375951290130615\n",
      "\u001b[0;31m Action: feel_left \u001b[0m, Prediction: empty, Outcome: wall, \u001b[0;31m Satisfaction: False \u001b[0m\n",
      "Training time: 8.418651580810547\n",
      "Time to compute expective valance: 0.05984997749328613\n",
      "expected valence : -inf valence explo : 40.00 model predict : 0.0, explo want : ['forward', 'empty', 'forward', 'empty', 'forward', 'empty', 'forward', 'empty']\n",
      "\u001b[0;36m explo ... \u001b[0m ['forward', 'empty', 'forward', 'empty', 'forward', 'empty', 'forward', 'empty']\n",
      "\u001b[0;31m Action: forward \u001b[0m, Prediction: wall, Outcome: wall, \u001b[0;31m Satisfaction: True \u001b[0m\n",
      "Training time: 8.761175394058228\n",
      "Time to compute expective valance: 1.5851707458496094\n",
      "expected valence : -56.27 valence explo : -4.00 model predict : ['feel_front', 'empty', 'feel_left', 'empty', 'feel_front', 'empty', 'feel_left', 'empty', 'feel_left', 'empty'], explo want : ['feel_front', 'empty', 'feel_front', 'empty', 'forward', 'empty', 'forward', 'empty']\n",
      "\u001b[0;36m explo ... \u001b[0m ['feel_front', 'empty', 'feel_front', 'empty', 'forward', 'empty', 'forward', 'empty']\n",
      "\u001b[0;31m Action: feel_front \u001b[0m, Prediction: empty, Outcome: empty, \u001b[0;31m Satisfaction: True \u001b[0m\n",
      "Training time: 8.821190118789673\n",
      "\u001b[0;31m Action: feel_front \u001b[0m, Prediction: empty, Outcome: empty, \u001b[0;31m Satisfaction: True \u001b[0m\n",
      "\u001b[0;31m Action: forward \u001b[0m, Prediction: wall, Outcome: wall, \u001b[0;31m Satisfaction: True \u001b[0m\n",
      "Time to compute expective valance: 1.7978568077087402\n",
      "expected valence : -55.04 valence explo : -13.00 model predict : ['feel_left', 'empty', 'feel_left', 'empty', 'feel_left', 'empty', 'feel_front', 'empty', 'feel_right', 'empty'], explo want : ['turn_left', 'empty', 'feel_right', 'empty', 'forward', 'empty', 'forward', 'empty']\n",
      "\u001b[0;36m explo ... \u001b[0m ['turn_left', 'empty', 'feel_right', 'empty', 'forward', 'empty', 'forward', 'empty']\n",
      "\u001b[0;31m Action: turn_left \u001b[0m, Prediction: wall, Outcome: empty, \u001b[0;31m Satisfaction: False \u001b[0m\n",
      "Training time: 8.524405002593994\n",
      "\u001b[0;31m Action: feel_right \u001b[0m, Prediction: empty, Outcome: wall, \u001b[0;31m Satisfaction: False \u001b[0m\n",
      "Training time: 8.36864423751831\n",
      "Time to compute expective valance: 0.061625003814697266\n",
      "expected valence : -inf valence explo : 40.00 model predict : 0.0, explo want : ['forward', 'empty', 'forward', 'empty', 'forward', 'empty', 'forward', 'empty']\n",
      "\u001b[0;36m explo ... \u001b[0m ['forward', 'empty', 'forward', 'empty', 'forward', 'empty', 'forward', 'empty']\n",
      "\u001b[0;31m Action: forward \u001b[0m, Prediction: wall, Outcome: wall, \u001b[0;31m Satisfaction: True \u001b[0m\n",
      "Training time: 8.47317123413086\n",
      "Time to compute expective valance: 1.9102048873901367\n",
      "expected valence : -43.30 valence explo : -13.00 model predict : ['feel_front', 'empty', 'feel_left', 'empty', 'feel_left', 'empty', 'feel_right', 'empty', 'feel_front', 'empty'], explo want : ['turn_left', 'empty', 'feel_left', 'empty', 'forward', 'empty', 'forward', 'empty']\n",
      "\u001b[0;36m explo ... \u001b[0m ['turn_left', 'empty', 'feel_left', 'empty', 'forward', 'empty', 'forward', 'empty']\n",
      "\u001b[0;31m Action: turn_left \u001b[0m, Prediction: empty, Outcome: empty, \u001b[0;31m Satisfaction: True \u001b[0m\n",
      "Training time: 8.935522556304932\n",
      "\u001b[0;31m Action: feel_left \u001b[0m, Prediction: empty, Outcome: empty, \u001b[0;31m Satisfaction: True \u001b[0m\n",
      "\u001b[0;31m Action: forward \u001b[0m, Prediction: wall, Outcome: empty, \u001b[0;31m Satisfaction: False \u001b[0m\n",
      "Training time: 8.966849565505981\n",
      "\u001b[0;31m Action: forward \u001b[0m, Prediction: wall, Outcome: empty, \u001b[0;31m Satisfaction: False \u001b[0m\n",
      "Training time: 8.80849027633667\n",
      "Time to compute expective valance: 0.47696590423583984\n",
      "expected valence : -128.43 valence explo : 18.00 model predict : ['forward', 'wall', 'feel_left', 'empty', 'feel_front', 'empty', 'feel_left', 'empty', 'forward', 'empty'], explo want : ['feel_right', 'empty', 'forward', 'empty', 'forward', 'empty', 'forward', 'empty']\n",
      "\u001b[0;36m explo ... \u001b[0m ['feel_right', 'empty', 'forward', 'empty', 'forward', 'empty', 'forward', 'empty']\n",
      "\u001b[0;31m Action: feel_right \u001b[0m, Prediction: empty, Outcome: wall, \u001b[0;31m Satisfaction: False \u001b[0m\n",
      "Training time: 8.390904903411865\n",
      "Time to compute expective valance: 0.5008985996246338\n",
      "expected valence : -125.73 valence explo : 18.00 model predict : ['forward', 'wall', 'feel_left', 'empty', 'feel_left', 'empty', 'feel_left', 'empty', 'forward', 'empty'], explo want : ['feel_right', 'empty', 'forward', 'empty', 'forward', 'empty', 'forward', 'empty']\n",
      "\u001b[0;36m explo ... \u001b[0m ['feel_right', 'empty', 'forward', 'empty', 'forward', 'empty', 'forward', 'empty']\n",
      "\u001b[0;31m Action: feel_right \u001b[0m, Prediction: empty, Outcome: wall, \u001b[0;31m Satisfaction: False \u001b[0m\n",
      "Training time: 8.633832454681396\n",
      "Time to compute expective valance: 0.9797799587249756\n",
      "expected valence : -29.13 valence explo : 18.00 model predict : ['feel_right', 'empty', 'feel_left', 'empty', 'feel_left', 'empty', 'feel_left', 'empty', 'forward', 'empty'], explo want : ['feel_left', 'empty', 'forward', 'empty', 'forward', 'empty', 'forward', 'empty']\n",
      "\u001b[0;36m explo ... \u001b[0m ['feel_left', 'empty', 'forward', 'empty', 'forward', 'empty', 'forward', 'empty']\n",
      "\u001b[0;31m Action: feel_left \u001b[0m, Prediction: empty, Outcome: empty, \u001b[0;31m Satisfaction: True \u001b[0m\n",
      "Training time: 4.23781681060791\n",
      "\u001b[0;31m Action: forward \u001b[0m, Prediction: wall, Outcome: empty, \u001b[0;31m Satisfaction: False \u001b[0m\n",
      "Training time: 2.562281370162964\n",
      "\u001b[0;31m Action: forward \u001b[0m, Prediction: wall, Outcome: wall, \u001b[0;31m Satisfaction: True \u001b[0m\n",
      "Time to compute expective valance: 1.8927381038665771\n",
      "expected valence : -24.29 valence explo : -13.00 model predict : ['feel_right', 'empty', 'feel_left', 'empty', 'feel_left', 'empty', 'forward', 'empty', 'forward', 'empty'], explo want : ['turn_left', 'empty', 'feel_front', 'empty', 'forward', 'empty', 'forward', 'empty']\n",
      "\u001b[0;36m explo ... \u001b[0m ['turn_left', 'empty', 'feel_front', 'empty', 'forward', 'empty', 'forward', 'empty']\n",
      "\u001b[0;31m Action: turn_left \u001b[0m, Prediction: empty, Outcome: empty, \u001b[0;31m Satisfaction: True \u001b[0m\n",
      "Training time: 1.2342569828033447\n",
      "\u001b[0;31m Action: feel_front \u001b[0m, Prediction: empty, Outcome: wall, \u001b[0;31m Satisfaction: False \u001b[0m\n",
      "Training time: 8.617118835449219\n",
      "Time to compute expective valance: 0.08742022514343262\n",
      "expected valence : -inf valence explo : 40.00 model predict : 0.0, explo want : ['forward', 'empty', 'forward', 'empty', 'forward', 'empty', 'forward', 'empty']\n",
      "\u001b[0;36m explo ... \u001b[0m ['forward', 'empty', 'forward', 'empty', 'forward', 'empty', 'forward', 'empty']\n",
      "\u001b[0;31m Action: forward \u001b[0m, Prediction: wall, Outcome: empty, \u001b[0;31m Satisfaction: False \u001b[0m\n",
      "Training time: 4.232887506484985\n",
      "\u001b[0;31m Action: forward \u001b[0m, Prediction: wall, Outcome: empty, \u001b[0;31m Satisfaction: False \u001b[0m\n",
      "Training time: 1.3428857326507568\n",
      "\u001b[0;31m Action: forward \u001b[0m, Prediction: wall, Outcome: empty, \u001b[0;31m Satisfaction: False \u001b[0m\n",
      "Training time: 8.116941452026367\n",
      "\u001b[0;31m Action: forward \u001b[0m, Prediction: wall, Outcome: wall, \u001b[0;31m Satisfaction: True \u001b[0m\n",
      "Time to compute expective valance: 1.439389705657959\n",
      "expected valence : -36.86 valence explo : -7.00 model predict : ['feel_right', 'empty', 'feel_left', 'empty', 'feel_left', 'empty', 'feel_left', 'empty', 'forward', 'empty'], explo want : ['feel_left', 'wall', 'feel_right', 'empty', 'forward', 'empty', 'forward', 'empty']\n",
      "\u001b[0;36m explo ... \u001b[0m ['feel_left', 'wall', 'feel_right', 'empty', 'forward', 'empty', 'forward', 'empty']\n"
     ]
    }
   ],
   "source": [
    "# torch.manual_seed(0)\n",
    "# np.random.seed(0)\n",
    "\n",
    "outcome = environenment.outcome(agent.action_choice)\n",
    "\n",
    "for i in tqdm(range(100)):\n",
    "    action, predi = agent.action(outcome, verbose=True)\n",
    "    \n",
    "    outcome = environenment.outcome(action)\n",
    "    history_good.append(outcome == predi)\n",
    "    history_good_inter.append((action == 'forward' and outcome == 'empty'))\n",
    "    history_bad_inter.append((action == 'forward' and outcome == 'wall'))\n",
    "    hisrory_val.append(valence[inter(action, outcome)])\n",
    "    pourcent_by_10.append(sum(history_good[-10:]) if len(history_good) >= 10 else 0)\n",
    "    by_10_good_inter.append(sum(history_good_inter[-10:]) if len(history_good_inter) >= 10 else 0)\n",
    "    by_10_bad_inter.append(sum(history_bad_inter[-10:]) if len(history_bad_inter) >= 10 else 0)\n",
    "    mean_val.append(np.mean(hisrory_val[-10:]) / 10 if len(hisrory_val) >= 10 else 0)\n",
    "    environenment.save_world(path=\"imgToGif3\")\n",
    "    \n",
    "\n",
    "agent.prealloc_df.to_csv(\"prealloc_df.csv\")\n",
    "agent.visu_val.to_csv(\"df_val.csv\")\n",
    "agent.visu_explo.to_csv(\"df_explo.csv\")\n",
    "\n",
    "pourcent_by_10 = pourcent_by_10[10:]\n",
    "by_10_good_inter = by_10_good_inter[10:]\n",
    "by_10_bad_inter = by_10_bad_inter[10:]\n",
    "mean_val = mean_val[10:]"
   ]
  },
  {
   "cell_type": "code",
   "execution_count": 24,
   "metadata": {},
   "outputs": [
    {
     "data": {
      "application/vnd.jupyter.widget-view+json": {
       "model_id": "93fe7f27463047ec97cce4b48f055d27",
       "version_major": 2,
       "version_minor": 0
      },
      "text/plain": [
       "  0%|          | 0/200 [00:00<?, ?it/s]"
      ]
     },
     "metadata": {},
     "output_type": "display_data"
    },
    {
     "name": "stdout",
     "output_type": "stream",
     "text": [
      "\u001b[0;31m Action: forward \u001b[0m, Prediction: empty, Outcome: wall, \u001b[0;31m Satisfaction: False \u001b[0m\n",
      "Training time: 10.035890817642212\n",
      "Time to compute expective valance: 7.235642433166504\n",
      "expected valence : -39.23 valence explo : -135.00 model predict : ['turn_right', 'empty', 'feel_front', 'empty', 'feel_left', 'empty', 'forward', 'empty', 'forward', 'empty'], explo want : ['feel_left', 'empty', 'feel_left', 'empty', 'turn_right', 'empty', 'turn_right', 'wall', 'forward', 'empty']\n",
      "\u001b[0;35m after compute ... \u001b[0m ['turn_right', 'empty', 'feel_front', 'empty', 'feel_left', 'empty', 'forward', 'empty', 'forward', 'empty']\n",
      "\u001b[0;31m Action: turn_right \u001b[0m, Prediction: empty, Outcome: empty, \u001b[0;31m Satisfaction: True \u001b[0m\n",
      "\u001b[0;31m Action: feel_front \u001b[0m, Prediction: empty, Outcome: empty, \u001b[0;31m Satisfaction: True \u001b[0m\n",
      "\u001b[0;31m Action: feel_left \u001b[0m, Prediction: wall, Outcome: wall, \u001b[0;31m Satisfaction: True \u001b[0m\n",
      "Time to compute expective valance: 7.719388484954834\n",
      "expected valence : -24.19 valence explo : -135.00 model predict : ['feel_front', 'wall', 'feel_right', 'empty', 'turn_right', 'empty', 'feel_right', 'empty', 'forward', 'empty'], explo want : ['feel_right', 'wall', 'feel_front', 'wall', 'feel_left', 'wall', 'turn_right', 'wall', 'forward', 'empty']\n",
      "\u001b[0;35m after compute ... \u001b[0m ['feel_front', 'wall', 'feel_right', 'empty', 'turn_right', 'empty', 'feel_right', 'empty', 'forward', 'empty']\n",
      "\u001b[0;31m Action: feel_front \u001b[0m, Prediction: empty, Outcome: empty, \u001b[0;31m Satisfaction: True \u001b[0m\n",
      "Training time: 9.713024854660034\n",
      "Time to compute expective valance: 6.879137992858887\n",
      "expected valence : -36.72 valence explo : -116.00 model predict : ['turn_right', 'empty', 'forward', 'empty', 'feel_front', 'empty', 'feel_front', 'wall', 'feel_right', 'wall'], explo want : ['turn_right', 'empty', 'forward', 'empty', 'feel_front', 'wall', 'turn_right', 'wall', 'forward', 'empty']\n",
      "\u001b[0;35m after compute ... \u001b[0m ['turn_right', 'empty', 'forward', 'empty', 'feel_front', 'empty', 'feel_front', 'wall', 'feel_right', 'wall']\n",
      "\u001b[0;31m Action: turn_right \u001b[0m, Prediction: empty, Outcome: empty, \u001b[0;31m Satisfaction: True \u001b[0m\n",
      "Training time: 9.829237699508667\n",
      "\u001b[0;31m Action: forward \u001b[0m, Prediction: empty, Outcome: empty, \u001b[0;31m Satisfaction: True \u001b[0m\n",
      "\u001b[0;31m Action: feel_front \u001b[0m, Prediction: wall, Outcome: wall, \u001b[0;31m Satisfaction: True \u001b[0m\n",
      "Time to compute expective valance: 5.928296327590942\n",
      "expected valence : -36.50 valence explo : -70.00 model predict : ['feel_left', 'wall', 'feel_right', 'empty', 'turn_right', 'empty', 'feel_right', 'empty', 'forward', 'empty'], explo want : ['turn_right', 'wall', 'forward', 'empty', 'forward', 'empty', 'forward', 'empty']\n",
      "\u001b[0;35m after compute ... \u001b[0m ['feel_left', 'wall', 'feel_right', 'empty', 'turn_right', 'empty', 'feel_right', 'empty', 'forward', 'empty']\n",
      "\u001b[0;31m Action: feel_left \u001b[0m, Prediction: wall, Outcome: wall, \u001b[0;31m Satisfaction: True \u001b[0m\n",
      "Training time: 9.934248208999634\n",
      "\u001b[0;31m Action: feel_right \u001b[0m, Prediction: wall, Outcome: empty, \u001b[0;31m Satisfaction: False \u001b[0m\n",
      "Training time: 9.860826015472412\n",
      "\u001b[0;31m Action: turn_right \u001b[0m, Prediction: empty, Outcome: empty, \u001b[0;31m Satisfaction: True \u001b[0m\n",
      "\u001b[0;31m Action: feel_right \u001b[0m, Prediction: empty, Outcome: empty, \u001b[0;31m Satisfaction: True \u001b[0m\n",
      "\u001b[0;31m Action: forward \u001b[0m, Prediction: empty, Outcome: empty, \u001b[0;31m Satisfaction: True \u001b[0m\n",
      "Time to compute expective valance: 7.460654973983765\n",
      "expected valence : -43.58 valence explo : -110.00 model predict : ['turn_left', 'empty', 'feel_front', 'empty', 'turn_left', 'empty', 'feel_front', 'empty', 'forward', 'empty'], explo want : ['forward', 'empty', 'feel_left', 'wall', 'feel_left', 'wall', 'turn_right', 'wall', 'forward', 'empty']\n",
      "\u001b[0;35m after compute ... \u001b[0m ['turn_left', 'empty', 'feel_front', 'empty', 'turn_left', 'empty', 'feel_front', 'empty', 'forward', 'empty']\n",
      "\u001b[0;31m Action: turn_left \u001b[0m, Prediction: empty, Outcome: empty, \u001b[0;31m Satisfaction: True \u001b[0m\n",
      "\u001b[0;31m Action: feel_front \u001b[0m, Prediction: wall, Outcome: empty, \u001b[0;31m Satisfaction: False \u001b[0m\n",
      "Training time: 9.660279750823975\n",
      "\u001b[0;31m Action: turn_left \u001b[0m, Prediction: empty, Outcome: empty, \u001b[0;31m Satisfaction: True \u001b[0m\n",
      "\u001b[0;31m Action: feel_front \u001b[0m, Prediction: empty, Outcome: empty, \u001b[0;31m Satisfaction: True \u001b[0m\n",
      "\u001b[0;31m Action: forward \u001b[0m, Prediction: empty, Outcome: empty, \u001b[0;31m Satisfaction: True \u001b[0m\n",
      "Time to compute expective valance: 7.0335001945495605\n",
      "expected valence : -45.18 valence explo : -116.00 model predict : ['turn_right', 'empty', 'feel_right', 'empty', 'turn_right', 'empty', 'turn_right', 'empty', 'forward', 'empty'], explo want : ['turn_right', 'empty', 'forward', 'empty', 'feel_front', 'wall', 'turn_right', 'wall', 'forward', 'empty']\n",
      "\u001b[0;35m after compute ... \u001b[0m ['turn_right', 'empty', 'feel_right', 'empty', 'turn_right', 'empty', 'turn_right', 'empty', 'forward', 'empty']\n",
      "\u001b[0;31m Action: turn_right \u001b[0m, Prediction: empty, Outcome: empty, \u001b[0;31m Satisfaction: True \u001b[0m\n",
      "\u001b[0;31m Action: feel_right \u001b[0m, Prediction: wall, Outcome: empty, \u001b[0;31m Satisfaction: False \u001b[0m\n",
      "Training time: 10.264718055725098\n",
      "\u001b[0;31m Action: turn_right \u001b[0m, Prediction: empty, Outcome: empty, \u001b[0;31m Satisfaction: True \u001b[0m\n",
      "\u001b[0;31m Action: turn_right \u001b[0m, Prediction: empty, Outcome: empty, \u001b[0;31m Satisfaction: True \u001b[0m\n",
      "\u001b[0;31m Action: forward \u001b[0m, Prediction: empty, Outcome: empty, \u001b[0;31m Satisfaction: True \u001b[0m\n",
      "Time to compute expective valance: 7.354774713516235\n",
      "expected valence : -35.51 valence explo : -95.00 model predict : ['forward', 'wall', 'feel_front', 'empty', 'turn_right', 'empty', 'forward', 'empty', 'feel_left', 'empty'], explo want : ['feel_front', 'wall', 'turn_right', 'wall', 'forward', 'empty', 'forward', 'empty']\n",
      "\u001b[0;35m after compute ... \u001b[0m ['forward', 'wall', 'feel_front', 'empty', 'turn_right', 'empty', 'forward', 'empty', 'feel_left', 'empty']\n",
      "\u001b[0;31m Action: forward \u001b[0m, Prediction: empty, Outcome: wall, \u001b[0;31m Satisfaction: False \u001b[0m\n",
      "Training time: 10.119663000106812\n",
      "\u001b[0;31m Action: feel_front \u001b[0m, Prediction: empty, Outcome: empty, \u001b[0;31m Satisfaction: True \u001b[0m\n",
      "\u001b[0;31m Action: turn_right \u001b[0m, Prediction: empty, Outcome: empty, \u001b[0;31m Satisfaction: True \u001b[0m\n",
      "\u001b[0;31m Action: forward \u001b[0m, Prediction: empty, Outcome: empty, \u001b[0;31m Satisfaction: True \u001b[0m\n",
      "\u001b[0;31m Action: feel_left \u001b[0m, Prediction: empty, Outcome: wall, \u001b[0;31m Satisfaction: False \u001b[0m\n",
      "Training time: 9.911096811294556\n",
      "Time to compute expective valance: 5.85121488571167\n",
      "expected valence : -44.15 valence explo : -70.00 model predict : ['turn_left', 'empty', 'feel_front', 'empty', 'feel_left', 'empty', 'forward', 'empty', 'forward', 'empty'], explo want : ['turn_right', 'wall', 'forward', 'empty', 'forward', 'empty', 'forward', 'empty']\n",
      "\u001b[0;35m after compute ... \u001b[0m ['turn_left', 'empty', 'feel_front', 'empty', 'feel_left', 'empty', 'forward', 'empty', 'forward', 'empty']\n",
      "\u001b[0;31m Action: turn_left \u001b[0m, Prediction: empty, Outcome: empty, \u001b[0;31m Satisfaction: True \u001b[0m\n",
      "\u001b[0;31m Action: feel_front \u001b[0m, Prediction: empty, Outcome: empty, \u001b[0;31m Satisfaction: True \u001b[0m\n",
      "\u001b[0;31m Action: feel_left \u001b[0m, Prediction: empty, Outcome: empty, \u001b[0;31m Satisfaction: True \u001b[0m\n",
      "\u001b[0;31m Action: forward \u001b[0m, Prediction: empty, Outcome: wall, \u001b[0;31m Satisfaction: False \u001b[0m\n",
      "Training time: 9.95451021194458\n",
      "Time to compute expective valance: 6.9598095417022705\n",
      "expected valence : -11.60 valence explo : -inf model predict : ['forward', 'empty', 'turn_left', 'empty', 'forward', 'empty', 'forward', 'empty', 'feel_left', 'empty'], explo want : []\n",
      "\u001b[0;35m after compute ... \u001b[0m ['forward', 'empty', 'turn_left', 'empty', 'forward', 'empty', 'forward', 'empty', 'feel_left', 'empty']\n",
      "\u001b[0;31m Action: forward \u001b[0m, Prediction: empty, Outcome: wall, \u001b[0;31m Satisfaction: False \u001b[0m\n",
      "Training time: 9.949765682220459\n",
      "Time to compute expective valance: 6.689403295516968\n",
      "expected valence : -42.65 valence explo : -126.00 model predict : ['feel_left', 'wall', 'feel_right', 'empty', 'feel_front', 'empty', 'turn_right', 'empty', 'forward', 'empty'], explo want : ['turn_right', 'empty', 'feel_front', 'wall', 'turn_right', 'wall', 'forward', 'empty']\n",
      "\u001b[0;35m after compute ... \u001b[0m ['feel_left', 'wall', 'feel_right', 'empty', 'feel_front', 'empty', 'turn_right', 'empty', 'forward', 'empty']\n",
      "\u001b[0;31m Action: feel_left \u001b[0m, Prediction: wall, Outcome: empty, \u001b[0;31m Satisfaction: False \u001b[0m\n",
      "Training time: 9.869565486907959\n",
      "Time to compute expective valance: 6.920623779296875\n",
      "expected valence : -34.30 valence explo : -inf model predict : ['feel_right', 'empty', 'feel_right', 'empty', 'feel_front', 'empty', 'turn_right', 'empty', 'forward', 'empty'], explo want : []\n",
      "\u001b[0;35m after compute ... \u001b[0m ['feel_right', 'empty', 'feel_right', 'empty', 'feel_front', 'empty', 'turn_right', 'empty', 'forward', 'empty']\n",
      "\u001b[0;31m Action: feel_right \u001b[0m, Prediction: empty, Outcome: empty, \u001b[0;31m Satisfaction: True \u001b[0m\n",
      "Training time: 10.367814540863037\n",
      "\u001b[0;31m Action: feel_right \u001b[0m, Prediction: wall, Outcome: empty, \u001b[0;31m Satisfaction: False \u001b[0m\n",
      "Training time: 10.245590925216675\n",
      "\u001b[0;31m Action: feel_front \u001b[0m, Prediction: empty, Outcome: empty, \u001b[0;31m Satisfaction: True \u001b[0m\n",
      "\u001b[0;31m Action: turn_right \u001b[0m, Prediction: empty, Outcome: empty, \u001b[0;31m Satisfaction: True \u001b[0m\n",
      "\u001b[0;31m Action: forward \u001b[0m, Prediction: empty, Outcome: empty, \u001b[0;31m Satisfaction: True \u001b[0m\n",
      "Time to compute expective valance: 8.471963167190552\n",
      "expected valence : -29.02 valence explo : -95.00 model predict : ['feel_left', 'empty', 'feel_front', 'empty', 'turn_left', 'empty', 'feel_front', 'empty', 'forward', 'empty'], explo want : ['feel_left', 'wall', 'turn_right', 'wall', 'forward', 'empty', 'forward', 'empty']\n",
      "\u001b[0;35m after compute ... \u001b[0m ['feel_left', 'empty', 'feel_front', 'empty', 'turn_left', 'empty', 'feel_front', 'empty', 'forward', 'empty']\n",
      "\u001b[0;31m Action: feel_left \u001b[0m, Prediction: empty, Outcome: wall, \u001b[0;31m Satisfaction: False \u001b[0m\n",
      "Training time: 10.170635223388672\n",
      "Time to compute expective valance: 5.973139762878418\n",
      "expected valence : -47.59 valence explo : -70.00 model predict : ['feel_left', 'wall', 'feel_right', 'empty', 'feel_left', 'empty', 'turn_left', 'empty', 'forward', 'empty'], explo want : ['turn_right', 'wall', 'forward', 'empty', 'forward', 'empty', 'forward', 'empty']\n",
      "\u001b[0;35m after compute ... \u001b[0m ['feel_left', 'wall', 'feel_right', 'empty', 'feel_left', 'empty', 'turn_left', 'empty', 'forward', 'empty']\n",
      "\u001b[0;31m Action: feel_left \u001b[0m, Prediction: wall, Outcome: wall, \u001b[0;31m Satisfaction: True \u001b[0m\n",
      "Training time: 9.791942596435547\n",
      "\u001b[0;31m Action: feel_right \u001b[0m, Prediction: empty, Outcome: empty, \u001b[0;31m Satisfaction: True \u001b[0m\n",
      "\u001b[0;31m Action: feel_left \u001b[0m, Prediction: empty, Outcome: wall, \u001b[0;31m Satisfaction: False \u001b[0m\n",
      "Training time: 9.933514833450317\n",
      "Time to compute expective valance: 6.978956460952759\n",
      "expected valence : -37.93 valence explo : -inf model predict : ['feel_left', 'wall', 'feel_right', 'wall', 'turn_left', 'empty', 'turn_left', 'empty', 'forward', 'empty'], explo want : []\n",
      "\u001b[0;35m after compute ... \u001b[0m ['feel_left', 'wall', 'feel_right', 'wall', 'turn_left', 'empty', 'turn_left', 'empty', 'forward', 'empty']\n",
      "\u001b[0;31m Action: feel_left \u001b[0m, Prediction: wall, Outcome: wall, \u001b[0;31m Satisfaction: True \u001b[0m\n",
      "Training time: 9.921562671661377\n",
      "\u001b[0;31m Action: feel_right \u001b[0m, Prediction: empty, Outcome: empty, \u001b[0;31m Satisfaction: True \u001b[0m\n",
      "Time to compute expective valance: 6.580434083938599\n",
      "expected valence : -35.58 valence explo : -138.00 model predict : ['feel_right', 'empty', 'feel_front', 'empty', 'feel_left', 'wall', 'turn_right', 'empty', 'forward', 'empty'], explo want : ['turn_right', 'empty', 'feel_left', 'empty', 'feel_front', 'wall', 'turn_right', 'wall', 'forward', 'empty']\n",
      "\u001b[0;35m after compute ... \u001b[0m ['feel_right', 'empty', 'feel_front', 'empty', 'feel_left', 'wall', 'turn_right', 'empty', 'forward', 'empty']\n",
      "\u001b[0;31m Action: feel_right \u001b[0m, Prediction: empty, Outcome: empty, \u001b[0;31m Satisfaction: True \u001b[0m\n",
      "Training time: 10.205297708511353\n",
      "\u001b[0;31m Action: feel_front \u001b[0m, Prediction: empty, Outcome: empty, \u001b[0;31m Satisfaction: True \u001b[0m\n",
      "\u001b[0;31m Action: feel_left \u001b[0m, Prediction: empty, Outcome: wall, \u001b[0;31m Satisfaction: False \u001b[0m\n",
      "Training time: 10.021574974060059\n",
      "\u001b[0;31m Action: turn_right \u001b[0m, Prediction: empty, Outcome: empty, \u001b[0;31m Satisfaction: True \u001b[0m\n",
      "\u001b[0;31m Action: forward \u001b[0m, Prediction: empty, Outcome: empty, \u001b[0;31m Satisfaction: True \u001b[0m\n",
      "Time to compute expective valance: 7.913029670715332\n",
      "expected valence : -29.66 valence explo : -95.00 model predict : ['feel_front', 'wall', 'feel_left', 'wall', 'feel_front', 'empty', 'turn_right', 'empty', 'forward', 'empty'], explo want : ['feel_front', 'wall', 'turn_right', 'wall', 'forward', 'empty', 'forward', 'empty']\n",
      "\u001b[0;35m after compute ... \u001b[0m ['feel_front', 'wall', 'feel_left', 'wall', 'feel_front', 'empty', 'turn_right', 'empty', 'forward', 'empty']\n",
      "\u001b[0;31m Action: feel_front \u001b[0m, Prediction: empty, Outcome: wall, \u001b[0;31m Satisfaction: False \u001b[0m\n",
      "Training time: 9.923199892044067\n",
      "\u001b[0;31m Action: feel_left \u001b[0m, Prediction: wall, Outcome: wall, \u001b[0;31m Satisfaction: True \u001b[0m\n",
      "\u001b[0;31m Action: feel_front \u001b[0m, Prediction: empty, Outcome: wall, \u001b[0;31m Satisfaction: False \u001b[0m\n",
      "Training time: 9.775457382202148\n",
      "Time to compute expective valance: 7.009720087051392\n",
      "expected valence : -35.32 valence explo : -226.00 model predict : ['feel_right', 'wall', 'feel_left', 'empty', 'turn_left', 'empty', 'feel_front', 'empty', 'forward', 'empty'], explo want : ['forward', 'wall', 'turn_right', 'empty', 'feel_front', 'wall', 'turn_right', 'wall', 'forward', 'empty']\n",
      "\u001b[0;35m after compute ... \u001b[0m ['feel_right', 'wall', 'feel_left', 'empty', 'turn_left', 'empty', 'feel_front', 'empty', 'forward', 'empty']\n",
      "\u001b[0;31m Action: feel_right \u001b[0m, Prediction: wall, Outcome: wall, \u001b[0;31m Satisfaction: True \u001b[0m\n",
      "Training time: 10.110877990722656\n",
      "\u001b[0;31m Action: feel_left \u001b[0m, Prediction: wall, Outcome: wall, \u001b[0;31m Satisfaction: True \u001b[0m\n",
      "Time to compute expective valance: 6.684990882873535\n",
      "expected valence : -39.69 valence explo : -inf model predict : ['feel_right', 'wall', 'feel_left', 'wall', 'feel_front', 'empty', 'turn_right', 'empty', 'forward', 'empty'], explo want : []\n",
      "\u001b[0;35m after compute ... \u001b[0m ['feel_right', 'wall', 'feel_left', 'wall', 'feel_front', 'empty', 'turn_right', 'empty', 'forward', 'empty']\n",
      "\u001b[0;31m Action: feel_right \u001b[0m, Prediction: wall, Outcome: wall, \u001b[0;31m Satisfaction: True \u001b[0m\n",
      "Training time: 8.876002311706543\n",
      "\u001b[0;31m Action: feel_left \u001b[0m, Prediction: wall, Outcome: wall, \u001b[0;31m Satisfaction: True \u001b[0m\n",
      "\u001b[0;31m Action: feel_front \u001b[0m, Prediction: empty, Outcome: wall, \u001b[0;31m Satisfaction: False \u001b[0m\n",
      "Training time: 10.63202428817749\n",
      "Time to compute expective valance: 8.423904180526733\n",
      "expected valence : -40.57 valence explo : -135.00 model predict : ['turn_right', 'empty', 'feel_right', 'empty', 'forward', 'empty', 'feel_left', 'wall', 'feel_left', 'empty'], explo want : ['feel_right', 'wall', 'feel_front', 'wall', 'feel_left', 'wall', 'turn_right', 'wall', 'forward', 'empty']\n",
      "\u001b[0;35m after compute ... \u001b[0m ['turn_right', 'empty', 'feel_right', 'empty', 'forward', 'empty', 'feel_left', 'wall', 'feel_left', 'empty']\n",
      "\u001b[0;31m Action: turn_right \u001b[0m, Prediction: empty, Outcome: empty, \u001b[0;31m Satisfaction: True \u001b[0m\n",
      "Training time: 9.9397451877594\n",
      "\u001b[0;31m Action: feel_right \u001b[0m, Prediction: wall, Outcome: empty, \u001b[0;31m Satisfaction: False \u001b[0m\n",
      "Training time: 10.08443546295166\n",
      "\u001b[0;31m Action: forward \u001b[0m, Prediction: empty, Outcome: wall, \u001b[0;31m Satisfaction: False \u001b[0m\n",
      "Training time: 9.787664413452148\n",
      "Time to compute expective valance: 6.851171016693115\n",
      "expected valence : -42.13 valence explo : -116.00 model predict : ['feel_front', 'empty', 'turn_right', 'empty', 'forward', 'empty', 'feel_left', 'empty', 'feel_left', 'wall'], explo want : ['turn_right', 'empty', 'forward', 'empty', 'feel_front', 'wall', 'turn_right', 'wall', 'forward', 'empty']\n",
      "\u001b[0;35m after compute ... \u001b[0m ['feel_front', 'empty', 'turn_right', 'empty', 'forward', 'empty', 'feel_left', 'empty', 'feel_left', 'wall']\n",
      "\u001b[0;31m Action: feel_front \u001b[0m, Prediction: empty, Outcome: empty, \u001b[0;31m Satisfaction: True \u001b[0m\n",
      "Training time: 10.200323581695557\n",
      "\u001b[0;31m Action: turn_right \u001b[0m, Prediction: empty, Outcome: empty, \u001b[0;31m Satisfaction: True \u001b[0m\n",
      "\u001b[0;31m Action: forward \u001b[0m, Prediction: empty, Outcome: empty, \u001b[0;31m Satisfaction: True \u001b[0m\n",
      "\u001b[0;31m Action: feel_left \u001b[0m, Prediction: wall, Outcome: empty, \u001b[0;31m Satisfaction: False \u001b[0m\n",
      "Training time: 10.271256923675537\n",
      "\u001b[0;31m Action: feel_left \u001b[0m, Prediction: wall, Outcome: empty, \u001b[0;31m Satisfaction: False \u001b[0m\n",
      "Training time: 9.933724164962769\n",
      "Time to compute expective valance: 6.846872806549072\n",
      "expected valence : -47.38 valence explo : -inf model predict : ['feel_right', 'empty', 'feel_left', 'empty', 'turn_left', 'empty', 'feel_front', 'empty', 'forward', 'empty'], explo want : []\n",
      "\u001b[0;35m after compute ... \u001b[0m ['feel_right', 'empty', 'feel_left', 'empty', 'turn_left', 'empty', 'feel_front', 'empty', 'forward', 'empty']\n",
      "\u001b[0;31m Action: feel_right \u001b[0m, Prediction: empty, Outcome: wall, \u001b[0;31m Satisfaction: False \u001b[0m\n",
      "Training time: 10.210501194000244\n",
      "Time to compute expective valance: 7.8820390701293945\n",
      "expected valence : -29.24 valence explo : -120.00 model predict : ['feel_left', 'wall', 'turn_left', 'empty', 'feel_left', 'empty', 'turn_left', 'empty', 'forward', 'empty'], explo want : ['feel_front', 'wall', 'feel_left', 'wall', 'turn_right', 'wall', 'forward', 'empty']\n",
      "\u001b[0;35m after compute ... \u001b[0m ['feel_left', 'wall', 'turn_left', 'empty', 'feel_left', 'empty', 'turn_left', 'empty', 'forward', 'empty']\n",
      "\u001b[0;31m Action: feel_left \u001b[0m, Prediction: empty, Outcome: empty, \u001b[0;31m Satisfaction: True \u001b[0m\n",
      "Training time: 9.735493659973145\n",
      "Time to compute expective valance: 6.931150197982788\n",
      "expected valence : -40.04 valence explo : -135.00 model predict : ['turn_left', 'empty', 'forward', 'empty', 'feel_left', 'wall', 'turn_right', 'empty', 'forward', 'empty'], explo want : ['feel_right', 'wall', 'feel_front', 'wall', 'feel_left', 'wall', 'turn_right', 'wall', 'forward', 'empty']\n",
      "\u001b[0;35m after compute ... \u001b[0m ['turn_left', 'empty', 'forward', 'empty', 'feel_left', 'wall', 'turn_right', 'empty', 'forward', 'empty']\n",
      "\u001b[0;31m Action: turn_left \u001b[0m, Prediction: empty, Outcome: empty, \u001b[0;31m Satisfaction: True \u001b[0m\n",
      "Training time: 9.99764370918274\n",
      "\u001b[0;31m Action: forward \u001b[0m, Prediction: empty, Outcome: empty, \u001b[0;31m Satisfaction: True \u001b[0m\n",
      "\u001b[0;31m Action: feel_left \u001b[0m, Prediction: wall, Outcome: wall, \u001b[0;31m Satisfaction: True \u001b[0m\n",
      "\u001b[0;31m Action: turn_right \u001b[0m, Prediction: empty, Outcome: empty, \u001b[0;31m Satisfaction: True \u001b[0m\n",
      "\u001b[0;31m Action: forward \u001b[0m, Prediction: empty, Outcome: wall, \u001b[0;31m Satisfaction: False \u001b[0m\n",
      "Training time: 9.939089298248291\n",
      "Time to compute expective valance: 6.848238706588745\n",
      "expected valence : -40.98 valence explo : -126.00 model predict : ['feel_left', 'empty', 'turn_left', 'empty', 'forward', 'empty', 'feel_right', 'empty', 'feel_right', 'empty'], explo want : ['turn_right', 'empty', 'feel_front', 'wall', 'turn_right', 'wall', 'forward', 'empty']\n",
      "\u001b[0;35m after compute ... \u001b[0m ['feel_left', 'empty', 'turn_left', 'empty', 'forward', 'empty', 'feel_right', 'empty', 'feel_right', 'empty']\n",
      "\u001b[0;31m Action: feel_left \u001b[0m, Prediction: empty, Outcome: empty, \u001b[0;31m Satisfaction: True \u001b[0m\n",
      "\u001b[0;31m Action: turn_left \u001b[0m, Prediction: empty, Outcome: empty, \u001b[0;31m Satisfaction: True \u001b[0m\n",
      "\u001b[0;31m Action: forward \u001b[0m, Prediction: empty, Outcome: empty, \u001b[0;31m Satisfaction: True \u001b[0m\n",
      "\u001b[0;31m Action: feel_right \u001b[0m, Prediction: wall, Outcome: wall, \u001b[0;31m Satisfaction: True \u001b[0m\n",
      "Time to compute expective valance: 7.534482479095459\n",
      "expected valence : -50.72 valence explo : -120.00 model predict : ['turn_left', 'empty', 'feel_left', 'empty', 'feel_right', 'wall', 'turn_left', 'empty', 'forward', 'empty'], explo want : ['feel_front', 'wall', 'feel_left', 'wall', 'turn_right', 'wall', 'forward', 'empty']\n",
      "\u001b[0;35m after compute ... \u001b[0m ['turn_left', 'empty', 'feel_left', 'empty', 'feel_right', 'wall', 'turn_left', 'empty', 'forward', 'empty']\n",
      "\u001b[0;31m Action: turn_left \u001b[0m, Prediction: empty, Outcome: empty, \u001b[0;31m Satisfaction: True \u001b[0m\n",
      "Training time: 9.938997507095337\n",
      "\u001b[0;31m Action: feel_left \u001b[0m, Prediction: empty, Outcome: empty, \u001b[0;31m Satisfaction: True \u001b[0m\n",
      "\u001b[0;31m Action: feel_right \u001b[0m, Prediction: empty, Outcome: empty, \u001b[0;31m Satisfaction: True \u001b[0m\n",
      "Time to compute expective valance: 7.399141788482666\n",
      "expected valence : -29.90 valence explo : -116.00 model predict : ['feel_front', 'wall', 'feel_right', 'empty', 'turn_right', 'empty', 'feel_right', 'empty', 'forward', 'empty'], explo want : ['turn_right', 'empty', 'forward', 'empty', 'feel_left', 'wall', 'turn_right', 'wall', 'forward', 'empty']\n",
      "\u001b[0;35m after compute ... \u001b[0m ['feel_front', 'wall', 'feel_right', 'empty', 'turn_right', 'empty', 'feel_right', 'empty', 'forward', 'empty']\n",
      "\u001b[0;31m Action: feel_front \u001b[0m, Prediction: empty, Outcome: empty, \u001b[0;31m Satisfaction: True \u001b[0m\n",
      "Training time: 9.97958755493164\n",
      "Time to compute expective valance: 7.348659992218018\n",
      "expected valence : -35.86 valence explo : -116.00 model predict : ['turn_right', 'empty', 'forward', 'empty', 'feel_left', 'empty', 'feel_front', 'empty', 'feel_left', 'empty'], explo want : ['turn_right', 'empty', 'forward', 'empty', 'feel_left', 'wall', 'turn_right', 'wall', 'forward', 'empty']\n",
      "\u001b[0;35m after compute ... \u001b[0m ['turn_right', 'empty', 'forward', 'empty', 'feel_left', 'empty', 'feel_front', 'empty', 'feel_left', 'empty']\n",
      "\u001b[0;31m Action: turn_right \u001b[0m, Prediction: empty, Outcome: empty, \u001b[0;31m Satisfaction: True \u001b[0m\n",
      "Training time: 10.396998405456543\n",
      "\u001b[0;31m Action: forward \u001b[0m, Prediction: empty, Outcome: wall, \u001b[0;31m Satisfaction: False \u001b[0m\n",
      "Training time: 9.971312522888184\n",
      "Time to compute expective valance: 7.3034508228302\n",
      "expected valence : -35.61 valence explo : -120.00 model predict : ['feel_front', 'empty', 'feel_front', 'wall', 'turn_left', 'empty', 'turn_left', 'empty', 'forward', 'empty'], explo want : ['feel_left', 'wall', 'feel_front', 'wall', 'turn_left', 'wall', 'forward', 'empty']\n",
      "\u001b[0;35m after compute ... \u001b[0m ['feel_front', 'empty', 'feel_front', 'wall', 'turn_left', 'empty', 'turn_left', 'empty', 'forward', 'empty']\n",
      "\u001b[0;31m Action: feel_front \u001b[0m, Prediction: empty, Outcome: wall, \u001b[0;31m Satisfaction: False \u001b[0m\n",
      "Training time: 10.044797420501709\n",
      "Time to compute expective valance: 7.299220085144043\n",
      "expected valence : -33.45 valence explo : -226.00 model predict : ['feel_right', 'empty', 'feel_right', 'wall', 'feel_left', 'empty', 'turn_left', 'empty', 'forward', 'empty'], explo want : ['forward', 'wall', 'turn_right', 'empty', 'feel_front', 'wall', 'turn_right', 'wall', 'forward', 'empty']\n",
      "\u001b[0;35m after compute ... \u001b[0m ['feel_right', 'empty', 'feel_right', 'wall', 'feel_left', 'empty', 'turn_left', 'empty', 'forward', 'empty']\n",
      "\u001b[0;31m Action: feel_right \u001b[0m, Prediction: empty, Outcome: wall, \u001b[0;31m Satisfaction: False \u001b[0m\n",
      "Training time: 9.716071128845215\n",
      "Time to compute expective valance: 7.169522762298584\n",
      "expected valence : -34.62 valence explo : -120.00 model predict : ['feel_right', 'wall', 'feel_left', 'empty', 'forward', 'empty', 'feel_left', 'empty', 'feel_front', 'wall'], explo want : ['feel_front', 'wall', 'feel_left', 'wall', 'turn_right', 'wall', 'forward', 'empty']\n",
      "\u001b[0;35m after compute ... \u001b[0m ['feel_right', 'wall', 'feel_left', 'empty', 'forward', 'empty', 'feel_left', 'empty', 'feel_front', 'wall']\n",
      "\u001b[0;31m Action: feel_right \u001b[0m, Prediction: wall, Outcome: wall, \u001b[0;31m Satisfaction: True \u001b[0m\n",
      "Training time: 9.93654990196228\n",
      "\u001b[0;31m Action: feel_left \u001b[0m, Prediction: wall, Outcome: wall, \u001b[0;31m Satisfaction: True \u001b[0m\n",
      "Time to compute expective valance: 7.30779767036438\n",
      "expected valence : -39.48 valence explo : -135.00 model predict : ['turn_left', 'empty', 'feel_front', 'wall', 'feel_left', 'empty', 'forward', 'empty', 'feel_left', 'empty'], explo want : ['feel_right', 'wall', 'feel_front', 'wall', 'feel_left', 'wall', 'turn_right', 'wall', 'forward', 'empty']\n",
      "\u001b[0;35m after compute ... \u001b[0m ['turn_left', 'empty', 'feel_front', 'wall', 'feel_left', 'empty', 'forward', 'empty', 'feel_left', 'empty']\n",
      "\u001b[0;31m Action: turn_left \u001b[0m, Prediction: empty, Outcome: empty, \u001b[0;31m Satisfaction: True \u001b[0m\n",
      "Training time: 10.100786685943604\n",
      "\u001b[0;31m Action: feel_front \u001b[0m, Prediction: empty, Outcome: empty, \u001b[0;31m Satisfaction: True \u001b[0m\n",
      "Time to compute expective valance: 8.633245468139648\n",
      "expected valence : -30.60 valence explo : -120.00 model predict : ['feel_right', 'empty', 'feel_front', 'empty', 'feel_front', 'empty', 'turn_right', 'empty', 'forward', 'empty'], explo want : ['feel_right', 'wall', 'feel_front', 'wall', 'turn_right', 'wall', 'forward', 'empty']\n",
      "\u001b[0;35m after compute ... \u001b[0m ['feel_right', 'empty', 'feel_front', 'empty', 'feel_front', 'empty', 'turn_right', 'empty', 'forward', 'empty']\n",
      "\u001b[0;31m Action: feel_right \u001b[0m, Prediction: empty, Outcome: empty, \u001b[0;31m Satisfaction: True \u001b[0m\n",
      "Training time: 10.000309467315674\n",
      "\u001b[0;31m Action: feel_front \u001b[0m, Prediction: wall, Outcome: empty, \u001b[0;31m Satisfaction: False \u001b[0m\n",
      "Training time: 9.861135005950928\n",
      "\u001b[0;31m Action: feel_front \u001b[0m, Prediction: empty, Outcome: empty, \u001b[0;31m Satisfaction: True \u001b[0m\n",
      "\u001b[0;31m Action: turn_right \u001b[0m, Prediction: empty, Outcome: empty, \u001b[0;31m Satisfaction: True \u001b[0m\n",
      "\u001b[0;31m Action: forward \u001b[0m, Prediction: empty, Outcome: wall, \u001b[0;31m Satisfaction: False \u001b[0m\n",
      "Training time: 10.019975900650024\n",
      "Time to compute expective valance: 6.82156777381897\n",
      "expected valence : -41.02 valence explo : -120.00 model predict : ['feel_left', 'wall', 'feel_right', 'empty', 'turn_left', 'empty', 'feel_front', 'empty', 'forward', 'empty'], explo want : ['feel_left', 'wall', 'feel_front', 'wall', 'turn_left', 'wall', 'forward', 'empty']\n",
      "\u001b[0;35m after compute ... \u001b[0m ['feel_left', 'wall', 'feel_right', 'empty', 'turn_left', 'empty', 'feel_front', 'empty', 'forward', 'empty']\n",
      "\u001b[0;31m Action: feel_left \u001b[0m, Prediction: wall, Outcome: wall, \u001b[0;31m Satisfaction: True \u001b[0m\n",
      "\u001b[0;31m Action: feel_right \u001b[0m, Prediction: empty, Outcome: wall, \u001b[0;31m Satisfaction: False \u001b[0m\n",
      "Training time: 9.85166883468628\n",
      "Time to compute expective valance: 6.881232023239136\n",
      "expected valence : -39.03 valence explo : -70.00 model predict : ['feel_left', 'wall', 'feel_front', 'wall', 'turn_left', 'empty', 'turn_left', 'empty', 'forward', 'empty'], explo want : ['turn_right', 'wall', 'forward', 'empty', 'forward', 'empty', 'forward', 'empty']\n",
      "\u001b[0;35m after compute ... \u001b[0m ['feel_left', 'wall', 'feel_front', 'wall', 'turn_left', 'empty', 'turn_left', 'empty', 'forward', 'empty']\n",
      "\u001b[0;31m Action: feel_left \u001b[0m, Prediction: wall, Outcome: wall, \u001b[0;31m Satisfaction: True \u001b[0m\n",
      "Training time: 10.195834398269653\n",
      "\u001b[0;31m Action: feel_front \u001b[0m, Prediction: empty, Outcome: wall, \u001b[0;31m Satisfaction: False \u001b[0m\n",
      "Training time: 10.040659189224243\n",
      "\u001b[0;31m Action: turn_left \u001b[0m, Prediction: empty, Outcome: empty, \u001b[0;31m Satisfaction: True \u001b[0m\n",
      "\u001b[0;31m Action: turn_left \u001b[0m, Prediction: empty, Outcome: empty, \u001b[0;31m Satisfaction: True \u001b[0m\n",
      "\u001b[0;31m Action: forward \u001b[0m, Prediction: empty, Outcome: empty, \u001b[0;31m Satisfaction: True \u001b[0m\n",
      "Time to compute expective valance: 8.286897659301758\n",
      "expected valence : -28.16 valence explo : -135.00 model predict : ['turn_right', 'empty', 'feel_front', 'empty', 'feel_front', 'empty', 'forward', 'empty', 'forward', 'empty'], explo want : ['feel_right', 'wall', 'feel_front', 'wall', 'feel_left', 'wall', 'turn_right', 'wall', 'forward', 'empty']\n",
      "\u001b[0;35m after compute ... \u001b[0m ['turn_right', 'empty', 'feel_front', 'empty', 'feel_front', 'empty', 'forward', 'empty', 'forward', 'empty']\n",
      "\u001b[0;31m Action: turn_right \u001b[0m, Prediction: empty, Outcome: empty, \u001b[0;31m Satisfaction: True \u001b[0m\n",
      "\u001b[0;31m Action: feel_front \u001b[0m, Prediction: empty, Outcome: empty, \u001b[0;31m Satisfaction: True \u001b[0m\n",
      "\u001b[0;31m Action: feel_front \u001b[0m, Prediction: empty, Outcome: empty, \u001b[0;31m Satisfaction: True \u001b[0m\n",
      "\u001b[0;31m Action: forward \u001b[0m, Prediction: empty, Outcome: wall, \u001b[0;31m Satisfaction: False \u001b[0m\n",
      "Training time: 9.994953632354736\n",
      "Time to compute expective valance: 6.754269123077393\n",
      "expected valence : -41.64 valence explo : -116.00 model predict : ['turn_right', 'empty', 'feel_left', 'empty', 'forward', 'empty', 'feel_right', 'empty', 'feel_right', 'empty'], explo want : ['turn_right', 'empty', 'forward', 'empty', 'feel_front', 'wall', 'turn_right', 'wall', 'forward', 'empty']\n",
      "\u001b[0;35m after compute ... \u001b[0m ['turn_right', 'empty', 'feel_left', 'empty', 'forward', 'empty', 'feel_right', 'empty', 'feel_right', 'empty']\n",
      "\u001b[0;31m Action: turn_right \u001b[0m, Prediction: empty, Outcome: empty, \u001b[0;31m Satisfaction: True \u001b[0m\n",
      "Training time: 10.337947368621826\n",
      "\u001b[0;31m Action: feel_left \u001b[0m, Prediction: empty, Outcome: wall, \u001b[0;31m Satisfaction: False \u001b[0m\n",
      "Training time: 9.908832788467407\n",
      "Time to compute expective valance: 7.600331783294678\n",
      "expected valence : -28.94 valence explo : -135.00 model predict : ['feel_right', 'empty', 'feel_left', 'wall', 'feel_front', 'empty', 'turn_right', 'empty', 'forward', 'empty'], explo want : ['feel_right', 'wall', 'feel_front', 'wall', 'feel_left', 'wall', 'turn_right', 'wall', 'forward', 'empty']\n",
      "\u001b[0;35m after compute ... \u001b[0m ['feel_right', 'empty', 'feel_left', 'wall', 'feel_front', 'empty', 'turn_right', 'empty', 'forward', 'empty']\n",
      "\u001b[0;31m Action: feel_right \u001b[0m, Prediction: wall, Outcome: wall, \u001b[0;31m Satisfaction: True \u001b[0m\n",
      "Training time: 10.277230262756348\n",
      "Time to compute expective valance: 7.889904022216797\n",
      "expected valence : -36.22 valence explo : -120.00 model predict : ['turn_right', 'empty', 'feel_front', 'empty', 'feel_left', 'empty', 'forward', 'empty', 'forward', 'empty'], explo want : ['feel_front', 'wall', 'feel_left', 'wall', 'turn_right', 'wall', 'forward', 'empty']\n",
      "\u001b[0;35m after compute ... \u001b[0m ['turn_right', 'empty', 'feel_front', 'empty', 'feel_left', 'empty', 'forward', 'empty', 'forward', 'empty']\n",
      "\u001b[0;31m Action: turn_right \u001b[0m, Prediction: empty, Outcome: empty, \u001b[0;31m Satisfaction: True \u001b[0m\n",
      "Training time: 10.343139886856079\n",
      "\u001b[0;31m Action: feel_front \u001b[0m, Prediction: empty, Outcome: empty, \u001b[0;31m Satisfaction: True \u001b[0m\n",
      "\u001b[0;31m Action: feel_left \u001b[0m, Prediction: empty, Outcome: empty, \u001b[0;31m Satisfaction: True \u001b[0m\n",
      "\u001b[0;31m Action: forward \u001b[0m, Prediction: empty, Outcome: wall, \u001b[0;31m Satisfaction: False \u001b[0m\n",
      "Training time: 10.379500150680542\n",
      "Time to compute expective valance: 7.044830799102783\n",
      "expected valence : -31.29 valence explo : -226.00 model predict : ['feel_front', 'wall', 'feel_front', 'empty', 'feel_left', 'empty', 'forward', 'empty', 'forward', 'empty'], explo want : ['forward', 'wall', 'turn_right', 'empty', 'feel_front', 'wall', 'turn_right', 'wall', 'forward', 'empty']\n",
      "\u001b[0;35m after compute ... \u001b[0m ['feel_front', 'wall', 'feel_front', 'empty', 'feel_left', 'empty', 'forward', 'empty', 'forward', 'empty']\n",
      "\u001b[0;31m Action: feel_front \u001b[0m, Prediction: wall, Outcome: empty, \u001b[0;31m Satisfaction: False \u001b[0m\n",
      "Training time: 9.820112705230713\n",
      "Time to compute expective valance: 7.248703241348267\n",
      "expected valence : -35.89 valence explo : -116.00 model predict : ['turn_right', 'empty', 'forward', 'empty', 'feel_left', 'empty', 'feel_front', 'empty', 'feel_left', 'empty'], explo want : ['turn_right', 'empty', 'forward', 'empty', 'feel_front', 'wall', 'turn_right', 'wall', 'forward', 'empty']\n",
      "\u001b[0;35m after compute ... \u001b[0m ['turn_right', 'empty', 'forward', 'empty', 'feel_left', 'empty', 'feel_front', 'empty', 'feel_left', 'empty']\n",
      "\u001b[0;31m Action: turn_right \u001b[0m, Prediction: empty, Outcome: empty, \u001b[0;31m Satisfaction: True \u001b[0m\n",
      "Training time: 10.446979522705078\n",
      "\u001b[0;31m Action: forward \u001b[0m, Prediction: empty, Outcome: empty, \u001b[0;31m Satisfaction: True \u001b[0m\n",
      "\u001b[0;31m Action: feel_left \u001b[0m, Prediction: wall, Outcome: wall, \u001b[0;31m Satisfaction: True \u001b[0m\n",
      "Time to compute expective valance: 7.256473064422607\n",
      "expected valence : -49.02 valence explo : -70.00 model predict : ['feel_right', 'wall', 'feel_left', 'wall', 'feel_front', 'empty', 'turn_right', 'empty', 'forward', 'empty'], explo want : ['turn_right', 'wall', 'forward', 'empty', 'forward', 'empty', 'forward', 'empty']\n",
      "\u001b[0;35m after compute ... \u001b[0m ['feel_right', 'wall', 'feel_left', 'wall', 'feel_front', 'empty', 'turn_right', 'empty', 'forward', 'empty']\n",
      "\u001b[0;31m Action: feel_right \u001b[0m, Prediction: wall, Outcome: empty, \u001b[0;31m Satisfaction: False \u001b[0m\n",
      "Training time: 10.082237005233765\n",
      "Time to compute expective valance: 7.22720193862915\n",
      "expected valence : -40.83 valence explo : -inf model predict : ['feel_front', 'empty', 'feel_right', 'empty', 'forward', 'empty', 'feel_front', 'empty', 'feel_right', 'wall'], explo want : []\n",
      "\u001b[0;35m after compute ... \u001b[0m ['feel_front', 'empty', 'feel_right', 'empty', 'forward', 'empty', 'feel_front', 'empty', 'feel_right', 'wall']\n",
      "\u001b[0;31m Action: feel_front \u001b[0m, Prediction: empty, Outcome: empty, \u001b[0;31m Satisfaction: True \u001b[0m\n",
      "Training time: 10.27152132987976\n",
      "\u001b[0;31m Action: feel_right \u001b[0m, Prediction: empty, Outcome: empty, \u001b[0;31m Satisfaction: True \u001b[0m\n",
      "\u001b[0;31m Action: forward \u001b[0m, Prediction: empty, Outcome: wall, \u001b[0;31m Satisfaction: False \u001b[0m\n",
      "Training time: 9.95642876625061\n",
      "Time to compute expective valance: 7.952862739562988\n",
      "expected valence : -28.67 valence explo : -116.00 model predict : ['feel_left', 'wall', 'feel_left', 'empty', 'turn_left', 'empty', 'feel_front', 'empty', 'forward', 'empty'], explo want : ['turn_right', 'empty', 'forward', 'empty', 'feel_front', 'wall', 'turn_right', 'wall', 'forward', 'empty']\n",
      "\u001b[0;35m after compute ... \u001b[0m ['feel_left', 'wall', 'feel_left', 'empty', 'turn_left', 'empty', 'feel_front', 'empty', 'forward', 'empty']\n",
      "\u001b[0;31m Action: feel_left \u001b[0m, Prediction: empty, Outcome: wall, \u001b[0;31m Satisfaction: False \u001b[0m\n",
      "Training time: 9.884692192077637\n",
      "\u001b[0;31m Action: feel_left \u001b[0m, Prediction: empty, Outcome: wall, \u001b[0;31m Satisfaction: False \u001b[0m\n",
      "Training time: 9.622251033782959\n",
      "Time to compute expective valance: 6.5349342823028564\n",
      "expected valence : -43.78 valence explo : -226.00 model predict : ['turn_left', 'empty', 'feel_right', 'empty', 'turn_right', 'empty', 'feel_right', 'empty', 'forward', 'empty'], explo want : ['forward', 'wall', 'turn_right', 'empty', 'feel_front', 'wall', 'turn_right', 'wall', 'forward', 'empty']\n",
      "\u001b[0;35m after compute ... \u001b[0m ['turn_left', 'empty', 'feel_right', 'empty', 'turn_right', 'empty', 'feel_right', 'empty', 'forward', 'empty']\n",
      "\u001b[0;31m Action: turn_left \u001b[0m, Prediction: empty, Outcome: empty, \u001b[0;31m Satisfaction: True \u001b[0m\n",
      "Training time: 9.893727779388428\n",
      "\u001b[0;31m Action: feel_right \u001b[0m, Prediction: wall, Outcome: wall, \u001b[0;31m Satisfaction: True \u001b[0m\n",
      "Time to compute expective valance: 7.122805833816528\n",
      "expected valence : -40.45 valence explo : -116.00 model predict : ['feel_front', 'wall', 'feel_right', 'empty', 'turn_right', 'empty', 'feel_right', 'empty', 'forward', 'empty'], explo want : ['turn_right', 'empty', 'forward', 'empty', 'feel_front', 'wall', 'turn_right', 'wall', 'forward', 'empty']\n",
      "\u001b[0;35m after compute ... \u001b[0m ['feel_front', 'wall', 'feel_right', 'empty', 'turn_right', 'empty', 'feel_right', 'empty', 'forward', 'empty']\n",
      "\u001b[0;31m Action: feel_front \u001b[0m, Prediction: wall, Outcome: wall, \u001b[0;31m Satisfaction: True \u001b[0m\n",
      "Training time: 9.739953517913818\n",
      "\u001b[0;31m Action: feel_right \u001b[0m, Prediction: empty, Outcome: wall, \u001b[0;31m Satisfaction: False \u001b[0m\n",
      "Training time: 9.87332010269165\n",
      "Time to compute expective valance: 6.831421375274658\n",
      "expected valence : -36.80 valence explo : -120.00 model predict : ['feel_left', 'wall', 'feel_front', 'empty', 'turn_right', 'empty', 'forward', 'empty', 'feel_right', 'wall'], explo want : ['feel_front', 'wall', 'feel_left', 'wall', 'turn_right', 'wall', 'forward', 'empty']\n",
      "\u001b[0;35m after compute ... \u001b[0m ['feel_left', 'wall', 'feel_front', 'empty', 'turn_right', 'empty', 'forward', 'empty', 'feel_right', 'wall']\n",
      "\u001b[0;31m Action: feel_left \u001b[0m, Prediction: wall, Outcome: empty, \u001b[0;31m Satisfaction: False \u001b[0m\n",
      "Training time: 9.770461559295654\n",
      "Time to compute expective valance: 7.277205228805542\n",
      "expected valence : -29.39 valence explo : -123.00 model predict : ['feel_front', 'empty', 'feel_left', 'empty', 'turn_left', 'empty', 'feel_front', 'empty', 'forward', 'empty'], explo want : ['feel_left', 'empty', 'turn_right', 'empty', 'turn_right', 'wall', 'forward', 'empty']\n",
      "\u001b[0;35m after compute ... \u001b[0m ['feel_front', 'empty', 'feel_left', 'empty', 'turn_left', 'empty', 'feel_front', 'empty', 'forward', 'empty']\n",
      "\u001b[0;31m Action: feel_front \u001b[0m, Prediction: wall, Outcome: wall, \u001b[0;31m Satisfaction: True \u001b[0m\n",
      "Training time: 9.634000778198242\n",
      "Time to compute expective valance: 7.181573390960693\n",
      "expected valence : -25.79 valence explo : -inf model predict : ['feel_right', 'wall', 'feel_left', 'empty', 'turn_left', 'empty', 'feel_front', 'empty', 'forward', 'empty'], explo want : []\n",
      "\u001b[0;35m after compute ... \u001b[0m ['feel_right', 'wall', 'feel_left', 'empty', 'turn_left', 'empty', 'feel_front', 'empty', 'forward', 'empty']\n",
      "\u001b[0;31m Action: feel_right \u001b[0m, Prediction: empty, Outcome: wall, \u001b[0;31m Satisfaction: False \u001b[0m\n",
      "Training time: 10.17024278640747\n",
      "\u001b[0;31m Action: feel_left \u001b[0m, Prediction: empty, Outcome: empty, \u001b[0;31m Satisfaction: True \u001b[0m\n",
      "\u001b[0;31m Action: turn_left \u001b[0m, Prediction: empty, Outcome: empty, \u001b[0;31m Satisfaction: True \u001b[0m\n",
      "\u001b[0;31m Action: feel_front \u001b[0m, Prediction: empty, Outcome: wall, \u001b[0;31m Satisfaction: False \u001b[0m\n",
      "Training time: 9.954983472824097\n",
      "Time to compute expective valance: 7.714054822921753\n",
      "expected valence : -31.14 valence explo : -123.00 model predict : ['feel_front', 'empty', 'turn_right', 'empty', 'forward', 'empty', 'feel_left', 'wall', 'feel_front', 'wall'], explo want : ['feel_left', 'empty', 'turn_right', 'empty', 'turn_right', 'wall', 'forward', 'empty']\n",
      "\u001b[0;35m after compute ... \u001b[0m ['feel_front', 'empty', 'turn_right', 'empty', 'forward', 'empty', 'feel_left', 'wall', 'feel_front', 'wall']\n",
      "\u001b[0;31m Action: feel_front \u001b[0m, Prediction: empty, Outcome: wall, \u001b[0;31m Satisfaction: False \u001b[0m\n",
      "Training time: 9.961172819137573\n",
      "Time to compute expective valance: 8.320537328720093\n",
      "expected valence : -32.19 valence explo : -135.00 model predict : ['feel_right', 'wall', 'feel_left', 'empty', 'feel_right', 'wall', 'turn_left', 'empty', 'forward', 'empty'], explo want : ['feel_right', 'wall', 'feel_front', 'wall', 'feel_left', 'wall', 'turn_right', 'wall', 'forward', 'empty']\n",
      "\u001b[0;35m after compute ... \u001b[0m ['feel_right', 'wall', 'feel_left', 'empty', 'feel_right', 'wall', 'turn_left', 'empty', 'forward', 'empty']\n",
      "\u001b[0;31m Action: feel_right \u001b[0m, Prediction: empty, Outcome: wall, \u001b[0;31m Satisfaction: False \u001b[0m\n",
      "Training time: 10.4476637840271\n",
      "\u001b[0;31m Action: feel_left \u001b[0m, Prediction: empty, Outcome: empty, \u001b[0;31m Satisfaction: True \u001b[0m\n",
      "\u001b[0;31m Action: feel_right \u001b[0m, Prediction: wall, Outcome: wall, \u001b[0;31m Satisfaction: True \u001b[0m\n",
      "\u001b[0;31m Action: turn_left \u001b[0m, Prediction: empty, Outcome: empty, \u001b[0;31m Satisfaction: True \u001b[0m\n",
      "\u001b[0;31m Action: forward \u001b[0m, Prediction: empty, Outcome: empty, \u001b[0;31m Satisfaction: True \u001b[0m\n",
      "Time to compute expective valance: 7.317596912384033\n",
      "expected valence : -27.50 valence explo : -135.00 model predict : ['feel_right', 'empty', 'feel_left', 'wall', 'feel_front', 'empty', 'turn_right', 'empty', 'forward', 'empty'], explo want : ['feel_right', 'wall', 'feel_front', 'wall', 'feel_left', 'wall', 'turn_right', 'wall', 'forward', 'empty']\n",
      "\u001b[0;35m after compute ... \u001b[0m ['feel_right', 'empty', 'feel_left', 'wall', 'feel_front', 'empty', 'turn_right', 'empty', 'forward', 'empty']\n",
      "\u001b[0;31m Action: feel_right \u001b[0m, Prediction: wall, Outcome: wall, \u001b[0;31m Satisfaction: True \u001b[0m\n",
      "Time to compute expective valance: 6.693051099777222\n",
      "expected valence : -47.57 valence explo : -120.00 model predict : ['turn_right', 'empty', 'feel_right', 'empty', 'turn_right', 'empty', 'turn_right', 'empty', 'forward', 'empty'], explo want : ['feel_front', 'wall', 'feel_left', 'wall', 'turn_right', 'wall', 'forward', 'empty']\n",
      "\u001b[0;35m after compute ... \u001b[0m ['turn_right', 'empty', 'feel_right', 'empty', 'turn_right', 'empty', 'turn_right', 'empty', 'forward', 'empty']\n",
      "\u001b[0;31m Action: turn_right \u001b[0m, Prediction: empty, Outcome: empty, \u001b[0;31m Satisfaction: True \u001b[0m\n",
      "Training time: 9.949893236160278\n",
      "\u001b[0;31m Action: feel_right \u001b[0m, Prediction: wall, Outcome: empty, \u001b[0;31m Satisfaction: False \u001b[0m\n",
      "Training time: 9.462056398391724\n",
      "\u001b[0;31m Action: turn_right \u001b[0m, Prediction: empty, Outcome: empty, \u001b[0;31m Satisfaction: True \u001b[0m\n",
      "\u001b[0;31m Action: turn_right \u001b[0m, Prediction: empty, Outcome: empty, \u001b[0;31m Satisfaction: True \u001b[0m\n",
      "\u001b[0;31m Action: forward \u001b[0m, Prediction: empty, Outcome: wall, \u001b[0;31m Satisfaction: False \u001b[0m\n",
      "Training time: 9.782787799835205\n",
      "Time to compute expective valance: 6.886609077453613\n",
      "expected valence : -41.44 valence explo : -135.00 model predict : ['feel_front', 'empty', 'turn_right', 'empty', 'forward', 'empty', 'feel_left', 'empty', 'feel_left', 'empty'], explo want : ['feel_right', 'wall', 'feel_front', 'wall', 'feel_left', 'wall', 'turn_right', 'wall', 'forward', 'empty']\n",
      "\u001b[0;35m after compute ... \u001b[0m ['feel_front', 'empty', 'turn_right', 'empty', 'forward', 'empty', 'feel_left', 'empty', 'feel_left', 'empty']\n",
      "\u001b[0;31m Action: feel_front \u001b[0m, Prediction: empty, Outcome: empty, \u001b[0;31m Satisfaction: True \u001b[0m\n",
      "\u001b[0;31m Action: turn_right \u001b[0m, Prediction: empty, Outcome: empty, \u001b[0;31m Satisfaction: True \u001b[0m\n",
      "\u001b[0;31m Action: forward \u001b[0m, Prediction: empty, Outcome: empty, \u001b[0;31m Satisfaction: True \u001b[0m\n",
      "\u001b[0;31m Action: feel_left \u001b[0m, Prediction: wall, Outcome: wall, \u001b[0;31m Satisfaction: True \u001b[0m\n",
      "Time to compute expective valance: 6.560518741607666\n",
      "expected valence : -49.33 valence explo : -inf model predict : ['feel_right', 'empty', 'turn_left', 'empty', 'feel_front', 'empty', 'forward', 'empty', 'feel_right', 'wall'], explo want : []\n",
      "\u001b[0;35m after compute ... \u001b[0m ['feel_right', 'empty', 'turn_left', 'empty', 'feel_front', 'empty', 'forward', 'empty', 'feel_right', 'wall']\n",
      "\u001b[0;31m Action: feel_right \u001b[0m, Prediction: empty, Outcome: empty, \u001b[0;31m Satisfaction: True \u001b[0m\n",
      "Training time: 9.972544431686401\n",
      "\u001b[0;31m Action: turn_left \u001b[0m, Prediction: empty, Outcome: empty, \u001b[0;31m Satisfaction: True \u001b[0m\n",
      "\u001b[0;31m Action: feel_front \u001b[0m, Prediction: empty, Outcome: empty, \u001b[0;31m Satisfaction: True \u001b[0m\n",
      "\u001b[0;31m Action: forward \u001b[0m, Prediction: empty, Outcome: wall, \u001b[0;31m Satisfaction: False \u001b[0m\n",
      "Training time: 10.043924570083618\n",
      "Time to compute expective valance: 6.963124990463257\n",
      "expected valence : -41.26 valence explo : -116.00 model predict : ['feel_front', 'empty', 'turn_right', 'empty', 'forward', 'empty', 'feel_left', 'empty', 'feel_left', 'empty'], explo want : ['turn_right', 'empty', 'forward', 'empty', 'feel_front', 'wall', 'turn_right', 'wall', 'forward', 'empty']\n",
      "\u001b[0;35m after compute ... \u001b[0m ['feel_front', 'empty', 'turn_right', 'empty', 'forward', 'empty', 'feel_left', 'empty', 'feel_left', 'empty']\n",
      "\u001b[0;31m Action: feel_front \u001b[0m, Prediction: empty, Outcome: empty, \u001b[0;31m Satisfaction: True \u001b[0m\n",
      "Training time: 10.269308805465698\n",
      "\u001b[0;31m Action: turn_right \u001b[0m, Prediction: empty, Outcome: empty, \u001b[0;31m Satisfaction: True \u001b[0m\n",
      "\u001b[0;31m Action: forward \u001b[0m, Prediction: empty, Outcome: empty, \u001b[0;31m Satisfaction: True \u001b[0m\n",
      "\u001b[0;31m Action: feel_left \u001b[0m, Prediction: wall, Outcome: wall, \u001b[0;31m Satisfaction: True \u001b[0m\n",
      "Time to compute expective valance: 7.285950422286987\n",
      "expected valence : -43.16 valence explo : -132.00 model predict : ['turn_right', 'empty', 'feel_left', 'empty', 'feel_right', 'wall', 'turn_left', 'empty', 'forward', 'empty'], explo want : ['feel_left', 'wall', 'feel_right', 'empty', 'feel_front', 'wall', 'turn_left', 'wall', 'forward', 'empty']\n",
      "\u001b[0;35m after compute ... \u001b[0m ['turn_right', 'empty', 'feel_left', 'empty', 'feel_right', 'wall', 'turn_left', 'empty', 'forward', 'empty']\n",
      "\u001b[0;31m Action: turn_right \u001b[0m, Prediction: empty, Outcome: empty, \u001b[0;31m Satisfaction: True \u001b[0m\n",
      "Training time: 9.936891794204712\n",
      "\u001b[0;31m Action: feel_left \u001b[0m, Prediction: wall, Outcome: wall, \u001b[0;31m Satisfaction: True \u001b[0m\n",
      "Time to compute expective valance: 7.11870813369751\n",
      "expected valence : -40.68 valence explo : -135.00 model predict : ['feel_front', 'empty', 'turn_right', 'empty', 'forward', 'empty', 'feel_left', 'empty', 'feel_left', 'empty'], explo want : ['feel_right', 'wall', 'feel_front', 'wall', 'feel_left', 'wall', 'turn_right', 'wall', 'forward', 'empty']\n",
      "\u001b[0;35m after compute ... \u001b[0m ['feel_front', 'empty', 'turn_right', 'empty', 'forward', 'empty', 'feel_left', 'empty', 'feel_left', 'empty']\n",
      "\u001b[0;31m Action: feel_front \u001b[0m, Prediction: empty, Outcome: empty, \u001b[0;31m Satisfaction: True \u001b[0m\n",
      "Training time: 10.016063690185547\n",
      "\u001b[0;31m Action: turn_right \u001b[0m, Prediction: empty, Outcome: empty, \u001b[0;31m Satisfaction: True \u001b[0m\n",
      "\u001b[0;31m Action: forward \u001b[0m, Prediction: empty, Outcome: empty, \u001b[0;31m Satisfaction: True \u001b[0m\n",
      "\u001b[0;31m Action: feel_left \u001b[0m, Prediction: wall, Outcome: empty, \u001b[0;31m Satisfaction: False \u001b[0m\n",
      "Training time: 9.796433448791504\n",
      "\u001b[0;31m Action: feel_left \u001b[0m, Prediction: empty, Outcome: empty, \u001b[0;31m Satisfaction: True \u001b[0m\n",
      "Time to compute expective valance: 6.925374746322632\n",
      "expected valence : -39.46 valence explo : -101.00 model predict : ['feel_front', 'wall', 'feel_left', 'empty', 'turn_left', 'empty', 'feel_front', 'empty', 'forward', 'empty'], explo want : ['turn_right', 'empty', 'turn_right', 'wall', 'forward', 'empty', 'forward', 'empty']\n",
      "\u001b[0;35m after compute ... \u001b[0m ['feel_front', 'wall', 'feel_left', 'empty', 'turn_left', 'empty', 'feel_front', 'empty', 'forward', 'empty']\n",
      "\u001b[0;31m Action: feel_front \u001b[0m, Prediction: wall, Outcome: wall, \u001b[0;31m Satisfaction: True \u001b[0m\n",
      "\u001b[0;31m Action: feel_left \u001b[0m, Prediction: wall, Outcome: empty, \u001b[0;31m Satisfaction: False \u001b[0m\n",
      "Training time: 9.83073878288269\n",
      "\u001b[0;31m Action: turn_left \u001b[0m, Prediction: empty, Outcome: empty, \u001b[0;31m Satisfaction: True \u001b[0m\n",
      "\u001b[0;31m Action: feel_front \u001b[0m, Prediction: empty, Outcome: empty, \u001b[0;31m Satisfaction: True \u001b[0m\n",
      "\u001b[0;31m Action: forward \u001b[0m, Prediction: empty, Outcome: wall, \u001b[0;31m Satisfaction: False \u001b[0m\n",
      "Training time: 9.624321699142456\n",
      "Time to compute expective valance: 7.255255222320557\n",
      "expected valence : -32.45 valence explo : -116.00 model predict : ['feel_right', 'empty', 'feel_left', 'wall', 'feel_front', 'empty', 'turn_right', 'empty', 'forward', 'empty'], explo want : ['turn_right', 'empty', 'forward', 'empty', 'feel_front', 'wall', 'turn_right', 'wall', 'forward', 'empty']\n",
      "\u001b[0;35m after compute ... \u001b[0m ['feel_right', 'empty', 'feel_left', 'wall', 'feel_front', 'empty', 'turn_right', 'empty', 'forward', 'empty']\n",
      "\u001b[0;31m Action: feel_right \u001b[0m, Prediction: empty, Outcome: empty, \u001b[0;31m Satisfaction: True \u001b[0m\n",
      "\u001b[0;31m Action: feel_left \u001b[0m, Prediction: empty, Outcome: wall, \u001b[0;31m Satisfaction: False \u001b[0m\n",
      "Training time: 9.80654788017273\n",
      "\u001b[0;31m Action: feel_front \u001b[0m, Prediction: empty, Outcome: empty, \u001b[0;31m Satisfaction: True \u001b[0m\n",
      "\u001b[0;31m Action: turn_right \u001b[0m, Prediction: empty, Outcome: empty, \u001b[0;31m Satisfaction: True \u001b[0m\n",
      "\u001b[0;31m Action: forward \u001b[0m, Prediction: empty, Outcome: empty, \u001b[0;31m Satisfaction: True \u001b[0m\n",
      "Time to compute expective valance: 7.608478784561157\n",
      "expected valence : -28.18 valence explo : -95.00 model predict : ['feel_left', 'empty', 'feel_right', 'wall', 'turn_left', 'empty', 'forward', 'empty', 'feel_left', 'empty'], explo want : ['feel_front', 'wall', 'turn_right', 'wall', 'forward', 'empty', 'forward', 'empty']\n",
      "\u001b[0;35m after compute ... \u001b[0m ['feel_left', 'empty', 'feel_right', 'wall', 'turn_left', 'empty', 'forward', 'empty', 'feel_left', 'empty']\n",
      "\u001b[0;31m Action: feel_left \u001b[0m, Prediction: wall, Outcome: wall, \u001b[0;31m Satisfaction: True \u001b[0m\n",
      "Time to compute expective valance: 6.39747953414917\n",
      "expected valence : -49.22 valence explo : -inf model predict : ['feel_left', 'wall', 'feel_left', 'wall', 'feel_left', 'empty', 'turn_right', 'empty', 'forward', 'empty'], explo want : []\n",
      "\u001b[0;35m after compute ... \u001b[0m ['feel_left', 'wall', 'feel_left', 'wall', 'feel_left', 'empty', 'turn_right', 'empty', 'forward', 'empty']\n",
      "\u001b[0;31m Action: feel_left \u001b[0m, Prediction: wall, Outcome: wall, \u001b[0;31m Satisfaction: True \u001b[0m\n",
      "Training time: 10.514155387878418\n",
      "\u001b[0;31m Action: feel_left \u001b[0m, Prediction: wall, Outcome: wall, \u001b[0;31m Satisfaction: True \u001b[0m\n",
      "\u001b[0;31m Action: feel_left \u001b[0m, Prediction: wall, Outcome: wall, \u001b[0;31m Satisfaction: True \u001b[0m\n",
      "Time to compute expective valance: 7.906275749206543\n",
      "expected valence : -29.37 valence explo : -135.00 model predict : ['feel_left', 'empty', 'feel_left', 'empty', 'feel_right', 'wall', 'turn_left', 'empty', 'forward', 'empty'], explo want : ['feel_right', 'wall', 'feel_front', 'wall', 'feel_left', 'wall', 'turn_right', 'wall', 'forward', 'empty']\n",
      "\u001b[0;35m after compute ... \u001b[0m ['feel_left', 'empty', 'feel_left', 'empty', 'feel_right', 'wall', 'turn_left', 'empty', 'forward', 'empty']\n",
      "\u001b[0;31m Action: feel_left \u001b[0m, Prediction: wall, Outcome: wall, \u001b[0;31m Satisfaction: True \u001b[0m\n",
      "Training time: 9.786593914031982\n",
      "Time to compute expective valance: 6.527398347854614\n",
      "expected valence : -48.80 valence explo : -135.00 model predict : ['feel_right', 'wall', 'feel_left', 'wall', 'feel_front', 'empty', 'turn_right', 'empty', 'forward', 'empty'], explo want : ['feel_right', 'wall', 'feel_front', 'wall', 'feel_left', 'wall', 'turn_right', 'wall', 'forward', 'empty']\n",
      "\u001b[0;35m after compute ... \u001b[0m ['feel_right', 'wall', 'feel_left', 'wall', 'feel_front', 'empty', 'turn_right', 'empty', 'forward', 'empty']\n",
      "\u001b[0;31m Action: feel_right \u001b[0m, Prediction: wall, Outcome: wall, \u001b[0;31m Satisfaction: True \u001b[0m\n",
      "Training time: 10.193517208099365\n",
      "\u001b[0;31m Action: feel_left \u001b[0m, Prediction: wall, Outcome: wall, \u001b[0;31m Satisfaction: True \u001b[0m\n",
      "\u001b[0;31m Action: feel_front \u001b[0m, Prediction: empty, Outcome: wall, \u001b[0;31m Satisfaction: False \u001b[0m\n",
      "Training time: 10.13730263710022\n",
      "Time to compute expective valance: 6.616069555282593\n",
      "expected valence : -49.38 valence explo : -135.00 model predict : ['turn_left', 'empty', 'feel_right', 'wall', 'feel_right', 'wall', 'feel_left', 'empty', 'forward', 'empty'], explo want : ['feel_right', 'wall', 'feel_front', 'wall', 'feel_left', 'wall', 'turn_right', 'wall', 'forward', 'empty']\n",
      "\u001b[0;35m after compute ... \u001b[0m ['turn_left', 'empty', 'feel_right', 'wall', 'feel_right', 'wall', 'feel_left', 'empty', 'forward', 'empty']\n",
      "\u001b[0;31m Action: turn_left \u001b[0m, Prediction: empty, Outcome: empty, \u001b[0;31m Satisfaction: True \u001b[0m\n",
      "Training time: 10.333009719848633\n",
      "\u001b[0;31m Action: feel_right \u001b[0m, Prediction: wall, Outcome: empty, \u001b[0;31m Satisfaction: False \u001b[0m\n",
      "Training time: 9.912477493286133\n",
      "Time to compute expective valance: 6.949458122253418\n",
      "expected valence : -43.12 valence explo : -inf model predict : ['feel_right', 'empty', 'feel_front', 'empty', 'feel_left', 'wall', 'turn_right', 'empty', 'forward', 'empty'], explo want : []\n",
      "\u001b[0;35m after compute ... \u001b[0m ['feel_right', 'empty', 'feel_front', 'empty', 'feel_left', 'wall', 'turn_right', 'empty', 'forward', 'empty']\n",
      "\u001b[0;31m Action: feel_right \u001b[0m, Prediction: empty, Outcome: empty, \u001b[0;31m Satisfaction: True \u001b[0m\n",
      "Training time: 10.109227180480957\n",
      "\u001b[0;31m Action: feel_front \u001b[0m, Prediction: empty, Outcome: empty, \u001b[0;31m Satisfaction: True \u001b[0m\n",
      "\u001b[0;31m Action: feel_left \u001b[0m, Prediction: wall, Outcome: empty, \u001b[0;31m Satisfaction: False \u001b[0m\n",
      "Training time: 10.52615737915039\n",
      "Time to compute expective valance: 7.182030439376831\n",
      "expected valence : -28.65 valence explo : -116.00 model predict : ['feel_front', 'empty', 'feel_left', 'wall', 'turn_right', 'empty', 'forward', 'empty', 'forward', 'empty'], explo want : ['turn_right', 'empty', 'forward', 'empty', 'feel_front', 'wall', 'turn_right', 'wall', 'forward', 'empty']\n",
      "\u001b[0;35m after compute ... \u001b[0m ['feel_front', 'empty', 'feel_left', 'wall', 'turn_right', 'empty', 'forward', 'empty', 'forward', 'empty']\n",
      "\u001b[0;31m Action: feel_front \u001b[0m, Prediction: empty, Outcome: empty, \u001b[0;31m Satisfaction: True \u001b[0m\n",
      "Training time: 9.960324764251709\n",
      "\u001b[0;31m Action: feel_left \u001b[0m, Prediction: wall, Outcome: empty, \u001b[0;31m Satisfaction: False \u001b[0m\n",
      "Training time: 10.052567720413208\n",
      "Time to compute expective valance: 8.825616598129272\n",
      "expected valence : -28.67 valence explo : -116.00 model predict : ['feel_front', 'wall', 'feel_right', 'wall', 'feel_left', 'empty', 'turn_left', 'empty', 'forward', 'empty'], explo want : ['turn_right', 'empty', 'forward', 'empty', 'feel_front', 'wall', 'turn_right', 'wall', 'forward', 'empty']\n",
      "\u001b[0;35m after compute ... \u001b[0m ['feel_front', 'wall', 'feel_right', 'wall', 'feel_left', 'empty', 'turn_left', 'empty', 'forward', 'empty']\n",
      "\u001b[0;31m Action: feel_front \u001b[0m, Prediction: empty, Outcome: empty, \u001b[0;31m Satisfaction: True \u001b[0m\n",
      "Training time: 10.249566555023193\n",
      "Time to compute expective valance: 6.934391021728516\n",
      "expected valence : -47.60 valence explo : -129.00 model predict : ['turn_left', 'empty', 'feel_front', 'empty', 'forward', 'empty', 'feel_front', 'wall', 'feel_right', 'empty'], explo want : ['feel_front', 'empty', 'feel_front', 'empty', 'feel_front', 'wall', 'turn_right', 'wall', 'forward', 'empty']\n",
      "\u001b[0;35m after compute ... \u001b[0m ['turn_left', 'empty', 'feel_front', 'empty', 'forward', 'empty', 'feel_front', 'wall', 'feel_right', 'empty']\n",
      "\u001b[0;31m Action: turn_left \u001b[0m, Prediction: empty, Outcome: empty, \u001b[0;31m Satisfaction: True \u001b[0m\n",
      "Training time: 9.841961860656738\n",
      "\u001b[0;31m Action: feel_front \u001b[0m, Prediction: empty, Outcome: wall, \u001b[0;31m Satisfaction: False \u001b[0m\n",
      "Training time: 9.729217290878296\n",
      "Time to compute expective valance: 6.929523468017578\n",
      "expected valence : -38.50 valence explo : -inf model predict : ['feel_front', 'wall', 'feel_right', 'empty', 'turn_right', 'empty', 'feel_right', 'empty', 'forward', 'empty'], explo want : []\n",
      "\u001b[0;35m after compute ... \u001b[0m ['feel_front', 'wall', 'feel_right', 'empty', 'turn_right', 'empty', 'feel_right', 'empty', 'forward', 'empty']\n",
      "\u001b[0;31m Action: feel_front \u001b[0m, Prediction: wall, Outcome: wall, \u001b[0;31m Satisfaction: True \u001b[0m\n",
      "Training time: 10.046444654464722\n",
      "\u001b[0;31m Action: feel_right \u001b[0m, Prediction: wall, Outcome: wall, \u001b[0;31m Satisfaction: True \u001b[0m\n",
      "Time to compute expective valance: 7.499333620071411\n",
      "expected valence : -46.27 valence explo : -120.00 model predict : ['feel_right', 'wall', 'turn_left', 'empty', 'forward', 'empty', 'feel_right', 'empty', 'feel_right', 'empty'], explo want : ['feel_front', 'wall', 'feel_left', 'wall', 'turn_right', 'wall', 'forward', 'empty']\n",
      "\u001b[0;35m after compute ... \u001b[0m ['feel_right', 'wall', 'turn_left', 'empty', 'forward', 'empty', 'feel_right', 'empty', 'feel_right', 'empty']\n",
      "\u001b[0;31m Action: feel_right \u001b[0m, Prediction: wall, Outcome: wall, \u001b[0;31m Satisfaction: True \u001b[0m\n",
      "Training time: 10.657703638076782\n",
      "\u001b[0;31m Action: turn_left \u001b[0m, Prediction: empty, Outcome: empty, \u001b[0;31m Satisfaction: True \u001b[0m\n",
      "\u001b[0;31m Action: forward \u001b[0m, Prediction: empty, Outcome: wall, \u001b[0;31m Satisfaction: False \u001b[0m\n",
      "Training time: 10.659603357315063\n",
      "Time to compute expective valance: 9.627708673477173\n",
      "expected valence : -31.45 valence explo : -135.00 model predict : ['feel_right', 'empty', 'feel_front', 'wall', 'feel_front', 'empty', 'turn_right', 'empty', 'forward', 'empty'], explo want : ['feel_left', 'empty', 'feel_left', 'empty', 'turn_right', 'empty', 'turn_right', 'wall', 'forward', 'empty']\n",
      "\u001b[0;35m after compute ... \u001b[0m ['feel_right', 'empty', 'feel_front', 'wall', 'feel_front', 'empty', 'turn_right', 'empty', 'forward', 'empty']\n",
      "\u001b[0;31m Action: feel_right \u001b[0m, Prediction: wall, Outcome: empty, \u001b[0;31m Satisfaction: False \u001b[0m\n",
      "Training time: 10.626793384552002\n",
      "\u001b[0;31m Action: feel_front \u001b[0m, Prediction: empty, Outcome: empty, \u001b[0;31m Satisfaction: True \u001b[0m\n",
      "Time to compute expective valance: 7.3208229541778564\n",
      "expected valence : -37.14 valence explo : -116.00 model predict : ['feel_right', 'empty', 'feel_left', 'empty', 'turn_left', 'empty', 'forward', 'empty', 'feel_right', 'wall'], explo want : ['turn_right', 'empty', 'forward', 'empty', 'feel_front', 'wall', 'turn_right', 'wall', 'forward', 'empty']\n",
      "\u001b[0;35m after compute ... \u001b[0m ['feel_right', 'empty', 'feel_left', 'empty', 'turn_left', 'empty', 'forward', 'empty', 'feel_right', 'wall']\n",
      "\u001b[0;31m Action: feel_right \u001b[0m, Prediction: empty, Outcome: empty, \u001b[0;31m Satisfaction: True \u001b[0m\n",
      "Training time: 10.878468036651611\n",
      "\u001b[0;31m Action: feel_left \u001b[0m, Prediction: wall, Outcome: empty, \u001b[0;31m Satisfaction: False \u001b[0m\n",
      "Training time: 11.023740768432617\n"
     ]
    }
   ],
   "source": [
    "for i in tqdm(range(200)):\n",
    "    action, predi = agent.action(outcome, verbose=True)\n",
    "    df2 = agent.prealloc_df\n",
    "    df_val2 = agent.visu_val\n",
    "    df_explo2 = agent.visu_explo\n",
    "    outcome = environenment.outcome(action)\n",
    "    history_good.append(outcome == predi)\n",
    "    history_good_inter.append((action == 'forward' and outcome == 'empty'))\n",
    "    history_bad_inter.append((action == 'forward' and outcome == 'wall'))\n",
    "    hisrory_val.append(valence[inter(action, outcome)])\n",
    "    pourcent_by_10.append(sum(history_good[-10:]) if len(history_good) >= 10 else 0)\n",
    "    by_10_good_inter.append(sum(history_good_inter[-10:]) if len(history_good_inter) >= 10 else 0)\n",
    "    by_10_bad_inter.append(sum(history_bad_inter[-10:]) if len(history_bad_inter) >= 10 else 0)\n",
    "    mean_val.append(np.mean(hisrory_val[-10:]) / 10 if len(hisrory_val) >= 10 else 0)\n",
    "    environenment.save_world(\"imgToGif3\")"
   ]
  },
  {
   "cell_type": "code",
   "execution_count": 25,
   "metadata": {},
   "outputs": [
    {
     "data": {
      "image/png": "[encoded data removed]",
      "text/plain": [
       "<Figure size 640x480 with 1 Axes>"
      ]
     },
     "metadata": {},
     "output_type": "display_data"
    }
   ],
   "source": [
    "# Function to map integers to colors\n",
    "def int_to_color(value):\n",
    "    if value == 0:\n",
    "        return \"yellow\"\n",
    "    return \"gray\"\n",
    "\n",
    "# Create a figure and axis\n",
    "fig, ax = plt.subplots()\n",
    "\n",
    "#1 / (len(by_10_bad_inter) -10)\n",
    "for i, value in enumerate(agent.predictExplo):\n",
    "    ax.add_patch(plt.Rectangle((i, -10), 0.1, 10, color=int_to_color(value), alpha=0.4))\n",
    "\n",
    "# Plot the data\n",
    "plt.plot(by_10_bad_inter, label='bad inter', color='red')\n",
    "plt.plot(by_10_good_inter, label='good inter', color='green')\n",
    "plt.plot(pourcent_by_10, label='précision', color='blue')\n",
    "plt.plot(mean_val, label='mean valence', color='black')\n",
    "\n",
    "# Add legend\n",
    "plt.legend()\n",
    "\n",
    "# Show the plot\n",
    "plt.show()\n",
    "\n",
    "# Close the plot\n",
    "plt.close()\n"
   ]
  },
  {
   "cell_type": "code",
   "execution_count": 23,
   "metadata": {},
   "outputs": [
    {
     "data": {
      "image/png": "[encoded data removed]",
      "text/plain": [
       "<Figure size 640x480 with 1 Axes>"
      ]
     },
     "metadata": {},
     "output_type": "display_data"
    },
    {
     "data": {
      "image/png": "[encoded data removed]",
      "text/plain": [
       "<Figure size 640x480 with 1 Axes>"
      ]
     },
     "metadata": {},
     "output_type": "display_data"
    },
    {
     "data": {
      "image/png": "[encoded data removed]",
      "text/plain": [
       "<Figure size 640x480 with 1 Axes>"
      ]
     },
     "metadata": {},
     "output_type": "display_data"
    },
    {
     "data": {
      "image/png": "[encoded data removed]",
      "text/plain": [
       "<Figure size 640x480 with 1 Axes>"
      ]
     },
     "metadata": {},
     "output_type": "display_data"
    },
    {
     "data": {
      "image/png": "[encoded data removed]",
      "text/plain": [
       "<Figure size 640x480 with 1 Axes>"
      ]
     },
     "metadata": {},
     "output_type": "display_data"
    },
    {
     "data": {
      "image/png": "[encoded data removed]",
      "text/plain": [
       "<Figure size 640x480 with 1 Axes>"
      ]
     },
     "metadata": {},
     "output_type": "display_data"
    }
   ],
   "source": [
    "see_evolued_loss(agent.loss_train)\n",
    "see_evolued_loss(agent.loss_val)\n",
    "see_evolued_acc(agent.acc_train)\n",
    "see_evolued_acc(agent.acc_val)\n",
    "\n",
    "see_evolued_acc(agent.time_train)\n",
    "see_evolued_acc(agent.time_compute_expected_valence)\n",
    "\n",
    "\n"
   ]
  },
  {
   "cell_type": "code",
   "execution_count": 14,
   "metadata": {},
   "outputs": [
    {
     "data": {
      "application/vnd.plotly.v1+json": {
       "config": {
        "linkText": "Export to plot.ly",
        "plotlyServerURL": "https://plot.ly",
        "showLink": false
       },
       "data": [
        {
         "mode": "markers",
         "text": [
          "wall",
          "empty",
          "forward",
          "turn_left",
          "turn_right",
          "feel_front",
          "feel_left",
          "feel_right"
         ],
         "type": "scatter",
         "x": {
          "bdata": "AZgIQiXY+0HEyWlCbUWpQaXMJMLYJJw/Q7GZwZx2GsI=",
          "dtype": "f4"
         },
         "y": {
          "bdata": "ZtIjwjv2pMLV113CyeWmwL8hR8LjDgzCUp3xQN9GbsE=",
          "dtype": "f4"
         }
        }
       ],
       "layout": {
        "hovermode": "closest",
        "template": {
         "data": {
          "bar": [
           {
            "error_x": {
             "color": "#2a3f5f"
            },
            "error_y": {
             "color": "#2a3f5f"
            },
            "marker": {
             "line": {
              "color": "#E5ECF6",
              "width": 0.5
             },
             "pattern": {
              "fillmode": "overlay",
              "size": 10,
              "solidity": 0.2
             }
            },
            "type": "bar"
           }
          ],
          "barpolar": [
           {
            "marker": {
             "line": {
              "color": "#E5ECF6",
              "width": 0.5
             },
             "pattern": {
              "fillmode": "overlay",
              "size": 10,
              "solidity": 0.2
             }
            },
            "type": "barpolar"
           }
          ],
          "carpet": [
           {
            "aaxis": {
             "endlinecolor": "#2a3f5f",
             "gridcolor": "white",
             "linecolor": "white",
             "minorgridcolor": "white",
             "startlinecolor": "#2a3f5f"
            },
            "baxis": {
             "endlinecolor": "#2a3f5f",
             "gridcolor": "white",
             "linecolor": "white",
             "minorgridcolor": "white",
             "startlinecolor": "#2a3f5f"
            },
            "type": "carpet"
           }
          ],
          "choropleth": [
           {
            "colorbar": {
             "outlinewidth": 0,
             "ticks": ""
            },
            "type": "choropleth"
           }
          ],
          "contour": [
           {
            "colorbar": {
             "outlinewidth": 0,
             "ticks": ""
            },
            "colorscale": [
             [
              0,
              "#0d0887"
             ],
             [
              0.1111111111111111,
              "#46039f"
             ],
             [
              0.2222222222222222,
              "#7201a8"
             ],
             [
              0.3333333333333333,
              "#9c179e"
             ],
             [
              0.4444444444444444,
              "#bd3786"
             ],
             [
              0.5555555555555556,
              "#d8576b"
             ],
             [
              0.6666666666666666,
              "#ed7953"
             ],
             [
              0.7777777777777778,
              "#fb9f3a"
             ],
             [
              0.8888888888888888,
              "#fdca26"
             ],
             [
              1,
              "#f0f921"
             ]
            ],
            "type": "contour"
           }
          ],
          "contourcarpet": [
           {
            "colorbar": {
             "outlinewidth": 0,
             "ticks": ""
            },
            "type": "contourcarpet"
           }
          ],
          "heatmap": [
           {
            "colorbar": {
             "outlinewidth": 0,
             "ticks": ""
            },
            "colorscale": [
             [
              0,
              "#0d0887"
             ],
             [
              0.1111111111111111,
              "#46039f"
             ],
             [
              0.2222222222222222,
              "#7201a8"
             ],
             [
              0.3333333333333333,
              "#9c179e"
             ],
             [
              0.4444444444444444,
              "#bd3786"
             ],
             [
              0.5555555555555556,
              "#d8576b"
             ],
             [
              0.6666666666666666,
              "#ed7953"
             ],
             [
              0.7777777777777778,
              "#fb9f3a"
             ],
             [
              0.8888888888888888,
              "#fdca26"
             ],
             [
              1,
              "#f0f921"
             ]
            ],
            "type": "heatmap"
           }
          ],
          "histogram": [
           {
            "marker": {
             "pattern": {
              "fillmode": "overlay",
              "size": 10,
              "solidity": 0.2
             }
            },
            "type": "histogram"
           }
          ],
          "histogram2d": [
           {
            "colorbar": {
             "outlinewidth": 0,
             "ticks": ""
            },
            "colorscale": [
             [
              0,
              "#0d0887"
             ],
             [
              0.1111111111111111,
              "#46039f"
             ],
             [
              0.2222222222222222,
              "#7201a8"
             ],
             [
              0.3333333333333333,
              "#9c179e"
             ],
             [
              0.4444444444444444,
              "#bd3786"
             ],
             [
              0.5555555555555556,
              "#d8576b"
             ],
             [
              0.6666666666666666,
              "#ed7953"
             ],
             [
              0.7777777777777778,
              "#fb9f3a"
             ],
             [
              0.8888888888888888,
              "#fdca26"
             ],
             [
              1,
              "#f0f921"
             ]
            ],
            "type": "histogram2d"
           }
          ],
          "histogram2dcontour": [
           {
            "colorbar": {
             "outlinewidth": 0,
             "ticks": ""
            },
            "colorscale": [
             [
              0,
              "#0d0887"
             ],
             [
              0.1111111111111111,
              "#46039f"
             ],
             [
              0.2222222222222222,
              "#7201a8"
             ],
             [
              0.3333333333333333,
              "#9c179e"
             ],
             [
              0.4444444444444444,
              "#bd3786"
             ],
             [
              0.5555555555555556,
              "#d8576b"
             ],
             [
              0.6666666666666666,
              "#ed7953"
             ],
             [
              0.7777777777777778,
              "#fb9f3a"
             ],
             [
              0.8888888888888888,
              "#fdca26"
             ],
             [
              1,
              "#f0f921"
             ]
            ],
            "type": "histogram2dcontour"
           }
          ],
          "mesh3d": [
           {
            "colorbar": {
             "outlinewidth": 0,
             "ticks": ""
            },
            "type": "mesh3d"
           }
          ],
          "parcoords": [
           {
            "line": {
             "colorbar": {
              "outlinewidth": 0,
              "ticks": ""
             }
            },
            "type": "parcoords"
           }
          ],
          "pie": [
           {
            "automargin": true,
            "type": "pie"
           }
          ],
          "scatter": [
           {
            "fillpattern": {
             "fillmode": "overlay",
             "size": 10,
             "solidity": 0.2
            },
            "type": "scatter"
           }
          ],
          "scatter3d": [
           {
            "line": {
             "colorbar": {
              "outlinewidth": 0,
              "ticks": ""
             }
            },
            "marker": {
             "colorbar": {
              "outlinewidth": 0,
              "ticks": ""
             }
            },
            "type": "scatter3d"
           }
          ],
          "scattercarpet": [
           {
            "marker": {
             "colorbar": {
              "outlinewidth": 0,
              "ticks": ""
             }
            },
            "type": "scattercarpet"
           }
          ],
          "scattergeo": [
           {
            "marker": {
             "colorbar": {
              "outlinewidth": 0,
              "ticks": ""
             }
            },
            "type": "scattergeo"
           }
          ],
          "scattergl": [
           {
            "marker": {
             "colorbar": {
              "outlinewidth": 0,
              "ticks": ""
             }
            },
            "type": "scattergl"
           }
          ],
          "scattermap": [
           {
            "marker": {
             "colorbar": {
              "outlinewidth": 0,
              "ticks": ""
             }
            },
            "type": "scattermap"
           }
          ],
          "scattermapbox": [
           {
            "marker": {
             "colorbar": {
              "outlinewidth": 0,
              "ticks": ""
             }
            },
            "type": "scattermapbox"
           }
          ],
          "scatterpolar": [
           {
            "marker": {
             "colorbar": {
              "outlinewidth": 0,
              "ticks": ""
             }
            },
            "type": "scatterpolar"
           }
          ],
          "scatterpolargl": [
           {
            "marker": {
             "colorbar": {
              "outlinewidth": 0,
              "ticks": ""
             }
            },
            "type": "scatterpolargl"
           }
          ],
          "scatterternary": [
           {
            "marker": {
             "colorbar": {
              "outlinewidth": 0,
              "ticks": ""
             }
            },
            "type": "scatterternary"
           }
          ],
          "surface": [
           {
            "colorbar": {
             "outlinewidth": 0,
             "ticks": ""
            },
            "colorscale": [
             [
              0,
              "#0d0887"
             ],
             [
              0.1111111111111111,
              "#46039f"
             ],
             [
              0.2222222222222222,
              "#7201a8"
             ],
             [
              0.3333333333333333,
              "#9c179e"
             ],
             [
              0.4444444444444444,
              "#bd3786"
             ],
             [
              0.5555555555555556,
              "#d8576b"
             ],
             [
              0.6666666666666666,
              "#ed7953"
             ],
             [
              0.7777777777777778,
              "#fb9f3a"
             ],
             [
              0.8888888888888888,
              "#fdca26"
             ],
             [
              1,
              "#f0f921"
             ]
            ],
            "type": "surface"
           }
          ],
          "table": [
           {
            "cells": {
             "fill": {
              "color": "#EBF0F8"
             },
             "line": {
              "color": "white"
             }
            },
            "header": {
             "fill": {
              "color": "#C8D4E3"
             },
             "line": {
              "color": "white"
             }
            },
            "type": "table"
           }
          ]
         },
         "layout": {
          "annotationdefaults": {
           "arrowcolor": "#2a3f5f",
           "arrowhead": 0,
           "arrowwidth": 1
          },
          "autotypenumbers": "strict",
          "coloraxis": {
           "colorbar": {
            "outlinewidth": 0,
            "ticks": ""
           }
          },
          "colorscale": {
           "diverging": [
            [
             0,
             "#8e0152"
            ],
            [
             0.1,
             "#c51b7d"
            ],
            [
             0.2,
             "#de77ae"
            ],
            [
             0.3,
             "#f1b6da"
            ],
            [
             0.4,
             "#fde0ef"
            ],
            [
             0.5,
             "#f7f7f7"
            ],
            [
             0.6,
             "#e6f5d0"
            ],
            [
             0.7,
             "#b8e186"
            ],
            [
             0.8,
             "#7fbc41"
            ],
            [
             0.9,
             "#4d9221"
            ],
            [
             1,
             "#276419"
            ]
           ],
           "sequential": [
            [
             0,
             "#0d0887"
            ],
            [
             0.1111111111111111,
             "#46039f"
            ],
            [
             0.2222222222222222,
             "#7201a8"
            ],
            [
             0.3333333333333333,
             "#9c179e"
            ],
            [
             0.4444444444444444,
             "#bd3786"
            ],
            [
             0.5555555555555556,
             "#d8576b"
            ],
            [
             0.6666666666666666,
             "#ed7953"
            ],
            [
             0.7777777777777778,
             "#fb9f3a"
            ],
            [
             0.8888888888888888,
             "#fdca26"
            ],
            [
             1,
             "#f0f921"
            ]
           ],
           "sequentialminus": [
            [
             0,
             "#0d0887"
            ],
            [
             0.1111111111111111,
             "#46039f"
            ],
            [
             0.2222222222222222,
             "#7201a8"
            ],
            [
             0.3333333333333333,
             "#9c179e"
            ],
            [
             0.4444444444444444,
             "#bd3786"
            ],
            [
             0.5555555555555556,
             "#d8576b"
            ],
            [
             0.6666666666666666,
             "#ed7953"
            ],
            [
             0.7777777777777778,
             "#fb9f3a"
            ],
            [
             0.8888888888888888,
             "#fdca26"
            ],
            [
             1,
             "#f0f921"
            ]
           ]
          },
          "colorway": [
           "#636efa",
           "#EF553B",
           "#00cc96",
           "#ab63fa",
           "#FFA15A",
           "#19d3f3",
           "#FF6692",
           "#B6E880",
           "#FF97FF",
           "#FECB52"
          ],
          "font": {
           "color": "#2a3f5f"
          },
          "geo": {
           "bgcolor": "white",
           "lakecolor": "white",
           "landcolor": "#E5ECF6",
           "showlakes": true,
           "showland": true,
           "subunitcolor": "white"
          },
          "hoverlabel": {
           "align": "left"
          },
          "hovermode": "closest",
          "mapbox": {
           "style": "light"
          },
          "paper_bgcolor": "white",
          "plot_bgcolor": "#E5ECF6",
          "polar": {
           "angularaxis": {
            "gridcolor": "white",
            "linecolor": "white",
            "ticks": ""
           },
           "bgcolor": "#E5ECF6",
           "radialaxis": {
            "gridcolor": "white",
            "linecolor": "white",
            "ticks": ""
           }
          },
          "scene": {
           "xaxis": {
            "backgroundcolor": "#E5ECF6",
            "gridcolor": "white",
            "gridwidth": 2,
            "linecolor": "white",
            "showbackground": true,
            "ticks": "",
            "zerolinecolor": "white"
           },
           "yaxis": {
            "backgroundcolor": "#E5ECF6",
            "gridcolor": "white",
            "gridwidth": 2,
            "linecolor": "white",
            "showbackground": true,
            "ticks": "",
            "zerolinecolor": "white"
           },
           "zaxis": {
            "backgroundcolor": "#E5ECF6",
            "gridcolor": "white",
            "gridwidth": 2,
            "linecolor": "white",
            "showbackground": true,
            "ticks": "",
            "zerolinecolor": "white"
           }
          },
          "shapedefaults": {
           "line": {
            "color": "#2a3f5f"
           }
          },
          "ternary": {
           "aaxis": {
            "gridcolor": "white",
            "linecolor": "white",
            "ticks": ""
           },
           "baxis": {
            "gridcolor": "white",
            "linecolor": "white",
            "ticks": ""
           },
           "bgcolor": "#E5ECF6",
           "caxis": {
            "gridcolor": "white",
            "linecolor": "white",
            "ticks": ""
           }
          },
          "title": {
           "x": 0.05
          },
          "xaxis": {
           "automargin": true,
           "gridcolor": "white",
           "linecolor": "white",
           "ticks": "",
           "title": {
            "standoff": 15
           },
           "zerolinecolor": "white",
           "zerolinewidth": 2
          },
          "yaxis": {
           "automargin": true,
           "gridcolor": "white",
           "linecolor": "white",
           "ticks": "",
           "title": {
            "standoff": 15
           },
           "zerolinecolor": "white",
           "zerolinewidth": 2
          }
         }
        },
        "title": {
         "text": "t-SNE 1 vs t-SNE 2"
        },
        "xaxis": {
         "title": {
          "text": "t-SNE 1"
         }
        },
        "yaxis": {
         "title": {
          "text": "t-SNE 2"
         }
        }
       }
      }
     },
     "metadata": {},
     "output_type": "display_data"
    }
   ],
   "source": [
    "from sklearn.manifold import TSNE\n",
    "import plotly.graph_objs as go\n",
    "import plotly.offline as py\n",
    "\n",
    "# Get weights\n",
    "embds = agent.model.embedding.weight.detach().cpu().numpy()\n",
    "\n",
    "# Plotting function\n",
    "def plot_words(data, start, stop, step):\n",
    "    trace = go.Scatter(\n",
    "        x = data[start:stop:step, 0], \n",
    "        y = data[start:stop:step, 1],\n",
    "        mode = 'markers',\n",
    "        text = [tokenizer.decode(i) for i in range(start, stop, step)]\n",
    "    )\n",
    "    layout = dict(title= 't-SNE 1 vs t-SNE 2',\n",
    "                  yaxis = dict(title='t-SNE 2'),\n",
    "                  xaxis = dict(title='t-SNE 1'),\n",
    "                  hovermode= 'closest')\n",
    "    fig = dict(data = [trace], layout= layout)\n",
    "    py.iplot(fig)\n",
    "\n",
    "# Visualize words in two dimensions \n",
    "# Set perplexity to a value less than the number of samples\n",
    "perplexity_value = min(30, len(embds) - 1)  # Ensure perplexity is less than the number of samples\n",
    "conv_tsne_embds = TSNE(n_components=2, perplexity=5).fit_transform(embds)\n",
    "plot_words(conv_tsne_embds, 0, len(embds), 1)"
   ]
  }
 ],
 "metadata": {
  "kernelspec": {
   "display_name": "Stage (torch)",
   "language": "python",
   "name": "dpt_transformers"
  },
  "language_info": {
   "codemirror_mode": {
    "name": "ipython",
    "version": 3
   },
   "file_extension": ".py",
   "mimetype": "text/x-python",
   "name": "python",
   "nbconvert_exporter": "python",
   "pygments_lexer": "ipython3",
   "version": "3.11.2"
  }
 },
 "nbformat": 4,
 "nbformat_minor": 2
}
