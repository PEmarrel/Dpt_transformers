{
 "cells": [
  {
   "cell_type": "code",
   "execution_count": 1,
   "metadata": {},
   "outputs": [],
   "source": [
    "from torch.utils.data import Dataset, DataLoader\n",
    "import torch.nn as nn\n",
    "import torch\n",
    "import numpy as np\n",
    "from matplotlib import pyplot as plt\n",
    "import time\n",
    "from tqdm.notebook import trange, tqdm\n",
    "import pandas as pd\n",
    "# Pour torch si vous avez un GPU\n",
    "device = \"cpu\" if not torch.cuda.is_available() else \"cuda\"\n",
    "device = \"cpu\" # Pour forcer l'utilisation du CPU"
   ]
  },
  {
   "cell_type": "code",
   "execution_count": 2,
   "metadata": {},
   "outputs": [],
   "source": [
    "from environnement.environnement import Environnement as env # mother class\n",
    "from environnement.small_loop import small_loop\n",
    "from environnement.gridWord import gridWord\n",
    "\n",
    "# model machine learning\n",
    "from model.Tokenizer import *\n",
    "from model.RNN import *\n",
    "from model.CustomDataSet import CustomDataSet, CustomDataSetRNN\n",
    "from outil import *\n",
    "from inter.simpleInteraction import simpleInteraction as inter"
   ]
  },
  {
   "cell_type": "markdown",
   "metadata": {},
   "source": [
    "# L'agent :\n",
    "L'idée de se fichier est de mettre en place une exploration guidé. Le principe est de repérer les séquences pour lequel le model de prédicition n'est pas sûr, et de choisir celle qui aurait la meilleur valence. Cette idée ne peut fonctionner que si les séquences sont déterministe."
   ]
  },
  {
   "cell_type": "code",
   "execution_count": 3,
   "metadata": {},
   "outputs": [],
   "source": [
    "class AgentLSTM:\n",
    "    def __init__(self, valence:dict[inter, float], model:nn.Module, max_depth:int, seuil:float,\n",
    "                optimizer, loss_fn, gap_train:int=11, gap_predi:int=11, nb_epoch:int=100, data_validate=None):\n",
    "        self.model = model\n",
    "        self.valence = valence\n",
    "        self.optimizer = optimizer\n",
    "        self.loss_fn = loss_fn\n",
    "        self.gap_train = gap_train\n",
    "        self.gap_predi = gap_predi\n",
    "        self.nb_epoch = nb_epoch\n",
    "        self.seq_to_exe = [] # Séquence d'actions et d'outcome choisit par la décision\n",
    "        self.history_act = [] # Historique des actions\n",
    "        self.history_fb = [] # Historique des feedbacks\n",
    "        self.history_inter = [] # Historique des interactions\n",
    "        self.data_validate = data_validate\n",
    "        self.max_depth:int = max_depth\n",
    "        self.seuil:float = seuil\n",
    "        self.force_fit = False\n",
    "        \n",
    "        self.all_outcomes = set()\n",
    "        self.all_act = set()\n",
    "        key:inter = None\n",
    "        for key in valence.keys():\n",
    "            self.all_outcomes.add(key.getOutcome())\n",
    "            self.all_act.add(key.getAction())\n",
    "        self.all_outcomes = list(self.all_outcomes)\n",
    "        self.all_act = list(self.all_act)\n",
    "        \n",
    "        self.action_choice = self.all_act[0] # De base nous choisissons la première action\n",
    "        self.history_act.append(self.action_choice)\n",
    "        self.outcome_prediction = None # De base le modèl ne prédi rien\n",
    "        \n",
    "        # number_patern = np.sum([(len(self.all_act) * len(self.all_outcomes)) **i for i in range(1, (self.max_depth // 2) +1)])\n",
    "        number_patern = 2000000\n",
    "        self.prealloc_df = pd.DataFrame(np.empty((number_patern, 5)), columns=[\"proposition\", \"valence\", \"action\", \"probability\", \"val_sucess\"])\n",
    "        # self.prealloc_df = self.prealloc_df.astype({\"proposition\": \"U20\", \"valence\": float, \"action\": int, \"probability\": float})\n",
    "        self.current_index = 0\n",
    "        \n",
    "        self.visu_explo = pd.DataFrame(np.empty((number_patern, 2)), columns=[\"seqence\", \"valence\"])\n",
    "        self.visu_explo = self.visu_explo.astype({\"seqence\": \"U20\", \"valence\": float})\n",
    "        self.current_index_explo = 0\n",
    "        \n",
    "        self.seq_explo = []\n",
    "        self.valence_explo = -np.inf\n",
    "        \n",
    "        self.visu_val = pd.DataFrame(np.empty((len(data_validate[0]), 3)), columns=[\"seqence\", \"probablility\", \"good\"])\n",
    "        self.visu_val = self.visu_val.astype({\"seqence\": \"U20\", \"probablility\": float, \"good\": bool})\n",
    "        \n",
    "        # Nous avons besoin d'un tokenizer pour transformer les actions et outcomes en entiers\n",
    "        # Pour des questions de simplicité, nous voulons que les outcomes soient passé en premier\n",
    "        self.tokenizer = SimpleTokenizerV1(\n",
    "            vocab={key: i for i, key in enumerate(self.all_outcomes + self.all_act)})\n",
    "        \n",
    "        # Variable moniteur\n",
    "        self.loss_train = [] # Contient toutes les listes des pertes d'entrainement\n",
    "        self.loss_val = [] # Contient toutes les listes des pertes de validation\n",
    "        self.acc_train = []\n",
    "        self.acc_val = []\n",
    "        \n",
    "        self.time_train = []\n",
    "        self.time_compute_expected_valence = []\n",
    "        self.predictExplo = []\n",
    "        \n",
    "        \n",
    "    def fit(self):\n",
    "        \"\"\"\n",
    "        Fonction de l'agent pour entrainer le modèle\n",
    "        \"\"\"        \n",
    "        dataset = CustomDataSetRNN(actions=self.history_act, outcomes=self.history_fb, \n",
    "                                 context_lenght=self.gap_train, dim_out=len(self.all_outcomes),\n",
    "                                 tokenizer=self.tokenizer)\n",
    "        \n",
    "        data_loader = DataLoader(dataset, batch_size=32, shuffle=True)\n",
    "        \n",
    "        if self.data_validate is not None:\n",
    "            dataset_test = CustomDataSetRNN(actions=self.data_validate[0], outcomes=self.data_validate[1], \n",
    "                                 context_lenght=self.gap_train, dim_out=len(self.all_outcomes),\n",
    "                                 tokenizer=self.tokenizer)\n",
    "            data_loader_test = DataLoader(dataset_test, batch_size=32, shuffle=True)\n",
    "            loss_test = []\n",
    "        \n",
    "        time_train = time.time()\n",
    "        for i in range(self.nb_epoch):\n",
    "            self.model.train()\n",
    "            steps = 0\n",
    "            train_acc = 0\n",
    "            training_loss = []\n",
    "            for tmp, (x,t) in enumerate(data_loader):\n",
    "                x = x.to(device)\n",
    "                t = t.to(device)\n",
    "                bs = t.shape[0]\n",
    "                h = torch.zeros(self.model.num_layers, bs, self.model.hidden_size, device=device)\n",
    "                cell = torch.zeros(self.model.num_layers, bs, self.model.hidden_size, device=device)\n",
    "\n",
    "                pred, h, cell = self.model(x, h, cell)\n",
    "\n",
    "                loss = self.loss_fn(pred[:, -1, :], t)\n",
    "                training_loss.append(loss.item())\n",
    "                \n",
    "                self.optimizer.zero_grad()\n",
    "                loss.backward()\n",
    "                self.optimizer.step()\n",
    "                \n",
    "                train_acc += sum((pred[:, -1, :].argmax(1) == t).cpu().numpy())\n",
    "                steps += bs\n",
    "                \n",
    "            self.acc_train.append(train_acc / steps)\n",
    "            # time_val_epoch = time.time()\n",
    "            if self.data_validate is not None:\n",
    "                self.model.eval()\n",
    "                steps = 0\n",
    "                test_acc = 0\n",
    "                loss_test = []\n",
    "                \n",
    "                for text, label in data_loader_test:\n",
    "                    text = text.to(device)\n",
    "                    label = label.to(device)\n",
    "                    bs = label.shape[0]\n",
    "\n",
    "                    # Initialize hidden and memory states\n",
    "                    hidden = torch.zeros(self.model.num_layers, bs, self.model.hidden_size, device=device)\n",
    "                    memory = torch.zeros(self.model.num_layers, bs, self.model.hidden_size, device=device)\n",
    "                    \n",
    "                    # Forward pass through the model\n",
    "                    pred, hidden, memory = self.model(text, hidden, memory)\n",
    "                    \n",
    "                    for i in range(bs):\n",
    "                        self.visu_val.iloc[steps + i] = [str(self.tokenizer.decode(text[i].cpu().tolist())), \n",
    "                                                         float(torch.nn.functional.softmax(pred[i, -1, :], dim=-1).max().item()), \n",
    "                                                         int(pred[i, -1, :].argmax().item() == label[i])]\n",
    "\n",
    "                    # Calculate the loss\n",
    "                    loss = self.loss_fn(pred[:, -1, :], label)\n",
    "                    loss_test.append(loss.item())\n",
    "\n",
    "                    # Calculate test accuracy\n",
    "                    test_acc +=  sum((pred[:, -1, :].argmax(1) == label).cpu().numpy())\n",
    "                    steps += bs\n",
    "                    \n",
    "                loss_test.append(loss_test)\n",
    "                self.acc_val.append(test_acc / steps)\n",
    "                # print(f\"Validation time: {time.time() - time_val_epoch}\")    \n",
    "            self.loss_train.append(training_loss)\n",
    "            # If acc is 100% we stop the training\n",
    "            if self.acc_train[-1] >= 0.99:\n",
    "                for _ in range(i, self.nb_epoch):\n",
    "                    self.acc_train.append(self.acc_train[-1])\n",
    "                    self.acc_val.append(self.acc_val[-1])\n",
    "                break\n",
    "            \n",
    "        print(f\"Training time: {time.time() - time_train}\")\n",
    "        self.time_train.append(time.time() - time_train)\n",
    "                \n",
    "    def predict(self, action):\n",
    "        \"\"\"\n",
    "        Fonction de l'agent pour prédire l'outcome en fonction de l'action \\\n",
    "        utilise l'historique des actions et outcomes comme contexte\n",
    "\n",
    "        Args:\n",
    "            action : L'action dont on prédit l'outcome \n",
    "\n",
    "        Raises:\n",
    "            Exception: Si l'historique des actions et outcomes est insuffisant\n",
    "\n",
    "        Returns:\n",
    "            out : L'outcome prédit\n",
    "        \"\"\"        \n",
    "        # Nous devons recupérer les gap dernières actions/outcomes\n",
    "        x = []\n",
    "        for i in range(-(self.gap_predi - 1) // 2, 0, 1):\n",
    "            x.append(self.history_act[i])\n",
    "            x.append(self.history_fb[i])\n",
    "        x.append(action)\n",
    "        seq_to_pred = self.tokenizer.encode(x)\n",
    "        # On simule un batch de taille 1\n",
    "        seq_to_pred = torch.tensor([seq_to_pred], device=device)\n",
    "        h = torch.zeros(self.model.num_layers, 1, self.model.hidden_size, device=device)\n",
    "        cell = torch.zeros(self.model.num_layers, 1, self.model.hidden_size, device=device)\n",
    "        probs, _, _ = self.model(seq_to_pred, h, cell)\n",
    "        \n",
    "        pred_feedback = torch.argmax(probs[:, -1, :]).item()\n",
    "        pred_feedback = self.tokenizer.decode(pred_feedback)\n",
    "        \n",
    "        return pred_feedback\n",
    "    \n",
    "    def recursif_valance_explo(self, max_depth:int, seq_predi:list = [], valence_succes_pred:float = 0):\n",
    "        max_depth -= 1\n",
    "        inter_max, value = max(self.valence.items(), key=lambda y: y[1])\n",
    "        for _ in range(max_depth):\n",
    "            seq_predi += [inter_max.getAction(), inter_max.getOutcome()]\n",
    "            valence_succes_pred += value\n",
    "        self.visu_explo.iloc[self.current_index_explo] = [str(seq_predi), valence_succes_pred]\n",
    "        self.current_index_explo += 1\n",
    "        if valence_succes_pred > self.valence_explo:\n",
    "            self.seq_explo = seq_predi\n",
    "            self.valence_explo = valence_succes_pred                    \n",
    "    \n",
    "    def recursif_expective_valance(self, context:list, max_depth:int, seuil:float=0.5, proba:float = 1, seq_predi:list = [], valence_pred:float = 0, valence_succes_pred:float = 0):\n",
    "        \"\"\"\n",
    "        Create the list of proposed sequences\n",
    "        \"\"\"\n",
    "        max_depth -= 1\n",
    "        \n",
    "        self.model.eval()\n",
    "        # Compute the expected valence of each action\n",
    "        for act in self.all_act:\n",
    "            new_seq = seq_predi + [act]\n",
    "            seq_to_predict = context + [self.tokenizer.encode(act)]\n",
    "            \n",
    "            # print('find seq')\n",
    "            # print(new_seq)\n",
    "            # print([i for i in zip(self.history_act, self.history_fb)])\n",
    "            sub_list = subfinder(self.history_inter, seq_to_predict)\n",
    "            # print(sub_list)\n",
    "            # print(f'for act : {act} and context : {seq_to_predict}')\n",
    "            if sub_list == []:\n",
    "                # print('i want explore')\n",
    "                # Get max valence and outcome associate by act\n",
    "                inter_max, value = max([(inter(act, out), self.valence[inter(act, out)]) for out in self.all_outcomes], key=lambda y: y[1])\n",
    "                # print(\"debug\")\n",
    "                # print('act :', act)\n",
    "                # print(inter_max)\n",
    "                # print(value)\n",
    "                # print('valence_succes_pred :', valence_succes_pred)\n",
    "                # print('goal :', self.valence_explo)\n",
    "                new_seq += [inter_max.getOutcome()]\n",
    "                tmp_value = valence_succes_pred + value\n",
    "                self.visu_explo.iloc[self.current_index_explo] = [str(new_seq), valence_succes_pred]\n",
    "                self.current_index_explo += 1\n",
    "                if tmp_value > self.valence_explo:\n",
    "                    # print('start new sequence')\n",
    "                    # print(new_seq)\n",
    "                    # print('valence')\n",
    "                    # print(valence_succes_pred)\n",
    "                    self.seq_explo = new_seq\n",
    "                    self.valence_explo = valence_succes_pred\n",
    "                # Nous n'avons jamais vue la séquence, nous choisisont d'imaginer le meilleur sénario\n",
    "                # print('sequence not seen')\n",
    "                self.recursif_valance_explo(max_depth=max_depth, seq_predi=new_seq , \n",
    "                                            valence_succes_pred=tmp_value)\n",
    "                continue\n",
    "            # print('sequence already seen')\n",
    "            \n",
    "            seq_to_predict = torch.tensor([seq_to_predict], dtype=torch.int).to(device)\n",
    "\n",
    "            hidden = torch.zeros(self.model.num_layers, 1, self.model.hidden_size, device=device)\n",
    "            memory = torch.zeros(self.model.num_layers, 1, self.model.hidden_size, device=device)\n",
    "\n",
    "            x, _, _ = self.model(seq_to_predict, hidden, memory)\n",
    "            x = x[0, -1, :]\n",
    "            # Transforme x into list proba\n",
    "            probs = torch.nn.functional.softmax(x, dim=0).tolist()\n",
    "            # for each outcome, record the expected valence\n",
    "            expected_valence = valence_pred\n",
    "            for i, out in enumerate(self.all_outcomes):\n",
    "                tmp_proba = probs[i] * proba\n",
    "                expected_valence += float(np.round(self.valence[inter(act, out)] * tmp_proba, decimals=4))\n",
    "            \n",
    "            for i, out in enumerate(self.all_outcomes):\n",
    "                visu_val = None\n",
    "                tmp_new_seq = new_seq + [out]\n",
    "                tmp_proba = probs[i] * proba\n",
    "                # If the probability is above a threshold\n",
    "                sucess_valence = self.valence[inter(act, out)] + valence_succes_pred\n",
    "                if tmp_proba > seuil:\n",
    "                    visu_val = expected_valence\n",
    "                    # If the max_depth is not reached \n",
    "                    if max_depth > 0: \n",
    "                        # Recursively look for longer sequences\n",
    "                        new_context = context + self.tokenizer.encode([act, out])\n",
    "                        self.recursif_expective_valance(context=new_context[2:], max_depth=max_depth, seuil=seuil, \n",
    "                            proba=tmp_proba, seq_predi=tmp_new_seq.copy(), valence_pred=expected_valence, valence_succes_pred=sucess_valence)\n",
    "                    else:\n",
    "                        self.prealloc_df.iloc[self.current_index] = [str(tmp_new_seq), visu_val, tmp_new_seq[0], tmp_proba, sucess_valence]\n",
    "                        self.current_index += 1\n",
    "    \n",
    "    def expective_valance(self, verbose:bool=False):\n",
    "        \"\"\"\n",
    "        Permet de calculer l'expective valance d'une séquence d'interaction\n",
    "\n",
    "        Args:\n",
    "            max_depth (int): _description_\n",
    "            seuil (float, optional): _description_. Defaults to 0.2.\n",
    "            verbose (bool, optional): _description_. Defaults to False.\n",
    "        \"\"\"\n",
    "        \n",
    "        x = []\n",
    "        for i in range(-(self.gap_predi - 1) // 2, 0, 1):\n",
    "            x.append(self.history_act[i])\n",
    "            x.append(self.history_fb[i])\n",
    "        seq_to_pred = self.tokenizer.encode(x)\n",
    "        self.prealloc_df[:] = np.empty((len(self.prealloc_df), 5))\n",
    "        self.prealloc_df[\"valence\"] = -np.inf\n",
    "        self.current_index = 0\n",
    "        self.seq_explo = []\n",
    "        self.valence_explo = -np.inf\n",
    "        self.visu_explo[:] = np.empty((len(self.visu_explo), 2))\n",
    "        self.current_index_explo = 0\n",
    "        return self.recursif_expective_valance(context=seq_to_pred,\n",
    "                                            max_depth=self.max_depth,\n",
    "                                            proba=1, seq_predi=[],\n",
    "                                            seuil=self.seuil)\n",
    "    def decide(self):\n",
    "        if self.seq_to_exe and len(self.seq_to_exe) > 1:\n",
    "            out = self.seq_to_exe.pop(0)\n",
    "            if out == self.history_fb[-1]:\n",
    "                self.predictExplo.append(self.predictExplo[-1])\n",
    "                act = self.seq_to_exe.pop(0)\n",
    "                return act\n",
    "            else:\n",
    "                self.force_fit = True\n",
    "        self.seq_to_exe = []        \n",
    "        \n",
    "        time_compute_expective_val = time.time()\n",
    "        self.expective_valance()\n",
    "        print(f\"Time to compute expective valance: {time.time() - time_compute_expective_val}\")\n",
    "        self.time_compute_expected_valence.append(time.time() - time_compute_expective_val)\n",
    "        # Keep row with probability between 0.4 and 0.6\n",
    "        # compute_df = self.prealloc_df[(self.prealloc_df[\"probability\"] > 0.3) & (self.prealloc_df[\"probability\"] < 0.7)]\n",
    "        # if len(compute_df) == 0:\n",
    "        self.seq_to_exe = self.prealloc_df.sort_values(by=\"valence\", ascending=False).iloc[0].proposition\n",
    "        expected_val = self.prealloc_df.sort_values(by=\"valence\", ascending=False).iloc[0].valence\n",
    "        # else:\n",
    "            # print(\"renforce ...\")\n",
    "            # self.seq_to_exe = compute_df.sort_values(by=\"val_sucess\", ascending=False).iloc[0].proposition\n",
    "            # self.force_fit = True\n",
    "        print(f\"expected valence : {expected_val:.2f} valence explo : {self.valence_explo:.2f} model predict : {self.seq_to_exe}, explo want : {self.seq_explo}\")\n",
    "        if self.seq_to_exe is not None and expected_val > self.valence_explo:\n",
    "            self.seq_to_exe = eval(self.seq_to_exe)\n",
    "            print(\"\\033[0;35m after compute ... \\033[0m\", self.seq_to_exe)\n",
    "            self.predictExplo.append(1)\n",
    "        else:\n",
    "            print(\"\\033[0;36m explo ... \\033[0m\", self.seq_explo)\n",
    "            self.seq_to_exe = self.seq_explo\n",
    "            self.force_fit = True\n",
    "            self.predictExplo.append(0)\n",
    "        act = self.seq_to_exe.pop(0)\n",
    "        return act\n",
    "        \n",
    "    def action(self, real_outcome, verbose=False, explore:bool=False):\n",
    "        \"\"\"\n",
    "        La fonction action permet à l'agent de choisir une action en fonction de l'outcome réel.\n",
    "        Cette fonction entraine le modèle a prévoir les outcomes futurs en fonction des actions passées.\n",
    "\n",
    "        Args:\n",
    "            real_outcome : L'outcome réel suite à l'action de l'agent\n",
    "            verbose : Affiche les informations sur l'entrainement ou non\n",
    "        \"\"\"\n",
    "        # La première étape est de sauvegarder l'outcome réel\n",
    "        self.history_fb.append(real_outcome)\n",
    "        self.history_inter.append(self.tokenizer.encode(real_outcome))\n",
    "        good_pred:bool = self.outcome_prediction == real_outcome\n",
    "        if verbose :\n",
    "            print(f\"\\033[0;31m Action: {self.action_choice} \\033[0m, Prediction: {self.outcome_prediction}, Outcome: {real_outcome}, \\033[0;31m Satisfaction: {good_pred} \\033[0m\")\n",
    "        \n",
    "        # Ensuite nous regardons si nous devons entrainer le modèle\n",
    "        # not(explore) and \n",
    "        if (not(good_pred) or self.force_fit)and len(self.history_fb) + len(self.history_fb) > self.gap_train:\n",
    "            self.fit()\n",
    "            self.force_fit = False\n",
    "            \n",
    "        elif len(self.history_fb) + len(self.history_fb) > self.gap_train:\n",
    "            for _ in range(self.nb_epoch):\n",
    "                self.acc_train.append(self.acc_train[-1])\n",
    "                self.acc_val.append(self.acc_val[-1])\n",
    "\n",
    "        # Nous devons maintenant choisir une action\n",
    "        if len(self.history_fb) + len(self.history_fb) > self.gap_predi:\n",
    "            self.action_choice = self.decide()\n",
    "            self.outcome_prediction = self.predict(self.action_choice)\n",
    "        else:\n",
    "            inter_max, value = max(self.valence.items(), key=lambda y: y[1])\n",
    "            self.action_choice = inter_max.getAction()\n",
    "        # self.action_choice = np.random.choice(self.all_act)\n",
    "        self.history_act.append(self.action_choice)\n",
    "        self.history_inter.append(self.tokenizer.encode(self.action_choice))\n",
    "        \n",
    "        return self.action_choice, self.outcome_prediction\n",
    "        \n",
    "        \n",
    "              "
   ]
  },
  {
   "cell_type": "code",
   "execution_count": 4,
   "metadata": {},
   "outputs": [],
   "source": [
    "# environenment = small_loop(x=1, y=1, theta=0, world=np.array([\n",
    "#                 [1, 1, 1, 1, 1],\n",
    "#                 [1, 0, 0, 0, 1],\n",
    "#                 [1, 0, 1, 0, 1],\n",
    "#                 [1, 0, 0, 0, 1],\n",
    "#                 [1, 1, 1, 1, 1],\n",
    "#             ]))\n",
    "\n",
    "environenment = small_loop(x=1, y=1, theta=0, world=np.array([\n",
    "                [1, 1, 1, 1, 1, 1],\n",
    "                [1, 0, 0, 0, 1, 1],\n",
    "                [1, 0, 1, 0, 0, 1],\n",
    "                [1, 0, 1, 1, 0, 1],\n",
    "                [1, 0, 0, 0, 0, 1],\n",
    "                [1, 1, 1, 1, 1, 1],\n",
    "            ]))\n",
    "\n",
    "# environenment = small_loop(x=1, y=1, theta=0, world=np.array([\n",
    "#                 [1, 1, 1, 1, 1, 1],\n",
    "#                 [1, 0, 0, 0, 0, 1],\n",
    "#                 [1, 0, 0, 0, 0, 1],\n",
    "#                 [1, 0, 0, 0, 0, 1],\n",
    "#                 [1, 0, 0, 0, 0, 1],\n",
    "#                 [1, 1, 1, 1, 1, 1],\n",
    "#             ]))\n",
    "\n",
    "\n",
    "valence = {\n",
    "    inter('forward', 'empty') : 10,\n",
    "    inter('forward', 'wall') : -100,\n",
    "    inter('turn_left', 'empty') : -41,\n",
    "    inter('turn_left', 'wall') : -100,\n",
    "    inter('turn_right', 'empty') : -41,\n",
    "    inter('turn_right', 'wall') : -100,\n",
    "    inter('feel_front', 'wall') : -25,\n",
    "    inter('feel_front', 'empty') : -22,\n",
    "}"
   ]
  },
  {
   "cell_type": "code",
   "execution_count": 5,
   "metadata": {},
   "outputs": [],
   "source": [
    "# environenment = gridWord(x=1, y=1, theta=0, world=np.array([\n",
    "#                 [1, 1, 1, 1, 1, 1],\n",
    "#                 [1, 0, 0, 0, 1, 1],\n",
    "#                 [1, 0, 1, 0, 0, 1],\n",
    "#                 [1, 0, 1, 1, 0, 1],\n",
    "#                 [1, 0, 0, 0, 0, 1],\n",
    "#                 [1, 1, 1, 1, 1, 1],\n",
    "#             ]))\n",
    "\n",
    "# valence = {\n",
    "#     inter('forward', 'empty') : 10,\n",
    "#     inter('forward', 'wall') : -100,\n",
    "#     inter('turn_left', 'empty') : -21,\n",
    "#     inter('turn_left', 'wall') : -100,\n",
    "#     inter('turn_right', 'empty') : -21,\n",
    "#     inter('turn_right', 'wall') : -100,\n",
    "#     inter('feel_front', 'wall') : -15,\n",
    "#     inter('feel_front', 'empty') : -12,\n",
    "#     inter('feel_right', 'wall') : -15,\n",
    "#     inter('feel_right', 'empty') : -12,\n",
    "#     inter('feel_left', 'wall') : -15,\n",
    "#     inter('feel_left', 'empty') : -12   \n",
    "# }"
   ]
  },
  {
   "cell_type": "code",
   "execution_count": 6,
   "metadata": {},
   "outputs": [
    {
     "name": "stderr",
     "output_type": "stream",
     "text": [
      "/home/pe/Documents/stage/Dpt_transformers/.venv/lib/python3.11/site-packages/torch/nn/modules/rnn.py:123: UserWarning: dropout option adds dropout after all but last recurrent layer, so non-zero dropout expects num_layers greater than 1, but got dropout=0.5 and num_layers=1\n",
      "  warnings.warn(\n"
     ]
    }
   ],
   "source": [
    "# torch.manual_seed(0)\n",
    "# np.random.seed(0)\n",
    "hidden_size = 16\n",
    "num_layers = 1\n",
    "len_vocab = len(environenment.get_outcomes() + environenment.get_actions())\n",
    "\n",
    "# Create the LSTM classifier model\n",
    "lstm_classifier = LSTM(num_emb=len_vocab, output_size=2, \n",
    "                       num_layers=num_layers, hidden_size=hidden_size, dropout=0.5).to(device)\n",
    "\n",
    "optimizer = torch.optim.Adam(lstm_classifier.parameters(), lr=0.001)\n",
    "loss_func = nn.CrossEntropyLoss()\n",
    "tokenizer = SimpleTokenizerV1(create_dico_numerate_word(environenment.get_outcomes() + environenment.get_actions()))"
   ]
  },
  {
   "cell_type": "code",
   "execution_count": 7,
   "metadata": {},
   "outputs": [
    {
     "data": {
      "application/vnd.jupyter.widget-view+json": {
       "model_id": "edb02ef20858447e8bd893083cbb1fa3",
       "version_major": 2,
       "version_minor": 0
      },
      "text/plain": [
       "  0%|          | 0/1000 [00:00<?, ?it/s]"
      ]
     },
     "metadata": {},
     "output_type": "display_data"
    }
   ],
   "source": [
    "# Pour évaluler la performance du modèle\n",
    "act_val, fb_val = [], []\n",
    "for i in trange(1000):\n",
    "    action = np.random.choice(environenment.get_actions())\n",
    "    outcome = environenment.outcome(action)\n",
    "    act_val.append(action)\n",
    "    fb_val.append(outcome)"
   ]
  },
  {
   "cell_type": "markdown",
   "metadata": {},
   "source": [
    "# Modèl"
   ]
  },
  {
   "cell_type": "code",
   "execution_count": 8,
   "metadata": {},
   "outputs": [],
   "source": [
    "agent = AgentLSTM(valence=valence, model=lstm_classifier, optimizer=optimizer, loss_fn=loss_func,\n",
    "    gap_predi=5, gap_train=5, max_depth=3, seuil=0.3, nb_epoch=20,\n",
    "    data_validate=(act_val, fb_val))"
   ]
  },
  {
   "cell_type": "code",
   "execution_count": 9,
   "metadata": {},
   "outputs": [],
   "source": [
    "history_good = []\n",
    "history_good_inter = []\n",
    "history_bad_inter = []\n",
    "hisrory_val = []\n",
    "pourcent_by_10  = []\n",
    "by_10_good_inter  = []\n",
    "by_10_bad_inter  = []\n",
    "mean_val = []\n"
   ]
  },
  {
   "cell_type": "code",
   "execution_count": 10,
   "metadata": {},
   "outputs": [
    {
     "data": {
      "application/vnd.jupyter.widget-view+json": {
       "model_id": "be75cc59b65b4209a000ce04471d3907",
       "version_major": 2,
       "version_minor": 0
      },
      "text/plain": [
       "  0%|          | 0/100 [00:00<?, ?it/s]"
      ]
     },
     "metadata": {},
     "output_type": "display_data"
    },
    {
     "name": "stdout",
     "output_type": "stream",
     "text": [
      "\u001b[0;31m Action: turn_right \u001b[0m, Prediction: None, Outcome: empty, \u001b[0;31m Satisfaction: False \u001b[0m\n",
      "\u001b[0;31m Action: forward \u001b[0m, Prediction: None, Outcome: empty, \u001b[0;31m Satisfaction: False \u001b[0m\n",
      "\u001b[0;31m Action: forward \u001b[0m, Prediction: None, Outcome: wall, \u001b[0;31m Satisfaction: False \u001b[0m\n"
     ]
    },
    {
     "name": "stderr",
     "output_type": "stream",
     "text": [
      "/tmp/ipykernel_22194/4183166307.py:128: FutureWarning: Setting an item of incompatible dtype is deprecated and will raise an error in a future version of pandas. Value '0' has dtype incompatible with bool, please explicitly cast to a compatible dtype first.\n",
      "  self.visu_val.iloc[steps + i] = [str(self.tokenizer.decode(text[i].cpu().tolist())),\n"
     ]
    },
    {
     "name": "stdout",
     "output_type": "stream",
     "text": [
      "Training time: 5.82394552230835\n",
      "Time to compute expective valance: 0.05161285400390625\n",
      "expected valence : -inf valence explo : 20.00 model predict : 0.0, explo want : ['forward', 'empty', 'forward', 'empty']\n",
      "\u001b[0;36m explo ... \u001b[0m ['forward', 'empty', 'forward', 'empty']\n",
      "\u001b[0;31m Action: forward \u001b[0m, Prediction: empty, Outcome: wall, \u001b[0;31m Satisfaction: False \u001b[0m\n",
      "Training time: 1.0157146453857422\n",
      "Time to compute expective valance: 0.07065606117248535\n",
      "expected valence : -inf valence explo : 20.00 model predict : 0.0, explo want : ['forward', 'empty', 'forward', 'empty']\n",
      "\u001b[0;36m explo ... \u001b[0m ['forward', 'empty', 'forward', 'empty']\n",
      "\u001b[0;31m Action: forward \u001b[0m, Prediction: empty, Outcome: wall, \u001b[0;31m Satisfaction: False \u001b[0m\n",
      "Training time: 0.9215519428253174\n",
      "Time to compute expective valance: 0.06603884696960449\n",
      "expected valence : -inf valence explo : 20.00 model predict : 0.0, explo want : ['forward', 'empty', 'forward', 'empty']\n",
      "\u001b[0;36m explo ... \u001b[0m ['forward', 'empty', 'forward', 'empty']\n",
      "\u001b[0;31m Action: forward \u001b[0m, Prediction: wall, Outcome: wall, \u001b[0;31m Satisfaction: True \u001b[0m\n",
      "Training time: 0.3069727420806885\n",
      "Time to compute expective valance: 0.07603883743286133\n",
      "expected valence : -inf valence explo : 20.00 model predict : 0.0, explo want : ['forward', 'empty', 'forward', 'empty']\n",
      "\u001b[0;36m explo ... \u001b[0m ['forward', 'empty', 'forward', 'empty']\n",
      "\u001b[0;31m Action: forward \u001b[0m, Prediction: wall, Outcome: wall, \u001b[0;31m Satisfaction: True \u001b[0m\n",
      "Training time: 0.3695361614227295\n",
      "Time to compute expective valance: 0.07433843612670898\n",
      "expected valence : -inf valence explo : 20.00 model predict : 0.0, explo want : ['forward', 'empty', 'forward', 'empty']\n",
      "\u001b[0;36m explo ... \u001b[0m ['forward', 'empty', 'forward', 'empty']\n",
      "\u001b[0;31m Action: forward \u001b[0m, Prediction: wall, Outcome: wall, \u001b[0;31m Satisfaction: True \u001b[0m\n",
      "Training time: 0.3380126953125\n",
      "Time to compute expective valance: 0.07106661796569824\n",
      "expected valence : -inf valence explo : 20.00 model predict : 0.0, explo want : ['forward', 'empty', 'forward', 'empty']\n",
      "\u001b[0;36m explo ... \u001b[0m ['forward', 'empty', 'forward', 'empty']\n",
      "\u001b[0;31m Action: forward \u001b[0m, Prediction: wall, Outcome: wall, \u001b[0;31m Satisfaction: True \u001b[0m\n",
      "Training time: 0.31064581871032715\n",
      "Time to compute expective valance: 0.08654141426086426\n",
      "expected valence : -inf valence explo : 20.00 model predict : 0.0, explo want : ['forward', 'empty', 'forward', 'empty']\n",
      "\u001b[0;36m explo ... \u001b[0m ['forward', 'empty', 'forward', 'empty']\n",
      "\u001b[0;31m Action: forward \u001b[0m, Prediction: wall, Outcome: wall, \u001b[0;31m Satisfaction: True \u001b[0m\n",
      "Training time: 0.346574068069458\n",
      "Time to compute expective valance: 0.08496332168579102\n",
      "expected valence : -inf valence explo : 20.00 model predict : 0.0, explo want : ['forward', 'empty', 'forward', 'empty']\n",
      "\u001b[0;36m explo ... \u001b[0m ['forward', 'empty', 'forward', 'empty']\n",
      "\u001b[0;31m Action: forward \u001b[0m, Prediction: wall, Outcome: wall, \u001b[0;31m Satisfaction: True \u001b[0m\n",
      "Training time: 0.32150888442993164\n",
      "Time to compute expective valance: 0.06714200973510742\n",
      "expected valence : -inf valence explo : 20.00 model predict : 0.0, explo want : ['forward', 'empty', 'forward', 'empty']\n",
      "\u001b[0;36m explo ... \u001b[0m ['forward', 'empty', 'forward', 'empty']\n",
      "\u001b[0;31m Action: forward \u001b[0m, Prediction: wall, Outcome: wall, \u001b[0;31m Satisfaction: True \u001b[0m\n",
      "Training time: 0.30844974517822266\n",
      "Time to compute expective valance: 0.07754850387573242\n",
      "expected valence : -inf valence explo : 20.00 model predict : 0.0, explo want : ['forward', 'empty', 'forward', 'empty']\n",
      "\u001b[0;36m explo ... \u001b[0m ['forward', 'empty', 'forward', 'empty']\n",
      "\u001b[0;31m Action: forward \u001b[0m, Prediction: wall, Outcome: wall, \u001b[0;31m Satisfaction: True \u001b[0m\n",
      "Training time: 0.3301661014556885\n",
      "Time to compute expective valance: 0.07681846618652344\n",
      "expected valence : -inf valence explo : 20.00 model predict : 0.0, explo want : ['forward', 'empty', 'forward', 'empty']\n",
      "\u001b[0;36m explo ... \u001b[0m ['forward', 'empty', 'forward', 'empty']\n",
      "\u001b[0;31m Action: forward \u001b[0m, Prediction: wall, Outcome: wall, \u001b[0;31m Satisfaction: True \u001b[0m\n",
      "Training time: 0.30148768424987793\n",
      "Time to compute expective valance: 0.06921935081481934\n",
      "expected valence : -inf valence explo : 20.00 model predict : 0.0, explo want : ['forward', 'empty', 'forward', 'empty']\n",
      "\u001b[0;36m explo ... \u001b[0m ['forward', 'empty', 'forward', 'empty']\n",
      "\u001b[0;31m Action: forward \u001b[0m, Prediction: wall, Outcome: wall, \u001b[0;31m Satisfaction: True \u001b[0m\n",
      "Training time: 0.3265078067779541\n",
      "Time to compute expective valance: 0.08227419853210449\n",
      "expected valence : -inf valence explo : 20.00 model predict : 0.0, explo want : ['forward', 'empty', 'forward', 'empty']\n",
      "\u001b[0;36m explo ... \u001b[0m ['forward', 'empty', 'forward', 'empty']\n",
      "\u001b[0;31m Action: forward \u001b[0m, Prediction: wall, Outcome: wall, \u001b[0;31m Satisfaction: True \u001b[0m\n",
      "Training time: 0.32208681106567383\n",
      "Time to compute expective valance: 0.076812744140625\n",
      "expected valence : -inf valence explo : 20.00 model predict : 0.0, explo want : ['forward', 'empty', 'forward', 'empty']\n",
      "\u001b[0;36m explo ... \u001b[0m ['forward', 'empty', 'forward', 'empty']\n",
      "\u001b[0;31m Action: forward \u001b[0m, Prediction: wall, Outcome: wall, \u001b[0;31m Satisfaction: True \u001b[0m\n",
      "Training time: 0.3543205261230469\n",
      "Time to compute expective valance: 0.08980655670166016\n",
      "expected valence : -inf valence explo : 20.00 model predict : 0.0, explo want : ['forward', 'empty', 'forward', 'empty']\n",
      "\u001b[0;36m explo ... \u001b[0m ['forward', 'empty', 'forward', 'empty']\n",
      "\u001b[0;31m Action: forward \u001b[0m, Prediction: wall, Outcome: wall, \u001b[0;31m Satisfaction: True \u001b[0m\n",
      "Training time: 0.34383463859558105\n",
      "Time to compute expective valance: 0.07788276672363281\n",
      "expected valence : -inf valence explo : 20.00 model predict : 0.0, explo want : ['forward', 'empty', 'forward', 'empty']\n",
      "\u001b[0;36m explo ... \u001b[0m ['forward', 'empty', 'forward', 'empty']\n",
      "\u001b[0;31m Action: forward \u001b[0m, Prediction: wall, Outcome: wall, \u001b[0;31m Satisfaction: True \u001b[0m\n",
      "Training time: 0.33632874488830566\n",
      "Time to compute expective valance: 0.07444930076599121\n",
      "expected valence : -inf valence explo : 20.00 model predict : 0.0, explo want : ['forward', 'empty', 'forward', 'empty']\n",
      "\u001b[0;36m explo ... \u001b[0m ['forward', 'empty', 'forward', 'empty']\n",
      "\u001b[0;31m Action: forward \u001b[0m, Prediction: wall, Outcome: wall, \u001b[0;31m Satisfaction: True \u001b[0m\n",
      "Training time: 0.33545780181884766\n",
      "Time to compute expective valance: 0.06731224060058594\n",
      "expected valence : -inf valence explo : 20.00 model predict : 0.0, explo want : ['forward', 'empty', 'forward', 'empty']\n",
      "\u001b[0;36m explo ... \u001b[0m ['forward', 'empty', 'forward', 'empty']\n",
      "\u001b[0;31m Action: forward \u001b[0m, Prediction: wall, Outcome: wall, \u001b[0;31m Satisfaction: True \u001b[0m\n",
      "Training time: 0.31687235832214355\n",
      "Time to compute expective valance: 0.07725930213928223\n",
      "expected valence : -inf valence explo : 20.00 model predict : 0.0, explo want : ['forward', 'empty', 'forward', 'empty']\n",
      "\u001b[0;36m explo ... \u001b[0m ['forward', 'empty', 'forward', 'empty']\n",
      "\u001b[0;31m Action: forward \u001b[0m, Prediction: wall, Outcome: wall, \u001b[0;31m Satisfaction: True \u001b[0m\n",
      "Training time: 0.3221769332885742\n",
      "Time to compute expective valance: 0.07587480545043945\n",
      "expected valence : -inf valence explo : 20.00 model predict : 0.0, explo want : ['forward', 'empty', 'forward', 'empty']\n",
      "\u001b[0;36m explo ... \u001b[0m ['forward', 'empty', 'forward', 'empty']\n",
      "\u001b[0;31m Action: forward \u001b[0m, Prediction: wall, Outcome: wall, \u001b[0;31m Satisfaction: True \u001b[0m\n",
      "Training time: 0.30864429473876953\n",
      "Time to compute expective valance: 0.07761049270629883\n",
      "expected valence : -inf valence explo : 20.00 model predict : 0.0, explo want : ['forward', 'empty', 'forward', 'empty']\n",
      "\u001b[0;36m explo ... \u001b[0m ['forward', 'empty', 'forward', 'empty']\n",
      "\u001b[0;31m Action: forward \u001b[0m, Prediction: wall, Outcome: wall, \u001b[0;31m Satisfaction: True \u001b[0m\n",
      "Training time: 0.3004915714263916\n",
      "Time to compute expective valance: 0.19351434707641602\n"
     ]
    },
    {
     "name": "stderr",
     "output_type": "stream",
     "text": [
      "/tmp/ipykernel_22194/4183166307.py:274: FutureWarning: Setting an item of incompatible dtype is deprecated and will raise an error in a future version of pandas. Value '['forward', 'wall', 'forward', 'wall', 'forward', 'wall']' has dtype incompatible with float64, please explicitly cast to a compatible dtype first.\n",
      "  self.prealloc_df.iloc[self.current_index] = [str(tmp_new_seq), visu_val, tmp_new_seq[0], tmp_proba, sucess_valence]\n",
      "/tmp/ipykernel_22194/4183166307.py:274: FutureWarning: Setting an item of incompatible dtype is deprecated and will raise an error in a future version of pandas. Value 'forward' has dtype incompatible with float64, please explicitly cast to a compatible dtype first.\n",
      "  self.prealloc_df.iloc[self.current_index] = [str(tmp_new_seq), visu_val, tmp_new_seq[0], tmp_proba, sucess_valence]\n"
     ]
    },
    {
     "name": "stdout",
     "output_type": "stream",
     "text": [
      "expected valence : -135.77 valence explo : 20.00 model predict : ['forward', 'wall', 'forward', 'wall', 'forward', 'wall'], explo want : ['forward', 'empty', 'forward', 'empty']\n",
      "\u001b[0;36m explo ... \u001b[0m ['forward', 'empty', 'forward', 'empty']\n",
      "\u001b[0;31m Action: forward \u001b[0m, Prediction: wall, Outcome: wall, \u001b[0;31m Satisfaction: True \u001b[0m\n",
      "Training time: 0.35340189933776855\n",
      "Time to compute expective valance: 0.1259913444519043\n",
      "expected valence : -139.57 valence explo : 20.00 model predict : ['forward', 'wall', 'forward', 'wall', 'forward', 'wall'], explo want : ['forward', 'empty', 'forward', 'empty']\n",
      "\u001b[0;36m explo ... \u001b[0m ['forward', 'empty', 'forward', 'empty']\n",
      "\u001b[0;31m Action: forward \u001b[0m, Prediction: wall, Outcome: wall, \u001b[0;31m Satisfaction: True \u001b[0m\n",
      "Training time: 0.32975268363952637\n",
      "Time to compute expective valance: 0.11732363700866699\n",
      "expected valence : -143.43 valence explo : 20.00 model predict : ['forward', 'wall', 'forward', 'wall', 'forward', 'wall'], explo want : ['forward', 'empty', 'forward', 'empty']\n",
      "\u001b[0;36m explo ... \u001b[0m ['forward', 'empty', 'forward', 'empty']\n",
      "\u001b[0;31m Action: forward \u001b[0m, Prediction: wall, Outcome: wall, \u001b[0;31m Satisfaction: True \u001b[0m\n",
      "Training time: 0.38988518714904785\n",
      "Time to compute expective valance: 0.13918399810791016\n",
      "expected valence : -147.32 valence explo : 0.00 model predict : ['forward', 'wall', 'forward', 'wall', 'forward', 'wall'], explo want : ['turn_right', 'empty', 'forward', 'empty']\n",
      "\u001b[0;36m explo ... \u001b[0m ['turn_right', 'empty', 'forward', 'empty']\n",
      "\u001b[0;31m Action: turn_right \u001b[0m, Prediction: wall, Outcome: empty, \u001b[0;31m Satisfaction: False \u001b[0m\n",
      "Training time: 6.3511505126953125\n",
      "\u001b[0;31m Action: forward \u001b[0m, Prediction: wall, Outcome: empty, \u001b[0;31m Satisfaction: False \u001b[0m\n",
      "Training time: 6.403304576873779\n",
      "Time to compute expective valance: 0.07688689231872559\n",
      "expected valence : -inf valence explo : 20.00 model predict : 0.0, explo want : ['forward', 'empty', 'forward', 'empty']\n",
      "\u001b[0;36m explo ... \u001b[0m ['forward', 'empty', 'forward', 'empty']\n",
      "\u001b[0;31m Action: forward \u001b[0m, Prediction: wall, Outcome: empty, \u001b[0;31m Satisfaction: False \u001b[0m\n",
      "Training time: 6.405046463012695\n",
      "\u001b[0;31m Action: forward \u001b[0m, Prediction: wall, Outcome: wall, \u001b[0;31m Satisfaction: True \u001b[0m\n",
      "Time to compute expective valance: 0.1441669464111328\n",
      "expected valence : -250.07 valence explo : 0.00 model predict : ['forward', 'wall', 'forward', 'wall', 'turn_right', 'wall'], explo want : ['turn_right', 'empty', 'forward', 'empty']\n",
      "\u001b[0;36m explo ... \u001b[0m ['turn_right', 'empty', 'forward', 'empty']\n",
      "\u001b[0;31m Action: turn_right \u001b[0m, Prediction: wall, Outcome: empty, \u001b[0;31m Satisfaction: False \u001b[0m\n",
      "Training time: 6.688715219497681\n",
      "\u001b[0;31m Action: forward \u001b[0m, Prediction: wall, Outcome: empty, \u001b[0;31m Satisfaction: False \u001b[0m\n",
      "Training time: 6.807648181915283\n",
      "Time to compute expective valance: 0.17306828498840332\n",
      "expected valence : -195.09 valence explo : 0.00 model predict : ['forward', 'wall', 'forward', 'wall', 'turn_right', 'wall'], explo want : ['turn_right', 'empty', 'forward', 'empty']\n",
      "\u001b[0;36m explo ... \u001b[0m ['turn_right', 'empty', 'forward', 'empty']\n",
      "\u001b[0;31m Action: turn_right \u001b[0m, Prediction: wall, Outcome: empty, \u001b[0;31m Satisfaction: False \u001b[0m\n",
      "Training time: 6.815731763839722\n",
      "\u001b[0;31m Action: forward \u001b[0m, Prediction: wall, Outcome: wall, \u001b[0;31m Satisfaction: True \u001b[0m\n",
      "Time to compute expective valance: 0.06988167762756348\n",
      "expected valence : -inf valence explo : 20.00 model predict : 0.0, explo want : ['forward', 'empty', 'forward', 'empty']\n",
      "\u001b[0;36m explo ... \u001b[0m ['forward', 'empty', 'forward', 'empty']\n",
      "\u001b[0;31m Action: forward \u001b[0m, Prediction: wall, Outcome: wall, \u001b[0;31m Satisfaction: True \u001b[0m\n",
      "Training time: 6.745779514312744\n",
      "Time to compute expective valance: 0.2501850128173828\n",
      "expected valence : -183.47 valence explo : 0.00 model predict : ['forward', 'wall', 'turn_right', 'empty', 'forward', 'empty'], explo want : ['feel_front', 'empty', 'forward', 'empty']\n",
      "\u001b[0;36m explo ... \u001b[0m ['feel_front', 'empty', 'forward', 'empty']\n",
      "\u001b[0;31m Action: feel_front \u001b[0m, Prediction: wall, Outcome: wall, \u001b[0;31m Satisfaction: True \u001b[0m\n",
      "Training time: 6.196131467819214\n",
      "Time to compute expective valance: 0.06985116004943848\n",
      "expected valence : -inf valence explo : 20.00 model predict : 0.0, explo want : ['forward', 'empty', 'forward', 'empty']\n",
      "\u001b[0;36m explo ... \u001b[0m ['forward', 'empty', 'forward', 'empty']\n",
      "\u001b[0;31m Action: forward \u001b[0m, Prediction: wall, Outcome: wall, \u001b[0;31m Satisfaction: True \u001b[0m\n",
      "Training time: 6.357468605041504\n",
      "Time to compute expective valance: 0.09078192710876465\n",
      "expected valence : -inf valence explo : 20.00 model predict : 0.0, explo want : ['forward', 'empty', 'forward', 'empty']\n",
      "\u001b[0;36m explo ... \u001b[0m ['forward', 'empty', 'forward', 'empty']\n",
      "\u001b[0;31m Action: forward \u001b[0m, Prediction: wall, Outcome: wall, \u001b[0;31m Satisfaction: True \u001b[0m\n",
      "Training time: 6.365971326828003\n",
      "Time to compute expective valance: 0.37708616256713867\n",
      "expected valence : -100.71 valence explo : -31.00 model predict : ['turn_right', 'empty', 'forward', 'empty', 'forward', 'wall'], explo want : ['turn_left', 'empty', 'forward', 'empty']\n",
      "\u001b[0;36m explo ... \u001b[0m ['turn_left', 'empty', 'forward', 'empty']\n",
      "\u001b[0;31m Action: turn_left \u001b[0m, Prediction: wall, Outcome: empty, \u001b[0;31m Satisfaction: False \u001b[0m\n",
      "Training time: 6.239660739898682\n",
      "\u001b[0;31m Action: forward \u001b[0m, Prediction: empty, Outcome: empty, \u001b[0;31m Satisfaction: True \u001b[0m\n",
      "Time to compute expective valance: 0.08000802993774414\n",
      "expected valence : -inf valence explo : 20.00 model predict : 0.0, explo want : ['forward', 'empty', 'forward', 'empty']\n",
      "\u001b[0;36m explo ... \u001b[0m ['forward', 'empty', 'forward', 'empty']\n",
      "\u001b[0;31m Action: forward \u001b[0m, Prediction: wall, Outcome: empty, \u001b[0;31m Satisfaction: False \u001b[0m\n",
      "Training time: 6.3075854778289795\n",
      "\u001b[0;31m Action: forward \u001b[0m, Prediction: wall, Outcome: wall, \u001b[0;31m Satisfaction: True \u001b[0m\n",
      "Time to compute expective valance: 0.4402282238006592\n",
      "expected valence : -78.75 valence explo : 0.00 model predict : ['turn_right', 'empty', 'forward', 'empty', 'forward', 'wall'], explo want : ['feel_front', 'empty', 'forward', 'empty']\n",
      "\u001b[0;36m explo ... \u001b[0m ['feel_front', 'empty', 'forward', 'empty']\n",
      "\u001b[0;31m Action: feel_front \u001b[0m, Prediction: wall, Outcome: wall, \u001b[0;31m Satisfaction: True \u001b[0m\n",
      "Training time: 6.649958372116089\n",
      "Time to compute expective valance: 0.24068212509155273\n",
      "expected valence : -223.33 valence explo : 0.00 model predict : ['forward', 'wall', 'forward', 'wall', 'feel_front', 'wall'], explo want : ['turn_right', 'empty', 'forward', 'empty']\n",
      "\u001b[0;36m explo ... \u001b[0m ['turn_right', 'empty', 'forward', 'empty']\n",
      "\u001b[0;31m Action: turn_right \u001b[0m, Prediction: empty, Outcome: empty, \u001b[0;31m Satisfaction: True \u001b[0m\n",
      "Training time: 6.786510467529297\n",
      "\u001b[0;31m Action: forward \u001b[0m, Prediction: empty, Outcome: empty, \u001b[0;31m Satisfaction: True \u001b[0m\n",
      "Time to compute expective valance: 0.5197436809539795\n",
      "expected valence : -76.00 valence explo : 0.00 model predict : ['forward', 'wall', 'turn_right', 'empty', 'forward', 'empty'], explo want : ['feel_front', 'empty', 'forward', 'empty']\n",
      "\u001b[0;36m explo ... \u001b[0m ['feel_front', 'empty', 'forward', 'empty']\n",
      "\u001b[0;31m Action: feel_front \u001b[0m, Prediction: empty, Outcome: empty, \u001b[0;31m Satisfaction: True \u001b[0m\n",
      "Training time: 6.372759819030762\n",
      "\u001b[0;31m Action: forward \u001b[0m, Prediction: wall, Outcome: empty, \u001b[0;31m Satisfaction: False \u001b[0m\n",
      "Training time: 6.393346309661865\n",
      "Time to compute expective valance: 0.08728408813476562\n",
      "expected valence : -inf valence explo : 20.00 model predict : 0.0, explo want : ['forward', 'empty', 'forward', 'empty']\n",
      "\u001b[0;36m explo ... \u001b[0m ['forward', 'empty', 'forward', 'empty']\n",
      "\u001b[0;31m Action: forward \u001b[0m, Prediction: wall, Outcome: empty, \u001b[0;31m Satisfaction: False \u001b[0m\n",
      "Training time: 6.373483896255493\n",
      "\u001b[0;31m Action: forward \u001b[0m, Prediction: wall, Outcome: wall, \u001b[0;31m Satisfaction: True \u001b[0m\n",
      "Time to compute expective valance: 0.6359641551971436\n",
      "expected valence : -59.24 valence explo : -31.00 model predict : ['turn_right', 'empty', 'forward', 'empty', 'feel_front', 'empty'], explo want : ['turn_left', 'empty', 'forward', 'empty']\n",
      "\u001b[0;36m explo ... \u001b[0m ['turn_left', 'empty', 'forward', 'empty']\n",
      "\u001b[0;31m Action: turn_left \u001b[0m, Prediction: empty, Outcome: empty, \u001b[0;31m Satisfaction: True \u001b[0m\n",
      "Training time: 6.587684392929077\n",
      "\u001b[0;31m Action: forward \u001b[0m, Prediction: empty, Outcome: wall, \u001b[0;31m Satisfaction: False \u001b[0m\n",
      "Training time: 6.688945055007935\n",
      "Time to compute expective valance: 0.0763084888458252\n",
      "expected valence : -inf valence explo : 20.00 model predict : 0.0, explo want : ['forward', 'empty', 'forward', 'empty']\n",
      "\u001b[0;36m explo ... \u001b[0m ['forward', 'empty', 'forward', 'empty']\n",
      "\u001b[0;31m Action: forward \u001b[0m, Prediction: wall, Outcome: wall, \u001b[0;31m Satisfaction: True \u001b[0m\n",
      "Training time: 6.447350025177002\n",
      "Time to compute expective valance: 0.8113477230072021\n",
      "expected valence : -59.55 valence explo : -41.00 model predict : ['turn_right', 'empty', 'forward', 'empty', 'feel_front', 'empty'], explo want : ['turn_right', 'empty', 'turn_right', 'empty']\n",
      "\u001b[0;36m explo ... \u001b[0m ['turn_right', 'empty', 'turn_right', 'empty']\n",
      "\u001b[0;31m Action: turn_right \u001b[0m, Prediction: empty, Outcome: empty, \u001b[0;31m Satisfaction: True \u001b[0m\n",
      "Training time: 6.556121349334717\n",
      "\u001b[0;31m Action: turn_right \u001b[0m, Prediction: empty, Outcome: empty, \u001b[0;31m Satisfaction: True \u001b[0m\n",
      "Time to compute expective valance: 0.1172785758972168\n",
      "expected valence : -inf valence explo : 20.00 model predict : 0.0, explo want : ['forward', 'empty', 'forward', 'empty']\n",
      "\u001b[0;36m explo ... \u001b[0m ['forward', 'empty', 'forward', 'empty']\n",
      "\u001b[0;31m Action: forward \u001b[0m, Prediction: empty, Outcome: empty, \u001b[0;31m Satisfaction: True \u001b[0m\n",
      "Training time: 6.7010276317596436\n",
      "\u001b[0;31m Action: forward \u001b[0m, Prediction: empty, Outcome: empty, \u001b[0;31m Satisfaction: True \u001b[0m\n",
      "Time to compute expective valance: 0.48218297958374023\n",
      "expected valence : -134.39 valence explo : 0.00 model predict : ['forward', 'wall', 'turn_right', 'empty', 'forward', 'empty'], explo want : ['turn_right', 'empty', 'forward', 'empty']\n",
      "\u001b[0;36m explo ... \u001b[0m ['turn_right', 'empty', 'forward', 'empty']\n",
      "\u001b[0;31m Action: turn_right \u001b[0m, Prediction: empty, Outcome: empty, \u001b[0;31m Satisfaction: True \u001b[0m\n",
      "Training time: 6.753326177597046\n",
      "\u001b[0;31m Action: forward \u001b[0m, Prediction: wall, Outcome: empty, \u001b[0;31m Satisfaction: False \u001b[0m\n",
      "Training time: 6.621705055236816\n",
      "Time to compute expective valance: 0.5339100360870361\n",
      "expected valence : -8.41 valence explo : 10.00 model predict : ['feel_front', 'empty', 'forward', 'empty', 'forward', 'empty'], explo want : ['forward', 'empty', 'feel_front', 'empty']\n",
      "\u001b[0;36m explo ... \u001b[0m ['forward', 'empty', 'feel_front', 'empty']\n",
      "\u001b[0;31m Action: forward \u001b[0m, Prediction: empty, Outcome: wall, \u001b[0;31m Satisfaction: False \u001b[0m\n",
      "Training time: 6.538692951202393\n",
      "Time to compute expective valance: 0.8981528282165527\n",
      "expected valence : -54.86 valence explo : -41.00 model predict : ['turn_right', 'empty', 'forward', 'empty', 'feel_front', 'empty'], explo want : ['turn_right', 'empty', 'feel_front', 'empty']\n",
      "\u001b[0;36m explo ... \u001b[0m ['turn_right', 'empty', 'feel_front', 'empty']\n",
      "\u001b[0;31m Action: turn_right \u001b[0m, Prediction: empty, Outcome: empty, \u001b[0;31m Satisfaction: True \u001b[0m\n",
      "Training time: 6.621042490005493\n",
      "\u001b[0;31m Action: feel_front \u001b[0m, Prediction: empty, Outcome: wall, \u001b[0;31m Satisfaction: False \u001b[0m\n",
      "Training time: 6.690019369125366\n",
      "Time to compute expective valance: 0.07790517807006836\n",
      "expected valence : -inf valence explo : 20.00 model predict : 0.0, explo want : ['forward', 'empty', 'forward', 'empty']\n",
      "\u001b[0;36m explo ... \u001b[0m ['forward', 'empty', 'forward', 'empty']\n",
      "\u001b[0;31m Action: forward \u001b[0m, Prediction: wall, Outcome: wall, \u001b[0;31m Satisfaction: True \u001b[0m\n",
      "Training time: 6.142380475997925\n",
      "Time to compute expective valance: 0.5004918575286865\n",
      "expected valence : -133.72 valence explo : 0.00 model predict : ['forward', 'wall', 'turn_right', 'empty', 'forward', 'empty'], explo want : ['turn_right', 'empty', 'forward', 'empty']\n",
      "\u001b[0;36m explo ... \u001b[0m ['turn_right', 'empty', 'forward', 'empty']\n",
      "\u001b[0;31m Action: turn_right \u001b[0m, Prediction: empty, Outcome: empty, \u001b[0;31m Satisfaction: True \u001b[0m\n",
      "Training time: 6.097477912902832\n",
      "\u001b[0;31m Action: forward \u001b[0m, Prediction: empty, Outcome: empty, \u001b[0;31m Satisfaction: True \u001b[0m\n",
      "Time to compute expective valance: 0.6983771324157715\n",
      "expected valence : -12.46 valence explo : 10.00 model predict : ['feel_front', 'empty', 'forward', 'empty', 'forward', 'empty'], explo want : ['forward', 'empty', 'feel_front', 'empty']\n",
      "\u001b[0;36m explo ... \u001b[0m ['forward', 'empty', 'feel_front', 'empty']\n",
      "\u001b[0;31m Action: forward \u001b[0m, Prediction: empty, Outcome: wall, \u001b[0;31m Satisfaction: False \u001b[0m\n",
      "Training time: 6.526579856872559\n",
      "Time to compute expective valance: 0.9752838611602783\n",
      "expected valence : -55.94 valence explo : -25.00 model predict : ['turn_right', 'empty', 'forward', 'empty', 'feel_front', 'empty'], explo want : ['feel_front', 'wall', 'feel_front', 'empty']\n",
      "\u001b[0;36m explo ... \u001b[0m ['feel_front', 'wall', 'feel_front', 'empty']\n",
      "\u001b[0;31m Action: feel_front \u001b[0m, Prediction: wall, Outcome: wall, \u001b[0;31m Satisfaction: True \u001b[0m\n",
      "Training time: 6.666023015975952\n",
      "\u001b[0;31m Action: feel_front \u001b[0m, Prediction: wall, Outcome: wall, \u001b[0;31m Satisfaction: True \u001b[0m\n",
      "Time to compute expective valance: 0.0878756046295166\n",
      "expected valence : -inf valence explo : 20.00 model predict : 0.0, explo want : ['forward', 'empty', 'forward', 'empty']\n",
      "\u001b[0;36m explo ... \u001b[0m ['forward', 'empty', 'forward', 'empty']\n",
      "\u001b[0;31m Action: forward \u001b[0m, Prediction: wall, Outcome: wall, \u001b[0;31m Satisfaction: True \u001b[0m\n",
      "Training time: 6.712359428405762\n",
      "Time to compute expective valance: 0.7874572277069092\n",
      "expected valence : -57.32 valence explo : 0.00 model predict : ['turn_right', 'empty', 'forward', 'empty', 'feel_front', 'empty'], explo want : ['turn_left', 'empty', 'forward', 'empty']\n",
      "\u001b[0;36m explo ... \u001b[0m ['turn_left', 'empty', 'forward', 'empty']\n",
      "\u001b[0;31m Action: turn_left \u001b[0m, Prediction: empty, Outcome: empty, \u001b[0;31m Satisfaction: True \u001b[0m\n",
      "Training time: 6.262802600860596\n",
      "\u001b[0;31m Action: forward \u001b[0m, Prediction: wall, Outcome: empty, \u001b[0;31m Satisfaction: False \u001b[0m\n",
      "Training time: 6.844187021255493\n",
      "Time to compute expective valance: 0.31909823417663574\n",
      "expected valence : -74.91 valence explo : 0.00 model predict : ['forward', 'empty', 'turn_right', 'empty', 'forward', 'wall'], explo want : ['turn_right', 'empty', 'forward', 'empty']\n",
      "\u001b[0;36m explo ... \u001b[0m ['turn_right', 'empty', 'forward', 'empty']\n",
      "\u001b[0;31m Action: turn_right \u001b[0m, Prediction: empty, Outcome: empty, \u001b[0;31m Satisfaction: True \u001b[0m\n",
      "Training time: 6.698063850402832\n",
      "\u001b[0;31m Action: forward \u001b[0m, Prediction: empty, Outcome: wall, \u001b[0;31m Satisfaction: False \u001b[0m\n",
      "Training time: 6.421067953109741\n",
      "Time to compute expective valance: 0.5516905784606934\n",
      "expected valence : -133.16 valence explo : 0.00 model predict : ['forward', 'wall', 'turn_right', 'empty', 'forward', 'empty'], explo want : ['turn_right', 'empty', 'forward', 'empty']\n",
      "\u001b[0;36m explo ... \u001b[0m ['turn_right', 'empty', 'forward', 'empty']\n",
      "\u001b[0;31m Action: turn_right \u001b[0m, Prediction: empty, Outcome: empty, \u001b[0;31m Satisfaction: True \u001b[0m\n",
      "Training time: 6.832759857177734\n",
      "\u001b[0;31m Action: forward \u001b[0m, Prediction: empty, Outcome: empty, \u001b[0;31m Satisfaction: True \u001b[0m\n",
      "Time to compute expective valance: 0.8571450710296631\n",
      "expected valence : -8.61 valence explo : 10.00 model predict : ['feel_front', 'empty', 'forward', 'empty', 'forward', 'empty'], explo want : ['forward', 'empty', 'feel_front', 'empty']\n",
      "\u001b[0;36m explo ... \u001b[0m ['forward', 'empty', 'feel_front', 'empty']\n",
      "\u001b[0;31m Action: forward \u001b[0m, Prediction: wall, Outcome: wall, \u001b[0;31m Satisfaction: True \u001b[0m\n",
      "Training time: 6.225916624069214\n",
      "Time to compute expective valance: 1.021648645401001\n",
      "expected valence : -54.83 valence explo : -31.00 model predict : ['turn_right', 'empty', 'forward', 'empty', 'feel_front', 'empty'], explo want : ['turn_right', 'empty', 'forward', 'empty', 'turn_left', 'empty']\n",
      "\u001b[0;36m explo ... \u001b[0m ['turn_right', 'empty', 'forward', 'empty', 'turn_left', 'empty']\n",
      "\u001b[0;31m Action: turn_right \u001b[0m, Prediction: empty, Outcome: empty, \u001b[0;31m Satisfaction: True \u001b[0m\n",
      "Training time: 6.657289028167725\n",
      "\u001b[0;31m Action: forward \u001b[0m, Prediction: empty, Outcome: empty, \u001b[0;31m Satisfaction: True \u001b[0m\n",
      "\u001b[0;31m Action: turn_left \u001b[0m, Prediction: empty, Outcome: empty, \u001b[0;31m Satisfaction: True \u001b[0m\n",
      "Time to compute expective valance: 0.07491564750671387\n",
      "expected valence : -inf valence explo : 20.00 model predict : 0.0, explo want : ['forward', 'empty', 'forward', 'empty']\n",
      "\u001b[0;36m explo ... \u001b[0m ['forward', 'empty', 'forward', 'empty']\n",
      "\u001b[0;31m Action: forward \u001b[0m, Prediction: empty, Outcome: empty, \u001b[0;31m Satisfaction: True \u001b[0m\n",
      "Training time: 6.250688791275024\n",
      "\u001b[0;31m Action: forward \u001b[0m, Prediction: empty, Outcome: wall, \u001b[0;31m Satisfaction: False \u001b[0m\n",
      "Training time: 6.287316083908081\n",
      "Time to compute expective valance: 1.1286370754241943\n",
      "expected valence : -55.41 valence explo : -41.00 model predict : ['turn_right', 'empty', 'forward', 'empty', 'feel_front', 'empty'], explo want : ['turn_left', 'empty', 'feel_front', 'empty']\n",
      "\u001b[0;36m explo ... \u001b[0m ['turn_left', 'empty', 'feel_front', 'empty']\n",
      "\u001b[0;31m Action: turn_left \u001b[0m, Prediction: empty, Outcome: empty, \u001b[0;31m Satisfaction: True \u001b[0m\n",
      "Training time: 6.114080429077148\n",
      "\u001b[0;31m Action: feel_front \u001b[0m, Prediction: empty, Outcome: wall, \u001b[0;31m Satisfaction: False \u001b[0m\n",
      "Training time: 6.5169477462768555\n",
      "Time to compute expective valance: 0.0751497745513916\n",
      "expected valence : -inf valence explo : 20.00 model predict : 0.0, explo want : ['forward', 'empty', 'forward', 'empty']\n",
      "\u001b[0;36m explo ... \u001b[0m ['forward', 'empty', 'forward', 'empty']\n",
      "\u001b[0;31m Action: forward \u001b[0m, Prediction: wall, Outcome: wall, \u001b[0;31m Satisfaction: True \u001b[0m\n",
      "Training time: 6.631049633026123\n",
      "Time to compute expective valance: 0.9796223640441895\n",
      "expected valence : -54.84 valence explo : 0.00 model predict : ['turn_right', 'empty', 'forward', 'empty', 'feel_front', 'empty'], explo want : ['feel_front', 'empty', 'forward', 'empty']\n",
      "\u001b[0;36m explo ... \u001b[0m ['feel_front', 'empty', 'forward', 'empty']\n",
      "\u001b[0;31m Action: feel_front \u001b[0m, Prediction: wall, Outcome: wall, \u001b[0;31m Satisfaction: True \u001b[0m\n",
      "Training time: 6.5614542961120605\n",
      "Time to compute expective valance: 0.8748323917388916\n",
      "expected valence : -54.20 valence explo : -31.00 model predict : ['turn_right', 'empty', 'forward', 'empty', 'feel_front', 'empty'], explo want : ['turn_left', 'empty', 'forward', 'empty']\n",
      "\u001b[0;36m explo ... \u001b[0m ['turn_left', 'empty', 'forward', 'empty']\n",
      "\u001b[0;31m Action: turn_left \u001b[0m, Prediction: empty, Outcome: empty, \u001b[0;31m Satisfaction: True \u001b[0m\n",
      "Training time: 6.1007678508758545\n",
      "\u001b[0;31m Action: forward \u001b[0m, Prediction: empty, Outcome: empty, \u001b[0;31m Satisfaction: True \u001b[0m\n",
      "Time to compute expective valance: 0.8887107372283936\n",
      "expected valence : -68.77 valence explo : 0.00 model predict : ['forward', 'wall', 'turn_right', 'empty', 'forward', 'empty'], explo want : ['feel_front', 'empty', 'forward', 'empty']\n",
      "\u001b[0;36m explo ... \u001b[0m ['feel_front', 'empty', 'forward', 'empty']\n",
      "\u001b[0;31m Action: feel_front \u001b[0m, Prediction: empty, Outcome: wall, \u001b[0;31m Satisfaction: False \u001b[0m\n",
      "Training time: 6.28852915763855\n",
      "Time to compute expective valance: 0.0760335922241211\n",
      "expected valence : -inf valence explo : 20.00 model predict : 0.0, explo want : ['forward', 'empty', 'forward', 'empty']\n",
      "\u001b[0;36m explo ... \u001b[0m ['forward', 'empty', 'forward', 'empty']\n",
      "\u001b[0;31m Action: forward \u001b[0m, Prediction: wall, Outcome: wall, \u001b[0;31m Satisfaction: True \u001b[0m\n",
      "Training time: 6.418958425521851\n",
      "Time to compute expective valance: 1.4243228435516357\n",
      "expected valence : -54.48 valence explo : -31.00 model predict : ['turn_right', 'empty', 'forward', 'empty', 'feel_front', 'empty'], explo want : ['turn_left', 'empty', 'forward', 'empty', 'turn_left', 'empty']\n",
      "\u001b[0;36m explo ... \u001b[0m ['turn_left', 'empty', 'forward', 'empty', 'turn_left', 'empty']\n",
      "\u001b[0;31m Action: turn_left \u001b[0m, Prediction: empty, Outcome: empty, \u001b[0;31m Satisfaction: True \u001b[0m\n",
      "Training time: 6.035900592803955\n",
      "\u001b[0;31m Action: forward \u001b[0m, Prediction: empty, Outcome: wall, \u001b[0;31m Satisfaction: False \u001b[0m\n",
      "Training time: 6.708158493041992\n",
      "Time to compute expective valance: 0.6308248043060303\n",
      "expected valence : -132.14 valence explo : 0.00 model predict : ['forward', 'wall', 'turn_right', 'empty', 'forward', 'empty'], explo want : ['turn_right', 'empty', 'forward', 'empty']\n",
      "\u001b[0;36m explo ... \u001b[0m ['turn_right', 'empty', 'forward', 'empty']\n",
      "\u001b[0;31m Action: turn_right \u001b[0m, Prediction: empty, Outcome: empty, \u001b[0;31m Satisfaction: True \u001b[0m\n",
      "Training time: 6.210793972015381\n",
      "\u001b[0;31m Action: forward \u001b[0m, Prediction: empty, Outcome: wall, \u001b[0;31m Satisfaction: False \u001b[0m\n",
      "Training time: 6.162689924240112\n",
      "Time to compute expective valance: 0.8985064029693604\n",
      "expected valence : -59.57 valence explo : 0.00 model predict : ['turn_right', 'empty', 'forward', 'empty', 'feel_front', 'empty'], explo want : ['turn_left', 'empty', 'forward', 'empty']\n",
      "\u001b[0;36m explo ... \u001b[0m ['turn_left', 'empty', 'forward', 'empty']\n",
      "\u001b[0;31m Action: turn_left \u001b[0m, Prediction: empty, Outcome: empty, \u001b[0;31m Satisfaction: True \u001b[0m\n",
      "Training time: 6.631876468658447\n",
      "\u001b[0;31m Action: forward \u001b[0m, Prediction: wall, Outcome: wall, \u001b[0;31m Satisfaction: True \u001b[0m\n",
      "Time to compute expective valance: 0.8634121417999268\n",
      "expected valence : -67.22 valence explo : 0.00 model predict : ['turn_right', 'empty', 'forward', 'empty', 'feel_front', 'empty'], explo want : ['turn_left', 'empty', 'forward', 'empty']\n",
      "\u001b[0;36m explo ... \u001b[0m ['turn_left', 'empty', 'forward', 'empty']\n",
      "\u001b[0;31m Action: turn_left \u001b[0m, Prediction: empty, Outcome: empty, \u001b[0;31m Satisfaction: True \u001b[0m\n",
      "Training time: 6.4542131423950195\n",
      "\u001b[0;31m Action: forward \u001b[0m, Prediction: wall, Outcome: empty, \u001b[0;31m Satisfaction: False \u001b[0m\n",
      "Training time: 6.846894025802612\n",
      "Time to compute expective valance: 1.1534152030944824\n",
      "expected valence : -72.33 valence explo : 10.00 model predict : ['forward', 'wall', 'turn_right', 'empty', 'forward', 'empty'], explo want : ['forward', 'empty', 'feel_front', 'empty']\n",
      "\u001b[0;36m explo ... \u001b[0m ['forward', 'empty', 'feel_front', 'empty']\n",
      "\u001b[0;31m Action: forward \u001b[0m, Prediction: wall, Outcome: wall, \u001b[0;31m Satisfaction: True \u001b[0m\n",
      "Training time: 6.1179821491241455\n",
      "Time to compute expective valance: 1.5287699699401855\n",
      "expected valence : -58.56 valence explo : -31.00 model predict : ['feel_front', 'wall', 'turn_right', 'empty', 'forward', 'empty'], explo want : ['turn_left', 'empty', 'forward', 'empty', 'turn_left', 'empty']\n",
      "\u001b[0;36m explo ... \u001b[0m ['turn_left', 'empty', 'forward', 'empty', 'turn_left', 'empty']\n",
      "\u001b[0;31m Action: turn_left \u001b[0m, Prediction: empty, Outcome: empty, \u001b[0;31m Satisfaction: True \u001b[0m\n",
      "Training time: 6.55756950378418\n",
      "\u001b[0;31m Action: forward \u001b[0m, Prediction: empty, Outcome: wall, \u001b[0;31m Satisfaction: False \u001b[0m\n",
      "Training time: 6.267632722854614\n",
      "Time to compute expective valance: 1.2296209335327148\n",
      "expected valence : -61.75 valence explo : 0.00 model predict : ['turn_right', 'empty', 'forward', 'empty', 'feel_front', 'empty'], explo want : ['feel_front', 'empty', 'forward', 'empty']\n",
      "\u001b[0;36m explo ... \u001b[0m ['feel_front', 'empty', 'forward', 'empty']\n"
     ]
    }
   ],
   "source": [
    "# torch.manual_seed(0)\n",
    "# np.random.seed(0)\n",
    "\n",
    "outcome = environenment.outcome(agent.action_choice)\n",
    "\n",
    "for i in tqdm(range(100)):\n",
    "    action, predi = agent.action(outcome, verbose=True)\n",
    "    \n",
    "    outcome = environenment.outcome(action)\n",
    "    history_good.append(outcome == predi)\n",
    "    history_good_inter.append((action == 'forward' and outcome == 'empty'))\n",
    "    history_bad_inter.append((action == 'forward' and outcome == 'wall'))\n",
    "    hisrory_val.append(valence[inter(action, outcome)])\n",
    "    pourcent_by_10.append(sum(history_good[-10:]) if len(history_good) >= 10 else 0)\n",
    "    by_10_good_inter.append(sum(history_good_inter[-10:]) if len(history_good_inter) >= 10 else 0)\n",
    "    by_10_bad_inter.append(sum(history_bad_inter[-10:]) if len(history_bad_inter) >= 10 else 0)\n",
    "    mean_val.append(np.mean(hisrory_val[-10:]) / 10 if len(hisrory_val) >= 10 else 0)\n",
    "    environenment.save_world(path=\"imgToGif2\")\n",
    "    \n",
    "\n",
    "agent.prealloc_df.to_csv(\"prealloc_df.csv\")\n",
    "agent.visu_val.to_csv(\"df_val.csv\")\n",
    "agent.visu_explo.to_csv(\"df_explo.csv\")\n",
    "\n",
    "pourcent_by_10 = pourcent_by_10[10:]\n",
    "by_10_good_inter = by_10_good_inter[10:]\n",
    "by_10_bad_inter = by_10_bad_inter[10:]\n",
    "mean_val = mean_val[10:]"
   ]
  },
  {
   "cell_type": "code",
   "execution_count": 11,
   "metadata": {},
   "outputs": [
    {
     "data": {
      "application/vnd.jupyter.widget-view+json": {
       "model_id": "3dfde8c7b9424ae0bc811158d57c7517",
       "version_major": 2,
       "version_minor": 0
      },
      "text/plain": [
       "  0%|          | 0/200 [00:00<?, ?it/s]"
      ]
     },
     "metadata": {},
     "output_type": "display_data"
    },
    {
     "name": "stdout",
     "output_type": "stream",
     "text": [
      "\u001b[0;31m Action: feel_front \u001b[0m, Prediction: wall, Outcome: wall, \u001b[0;31m Satisfaction: True \u001b[0m\n",
      "Training time: 6.730007886886597\n",
      "Time to compute expective valance: 1.0494866371154785\n",
      "expected valence : -55.63 valence explo : -41.00 model predict : ['turn_right', 'empty', 'forward', 'empty', 'feel_front', 'empty'], explo want : ['turn_right', 'empty', 'turn_right', 'empty']\n",
      "\u001b[0;36m explo ... \u001b[0m ['turn_right', 'empty', 'turn_right', 'empty']\n",
      "\u001b[0;31m Action: turn_right \u001b[0m, Prediction: empty, Outcome: empty, \u001b[0;31m Satisfaction: True \u001b[0m\n",
      "Training time: 6.562581777572632\n",
      "\u001b[0;31m Action: turn_right \u001b[0m, Prediction: empty, Outcome: empty, \u001b[0;31m Satisfaction: True \u001b[0m\n",
      "Time to compute expective valance: 0.43108582496643066\n",
      "expected valence : -6.87 valence explo : 0.00 model predict : ['forward', 'empty', 'feel_front', 'empty', 'forward', 'empty'], explo want : ['turn_right', 'empty', 'forward', 'empty']\n",
      "\u001b[0;36m explo ... \u001b[0m ['turn_right', 'empty', 'forward', 'empty']\n",
      "\u001b[0;31m Action: turn_right \u001b[0m, Prediction: empty, Outcome: empty, \u001b[0;31m Satisfaction: True \u001b[0m\n",
      "Training time: 6.881483793258667\n",
      "\u001b[0;31m Action: forward \u001b[0m, Prediction: empty, Outcome: empty, \u001b[0;31m Satisfaction: True \u001b[0m\n",
      "Time to compute expective valance: 1.0585947036743164\n",
      "expected valence : -5.36 valence explo : -12.00 model predict : ['feel_front', 'empty', 'forward', 'empty', 'forward', 'empty'], explo want : ['feel_front', 'empty', 'forward', 'empty', 'feel_front', 'empty']\n",
      "\u001b[0;35m after compute ... \u001b[0m ['feel_front', 'empty', 'forward', 'empty', 'forward', 'empty']\n",
      "\u001b[0;31m Action: feel_front \u001b[0m, Prediction: empty, Outcome: wall, \u001b[0;31m Satisfaction: False \u001b[0m\n",
      "Training time: 6.471482276916504\n",
      "Time to compute expective valance: 0.6215798854827881\n",
      "expected valence : -149.06 valence explo : 0.00 model predict : ['forward', 'wall', 'turn_right', 'empty', 'forward', 'empty'], explo want : ['turn_right', 'empty', 'forward', 'empty']\n",
      "\u001b[0;36m explo ... \u001b[0m ['turn_right', 'empty', 'forward', 'empty']\n",
      "\u001b[0;31m Action: turn_right \u001b[0m, Prediction: empty, Outcome: empty, \u001b[0;31m Satisfaction: True \u001b[0m\n",
      "Training time: 6.382923603057861\n",
      "\u001b[0;31m Action: forward \u001b[0m, Prediction: empty, Outcome: empty, \u001b[0;31m Satisfaction: True \u001b[0m\n",
      "Time to compute expective valance: 1.420382022857666\n",
      "expected valence : -16.16 valence explo : -12.00 model predict : ['feel_front', 'empty', 'forward', 'empty', 'forward', 'empty'], explo want : ['feel_front', 'empty', 'forward', 'empty', 'feel_front', 'empty']\n",
      "\u001b[0;36m explo ... \u001b[0m ['feel_front', 'empty', 'forward', 'empty', 'feel_front', 'empty']\n",
      "\u001b[0;31m Action: feel_front \u001b[0m, Prediction: wall, Outcome: wall, \u001b[0;31m Satisfaction: True \u001b[0m\n",
      "Training time: 6.6938252449035645\n",
      "Time to compute expective valance: 0.9193758964538574\n",
      "expected valence : -56.37 valence explo : 0.00 model predict : ['turn_right', 'empty', 'forward', 'empty', 'feel_front', 'empty'], explo want : ['feel_front', 'empty', 'forward', 'empty']\n",
      "\u001b[0;36m explo ... \u001b[0m ['feel_front', 'empty', 'forward', 'empty']\n",
      "\u001b[0;31m Action: feel_front \u001b[0m, Prediction: wall, Outcome: wall, \u001b[0;31m Satisfaction: True \u001b[0m\n",
      "Training time: 6.697985410690308\n",
      "Time to compute expective valance: 0.7005927562713623\n",
      "expected valence : -148.26 valence explo : 0.00 model predict : ['forward', 'wall', 'turn_right', 'empty', 'forward', 'empty'], explo want : ['turn_right', 'empty', 'forward', 'empty']\n",
      "\u001b[0;36m explo ... \u001b[0m ['turn_right', 'empty', 'forward', 'empty']\n",
      "\u001b[0;31m Action: turn_right \u001b[0m, Prediction: empty, Outcome: empty, \u001b[0;31m Satisfaction: True \u001b[0m\n",
      "Training time: 6.188148736953735\n",
      "\u001b[0;31m Action: forward \u001b[0m, Prediction: empty, Outcome: wall, \u001b[0;31m Satisfaction: False \u001b[0m\n",
      "Training time: 6.413886547088623\n",
      "Time to compute expective valance: 1.197392225265503\n",
      "expected valence : -74.76 valence explo : 0.00 model predict : ['turn_right', 'empty', 'turn_right', 'empty', 'forward', 'empty'], explo want : ['feel_front', 'empty', 'forward', 'empty']\n",
      "\u001b[0;36m explo ... \u001b[0m ['feel_front', 'empty', 'forward', 'empty']\n",
      "\u001b[0;31m Action: feel_front \u001b[0m, Prediction: wall, Outcome: wall, \u001b[0;31m Satisfaction: True \u001b[0m\n",
      "Training time: 6.477240562438965\n",
      "Time to compute expective valance: 1.2442615032196045\n",
      "expected valence : -63.47 valence explo : -41.00 model predict : ['turn_left', 'empty', 'forward', 'empty', 'feel_front', 'wall'], explo want : ['turn_right', 'empty', 'feel_front', 'empty']\n",
      "\u001b[0;36m explo ... \u001b[0m ['turn_right', 'empty', 'feel_front', 'empty']\n",
      "\u001b[0;31m Action: turn_right \u001b[0m, Prediction: empty, Outcome: empty, \u001b[0;31m Satisfaction: True \u001b[0m\n",
      "Training time: 6.631047964096069\n",
      "\u001b[0;31m Action: feel_front \u001b[0m, Prediction: wall, Outcome: empty, \u001b[0;31m Satisfaction: False \u001b[0m\n",
      "Training time: 6.500715970993042\n",
      "Time to compute expective valance: 0.0703582763671875\n",
      "expected valence : -inf valence explo : 20.00 model predict : 0.0, explo want : ['forward', 'empty', 'forward', 'empty']\n",
      "\u001b[0;36m explo ... \u001b[0m ['forward', 'empty', 'forward', 'empty']\n",
      "\u001b[0;31m Action: forward \u001b[0m, Prediction: empty, Outcome: empty, \u001b[0;31m Satisfaction: True \u001b[0m\n",
      "Training time: 6.463879108428955\n",
      "\u001b[0;31m Action: forward \u001b[0m, Prediction: empty, Outcome: wall, \u001b[0;31m Satisfaction: False \u001b[0m\n",
      "Training time: 6.097257137298584\n",
      "Time to compute expective valance: 1.5678682327270508\n",
      "expected valence : -65.86 valence explo : -31.00 model predict : ['feel_front', 'wall', 'turn_left', 'empty', 'forward', 'empty'], explo want : ['turn_left', 'empty', 'forward', 'empty', 'turn_left', 'empty']\n",
      "\u001b[0;36m explo ... \u001b[0m ['turn_left', 'empty', 'forward', 'empty', 'turn_left', 'empty']\n",
      "\u001b[0;31m Action: turn_left \u001b[0m, Prediction: empty, Outcome: empty, \u001b[0;31m Satisfaction: True \u001b[0m\n",
      "Training time: 6.512346506118774\n",
      "\u001b[0;31m Action: forward \u001b[0m, Prediction: wall, Outcome: empty, \u001b[0;31m Satisfaction: False \u001b[0m\n",
      "Training time: 6.271267890930176\n",
      "\u001b[0;31m Action: turn_left \u001b[0m, Prediction: empty, Outcome: empty, \u001b[0;31m Satisfaction: True \u001b[0m\n",
      "Time to compute expective valance: 0.47606706619262695\n",
      "expected valence : -30.38 valence explo : 0.00 model predict : ['forward', 'empty', 'turn_left', 'empty', 'forward', 'empty'], explo want : ['turn_right', 'empty', 'forward', 'empty']\n",
      "\u001b[0;36m explo ... \u001b[0m ['turn_right', 'empty', 'forward', 'empty']\n",
      "\u001b[0;31m Action: turn_right \u001b[0m, Prediction: empty, Outcome: empty, \u001b[0;31m Satisfaction: True \u001b[0m\n",
      "Training time: 6.754796743392944\n",
      "\u001b[0;31m Action: forward \u001b[0m, Prediction: empty, Outcome: wall, \u001b[0;31m Satisfaction: False \u001b[0m\n",
      "Training time: 6.771898508071899\n",
      "Time to compute expective valance: 1.8265526294708252\n",
      "expected valence : -63.46 valence explo : -50.00 model predict : ['turn_right', 'empty', 'feel_front', 'empty', 'forward', 'empty'], explo want : ['feel_front', 'wall', 'feel_front', 'wall', 'feel_front', 'empty']\n",
      "\u001b[0;36m explo ... \u001b[0m ['feel_front', 'wall', 'feel_front', 'wall', 'feel_front', 'empty']\n",
      "\u001b[0;31m Action: feel_front \u001b[0m, Prediction: wall, Outcome: wall, \u001b[0;31m Satisfaction: True \u001b[0m\n",
      "Training time: 6.686441898345947\n",
      "\u001b[0;31m Action: feel_front \u001b[0m, Prediction: wall, Outcome: wall, \u001b[0;31m Satisfaction: True \u001b[0m\n",
      "\u001b[0;31m Action: feel_front \u001b[0m, Prediction: wall, Outcome: wall, \u001b[0;31m Satisfaction: True \u001b[0m\n",
      "Time to compute expective valance: 1.4645001888275146\n",
      "expected valence : -62.77 valence explo : 0.00 model predict : ['turn_right', 'empty', 'feel_front', 'empty', 'forward', 'empty'], explo want : ['turn_left', 'empty', 'forward', 'empty']\n",
      "\u001b[0;36m explo ... \u001b[0m ['turn_left', 'empty', 'forward', 'empty']\n",
      "\u001b[0;31m Action: turn_left \u001b[0m, Prediction: empty, Outcome: empty, \u001b[0;31m Satisfaction: True \u001b[0m\n",
      "Training time: 6.169132947921753\n",
      "\u001b[0;31m Action: forward \u001b[0m, Prediction: empty, Outcome: wall, \u001b[0;31m Satisfaction: False \u001b[0m\n",
      "Training time: 6.759995460510254\n",
      "Time to compute expective valance: 1.8201134204864502\n",
      "expected valence : -61.85 valence explo : -82.00 model predict : ['turn_right', 'empty', 'feel_front', 'empty', 'forward', 'empty'], explo want : ['turn_right', 'empty', 'turn_right', 'empty', 'turn_left', 'empty']\n",
      "\u001b[0;35m after compute ... \u001b[0m ['turn_right', 'empty', 'feel_front', 'empty', 'forward', 'empty']\n",
      "\u001b[0;31m Action: turn_right \u001b[0m, Prediction: empty, Outcome: empty, \u001b[0;31m Satisfaction: True \u001b[0m\n",
      "\u001b[0;31m Action: feel_front \u001b[0m, Prediction: wall, Outcome: wall, \u001b[0;31m Satisfaction: True \u001b[0m\n",
      "Time to compute expective valance: 0.6641159057617188\n",
      "expected valence : -149.78 valence explo : 0.00 model predict : ['forward', 'wall', 'feel_front', 'wall', 'feel_front', 'wall'], explo want : ['turn_right', 'empty', 'forward', 'empty']\n",
      "\u001b[0;36m explo ... \u001b[0m ['turn_right', 'empty', 'forward', 'empty']\n",
      "\u001b[0;31m Action: turn_right \u001b[0m, Prediction: empty, Outcome: empty, \u001b[0;31m Satisfaction: True \u001b[0m\n",
      "Training time: 6.475078821182251\n",
      "\u001b[0;31m Action: forward \u001b[0m, Prediction: empty, Outcome: empty, \u001b[0;31m Satisfaction: True \u001b[0m\n",
      "Time to compute expective valance: 1.6736595630645752\n",
      "expected valence : -57.05 valence explo : -12.00 model predict : ['feel_front', 'wall', 'feel_front', 'wall', 'feel_front', 'wall'], explo want : ['feel_front', 'empty', 'forward', 'empty', 'feel_front', 'empty']\n",
      "\u001b[0;36m explo ... \u001b[0m ['feel_front', 'empty', 'forward', 'empty', 'feel_front', 'empty']\n",
      "\u001b[0;31m Action: feel_front \u001b[0m, Prediction: wall, Outcome: empty, \u001b[0;31m Satisfaction: False \u001b[0m\n",
      "Training time: 6.855069160461426\n",
      "\u001b[0;31m Action: forward \u001b[0m, Prediction: empty, Outcome: empty, \u001b[0;31m Satisfaction: True \u001b[0m\n",
      "\u001b[0;31m Action: feel_front \u001b[0m, Prediction: empty, Outcome: wall, \u001b[0;31m Satisfaction: False \u001b[0m\n",
      "Training time: 6.564351320266724\n",
      "Time to compute expective valance: 1.65500807762146\n",
      "expected valence : -59.41 valence explo : 0.00 model predict : ['turn_right', 'empty', 'feel_front', 'empty', 'forward', 'empty'], explo want : ['turn_left', 'empty', 'forward', 'empty']\n",
      "\u001b[0;36m explo ... \u001b[0m ['turn_left', 'empty', 'forward', 'empty']\n",
      "\u001b[0;31m Action: turn_left \u001b[0m, Prediction: empty, Outcome: empty, \u001b[0;31m Satisfaction: True \u001b[0m\n",
      "Training time: 6.88595175743103\n",
      "\u001b[0;31m Action: forward \u001b[0m, Prediction: empty, Outcome: wall, \u001b[0;31m Satisfaction: False \u001b[0m\n",
      "Training time: 6.916807174682617\n",
      "Time to compute expective valance: 1.8492186069488525\n",
      "expected valence : -69.38 valence explo : -82.00 model predict : ['turn_right', 'empty', 'forward', 'empty', 'feel_front', 'wall'], explo want : ['turn_right', 'empty', 'turn_right', 'empty', 'turn_left', 'empty']\n",
      "\u001b[0;35m after compute ... \u001b[0m ['turn_right', 'empty', 'forward', 'empty', 'feel_front', 'wall']\n",
      "\u001b[0;31m Action: turn_right \u001b[0m, Prediction: empty, Outcome: empty, \u001b[0;31m Satisfaction: True \u001b[0m\n",
      "\u001b[0;31m Action: forward \u001b[0m, Prediction: empty, Outcome: wall, \u001b[0;31m Satisfaction: False \u001b[0m\n",
      "Training time: 6.870695352554321\n",
      "Time to compute expective valance: 1.9239943027496338\n",
      "expected valence : -71.47 valence explo : -82.00 model predict : ['turn_right', 'empty', 'forward', 'empty', 'feel_front', 'wall'], explo want : ['turn_right', 'empty', 'turn_right', 'empty', 'turn_left', 'empty']\n",
      "\u001b[0;35m after compute ... \u001b[0m ['turn_right', 'empty', 'forward', 'empty', 'feel_front', 'wall']\n",
      "\u001b[0;31m Action: turn_right \u001b[0m, Prediction: empty, Outcome: empty, \u001b[0;31m Satisfaction: True \u001b[0m\n",
      "Training time: 6.553184270858765\n",
      "\u001b[0;31m Action: forward \u001b[0m, Prediction: empty, Outcome: empty, \u001b[0;31m Satisfaction: True \u001b[0m\n",
      "\u001b[0;31m Action: feel_front \u001b[0m, Prediction: empty, Outcome: empty, \u001b[0;31m Satisfaction: True \u001b[0m\n",
      "Time to compute expective valance: 0.4887676239013672\n",
      "expected valence : -36.60 valence explo : 0.00 model predict : ['forward', 'empty', 'feel_front', 'wall', 'feel_front', 'wall'], explo want : ['turn_right', 'empty', 'forward', 'empty']\n",
      "\u001b[0;36m explo ... \u001b[0m ['turn_right', 'empty', 'forward', 'empty']\n",
      "\u001b[0;31m Action: turn_right \u001b[0m, Prediction: empty, Outcome: empty, \u001b[0;31m Satisfaction: True \u001b[0m\n",
      "Training time: 6.821570158004761\n",
      "\u001b[0;31m Action: forward \u001b[0m, Prediction: empty, Outcome: wall, \u001b[0;31m Satisfaction: False \u001b[0m\n",
      "Training time: 6.291415691375732\n",
      "Time to compute expective valance: 1.8248357772827148\n",
      "expected valence : -74.95 valence explo : -82.00 model predict : ['feel_front', 'wall', 'feel_front', 'wall', 'feel_front', 'wall'], explo want : ['turn_right', 'empty', 'turn_right', 'empty', 'turn_left', 'empty']\n",
      "\u001b[0;35m after compute ... \u001b[0m ['feel_front', 'wall', 'feel_front', 'wall', 'feel_front', 'wall']\n",
      "\u001b[0;31m Action: feel_front \u001b[0m, Prediction: wall, Outcome: wall, \u001b[0;31m Satisfaction: True \u001b[0m\n",
      "\u001b[0;31m Action: feel_front \u001b[0m, Prediction: wall, Outcome: wall, \u001b[0;31m Satisfaction: True \u001b[0m\n",
      "\u001b[0;31m Action: feel_front \u001b[0m, Prediction: wall, Outcome: wall, \u001b[0;31m Satisfaction: True \u001b[0m\n",
      "Time to compute expective valance: 1.7668101787567139\n",
      "expected valence : -57.29 valence explo : -41.00 model predict : ['turn_right', 'empty', 'feel_front', 'empty', 'forward', 'empty'], explo want : ['turn_left', 'empty', 'feel_front', 'empty']\n",
      "\u001b[0;36m explo ... \u001b[0m ['turn_left', 'empty', 'feel_front', 'empty']\n",
      "\u001b[0;31m Action: turn_left \u001b[0m, Prediction: empty, Outcome: empty, \u001b[0;31m Satisfaction: True \u001b[0m\n",
      "Training time: 6.683932781219482\n",
      "\u001b[0;31m Action: feel_front \u001b[0m, Prediction: wall, Outcome: empty, \u001b[0;31m Satisfaction: False \u001b[0m\n",
      "Training time: 6.713621377944946\n",
      "Time to compute expective valance: 0.06922197341918945\n",
      "expected valence : -inf valence explo : 20.00 model predict : 0.0, explo want : ['forward', 'empty', 'forward', 'empty']\n",
      "\u001b[0;36m explo ... \u001b[0m ['forward', 'empty', 'forward', 'empty']\n",
      "\u001b[0;31m Action: forward \u001b[0m, Prediction: empty, Outcome: empty, \u001b[0;31m Satisfaction: True \u001b[0m\n",
      "Training time: 6.354677677154541\n",
      "\u001b[0;31m Action: forward \u001b[0m, Prediction: empty, Outcome: empty, \u001b[0;31m Satisfaction: True \u001b[0m\n",
      "Time to compute expective valance: 0.9716243743896484\n",
      "expected valence : -116.54 valence explo : 0.00 model predict : ['turn_right', 'empty', 'forward', 'empty', 'turn_right', 'empty'], explo want : ['feel_front', 'empty', 'forward', 'empty']\n",
      "\u001b[0;36m explo ... \u001b[0m ['feel_front', 'empty', 'forward', 'empty']\n",
      "\u001b[0;31m Action: feel_front \u001b[0m, Prediction: wall, Outcome: wall, \u001b[0;31m Satisfaction: True \u001b[0m\n",
      "Training time: 6.8487389087677\n",
      "Time to compute expective valance: 1.9864046573638916\n",
      "expected valence : -54.95 valence explo : -82.00 model predict : ['turn_right', 'empty', 'feel_front', 'empty', 'forward', 'empty'], explo want : ['turn_right', 'empty', 'turn_right', 'empty', 'turn_left', 'empty']\n",
      "\u001b[0;35m after compute ... \u001b[0m ['turn_right', 'empty', 'feel_front', 'empty', 'forward', 'empty']\n",
      "\u001b[0;31m Action: turn_right \u001b[0m, Prediction: empty, Outcome: empty, \u001b[0;31m Satisfaction: True \u001b[0m\n",
      "Training time: 6.338602542877197\n",
      "\u001b[0;31m Action: feel_front \u001b[0m, Prediction: empty, Outcome: empty, \u001b[0;31m Satisfaction: True \u001b[0m\n",
      "\u001b[0;31m Action: forward \u001b[0m, Prediction: empty, Outcome: empty, \u001b[0;31m Satisfaction: True \u001b[0m\n",
      "Time to compute expective valance: 1.381465196609497\n",
      "expected valence : -49.04 valence explo : 0.00 model predict : ['forward', 'wall', 'feel_front', 'wall', 'feel_front', 'wall'], explo want : ['turn_right', 'empty', 'forward', 'empty']\n",
      "\u001b[0;36m explo ... \u001b[0m ['turn_right', 'empty', 'forward', 'empty']\n",
      "\u001b[0;31m Action: turn_right \u001b[0m, Prediction: empty, Outcome: empty, \u001b[0;31m Satisfaction: True \u001b[0m\n",
      "Training time: 7.024903059005737\n",
      "\u001b[0;31m Action: forward \u001b[0m, Prediction: wall, Outcome: wall, \u001b[0;31m Satisfaction: True \u001b[0m\n",
      "Time to compute expective valance: 2.2443249225616455\n",
      "expected valence : -74.95 valence explo : -82.00 model predict : ['feel_front', 'wall', 'feel_front', 'wall', 'feel_front', 'wall'], explo want : ['turn_right', 'empty', 'turn_right', 'empty', 'turn_left', 'empty']\n",
      "\u001b[0;35m after compute ... \u001b[0m ['feel_front', 'wall', 'feel_front', 'wall', 'feel_front', 'wall']\n",
      "\u001b[0;31m Action: feel_front \u001b[0m, Prediction: wall, Outcome: wall, \u001b[0;31m Satisfaction: True \u001b[0m\n",
      "\u001b[0;31m Action: feel_front \u001b[0m, Prediction: wall, Outcome: wall, \u001b[0;31m Satisfaction: True \u001b[0m\n",
      "\u001b[0;31m Action: feel_front \u001b[0m, Prediction: wall, Outcome: wall, \u001b[0;31m Satisfaction: True \u001b[0m\n",
      "Time to compute expective valance: 1.9077982902526855\n",
      "expected valence : -54.36 valence explo : -82.00 model predict : ['turn_right', 'empty', 'feel_front', 'empty', 'forward', 'empty'], explo want : ['turn_right', 'empty', 'turn_right', 'empty', 'turn_left', 'empty']\n",
      "\u001b[0;35m after compute ... \u001b[0m ['turn_right', 'empty', 'feel_front', 'empty', 'forward', 'empty']\n",
      "\u001b[0;31m Action: turn_right \u001b[0m, Prediction: empty, Outcome: empty, \u001b[0;31m Satisfaction: True \u001b[0m\n",
      "\u001b[0;31m Action: feel_front \u001b[0m, Prediction: empty, Outcome: empty, \u001b[0;31m Satisfaction: True \u001b[0m\n",
      "\u001b[0;31m Action: forward \u001b[0m, Prediction: empty, Outcome: empty, \u001b[0;31m Satisfaction: True \u001b[0m\n",
      "Time to compute expective valance: 1.694505214691162\n",
      "expected valence : -43.09 valence explo : -31.00 model predict : ['forward', 'wall', 'feel_front', 'wall', 'feel_front', 'wall'], explo want : ['turn_left', 'empty', 'forward', 'empty']\n",
      "\u001b[0;36m explo ... \u001b[0m ['turn_left', 'empty', 'forward', 'empty']\n",
      "\u001b[0;31m Action: turn_left \u001b[0m, Prediction: empty, Outcome: empty, \u001b[0;31m Satisfaction: True \u001b[0m\n",
      "Training time: 6.336050748825073\n",
      "\u001b[0;31m Action: forward \u001b[0m, Prediction: empty, Outcome: empty, \u001b[0;31m Satisfaction: True \u001b[0m\n",
      "Time to compute expective valance: 1.5727300643920898\n",
      "expected valence : -60.95 valence explo : -41.00 model predict : ['turn_left', 'empty', 'forward', 'empty', 'feel_front', 'wall'], explo want : ['turn_right', 'empty', 'turn_right', 'empty']\n",
      "\u001b[0;36m explo ... \u001b[0m ['turn_right', 'empty', 'turn_right', 'empty']\n",
      "\u001b[0;31m Action: turn_right \u001b[0m, Prediction: empty, Outcome: empty, \u001b[0;31m Satisfaction: True \u001b[0m\n",
      "Training time: 6.41298508644104\n",
      "\u001b[0;31m Action: turn_right \u001b[0m, Prediction: empty, Outcome: empty, \u001b[0;31m Satisfaction: True \u001b[0m\n",
      "Time to compute expective valance: 1.1037256717681885\n",
      "expected valence : -12.21 valence explo : 0.00 model predict : ['forward', 'empty', 'feel_front', 'empty', 'forward', 'empty'], explo want : ['feel_front', 'empty', 'forward', 'empty']\n",
      "\u001b[0;36m explo ... \u001b[0m ['feel_front', 'empty', 'forward', 'empty']\n",
      "\u001b[0;31m Action: feel_front \u001b[0m, Prediction: empty, Outcome: empty, \u001b[0;31m Satisfaction: True \u001b[0m\n",
      "Training time: 6.855400562286377\n",
      "\u001b[0;31m Action: forward \u001b[0m, Prediction: empty, Outcome: empty, \u001b[0;31m Satisfaction: True \u001b[0m\n",
      "Time to compute expective valance: 1.9859619140625\n",
      "expected valence : -39.80 valence explo : 10.00 model predict : ['forward', 'wall', 'feel_front', 'wall', 'feel_front', 'wall'], explo want : ['forward', 'empty', 'turn_left', 'empty']\n",
      "\u001b[0;36m explo ... \u001b[0m ['forward', 'empty', 'turn_left', 'empty']\n",
      "\u001b[0;31m Action: forward \u001b[0m, Prediction: empty, Outcome: wall, \u001b[0;31m Satisfaction: False \u001b[0m\n",
      "Training time: 6.5008885860443115\n",
      "Time to compute expective valance: 1.9543371200561523\n",
      "expected valence : -74.94 valence explo : -82.00 model predict : ['turn_right', 'empty', 'forward', 'empty', 'feel_front', 'wall'], explo want : ['turn_right', 'empty', 'turn_right', 'empty', 'turn_left', 'empty']\n",
      "\u001b[0;35m after compute ... \u001b[0m ['turn_right', 'empty', 'forward', 'empty', 'feel_front', 'wall']\n",
      "\u001b[0;31m Action: turn_right \u001b[0m, Prediction: empty, Outcome: empty, \u001b[0;31m Satisfaction: True \u001b[0m\n",
      "Training time: 6.934845447540283\n",
      "\u001b[0;31m Action: forward \u001b[0m, Prediction: empty, Outcome: empty, \u001b[0;31m Satisfaction: True \u001b[0m\n",
      "\u001b[0;31m Action: feel_front \u001b[0m, Prediction: empty, Outcome: empty, \u001b[0;31m Satisfaction: True \u001b[0m\n",
      "Time to compute expective valance: 0.8898365497589111\n",
      "expected valence : -25.58 valence explo : 0.00 model predict : ['forward', 'empty', 'turn_left', 'empty', 'forward', 'empty'], explo want : ['feel_front', 'empty', 'forward', 'empty']\n",
      "\u001b[0;36m explo ... \u001b[0m ['feel_front', 'empty', 'forward', 'empty']\n",
      "\u001b[0;31m Action: feel_front \u001b[0m, Prediction: wall, Outcome: empty, \u001b[0;31m Satisfaction: False \u001b[0m\n",
      "Training time: 6.583548545837402\n",
      "\u001b[0;31m Action: forward \u001b[0m, Prediction: empty, Outcome: empty, \u001b[0;31m Satisfaction: True \u001b[0m\n",
      "Time to compute expective valance: 1.9685957431793213\n",
      "expected valence : -57.89 valence explo : 10.00 model predict : ['turn_left', 'empty', 'forward', 'empty', 'feel_front', 'wall'], explo want : ['forward', 'empty', 'turn_left', 'empty']\n",
      "\u001b[0;36m explo ... \u001b[0m ['forward', 'empty', 'turn_left', 'empty']\n",
      "\u001b[0;31m Action: forward \u001b[0m, Prediction: wall, Outcome: empty, \u001b[0;31m Satisfaction: False \u001b[0m\n",
      "Training time: 6.58380913734436\n",
      "\u001b[0;31m Action: turn_left \u001b[0m, Prediction: empty, Outcome: empty, \u001b[0;31m Satisfaction: True \u001b[0m\n",
      "Time to compute expective valance: 0.8784692287445068\n",
      "expected valence : -24.07 valence explo : 0.00 model predict : ['forward', 'empty', 'turn_left', 'empty', 'forward', 'empty'], explo want : ['feel_front', 'empty', 'forward', 'empty']\n",
      "\u001b[0;36m explo ... \u001b[0m ['feel_front', 'empty', 'forward', 'empty']\n",
      "\u001b[0;31m Action: feel_front \u001b[0m, Prediction: empty, Outcome: wall, \u001b[0;31m Satisfaction: False \u001b[0m\n",
      "Training time: 6.769701719284058\n",
      "Time to compute expective valance: 0.6395914554595947\n",
      "expected valence : -149.95 valence explo : 0.00 model predict : ['forward', 'wall', 'feel_front', 'wall', 'feel_front', 'wall'], explo want : ['turn_right', 'empty', 'forward', 'empty']\n",
      "\u001b[0;36m explo ... \u001b[0m ['turn_right', 'empty', 'forward', 'empty']\n",
      "\u001b[0;31m Action: turn_right \u001b[0m, Prediction: empty, Outcome: empty, \u001b[0;31m Satisfaction: True \u001b[0m\n",
      "Training time: 6.310494422912598\n",
      "\u001b[0;31m Action: forward \u001b[0m, Prediction: empty, Outcome: wall, \u001b[0;31m Satisfaction: False \u001b[0m\n",
      "Training time: 6.421272277832031\n",
      "Time to compute expective valance: 2.3092215061187744\n",
      "expected valence : -72.10 valence explo : -82.00 model predict : ['turn_right', 'empty', 'forward', 'empty', 'feel_front', 'empty'], explo want : ['turn_right', 'empty', 'turn_right', 'empty', 'turn_left', 'empty']\n",
      "\u001b[0;35m after compute ... \u001b[0m ['turn_right', 'empty', 'forward', 'empty', 'feel_front', 'empty']\n",
      "\u001b[0;31m Action: turn_right \u001b[0m, Prediction: empty, Outcome: empty, \u001b[0;31m Satisfaction: True \u001b[0m\n",
      "\u001b[0;31m Action: forward \u001b[0m, Prediction: empty, Outcome: empty, \u001b[0;31m Satisfaction: True \u001b[0m\n",
      "\u001b[0;31m Action: feel_front \u001b[0m, Prediction: empty, Outcome: empty, \u001b[0;31m Satisfaction: True \u001b[0m\n",
      "Time to compute expective valance: 1.0377073287963867\n",
      "expected valence : -27.62 valence explo : -15.00 model predict : ['forward', 'empty', 'turn_left', 'empty', 'forward', 'empty'], explo want : ['feel_front', 'wall', 'forward', 'empty']\n",
      "\u001b[0;36m explo ... \u001b[0m ['feel_front', 'wall', 'forward', 'empty']\n",
      "\u001b[0;31m Action: feel_front \u001b[0m, Prediction: empty, Outcome: empty, \u001b[0;31m Satisfaction: True \u001b[0m\n",
      "Training time: 6.387920618057251\n",
      "Time to compute expective valance: 0.8126204013824463\n",
      "expected valence : -26.34 valence explo : 0.00 model predict : ['forward', 'empty', 'turn_left', 'empty', 'forward', 'empty'], explo want : ['turn_right', 'empty', 'forward', 'empty']\n",
      "\u001b[0;36m explo ... \u001b[0m ['turn_right', 'empty', 'forward', 'empty']\n",
      "\u001b[0;31m Action: turn_right \u001b[0m, Prediction: empty, Outcome: empty, \u001b[0;31m Satisfaction: True \u001b[0m\n",
      "Training time: 6.884225606918335\n",
      "\u001b[0;31m Action: forward \u001b[0m, Prediction: wall, Outcome: wall, \u001b[0;31m Satisfaction: True \u001b[0m\n",
      "Time to compute expective valance: 2.000223398208618\n",
      "expected valence : -70.85 valence explo : -82.00 model predict : ['turn_right', 'empty', 'forward', 'empty', 'feel_front', 'empty'], explo want : ['turn_right', 'empty', 'turn_right', 'empty', 'turn_left', 'empty']\n",
      "\u001b[0;35m after compute ... \u001b[0m ['turn_right', 'empty', 'forward', 'empty', 'feel_front', 'empty']\n",
      "\u001b[0;31m Action: turn_right \u001b[0m, Prediction: empty, Outcome: empty, \u001b[0;31m Satisfaction: True \u001b[0m\n",
      "\u001b[0;31m Action: forward \u001b[0m, Prediction: empty, Outcome: empty, \u001b[0;31m Satisfaction: True \u001b[0m\n",
      "\u001b[0;31m Action: feel_front \u001b[0m, Prediction: empty, Outcome: wall, \u001b[0;31m Satisfaction: False \u001b[0m\n",
      "Training time: 6.614090919494629\n",
      "Time to compute expective valance: 2.0120151042938232\n",
      "expected valence : -53.31 valence explo : -82.00 model predict : ['turn_right', 'empty', 'feel_front', 'empty', 'forward', 'empty'], explo want : ['turn_right', 'empty', 'turn_right', 'empty', 'turn_left', 'empty']\n",
      "\u001b[0;35m after compute ... \u001b[0m ['turn_right', 'empty', 'feel_front', 'empty', 'forward', 'empty']\n",
      "\u001b[0;31m Action: turn_right \u001b[0m, Prediction: empty, Outcome: empty, \u001b[0;31m Satisfaction: True \u001b[0m\n",
      "\u001b[0;31m Action: feel_front \u001b[0m, Prediction: empty, Outcome: wall, \u001b[0;31m Satisfaction: False \u001b[0m\n",
      "Training time: 6.3652191162109375\n",
      "Time to compute expective valance: 1.0841879844665527\n",
      "expected valence : -55.94 valence explo : 0.00 model predict : ['turn_right', 'empty', 'feel_front', 'empty', 'forward', 'empty'], explo want : ['turn_left', 'empty', 'forward', 'empty']\n",
      "\u001b[0;36m explo ... \u001b[0m ['turn_left', 'empty', 'forward', 'empty']\n",
      "\u001b[0;31m Action: turn_left \u001b[0m, Prediction: empty, Outcome: empty, \u001b[0;31m Satisfaction: True \u001b[0m\n",
      "Training time: 6.190298795700073\n",
      "\u001b[0;31m Action: forward \u001b[0m, Prediction: wall, Outcome: wall, \u001b[0;31m Satisfaction: True \u001b[0m\n",
      "Time to compute expective valance: 2.454223394393921\n",
      "expected valence : -68.96 valence explo : -82.00 model predict : ['turn_right', 'empty', 'forward', 'empty', 'feel_front', 'wall'], explo want : ['turn_right', 'empty', 'turn_right', 'empty', 'turn_left', 'empty']\n",
      "\u001b[0;35m after compute ... \u001b[0m ['turn_right', 'empty', 'forward', 'empty', 'feel_front', 'wall']\n",
      "\u001b[0;31m Action: turn_right \u001b[0m, Prediction: empty, Outcome: empty, \u001b[0;31m Satisfaction: True \u001b[0m\n",
      "\u001b[0;31m Action: forward \u001b[0m, Prediction: empty, Outcome: wall, \u001b[0;31m Satisfaction: False \u001b[0m\n",
      "Training time: 6.38312554359436\n",
      "Time to compute expective valance: 1.9613466262817383\n",
      "expected valence : -73.88 valence explo : -82.00 model predict : ['turn_right', 'empty', 'forward', 'empty', 'feel_front', 'empty'], explo want : ['turn_right', 'empty', 'turn_right', 'empty', 'turn_left', 'empty']\n",
      "\u001b[0;35m after compute ... \u001b[0m ['turn_right', 'empty', 'forward', 'empty', 'feel_front', 'empty']\n",
      "\u001b[0;31m Action: turn_right \u001b[0m, Prediction: empty, Outcome: empty, \u001b[0;31m Satisfaction: True \u001b[0m\n",
      "Training time: 6.916142463684082\n",
      "\u001b[0;31m Action: forward \u001b[0m, Prediction: empty, Outcome: empty, \u001b[0;31m Satisfaction: True \u001b[0m\n",
      "\u001b[0;31m Action: feel_front \u001b[0m, Prediction: empty, Outcome: empty, \u001b[0;31m Satisfaction: True \u001b[0m\n",
      "Time to compute expective valance: 1.148289442062378\n",
      "expected valence : -22.57 valence explo : -31.00 model predict : ['forward', 'empty', 'forward', 'wall', 'feel_front', 'wall'], explo want : ['turn_left', 'empty', 'forward', 'empty']\n",
      "\u001b[0;35m after compute ... \u001b[0m ['forward', 'empty', 'forward', 'wall', 'feel_front', 'wall']\n",
      "\u001b[0;31m Action: forward \u001b[0m, Prediction: empty, Outcome: empty, \u001b[0;31m Satisfaction: True \u001b[0m\n",
      "\u001b[0;31m Action: forward \u001b[0m, Prediction: empty, Outcome: wall, \u001b[0;31m Satisfaction: False \u001b[0m\n",
      "Training time: 6.396059036254883\n",
      "\u001b[0;31m Action: feel_front \u001b[0m, Prediction: wall, Outcome: wall, \u001b[0;31m Satisfaction: True \u001b[0m\n",
      "Time to compute expective valance: 2.221707582473755\n",
      "expected valence : -55.54 valence explo : -82.00 model predict : ['turn_right', 'empty', 'feel_front', 'empty', 'forward', 'empty'], explo want : ['turn_right', 'empty', 'turn_right', 'empty', 'turn_left', 'empty']\n",
      "\u001b[0;35m after compute ... \u001b[0m ['turn_right', 'empty', 'feel_front', 'empty', 'forward', 'empty']\n",
      "\u001b[0;31m Action: turn_right \u001b[0m, Prediction: empty, Outcome: empty, \u001b[0;31m Satisfaction: True \u001b[0m\n",
      "\u001b[0;31m Action: feel_front \u001b[0m, Prediction: empty, Outcome: empty, \u001b[0;31m Satisfaction: True \u001b[0m\n",
      "\u001b[0;31m Action: forward \u001b[0m, Prediction: empty, Outcome: empty, \u001b[0;31m Satisfaction: True \u001b[0m\n",
      "Time to compute expective valance: 2.2761826515197754\n",
      "expected valence : -59.34 valence explo : -41.00 model predict : ['forward', 'empty', 'turn_left', 'empty', 'forward', 'empty'], explo want : ['turn_right', 'empty', 'feel_front', 'empty']\n",
      "\u001b[0;36m explo ... \u001b[0m ['turn_right', 'empty', 'feel_front', 'empty']\n",
      "\u001b[0;31m Action: turn_right \u001b[0m, Prediction: empty, Outcome: empty, \u001b[0;31m Satisfaction: True \u001b[0m\n",
      "Training time: 6.410200834274292\n",
      "\u001b[0;31m Action: feel_front \u001b[0m, Prediction: empty, Outcome: wall, \u001b[0;31m Satisfaction: False \u001b[0m\n",
      "Training time: 6.300249099731445\n",
      "Time to compute expective valance: 1.669001817703247\n",
      "expected valence : -55.67 valence explo : 0.00 model predict : ['turn_left', 'empty', 'feel_front', 'empty', 'forward', 'empty'], explo want : ['feel_front', 'empty', 'forward', 'empty']\n",
      "\u001b[0;36m explo ... \u001b[0m ['feel_front', 'empty', 'forward', 'empty']\n",
      "\u001b[0;31m Action: feel_front \u001b[0m, Prediction: wall, Outcome: wall, \u001b[0;31m Satisfaction: True \u001b[0m\n",
      "Training time: 6.318259239196777\n",
      "Time to compute expective valance: 1.8609607219696045\n",
      "expected valence : -55.85 valence explo : -82.00 model predict : ['turn_left', 'empty', 'feel_front', 'empty', 'forward', 'empty'], explo want : ['turn_right', 'empty', 'turn_right', 'empty', 'turn_left', 'empty']\n",
      "\u001b[0;35m after compute ... \u001b[0m ['turn_left', 'empty', 'feel_front', 'empty', 'forward', 'empty']\n",
      "\u001b[0;31m Action: turn_left \u001b[0m, Prediction: empty, Outcome: empty, \u001b[0;31m Satisfaction: True \u001b[0m\n",
      "Training time: 6.676657676696777\n",
      "\u001b[0;31m Action: feel_front \u001b[0m, Prediction: empty, Outcome: wall, \u001b[0;31m Satisfaction: False \u001b[0m\n",
      "Training time: 6.55402946472168\n",
      "Time to compute expective valance: 1.1313214302062988\n",
      "expected valence : -56.58 valence explo : 0.00 model predict : ['turn_right', 'empty', 'feel_front', 'empty', 'forward', 'empty'], explo want : ['turn_left', 'empty', 'forward', 'empty']\n",
      "\u001b[0;36m explo ... \u001b[0m ['turn_left', 'empty', 'forward', 'empty']\n",
      "\u001b[0;31m Action: turn_left \u001b[0m, Prediction: empty, Outcome: empty, \u001b[0;31m Satisfaction: True \u001b[0m\n",
      "Training time: 6.942494630813599\n",
      "\u001b[0;31m Action: forward \u001b[0m, Prediction: wall, Outcome: empty, \u001b[0;31m Satisfaction: False \u001b[0m\n",
      "Training time: 6.853452682495117\n",
      "Time to compute expective valance: 2.515566825866699\n",
      "expected valence : -58.15 valence explo : -31.00 model predict : ['turn_left', 'empty', 'forward', 'empty', 'feel_front', 'wall'], explo want : ['forward', 'empty', 'turn_right', 'empty', 'turn_left', 'empty']\n",
      "\u001b[0;36m explo ... \u001b[0m ['forward', 'empty', 'turn_right', 'empty', 'turn_left', 'empty']\n",
      "\u001b[0;31m Action: forward \u001b[0m, Prediction: wall, Outcome: wall, \u001b[0;31m Satisfaction: True \u001b[0m\n",
      "Training time: 6.443320989608765\n",
      "Time to compute expective valance: 2.1949427127838135\n",
      "expected valence : -72.61 valence explo : -82.00 model predict : ['turn_right', 'empty', 'forward', 'empty', 'feel_front', 'empty'], explo want : ['turn_right', 'empty', 'turn_right', 'empty', 'turn_left', 'empty']\n",
      "\u001b[0;35m after compute ... \u001b[0m ['turn_right', 'empty', 'forward', 'empty', 'feel_front', 'empty']\n",
      "\u001b[0;31m Action: turn_right \u001b[0m, Prediction: empty, Outcome: empty, \u001b[0;31m Satisfaction: True \u001b[0m\n",
      "Training time: 7.21042537689209\n",
      "\u001b[0;31m Action: forward \u001b[0m, Prediction: empty, Outcome: empty, \u001b[0;31m Satisfaction: True \u001b[0m\n",
      "\u001b[0;31m Action: feel_front \u001b[0m, Prediction: empty, Outcome: empty, \u001b[0;31m Satisfaction: True \u001b[0m\n",
      "Time to compute expective valance: 1.3077585697174072\n",
      "expected valence : -23.95 valence explo : -31.00 model predict : ['forward', 'empty', 'turn_left', 'empty', 'forward', 'empty'], explo want : ['turn_left', 'empty', 'forward', 'empty']\n",
      "\u001b[0;35m after compute ... \u001b[0m ['forward', 'empty', 'turn_left', 'empty', 'forward', 'empty']\n",
      "\u001b[0;31m Action: forward \u001b[0m, Prediction: empty, Outcome: empty, \u001b[0;31m Satisfaction: True \u001b[0m\n",
      "\u001b[0;31m Action: turn_left \u001b[0m, Prediction: empty, Outcome: empty, \u001b[0;31m Satisfaction: True \u001b[0m\n",
      "\u001b[0;31m Action: forward \u001b[0m, Prediction: empty, Outcome: wall, \u001b[0;31m Satisfaction: False \u001b[0m\n",
      "Training time: 7.015912055969238\n",
      "Time to compute expective valance: 2.462541341781616\n",
      "expected valence : -73.78 valence explo : -82.00 model predict : ['turn_right', 'empty', 'forward', 'empty', 'feel_front', 'empty'], explo want : ['turn_right', 'empty', 'turn_right', 'empty', 'turn_left', 'empty']\n",
      "\u001b[0;35m after compute ... \u001b[0m ['turn_right', 'empty', 'forward', 'empty', 'feel_front', 'empty']\n",
      "\u001b[0;31m Action: turn_right \u001b[0m, Prediction: empty, Outcome: empty, \u001b[0;31m Satisfaction: True \u001b[0m\n",
      "\u001b[0;31m Action: forward \u001b[0m, Prediction: empty, Outcome: wall, \u001b[0;31m Satisfaction: False \u001b[0m\n",
      "Training time: 6.894668340682983\n",
      "Time to compute expective valance: 2.133984327316284\n",
      "expected valence : -74.61 valence explo : -82.00 model predict : ['turn_right', 'empty', 'turn_right', 'empty', 'forward', 'empty'], explo want : ['turn_right', 'empty', 'turn_right', 'empty', 'turn_left', 'empty']\n",
      "\u001b[0;35m after compute ... \u001b[0m ['turn_right', 'empty', 'turn_right', 'empty', 'forward', 'empty']\n",
      "\u001b[0;31m Action: turn_right \u001b[0m, Prediction: empty, Outcome: empty, \u001b[0;31m Satisfaction: True \u001b[0m\n",
      "Training time: 6.759700298309326\n",
      "\u001b[0;31m Action: turn_right \u001b[0m, Prediction: empty, Outcome: empty, \u001b[0;31m Satisfaction: True \u001b[0m\n",
      "\u001b[0;31m Action: forward \u001b[0m, Prediction: empty, Outcome: empty, \u001b[0;31m Satisfaction: True \u001b[0m\n",
      "Time to compute expective valance: 2.328207492828369\n",
      "expected valence : -32.08 valence explo : -22.00 model predict : ['feel_front', 'empty', 'feel_front', 'empty', 'forward', 'empty'], explo want : ['feel_front', 'empty', 'turn_left', 'empty']\n",
      "\u001b[0;36m explo ... \u001b[0m ['feel_front', 'empty', 'turn_left', 'empty']\n",
      "\u001b[0;31m Action: feel_front \u001b[0m, Prediction: empty, Outcome: empty, \u001b[0;31m Satisfaction: True \u001b[0m\n",
      "Training time: 6.330870151519775\n",
      "\u001b[0;31m Action: turn_left \u001b[0m, Prediction: empty, Outcome: empty, \u001b[0;31m Satisfaction: True \u001b[0m\n",
      "Time to compute expective valance: 0.09133195877075195\n",
      "expected valence : -inf valence explo : 20.00 model predict : 0.0, explo want : ['forward', 'empty', 'forward', 'empty']\n",
      "\u001b[0;36m explo ... \u001b[0m ['forward', 'empty', 'forward', 'empty']\n",
      "\u001b[0;31m Action: forward \u001b[0m, Prediction: empty, Outcome: wall, \u001b[0;31m Satisfaction: False \u001b[0m\n",
      "Training time: 6.7166829109191895\n",
      "Time to compute expective valance: 2.110031843185425\n",
      "expected valence : -73.94 valence explo : -82.00 model predict : ['turn_right', 'empty', 'turn_right', 'empty', 'forward', 'empty'], explo want : ['turn_right', 'empty', 'turn_right', 'empty', 'turn_left', 'empty']\n",
      "\u001b[0;35m after compute ... \u001b[0m ['turn_right', 'empty', 'turn_right', 'empty', 'forward', 'empty']\n",
      "\u001b[0;31m Action: turn_right \u001b[0m, Prediction: empty, Outcome: empty, \u001b[0;31m Satisfaction: True \u001b[0m\n",
      "Training time: 7.17509651184082\n",
      "\u001b[0;31m Action: turn_right \u001b[0m, Prediction: empty, Outcome: empty, \u001b[0;31m Satisfaction: True \u001b[0m\n",
      "\u001b[0;31m Action: forward \u001b[0m, Prediction: empty, Outcome: wall, \u001b[0;31m Satisfaction: False \u001b[0m\n",
      "Training time: 6.9934611320495605\n",
      "Time to compute expective valance: 2.348601818084717\n",
      "expected valence : -74.99 valence explo : -82.00 model predict : ['feel_front', 'wall', 'feel_front', 'wall', 'feel_front', 'wall'], explo want : ['turn_right', 'empty', 'turn_right', 'empty', 'turn_left', 'empty']\n",
      "\u001b[0;35m after compute ... \u001b[0m ['feel_front', 'wall', 'feel_front', 'wall', 'feel_front', 'wall']\n",
      "\u001b[0;31m Action: feel_front \u001b[0m, Prediction: wall, Outcome: wall, \u001b[0;31m Satisfaction: True \u001b[0m\n",
      "\u001b[0;31m Action: feel_front \u001b[0m, Prediction: wall, Outcome: wall, \u001b[0;31m Satisfaction: True \u001b[0m\n",
      "\u001b[0;31m Action: feel_front \u001b[0m, Prediction: wall, Outcome: wall, \u001b[0;31m Satisfaction: True \u001b[0m\n",
      "Time to compute expective valance: 2.5879061222076416\n",
      "expected valence : -56.37 valence explo : -82.00 model predict : ['turn_right', 'empty', 'feel_front', 'empty', 'forward', 'empty'], explo want : ['turn_right', 'empty', 'turn_right', 'empty', 'turn_left', 'empty']\n",
      "\u001b[0;35m after compute ... \u001b[0m ['turn_right', 'empty', 'feel_front', 'empty', 'forward', 'empty']\n",
      "\u001b[0;31m Action: turn_right \u001b[0m, Prediction: empty, Outcome: empty, \u001b[0;31m Satisfaction: True \u001b[0m\n",
      "\u001b[0;31m Action: feel_front \u001b[0m, Prediction: empty, Outcome: empty, \u001b[0;31m Satisfaction: True \u001b[0m\n",
      "\u001b[0;31m Action: forward \u001b[0m, Prediction: empty, Outcome: empty, \u001b[0;31m Satisfaction: True \u001b[0m\n",
      "Time to compute expective valance: 2.7005455493927\n",
      "expected valence : -74.21 valence explo : -31.00 model predict : ['forward', 'empty', 'feel_front', 'wall', 'feel_front', 'wall'], explo want : ['forward', 'empty', 'turn_right', 'empty', 'turn_left', 'empty']\n",
      "\u001b[0;36m explo ... \u001b[0m ['forward', 'empty', 'turn_right', 'empty', 'turn_left', 'empty']\n",
      "\u001b[0;31m Action: forward \u001b[0m, Prediction: wall, Outcome: wall, \u001b[0;31m Satisfaction: True \u001b[0m\n",
      "Training time: 6.659376621246338\n",
      "Time to compute expective valance: 2.166714668273926\n",
      "expected valence : -75.00 valence explo : -82.00 model predict : ['feel_front', 'wall', 'feel_front', 'wall', 'feel_front', 'wall'], explo want : ['turn_right', 'empty', 'turn_right', 'empty', 'turn_left', 'empty']\n",
      "\u001b[0;35m after compute ... \u001b[0m ['feel_front', 'wall', 'feel_front', 'wall', 'feel_front', 'wall']\n",
      "\u001b[0;31m Action: feel_front \u001b[0m, Prediction: wall, Outcome: wall, \u001b[0;31m Satisfaction: True \u001b[0m\n",
      "Training time: 6.41981053352356\n",
      "\u001b[0;31m Action: feel_front \u001b[0m, Prediction: wall, Outcome: wall, \u001b[0;31m Satisfaction: True \u001b[0m\n",
      "\u001b[0;31m Action: feel_front \u001b[0m, Prediction: wall, Outcome: wall, \u001b[0;31m Satisfaction: True \u001b[0m\n",
      "Time to compute expective valance: 2.2000350952148438\n",
      "expected valence : -55.55 valence explo : -82.00 model predict : ['turn_right', 'empty', 'feel_front', 'empty', 'forward', 'empty'], explo want : ['turn_right', 'empty', 'turn_right', 'empty', 'turn_left', 'empty']\n",
      "\u001b[0;35m after compute ... \u001b[0m ['turn_right', 'empty', 'feel_front', 'empty', 'forward', 'empty']\n",
      "\u001b[0;31m Action: turn_right \u001b[0m, Prediction: empty, Outcome: empty, \u001b[0;31m Satisfaction: True \u001b[0m\n",
      "\u001b[0;31m Action: feel_front \u001b[0m, Prediction: empty, Outcome: empty, \u001b[0;31m Satisfaction: True \u001b[0m\n",
      "\u001b[0;31m Action: forward \u001b[0m, Prediction: empty, Outcome: empty, \u001b[0;31m Satisfaction: True \u001b[0m\n",
      "Time to compute expective valance: 2.805155038833618\n",
      "expected valence : -70.94 valence explo : -31.00 model predict : ['forward', 'empty', 'feel_front', 'wall', 'feel_front', 'wall'], explo want : ['forward', 'empty', 'turn_right', 'empty', 'turn_left', 'empty']\n",
      "\u001b[0;36m explo ... \u001b[0m ['forward', 'empty', 'turn_right', 'empty', 'turn_left', 'empty']\n",
      "\u001b[0;31m Action: forward \u001b[0m, Prediction: wall, Outcome: empty, \u001b[0;31m Satisfaction: False \u001b[0m\n",
      "Training time: 6.768935441970825\n",
      "\u001b[0;31m Action: turn_right \u001b[0m, Prediction: empty, Outcome: empty, \u001b[0;31m Satisfaction: True \u001b[0m\n",
      "\u001b[0;31m Action: turn_left \u001b[0m, Prediction: empty, Outcome: empty, \u001b[0;31m Satisfaction: True \u001b[0m\n",
      "Time to compute expective valance: 0.07728958129882812\n",
      "expected valence : -inf valence explo : 20.00 model predict : 0.0, explo want : ['forward', 'empty', 'forward', 'empty']\n",
      "\u001b[0;36m explo ... \u001b[0m ['forward', 'empty', 'forward', 'empty']\n",
      "\u001b[0;31m Action: forward \u001b[0m, Prediction: empty, Outcome: empty, \u001b[0;31m Satisfaction: True \u001b[0m\n",
      "Training time: 6.739442825317383\n",
      "\u001b[0;31m Action: forward \u001b[0m, Prediction: wall, Outcome: wall, \u001b[0;31m Satisfaction: True \u001b[0m\n",
      "Time to compute expective valance: 2.113912582397461\n",
      "expected valence : -75.00 valence explo : -82.00 model predict : ['feel_front', 'wall', 'feel_front', 'wall', 'feel_front', 'wall'], explo want : ['turn_right', 'empty', 'turn_right', 'empty', 'turn_left', 'empty']\n",
      "\u001b[0;35m after compute ... \u001b[0m ['feel_front', 'wall', 'feel_front', 'wall', 'feel_front', 'wall']\n",
      "\u001b[0;31m Action: feel_front \u001b[0m, Prediction: wall, Outcome: wall, \u001b[0;31m Satisfaction: True \u001b[0m\n",
      "\u001b[0;31m Action: feel_front \u001b[0m, Prediction: wall, Outcome: wall, \u001b[0;31m Satisfaction: True \u001b[0m\n",
      "\u001b[0;31m Action: feel_front \u001b[0m, Prediction: wall, Outcome: wall, \u001b[0;31m Satisfaction: True \u001b[0m\n",
      "Time to compute expective valance: 2.2358946800231934\n",
      "expected valence : -55.04 valence explo : -82.00 model predict : ['turn_right', 'empty', 'feel_front', 'empty', 'forward', 'empty'], explo want : ['turn_right', 'empty', 'turn_right', 'empty', 'turn_left', 'empty']\n",
      "\u001b[0;35m after compute ... \u001b[0m ['turn_right', 'empty', 'feel_front', 'empty', 'forward', 'empty']\n",
      "\u001b[0;31m Action: turn_right \u001b[0m, Prediction: empty, Outcome: empty, \u001b[0;31m Satisfaction: True \u001b[0m\n",
      "\u001b[0;31m Action: feel_front \u001b[0m, Prediction: empty, Outcome: empty, \u001b[0;31m Satisfaction: True \u001b[0m\n",
      "\u001b[0;31m Action: forward \u001b[0m, Prediction: empty, Outcome: empty, \u001b[0;31m Satisfaction: True \u001b[0m\n",
      "Time to compute expective valance: 2.69119930267334\n",
      "expected valence : -67.59 valence explo : -31.00 model predict : ['forward', 'wall', 'feel_front', 'wall', 'feel_front', 'wall'], explo want : ['forward', 'empty', 'turn_left', 'empty', 'turn_left', 'empty']\n",
      "\u001b[0;36m explo ... \u001b[0m ['forward', 'empty', 'turn_left', 'empty', 'turn_left', 'empty']\n",
      "\u001b[0;31m Action: forward \u001b[0m, Prediction: empty, Outcome: empty, \u001b[0;31m Satisfaction: True \u001b[0m\n",
      "Training time: 6.3425304889678955\n",
      "\u001b[0;31m Action: turn_left \u001b[0m, Prediction: empty, Outcome: empty, \u001b[0;31m Satisfaction: True \u001b[0m\n",
      "\u001b[0;31m Action: turn_left \u001b[0m, Prediction: empty, Outcome: empty, \u001b[0;31m Satisfaction: True \u001b[0m\n",
      "Time to compute expective valance: 0.1069498062133789\n",
      "expected valence : -inf valence explo : 20.00 model predict : 0.0, explo want : ['forward', 'empty', 'forward', 'empty']\n",
      "\u001b[0;36m explo ... \u001b[0m ['forward', 'empty', 'forward', 'empty']\n",
      "\u001b[0;31m Action: forward \u001b[0m, Prediction: wall, Outcome: empty, \u001b[0;31m Satisfaction: False \u001b[0m\n",
      "Training time: 6.511361360549927\n",
      "\u001b[0;31m Action: forward \u001b[0m, Prediction: wall, Outcome: empty, \u001b[0;31m Satisfaction: False \u001b[0m\n",
      "Training time: 6.7443156242370605\n",
      "Time to compute expective valance: 2.196831464767456\n",
      "expected valence : -74.78 valence explo : -82.00 model predict : ['feel_front', 'wall', 'feel_front', 'wall', 'feel_front', 'wall'], explo want : ['turn_right', 'empty', 'turn_right', 'empty', 'turn_left', 'empty']\n",
      "\u001b[0;35m after compute ... \u001b[0m ['feel_front', 'wall', 'feel_front', 'wall', 'feel_front', 'wall']\n",
      "\u001b[0;31m Action: feel_front \u001b[0m, Prediction: wall, Outcome: wall, \u001b[0;31m Satisfaction: True \u001b[0m\n",
      "\u001b[0;31m Action: feel_front \u001b[0m, Prediction: wall, Outcome: wall, \u001b[0;31m Satisfaction: True \u001b[0m\n",
      "\u001b[0;31m Action: feel_front \u001b[0m, Prediction: wall, Outcome: wall, \u001b[0;31m Satisfaction: True \u001b[0m\n",
      "Time to compute expective valance: 2.479326009750366\n",
      "expected valence : -54.88 valence explo : -82.00 model predict : ['turn_right', 'empty', 'feel_front', 'empty', 'forward', 'empty'], explo want : ['turn_right', 'empty', 'turn_right', 'empty', 'turn_left', 'empty']\n",
      "\u001b[0;35m after compute ... \u001b[0m ['turn_right', 'empty', 'feel_front', 'empty', 'forward', 'empty']\n",
      "\u001b[0;31m Action: turn_right \u001b[0m, Prediction: empty, Outcome: empty, \u001b[0;31m Satisfaction: True \u001b[0m\n",
      "\u001b[0;31m Action: feel_front \u001b[0m, Prediction: empty, Outcome: wall, \u001b[0;31m Satisfaction: False \u001b[0m\n",
      "Training time: 7.197580099105835\n",
      "Time to compute expective valance: 2.3399107456207275\n",
      "expected valence : -55.94 valence explo : -82.00 model predict : ['turn_right', 'empty', 'feel_front', 'empty', 'forward', 'empty'], explo want : ['turn_right', 'empty', 'turn_right', 'empty', 'turn_left', 'empty']\n",
      "\u001b[0;35m after compute ... \u001b[0m ['turn_right', 'empty', 'feel_front', 'empty', 'forward', 'empty']\n",
      "\u001b[0;31m Action: turn_right \u001b[0m, Prediction: empty, Outcome: empty, \u001b[0;31m Satisfaction: True \u001b[0m\n",
      "Training time: 7.128092050552368\n",
      "\u001b[0;31m Action: feel_front \u001b[0m, Prediction: empty, Outcome: empty, \u001b[0;31m Satisfaction: True \u001b[0m\n",
      "\u001b[0;31m Action: forward \u001b[0m, Prediction: empty, Outcome: empty, \u001b[0;31m Satisfaction: True \u001b[0m\n",
      "Time to compute expective valance: 2.953805685043335\n",
      "expected valence : -59.35 valence explo : -82.00 model predict : ['forward', 'wall', 'feel_front', 'wall', 'feel_front', 'wall'], explo want : ['turn_right', 'empty', 'turn_right', 'empty', 'turn_left', 'empty']\n",
      "\u001b[0;35m after compute ... \u001b[0m ['forward', 'wall', 'feel_front', 'wall', 'feel_front', 'wall']\n",
      "\u001b[0;31m Action: forward \u001b[0m, Prediction: empty, Outcome: empty, \u001b[0;31m Satisfaction: True \u001b[0m\n",
      "Time to compute expective valance: 2.3463573455810547\n",
      "expected valence : -74.82 valence explo : -82.00 model predict : ['feel_front', 'wall', 'feel_front', 'wall', 'feel_front', 'wall'], explo want : ['turn_right', 'empty', 'turn_right', 'empty', 'turn_left', 'empty']\n",
      "\u001b[0;35m after compute ... \u001b[0m ['feel_front', 'wall', 'feel_front', 'wall', 'feel_front', 'wall']\n",
      "\u001b[0;31m Action: feel_front \u001b[0m, Prediction: wall, Outcome: empty, \u001b[0;31m Satisfaction: False \u001b[0m\n",
      "Training time: 6.938971519470215\n",
      "Time to compute expective valance: 1.3173396587371826\n",
      "expected valence : -30.87 valence explo : -41.00 model predict : ['forward', 'empty', 'forward', 'wall', 'feel_front', 'wall'], explo want : ['turn_right', 'empty', 'turn_right', 'empty']\n",
      "\u001b[0;35m after compute ... \u001b[0m ['forward', 'empty', 'forward', 'wall', 'feel_front', 'wall']\n",
      "\u001b[0;31m Action: forward \u001b[0m, Prediction: empty, Outcome: empty, \u001b[0;31m Satisfaction: True \u001b[0m\n",
      "Training time: 7.958227634429932\n",
      "\u001b[0;31m Action: forward \u001b[0m, Prediction: empty, Outcome: wall, \u001b[0;31m Satisfaction: False \u001b[0m\n",
      "Training time: 7.807012557983398\n",
      "\u001b[0;31m Action: feel_front \u001b[0m, Prediction: wall, Outcome: wall, \u001b[0;31m Satisfaction: True \u001b[0m\n",
      "Time to compute expective valance: 2.342261791229248\n",
      "expected valence : -56.70 valence explo : -82.00 model predict : ['turn_right', 'empty', 'feel_front', 'empty', 'forward', 'empty'], explo want : ['turn_right', 'empty', 'turn_right', 'empty', 'turn_left', 'empty']\n",
      "\u001b[0;35m after compute ... \u001b[0m ['turn_right', 'empty', 'feel_front', 'empty', 'forward', 'empty']\n",
      "\u001b[0;31m Action: turn_right \u001b[0m, Prediction: empty, Outcome: empty, \u001b[0;31m Satisfaction: True \u001b[0m\n",
      "\u001b[0;31m Action: feel_front \u001b[0m, Prediction: empty, Outcome: empty, \u001b[0;31m Satisfaction: True \u001b[0m\n",
      "\u001b[0;31m Action: forward \u001b[0m, Prediction: empty, Outcome: empty, \u001b[0;31m Satisfaction: True \u001b[0m\n",
      "Time to compute expective valance: 3.0465664863586426\n",
      "expected valence : -63.42 valence explo : -82.00 model predict : ['forward', 'empty', 'feel_front', 'wall', 'feel_front', 'wall'], explo want : ['turn_right', 'empty', 'turn_right', 'empty', 'turn_left', 'empty']\n",
      "\u001b[0;35m after compute ... \u001b[0m ['forward', 'empty', 'feel_front', 'wall', 'feel_front', 'wall']\n",
      "\u001b[0;31m Action: forward \u001b[0m, Prediction: empty, Outcome: empty, \u001b[0;31m Satisfaction: True \u001b[0m\n",
      "\u001b[0;31m Action: feel_front \u001b[0m, Prediction: wall, Outcome: wall, \u001b[0;31m Satisfaction: True \u001b[0m\n",
      "\u001b[0;31m Action: feel_front \u001b[0m, Prediction: wall, Outcome: wall, \u001b[0;31m Satisfaction: True \u001b[0m\n",
      "Time to compute expective valance: 2.241485357284546\n",
      "expected valence : -56.70 valence explo : -82.00 model predict : ['turn_right', 'empty', 'feel_front', 'empty', 'forward', 'empty'], explo want : ['turn_right', 'empty', 'turn_right', 'empty', 'turn_left', 'empty']\n",
      "\u001b[0;35m after compute ... \u001b[0m ['turn_right', 'empty', 'feel_front', 'empty', 'forward', 'empty']\n",
      "\u001b[0;31m Action: turn_right \u001b[0m, Prediction: empty, Outcome: empty, \u001b[0;31m Satisfaction: True \u001b[0m\n",
      "\u001b[0;31m Action: feel_front \u001b[0m, Prediction: empty, Outcome: empty, \u001b[0;31m Satisfaction: True \u001b[0m\n",
      "\u001b[0;31m Action: forward \u001b[0m, Prediction: empty, Outcome: empty, \u001b[0;31m Satisfaction: True \u001b[0m\n",
      "Time to compute expective valance: 2.930379629135132\n",
      "expected valence : -63.42 valence explo : -82.00 model predict : ['forward', 'empty', 'feel_front', 'wall', 'feel_front', 'wall'], explo want : ['turn_right', 'empty', 'turn_right', 'empty', 'turn_left', 'empty']\n",
      "\u001b[0;35m after compute ... \u001b[0m ['forward', 'empty', 'feel_front', 'wall', 'feel_front', 'wall']\n",
      "\u001b[0;31m Action: forward \u001b[0m, Prediction: empty, Outcome: wall, \u001b[0;31m Satisfaction: False \u001b[0m\n",
      "Training time: 6.8378586769104\n",
      "Time to compute expective valance: 2.3546714782714844\n",
      "expected valence : -75.00 valence explo : -82.00 model predict : ['feel_front', 'wall', 'feel_front', 'wall', 'feel_front', 'wall'], explo want : ['turn_right', 'empty', 'turn_right', 'empty', 'turn_left', 'empty']\n",
      "\u001b[0;35m after compute ... \u001b[0m ['feel_front', 'wall', 'feel_front', 'wall', 'feel_front', 'wall']\n",
      "\u001b[0;31m Action: feel_front \u001b[0m, Prediction: wall, Outcome: wall, \u001b[0;31m Satisfaction: True \u001b[0m\n",
      "Training time: 8.210005283355713\n",
      "\u001b[0;31m Action: feel_front \u001b[0m, Prediction: wall, Outcome: wall, \u001b[0;31m Satisfaction: True \u001b[0m\n",
      "\u001b[0;31m Action: feel_front \u001b[0m, Prediction: wall, Outcome: wall, \u001b[0;31m Satisfaction: True \u001b[0m\n",
      "Time to compute expective valance: 2.196678876876831\n",
      "expected valence : -55.48 valence explo : -82.00 model predict : ['turn_right', 'empty', 'feel_front', 'empty', 'forward', 'empty'], explo want : ['turn_right', 'empty', 'turn_right', 'empty', 'turn_left', 'empty']\n",
      "\u001b[0;35m after compute ... \u001b[0m ['turn_right', 'empty', 'feel_front', 'empty', 'forward', 'empty']\n",
      "\u001b[0;31m Action: turn_right \u001b[0m, Prediction: empty, Outcome: empty, \u001b[0;31m Satisfaction: True \u001b[0m\n",
      "\u001b[0;31m Action: feel_front \u001b[0m, Prediction: empty, Outcome: wall, \u001b[0;31m Satisfaction: False \u001b[0m\n",
      "Training time: 6.821783065795898\n",
      "Time to compute expective valance: 2.3170149326324463\n",
      "expected valence : -56.25 valence explo : -82.00 model predict : ['turn_right', 'empty', 'feel_front', 'empty', 'forward', 'empty'], explo want : ['turn_right', 'empty', 'turn_right', 'empty', 'turn_left', 'empty']\n",
      "\u001b[0;35m after compute ... \u001b[0m ['turn_right', 'empty', 'feel_front', 'empty', 'forward', 'empty']\n",
      "\u001b[0;31m Action: turn_right \u001b[0m, Prediction: empty, Outcome: empty, \u001b[0;31m Satisfaction: True \u001b[0m\n",
      "Training time: 6.318925380706787\n",
      "\u001b[0;31m Action: feel_front \u001b[0m, Prediction: empty, Outcome: empty, \u001b[0;31m Satisfaction: True \u001b[0m\n",
      "\u001b[0;31m Action: forward \u001b[0m, Prediction: empty, Outcome: empty, \u001b[0;31m Satisfaction: True \u001b[0m\n",
      "Time to compute expective valance: 2.655191659927368\n",
      "expected valence : -65.76 valence explo : -82.00 model predict : ['forward', 'empty', 'feel_front', 'wall', 'feel_front', 'wall'], explo want : ['turn_right', 'empty', 'turn_right', 'empty', 'turn_left', 'empty']\n",
      "\u001b[0;35m after compute ... \u001b[0m ['forward', 'empty', 'feel_front', 'wall', 'feel_front', 'wall']\n",
      "\u001b[0;31m Action: forward \u001b[0m, Prediction: empty, Outcome: wall, \u001b[0;31m Satisfaction: False \u001b[0m\n",
      "Training time: 6.363943815231323\n",
      "Time to compute expective valance: 2.2578136920928955\n",
      "expected valence : -75.00 valence explo : -82.00 model predict : ['feel_front', 'wall', 'feel_front', 'wall', 'feel_front', 'wall'], explo want : ['turn_right', 'empty', 'turn_right', 'empty', 'turn_left', 'empty']\n",
      "\u001b[0;35m after compute ... \u001b[0m ['feel_front', 'wall', 'feel_front', 'wall', 'feel_front', 'wall']\n",
      "\u001b[0;31m Action: feel_front \u001b[0m, Prediction: wall, Outcome: wall, \u001b[0;31m Satisfaction: True \u001b[0m\n",
      "Training time: 6.195576190948486\n",
      "\u001b[0;31m Action: feel_front \u001b[0m, Prediction: wall, Outcome: wall, \u001b[0;31m Satisfaction: True \u001b[0m\n",
      "\u001b[0;31m Action: feel_front \u001b[0m, Prediction: wall, Outcome: wall, \u001b[0;31m Satisfaction: True \u001b[0m\n",
      "Time to compute expective valance: 1.928525686264038\n",
      "expected valence : -55.90 valence explo : -82.00 model predict : ['turn_right', 'empty', 'feel_front', 'empty', 'forward', 'empty'], explo want : ['turn_right', 'empty', 'turn_right', 'empty', 'turn_left', 'empty']\n",
      "\u001b[0;35m after compute ... \u001b[0m ['turn_right', 'empty', 'feel_front', 'empty', 'forward', 'empty']\n",
      "\u001b[0;31m Action: turn_right \u001b[0m, Prediction: empty, Outcome: empty, \u001b[0;31m Satisfaction: True \u001b[0m\n",
      "\u001b[0;31m Action: feel_front \u001b[0m, Prediction: empty, Outcome: wall, \u001b[0;31m Satisfaction: False \u001b[0m\n",
      "Training time: 5.948347330093384\n",
      "Time to compute expective valance: 2.1131248474121094\n",
      "expected valence : -57.98 valence explo : -82.00 model predict : ['turn_right', 'empty', 'feel_front', 'empty', 'forward', 'empty'], explo want : ['turn_right', 'empty', 'turn_right', 'empty', 'turn_left', 'empty']\n",
      "\u001b[0;35m after compute ... \u001b[0m ['turn_right', 'empty', 'feel_front', 'empty', 'forward', 'empty']\n",
      "\u001b[0;31m Action: turn_right \u001b[0m, Prediction: empty, Outcome: empty, \u001b[0;31m Satisfaction: True \u001b[0m\n",
      "Training time: 6.05866813659668\n",
      "\u001b[0;31m Action: feel_front \u001b[0m, Prediction: empty, Outcome: empty, \u001b[0;31m Satisfaction: True \u001b[0m\n",
      "\u001b[0;31m Action: forward \u001b[0m, Prediction: empty, Outcome: empty, \u001b[0;31m Satisfaction: True \u001b[0m\n",
      "Time to compute expective valance: 2.8593626022338867\n",
      "expected valence : -67.35 valence explo : -82.00 model predict : ['forward', 'empty', 'feel_front', 'wall', 'feel_front', 'wall'], explo want : ['turn_right', 'empty', 'turn_right', 'empty', 'turn_left', 'empty']\n",
      "\u001b[0;35m after compute ... \u001b[0m ['forward', 'empty', 'feel_front', 'wall', 'feel_front', 'wall']\n",
      "\u001b[0;31m Action: forward \u001b[0m, Prediction: wall, Outcome: wall, \u001b[0;31m Satisfaction: True \u001b[0m\n",
      "Time to compute expective valance: 2.127683639526367\n",
      "expected valence : -75.00 valence explo : -82.00 model predict : ['feel_front', 'wall', 'feel_front', 'wall', 'feel_front', 'wall'], explo want : ['turn_right', 'empty', 'turn_right', 'empty', 'turn_left', 'empty']\n",
      "\u001b[0;35m after compute ... \u001b[0m ['feel_front', 'wall', 'feel_front', 'wall', 'feel_front', 'wall']\n",
      "\u001b[0;31m Action: feel_front \u001b[0m, Prediction: wall, Outcome: wall, \u001b[0;31m Satisfaction: True \u001b[0m\n",
      "Training time: 6.115340709686279\n",
      "\u001b[0;31m Action: feel_front \u001b[0m, Prediction: wall, Outcome: wall, \u001b[0;31m Satisfaction: True \u001b[0m\n"
     ]
    }
   ],
   "source": [
    "for i in tqdm(range(200)):\n",
    "    action, predi = agent.action(outcome, verbose=True)\n",
    "    df2 = agent.prealloc_df\n",
    "    df_val2 = agent.visu_val\n",
    "    df_explo2 = agent.visu_explo\n",
    "    outcome = environenment.outcome(action)\n",
    "    history_good.append(outcome == predi)\n",
    "    history_good_inter.append((action == 'forward' and outcome == 'empty'))\n",
    "    history_bad_inter.append((action == 'forward' and outcome == 'wall'))\n",
    "    hisrory_val.append(valence[inter(action, outcome)])\n",
    "    pourcent_by_10.append(sum(history_good[-10:]) if len(history_good) >= 10 else 0)\n",
    "    by_10_good_inter.append(sum(history_good_inter[-10:]) if len(history_good_inter) >= 10 else 0)\n",
    "    by_10_bad_inter.append(sum(history_bad_inter[-10:]) if len(history_bad_inter) >= 10 else 0)\n",
    "    mean_val.append(np.mean(hisrory_val[-10:]) / 10 if len(hisrory_val) >= 10 else 0)\n",
    "    environenment.save_world(\"imgToGif2\")"
   ]
  },
  {
   "cell_type": "code",
   "execution_count": 14,
   "metadata": {},
   "outputs": [
    {
     "data": {
      "image/png": "[encoded data removed]",
      "text/plain": [
       "<Figure size 640x480 with 1 Axes>"
      ]
     },
     "metadata": {},
     "output_type": "display_data"
    },
    {
     "data": {
      "image/png": "[encoded data removed]",
      "text/plain": [
       "<Figure size 640x480 with 1 Axes>"
      ]
     },
     "metadata": {},
     "output_type": "display_data"
    },
    {
     "data": {
      "image/png": "[encoded data removed]",
      "text/plain": [
       "<Figure size 640x480 with 1 Axes>"
      ]
     },
     "metadata": {},
     "output_type": "display_data"
    },
    {
     "data": {
      "image/png": "[encoded data removed]",
      "text/plain": [
       "<Figure size 640x480 with 1 Axes>"
      ]
     },
     "metadata": {},
     "output_type": "display_data"
    },
    {
     "data": {
      "image/png": "[encoded data removed]",
      "text/plain": [
       "<Figure size 640x480 with 1 Axes>"
      ]
     },
     "metadata": {},
     "output_type": "display_data"
    },
    {
     "data": {
      "image/png": "[encoded data removed]",
      "text/plain": [
       "<Figure size 640x480 with 1 Axes>"
      ]
     },
     "metadata": {},
     "output_type": "display_data"
    },
    {
     "data": {
      "image/png": "[encoded data removed]",
      "text/plain": [
       "<Figure size 640x480 with 1 Axes>"
      ]
     },
     "metadata": {},
     "output_type": "display_data"
    }
   ],
   "source": [
    "see_evolued_loss(agent.loss_train)\n",
    "see_evolued_loss(agent.loss_val)\n",
    "see_evolued_acc(agent.acc_train)\n",
    "see_evolued_acc(agent.acc_val)\n",
    "\n",
    "see_evolued_acc(agent.time_train)\n",
    "see_evolued_acc(agent.time_compute_expected_valence)\n",
    "\n",
    "def int_to_color(value):\n",
    "    if value == 0:\n",
    "        return \"yellow\"\n",
    "    return \"gray\"\n",
    "\n",
    "# Create a figure and axis\n",
    "fig, ax = plt.subplots()\n",
    "\n",
    "for i, value in enumerate(agent.predictExplo):\n",
    "    ax.add_patch(plt.Rectangle((i, 0), width=0, height=10, color=int_to_color(value), alpha=0.4))\n",
    "\n",
    "# Plot the data\n",
    "plt.plot(by_10_bad_inter, label='bad inter', color='red')\n",
    "plt.plot(by_10_good_inter, label='good inter', color='green')\n",
    "plt.plot(pourcent_by_10, label='global', color='blue')\n",
    "plt.plot(mean_val, label='mean valence', color='black')\n",
    "plt.legend()\n",
    "plt.show()\n",
    "plt.close()\n",
    "\n"
   ]
  },
  {
   "cell_type": "code",
   "execution_count": 13,
   "metadata": {},
   "outputs": [
    {
     "data": {
      "application/vnd.plotly.v1+json": {
       "config": {
        "linkText": "Export to plot.ly",
        "plotlyServerURL": "https://plot.ly",
        "showLink": false
       },
       "data": [
        {
         "mode": "markers",
         "text": [
          "wall",
          "empty",
          "forward",
          "turn_left",
          "turn_right",
          "feel_front"
         ],
         "type": "scatter",
         "x": {
          "bdata": "IdyuwVSvY8KPif7CBa63QjGyar1a7OJC",
          "dtype": "f4"
         },
         "y": {
          "bdata": "yW4Kww/8zkJ4Ze/B7tCcQjvdO8G7s47C",
          "dtype": "f4"
         }
        }
       ],
       "layout": {
        "hovermode": "closest",
        "template": {
         "data": {
          "bar": [
           {
            "error_x": {
             "color": "#2a3f5f"
            },
            "error_y": {
             "color": "#2a3f5f"
            },
            "marker": {
             "line": {
              "color": "#E5ECF6",
              "width": 0.5
             },
             "pattern": {
              "fillmode": "overlay",
              "size": 10,
              "solidity": 0.2
             }
            },
            "type": "bar"
           }
          ],
          "barpolar": [
           {
            "marker": {
             "line": {
              "color": "#E5ECF6",
              "width": 0.5
             },
             "pattern": {
              "fillmode": "overlay",
              "size": 10,
              "solidity": 0.2
             }
            },
            "type": "barpolar"
           }
          ],
          "carpet": [
           {
            "aaxis": {
             "endlinecolor": "#2a3f5f",
             "gridcolor": "white",
             "linecolor": "white",
             "minorgridcolor": "white",
             "startlinecolor": "#2a3f5f"
            },
            "baxis": {
             "endlinecolor": "#2a3f5f",
             "gridcolor": "white",
             "linecolor": "white",
             "minorgridcolor": "white",
             "startlinecolor": "#2a3f5f"
            },
            "type": "carpet"
           }
          ],
          "choropleth": [
           {
            "colorbar": {
             "outlinewidth": 0,
             "ticks": ""
            },
            "type": "choropleth"
           }
          ],
          "contour": [
           {
            "colorbar": {
             "outlinewidth": 0,
             "ticks": ""
            },
            "colorscale": [
             [
              0,
              "#0d0887"
             ],
             [
              0.1111111111111111,
              "#46039f"
             ],
             [
              0.2222222222222222,
              "#7201a8"
             ],
             [
              0.3333333333333333,
              "#9c179e"
             ],
             [
              0.4444444444444444,
              "#bd3786"
             ],
             [
              0.5555555555555556,
              "#d8576b"
             ],
             [
              0.6666666666666666,
              "#ed7953"
             ],
             [
              0.7777777777777778,
              "#fb9f3a"
             ],
             [
              0.8888888888888888,
              "#fdca26"
             ],
             [
              1,
              "#f0f921"
             ]
            ],
            "type": "contour"
           }
          ],
          "contourcarpet": [
           {
            "colorbar": {
             "outlinewidth": 0,
             "ticks": ""
            },
            "type": "contourcarpet"
           }
          ],
          "heatmap": [
           {
            "colorbar": {
             "outlinewidth": 0,
             "ticks": ""
            },
            "colorscale": [
             [
              0,
              "#0d0887"
             ],
             [
              0.1111111111111111,
              "#46039f"
             ],
             [
              0.2222222222222222,
              "#7201a8"
             ],
             [
              0.3333333333333333,
              "#9c179e"
             ],
             [
              0.4444444444444444,
              "#bd3786"
             ],
             [
              0.5555555555555556,
              "#d8576b"
             ],
             [
              0.6666666666666666,
              "#ed7953"
             ],
             [
              0.7777777777777778,
              "#fb9f3a"
             ],
             [
              0.8888888888888888,
              "#fdca26"
             ],
             [
              1,
              "#f0f921"
             ]
            ],
            "type": "heatmap"
           }
          ],
          "histogram": [
           {
            "marker": {
             "pattern": {
              "fillmode": "overlay",
              "size": 10,
              "solidity": 0.2
             }
            },
            "type": "histogram"
           }
          ],
          "histogram2d": [
           {
            "colorbar": {
             "outlinewidth": 0,
             "ticks": ""
            },
            "colorscale": [
             [
              0,
              "#0d0887"
             ],
             [
              0.1111111111111111,
              "#46039f"
             ],
             [
              0.2222222222222222,
              "#7201a8"
             ],
             [
              0.3333333333333333,
              "#9c179e"
             ],
             [
              0.4444444444444444,
              "#bd3786"
             ],
             [
              0.5555555555555556,
              "#d8576b"
             ],
             [
              0.6666666666666666,
              "#ed7953"
             ],
             [
              0.7777777777777778,
              "#fb9f3a"
             ],
             [
              0.8888888888888888,
              "#fdca26"
             ],
             [
              1,
              "#f0f921"
             ]
            ],
            "type": "histogram2d"
           }
          ],
          "histogram2dcontour": [
           {
            "colorbar": {
             "outlinewidth": 0,
             "ticks": ""
            },
            "colorscale": [
             [
              0,
              "#0d0887"
             ],
             [
              0.1111111111111111,
              "#46039f"
             ],
             [
              0.2222222222222222,
              "#7201a8"
             ],
             [
              0.3333333333333333,
              "#9c179e"
             ],
             [
              0.4444444444444444,
              "#bd3786"
             ],
             [
              0.5555555555555556,
              "#d8576b"
             ],
             [
              0.6666666666666666,
              "#ed7953"
             ],
             [
              0.7777777777777778,
              "#fb9f3a"
             ],
             [
              0.8888888888888888,
              "#fdca26"
             ],
             [
              1,
              "#f0f921"
             ]
            ],
            "type": "histogram2dcontour"
           }
          ],
          "mesh3d": [
           {
            "colorbar": {
             "outlinewidth": 0,
             "ticks": ""
            },
            "type": "mesh3d"
           }
          ],
          "parcoords": [
           {
            "line": {
             "colorbar": {
              "outlinewidth": 0,
              "ticks": ""
             }
            },
            "type": "parcoords"
           }
          ],
          "pie": [
           {
            "automargin": true,
            "type": "pie"
           }
          ],
          "scatter": [
           {
            "fillpattern": {
             "fillmode": "overlay",
             "size": 10,
             "solidity": 0.2
            },
            "type": "scatter"
           }
          ],
          "scatter3d": [
           {
            "line": {
             "colorbar": {
              "outlinewidth": 0,
              "ticks": ""
             }
            },
            "marker": {
             "colorbar": {
              "outlinewidth": 0,
              "ticks": ""
             }
            },
            "type": "scatter3d"
           }
          ],
          "scattercarpet": [
           {
            "marker": {
             "colorbar": {
              "outlinewidth": 0,
              "ticks": ""
             }
            },
            "type": "scattercarpet"
           }
          ],
          "scattergeo": [
           {
            "marker": {
             "colorbar": {
              "outlinewidth": 0,
              "ticks": ""
             }
            },
            "type": "scattergeo"
           }
          ],
          "scattergl": [
           {
            "marker": {
             "colorbar": {
              "outlinewidth": 0,
              "ticks": ""
             }
            },
            "type": "scattergl"
           }
          ],
          "scattermap": [
           {
            "marker": {
             "colorbar": {
              "outlinewidth": 0,
              "ticks": ""
             }
            },
            "type": "scattermap"
           }
          ],
          "scattermapbox": [
           {
            "marker": {
             "colorbar": {
              "outlinewidth": 0,
              "ticks": ""
             }
            },
            "type": "scattermapbox"
           }
          ],
          "scatterpolar": [
           {
            "marker": {
             "colorbar": {
              "outlinewidth": 0,
              "ticks": ""
             }
            },
            "type": "scatterpolar"
           }
          ],
          "scatterpolargl": [
           {
            "marker": {
             "colorbar": {
              "outlinewidth": 0,
              "ticks": ""
             }
            },
            "type": "scatterpolargl"
           }
          ],
          "scatterternary": [
           {
            "marker": {
             "colorbar": {
              "outlinewidth": 0,
              "ticks": ""
             }
            },
            "type": "scatterternary"
           }
          ],
          "surface": [
           {
            "colorbar": {
             "outlinewidth": 0,
             "ticks": ""
            },
            "colorscale": [
             [
              0,
              "#0d0887"
             ],
             [
              0.1111111111111111,
              "#46039f"
             ],
             [
              0.2222222222222222,
              "#7201a8"
             ],
             [
              0.3333333333333333,
              "#9c179e"
             ],
             [
              0.4444444444444444,
              "#bd3786"
             ],
             [
              0.5555555555555556,
              "#d8576b"
             ],
             [
              0.6666666666666666,
              "#ed7953"
             ],
             [
              0.7777777777777778,
              "#fb9f3a"
             ],
             [
              0.8888888888888888,
              "#fdca26"
             ],
             [
              1,
              "#f0f921"
             ]
            ],
            "type": "surface"
           }
          ],
          "table": [
           {
            "cells": {
             "fill": {
              "color": "#EBF0F8"
             },
             "line": {
              "color": "white"
             }
            },
            "header": {
             "fill": {
              "color": "#C8D4E3"
             },
             "line": {
              "color": "white"
             }
            },
            "type": "table"
           }
          ]
         },
         "layout": {
          "annotationdefaults": {
           "arrowcolor": "#2a3f5f",
           "arrowhead": 0,
           "arrowwidth": 1
          },
          "autotypenumbers": "strict",
          "coloraxis": {
           "colorbar": {
            "outlinewidth": 0,
            "ticks": ""
           }
          },
          "colorscale": {
           "diverging": [
            [
             0,
             "#8e0152"
            ],
            [
             0.1,
             "#c51b7d"
            ],
            [
             0.2,
             "#de77ae"
            ],
            [
             0.3,
             "#f1b6da"
            ],
            [
             0.4,
             "#fde0ef"
            ],
            [
             0.5,
             "#f7f7f7"
            ],
            [
             0.6,
             "#e6f5d0"
            ],
            [
             0.7,
             "#b8e186"
            ],
            [
             0.8,
             "#7fbc41"
            ],
            [
             0.9,
             "#4d9221"
            ],
            [
             1,
             "#276419"
            ]
           ],
           "sequential": [
            [
             0,
             "#0d0887"
            ],
            [
             0.1111111111111111,
             "#46039f"
            ],
            [
             0.2222222222222222,
             "#7201a8"
            ],
            [
             0.3333333333333333,
             "#9c179e"
            ],
            [
             0.4444444444444444,
             "#bd3786"
            ],
            [
             0.5555555555555556,
             "#d8576b"
            ],
            [
             0.6666666666666666,
             "#ed7953"
            ],
            [
             0.7777777777777778,
             "#fb9f3a"
            ],
            [
             0.8888888888888888,
             "#fdca26"
            ],
            [
             1,
             "#f0f921"
            ]
           ],
           "sequentialminus": [
            [
             0,
             "#0d0887"
            ],
            [
             0.1111111111111111,
             "#46039f"
            ],
            [
             0.2222222222222222,
             "#7201a8"
            ],
            [
             0.3333333333333333,
             "#9c179e"
            ],
            [
             0.4444444444444444,
             "#bd3786"
            ],
            [
             0.5555555555555556,
             "#d8576b"
            ],
            [
             0.6666666666666666,
             "#ed7953"
            ],
            [
             0.7777777777777778,
             "#fb9f3a"
            ],
            [
             0.8888888888888888,
             "#fdca26"
            ],
            [
             1,
             "#f0f921"
            ]
           ]
          },
          "colorway": [
           "#636efa",
           "#EF553B",
           "#00cc96",
           "#ab63fa",
           "#FFA15A",
           "#19d3f3",
           "#FF6692",
           "#B6E880",
           "#FF97FF",
           "#FECB52"
          ],
          "font": {
           "color": "#2a3f5f"
          },
          "geo": {
           "bgcolor": "white",
           "lakecolor": "white",
           "landcolor": "#E5ECF6",
           "showlakes": true,
           "showland": true,
           "subunitcolor": "white"
          },
          "hoverlabel": {
           "align": "left"
          },
          "hovermode": "closest",
          "mapbox": {
           "style": "light"
          },
          "paper_bgcolor": "white",
          "plot_bgcolor": "#E5ECF6",
          "polar": {
           "angularaxis": {
            "gridcolor": "white",
            "linecolor": "white",
            "ticks": ""
           },
           "bgcolor": "#E5ECF6",
           "radialaxis": {
            "gridcolor": "white",
            "linecolor": "white",
            "ticks": ""
           }
          },
          "scene": {
           "xaxis": {
            "backgroundcolor": "#E5ECF6",
            "gridcolor": "white",
            "gridwidth": 2,
            "linecolor": "white",
            "showbackground": true,
            "ticks": "",
            "zerolinecolor": "white"
           },
           "yaxis": {
            "backgroundcolor": "#E5ECF6",
            "gridcolor": "white",
            "gridwidth": 2,
            "linecolor": "white",
            "showbackground": true,
            "ticks": "",
            "zerolinecolor": "white"
           },
           "zaxis": {
            "backgroundcolor": "#E5ECF6",
            "gridcolor": "white",
            "gridwidth": 2,
            "linecolor": "white",
            "showbackground": true,
            "ticks": "",
            "zerolinecolor": "white"
           }
          },
          "shapedefaults": {
           "line": {
            "color": "#2a3f5f"
           }
          },
          "ternary": {
           "aaxis": {
            "gridcolor": "white",
            "linecolor": "white",
            "ticks": ""
           },
           "baxis": {
            "gridcolor": "white",
            "linecolor": "white",
            "ticks": ""
           },
           "bgcolor": "#E5ECF6",
           "caxis": {
            "gridcolor": "white",
            "linecolor": "white",
            "ticks": ""
           }
          },
          "title": {
           "x": 0.05
          },
          "xaxis": {
           "automargin": true,
           "gridcolor": "white",
           "linecolor": "white",
           "ticks": "",
           "title": {
            "standoff": 15
           },
           "zerolinecolor": "white",
           "zerolinewidth": 2
          },
          "yaxis": {
           "automargin": true,
           "gridcolor": "white",
           "linecolor": "white",
           "ticks": "",
           "title": {
            "standoff": 15
           },
           "zerolinecolor": "white",
           "zerolinewidth": 2
          }
         }
        },
        "title": {
         "text": "t-SNE 1 vs t-SNE 2"
        },
        "xaxis": {
         "title": {
          "text": "t-SNE 1"
         }
        },
        "yaxis": {
         "title": {
          "text": "t-SNE 2"
         }
        }
       }
      }
     },
     "metadata": {},
     "output_type": "display_data"
    }
   ],
   "source": [
    "from sklearn.manifold import TSNE\n",
    "import plotly.graph_objs as go\n",
    "import plotly.offline as py\n",
    "\n",
    "# Get weights\n",
    "embds = agent.model.embedding.weight.detach().cpu().numpy()\n",
    "\n",
    "# Plotting function\n",
    "def plot_words(data, start, stop, step):\n",
    "    trace = go.Scatter(\n",
    "        x = data[start:stop:step, 0], \n",
    "        y = data[start:stop:step, 1],\n",
    "        mode = 'markers',\n",
    "        text = [tokenizer.decode(i) for i in range(start, stop, step)]\n",
    "    )\n",
    "    layout = dict(title= 't-SNE 1 vs t-SNE 2',\n",
    "                  yaxis = dict(title='t-SNE 2'),\n",
    "                  xaxis = dict(title='t-SNE 1'),\n",
    "                  hovermode= 'closest')\n",
    "    fig = dict(data = [trace], layout= layout)\n",
    "    py.iplot(fig)\n",
    "\n",
    "# Visualize words in two dimensions \n",
    "# Set perplexity to a value less than the number of samples\n",
    "perplexity_value = min(30, len(embds) - 1)  # Ensure perplexity is less than the number of samples\n",
    "conv_tsne_embds = TSNE(n_components=2, perplexity=5).fit_transform(embds)\n",
    "plot_words(conv_tsne_embds, 0, len(embds), 1)"
   ]
  },
  {
   "cell_type": "code",
   "execution_count": null,
   "metadata": {},
   "outputs": [],
   "source": []
  },
  {
   "cell_type": "code",
   "execution_count": null,
   "metadata": {},
   "outputs": [],
   "source": []
  }
 ],
 "metadata": {
  "kernelspec": {
   "display_name": "Stage (torch)",
   "language": "python",
   "name": "dpt_transformers"
  },
  "language_info": {
   "codemirror_mode": {
    "name": "ipython",
    "version": 3
   },
   "file_extension": ".py",
   "mimetype": "text/x-python",
   "name": "python",
   "nbconvert_exporter": "python",
   "pygments_lexer": "ipython3",
   "version": "3.11.2"
  }
 },
 "nbformat": 4,
 "nbformat_minor": 2
}
