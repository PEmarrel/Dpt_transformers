{
 "cells": [
  {
   "cell_type": "code",
   "execution_count": 1,
   "metadata": {},
   "outputs": [],
   "source": [
    "from environnement.small_loop import small_loop\n",
    "from model.Tokenizer import SimpleTokenizerV1\n",
    "from environnement.gridWorld import gridWorld\n",
    "from environnement.tools import *\n",
    "from environnement.Robot import Robot\n",
    "from outil import *\n",
    "\n",
    "import numpy as np\n",
    "import matplotlib.pyplot as plt\n",
    "import pandas as pd"
   ]
  },
  {
   "cell_type": "code",
   "execution_count": 2,
   "metadata": {},
   "outputs": [],
   "source": [
    "seq =\\\n",
    "['forward', 'empty', 'feel_right', 'empty', 'turn_left', 'empty', 'feel_front', 'empty', 'feel_front', 'empty', 'forward', 'empty', 'feel_left', 'empty', 'feel_front', 'wall', 'feel_left', 'empty', 'feel_left', 'empty', 'feel_left', 'empty', 'feel_front', 'wall', 'forward', 'wall', 'turn_right', 'empty', 'turn_right', '<pad>']"
   ]
  },
  {
   "cell_type": "code",
   "execution_count": 3,
   "metadata": {},
   "outputs": [
    {
     "name": "stdout",
     "output_type": "stream",
     "text": [
      "in memory :  True\n",
      "True\n",
      "3\n"
     ]
    }
   ],
   "source": [
    "list_array = process_sequence(seq, 6, \"imgToGif\")\n",
    "print('in memory : ', info_in_memory(list_array))\n",
    "print(info_in_seq(seq, 6))\n",
    "print(info_step_in_memory(list_array))"
   ]
  },
  {
   "cell_type": "code",
   "execution_count": null,
   "metadata": {},
   "outputs": [],
   "source": [
    "dict_test = {}\n",
    "dict_test.update({'empty': {\"action\": \"feel\",'expected':0 }})\n",
    "dict_test.update({'wall': {\"action\": \"feel\",'expected':0 }})\n",
    "print(dict_test)"
   ]
  },
  {
   "cell_type": "code",
   "execution_count": null,
   "metadata": {},
   "outputs": [],
   "source": [
    "dict_test_child = [{\n",
    "    \"action\": \"forward\",\n",
    "    \"expected_valence\": -20\n",
    "},\n",
    "{\n",
    "    \"action\": \"feel\",\n",
    "    \"expected_valence\": -10\n",
    "},\n",
    "{\n",
    "    \"action\": \"turn\",\n",
    "    \"expected_valence\": -40\n",
    "}]\n",
    "best_child = max(dict_test_child, key=lambda x: x[\"expected_valence\"])\n",
    "print(best_child)"
   ]
  },
  {
   "cell_type": "code",
   "execution_count": null,
   "metadata": {},
   "outputs": [],
   "source": [
    "import numpy as np\n",
    "# env = gridWorld(x=1, y=1, theta=0, world=np.array([\n",
    "#                 [1, 1, 1, 1, 1, 1, 1, 1, 1, 1],\n",
    "#                 [1, 0, 0, 0, 1, 0, 0, 0, 1, 1],\n",
    "#                 [1, 0, 1, 0, 0, 1, 1, 0, 0, 1],\n",
    "#                 [1, 0, 1, 1, 1, 0, 0, 1, 0, 1],\n",
    "#                 [1, 0, 0, 1, 0, 0, 0, 0, 0, 1],\n",
    "#                 [1, 1, 0, 0, 0, 1, 1, 0, 1, 1],\n",
    "#                 [1, 1, 1, 1, 1, 1, 1, 1, 1, 1],\n",
    "                \n",
    "#             ]))\n",
    "\n",
    "# env.display_world()\n",
    "# env.get_world()\n",
    "\n",
    "env = gridWorldMoreFB(x=1, y=1, theta=0, range_feel=3, world=np.array([\n",
    "                [1, 1, 1, 1, 1, 1, 1, 1, 1, 1],\n",
    "                [1, 0, 0, 0, 1, 0, 0, 0, 1, 1],\n",
    "                [1, 0, 1, 0, 0, 1, 1, 0, 0, 1],\n",
    "                [1, 0, 1, 1, 1, 0, 0, 1, 0, 1],\n",
    "                [1, 0, 0, 1, 0, 0, 0, 0, 0, 1],\n",
    "                [1, 1, 0, 0, 0, 1, 1, 0, 1, 1],\n",
    "                [1, 1, 1, 1, 1, 1, 1, 1, 1, 1],\n",
    "                \n",
    "            ]))\n",
    "\n",
    "env.display_world()\n",
    "env.get_world()\n",
    "\n",
    "env.display_world()\n",
    "env.get_world()"
   ]
  },
  {
   "cell_type": "code",
   "execution_count": null,
   "metadata": {},
   "outputs": [],
   "source": [
    "env.outcome(\"forward\")"
   ]
  },
  {
   "cell_type": "code",
   "execution_count": null,
   "metadata": {},
   "outputs": [],
   "source": [
    "print(env.get_outcomes())"
   ]
  },
  {
   "cell_type": "code",
   "execution_count": null,
   "metadata": {},
   "outputs": [],
   "source": [
    "env.outcome(\"turn_right\")\n"
   ]
  },
  {
   "cell_type": "code",
   "execution_count": null,
   "metadata": {},
   "outputs": [],
   "source": [
    "print(env.outcome(\"feel_right\"))\n",
    "env.display_world()"
   ]
  },
  {
   "cell_type": "code",
   "execution_count": null,
   "metadata": {},
   "outputs": [],
   "source": [
    "print(env.outcome(\"feel_left\"))\n",
    "env.display_world()"
   ]
  },
  {
   "cell_type": "code",
   "execution_count": null,
   "metadata": {},
   "outputs": [],
   "source": [
    "print(env.outcome(\"feel_front\"))\n",
    "env.display_world()"
   ]
  },
  {
   "cell_type": "code",
   "execution_count": null,
   "metadata": {},
   "outputs": [],
   "source": [
    "# 100 act rand\n",
    "acts = []\n",
    "fbs = []\n",
    "interactions = []\n",
    "\n",
    "for _ in range(1000):\n",
    "    act = str(np.random.choice(env.get_actions()))\n",
    "    fb = env.outcome(act)\n",
    "    acts.append(act)\n",
    "    fbs.append(fb)\n",
    "    interactions += [act, fb]"
   ]
  },
  {
   "cell_type": "code",
   "execution_count": null,
   "metadata": {},
   "outputs": [],
   "source": [
    "print(interactions)"
   ]
  },
  {
   "cell_type": "code",
   "execution_count": null,
   "metadata": {},
   "outputs": [],
   "source": [
    "def find_sub_list(liste):\n",
    "    pattern = {}\n",
    "    \n",
    "    for i in range(0, len(liste) - 4, 2):\n",
    "        if pattern.get(str(liste[i:i+3])) == None:\n",
    "            pattern[str(liste[i:i+3])] = {\"fb\":liste[i + 3], \"count\":1}\n",
    "        else:\n",
    "            if pattern[str(liste[i:i+3])][\"count\"] != -1:\n",
    "                pattern[str(liste[i:i+3])][\"count\"] += 1\n",
    "            if pattern[str(liste[i:i+3])][\"fb\"] != liste[i + 3]:\n",
    "                pattern[str(liste[i:i+3])][\"count\"] = -1\n",
    "    return pattern\n",
    "\n",
    "find_sub_list(interactions)"
   ]
  },
  {
   "cell_type": "code",
   "execution_count": null,
   "metadata": {},
   "outputs": [],
   "source": [
    "def replace_sub_list(liste, pattern:dict):\n",
    "    new_list = []\n",
    "    list_pattern = pattern.keys()\n",
    "    for i in range(0, len(liste) - 4, 2):\n",
    "        if \n",
    "        \n",
    "    return pattern"
   ]
  },
  {
   "cell_type": "code",
   "execution_count": null,
   "metadata": {},
   "outputs": [],
   "source": [
    "dicco = {\n",
    "    'a': 0,\n",
    "    'b': 1,\n",
    "    'c': 3,\n",
    "    'd': 4,\n",
    "    'e': 5,\n",
    "    'f': 6,\n",
    "    'g': 7,\n",
    "    'h': 8,\n",
    "    'i': 9,\n",
    "    'j': 10,\n",
    "}\n",
    "\n",
    "tokenizer = SimpleTokenizerV1(dicco)\n",
    "\n",
    "data = CustomLoader(['a', 'b', 'c', 'd', 'e'], ['a', 'b', 'a', 'b', 'b'], 3, tokenizer)\n",
    "print(data.__len__())\n",
    "for i in range(data.__len__()):\n",
    "    print(data.__getitem__(i))\n",
    "    print('---')"
   ]
  },
  {
   "cell_type": "code",
   "execution_count": null,
   "metadata": {},
   "outputs": [],
   "source": [
    "import numpy as np\n",
    "env:small_loop = small_loop(x=1, y=1, theta=0, world=np.array([\n",
    "                [1, 1, 1, 1, 1, 1],\n",
    "                [1, 0, 0, 0, 0, 1],\n",
    "                [1, 0, 1, 0, 0, 1],\n",
    "                [1, 0, 1, 0, 0, 1],\n",
    "                [1, 0, 1, 0, 0, 1],\n",
    "                [1, 1, 1, 1, 1, 1],\n",
    "            ]))\n",
    "env.display_world()\n",
    "env.get_world()\n"
   ]
  },
  {
   "cell_type": "code",
   "execution_count": null,
   "metadata": {},
   "outputs": [],
   "source": [
    "print(env.outcome(\"turn_left\"))\n",
    "env.display_world()"
   ]
  },
  {
   "cell_type": "code",
   "execution_count": null,
   "metadata": {},
   "outputs": [],
   "source": [
    "print(env.outcome(\"forward\"))\n",
    "env.display_world()\n"
   ]
  },
  {
   "cell_type": "code",
   "execution_count": null,
   "metadata": {},
   "outputs": [],
   "source": [
    "dico = {\n",
    "    0: \"empty\",\n",
    "    1: \"wall\",\n",
    "}\n",
    "\n",
    "print(dico[True])\n",
    "\n",
    "print(env.get_outcomes())"
   ]
  }
 ],
 "metadata": {
  "kernelspec": {
   "display_name": "Stage (torch)",
   "language": "python",
   "name": "dpt_transformers"
  },
  "language_info": {
   "codemirror_mode": {
    "name": "ipython",
    "version": 3
   },
   "file_extension": ".py",
   "mimetype": "text/x-python",
   "name": "python",
   "nbconvert_exporter": "python",
   "pygments_lexer": "ipython3",
   "version": "3.11.2"
  }
 },
 "nbformat": 4,
 "nbformat_minor": 2
}
