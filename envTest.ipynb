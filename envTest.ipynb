{
 "cells": [
  {
   "cell_type": "code",
   "execution_count": 1,
   "metadata": {},
   "outputs": [],
   "source": [
    "from environnement.small_loop import small_loop\n",
    "from model.Tokenizer import SimpleTokenizerV1\n",
    "from environnement.gridWorld import gridWorld\n",
    "from environnement.tools import *\n",
    "from environnement.Robot import Robot\n",
    "from outil import *\n",
    "from model.OneHot import OneHot\n",
    "\n",
    "from model.TokenDrop import TokenDropOddWithOH\n",
    "\n",
    "import numpy as np\n",
    "import matplotlib.pyplot as plt\n",
    "import pandas as pd\n",
    "import torch"
   ]
  },
  {
   "cell_type": "code",
   "execution_count": 2,
   "metadata": {},
   "outputs": [
    {
     "name": "stdout",
     "output_type": "stream",
     "text": [
      "[1, 0, 0, 0, 0, 0, 0, 0, 0]\n",
      "[1, 0, 0, 0, 0, 0, 0, 0, 0]\n",
      "['<pad>']\n",
      "___________________________\n",
      "[0, 1, 0, 0, 0, 0, 0, 0, 0]\n",
      "[0, 1, 0, 0, 0, 0, 0, 0, 0]\n",
      "['forward']\n",
      "___________________________\n",
      "[0, 0, 1, 0, 0, 0, 0, 0, 0]\n",
      "[0, 0, 1, 0, 0, 0, 0, 0, 0]\n",
      "['feel_front']\n",
      "___________________________\n",
      "[0, 0, 0, 1, 0, 0, 0, 0, 0]\n",
      "[0, 0, 0, 1, 0, 0, 0, 0, 0]\n",
      "['feel_left']\n",
      "___________________________\n",
      "[0, 0, 0, 0, 1, 0, 0, 0, 0]\n",
      "[0, 0, 0, 0, 1, 0, 0, 0, 0]\n",
      "['feel_right']\n",
      "___________________________\n",
      "[0, 0, 0, 0, 0, 1, 0, 0, 0]\n",
      "[0, 0, 0, 0, 0, 1, 0, 0, 0]\n",
      "['turn_left']\n",
      "___________________________\n",
      "[0, 0, 0, 0, 0, 0, 1, 0, 0]\n",
      "[0, 0, 0, 0, 0, 0, 1, 0, 0]\n",
      "['turn_right']\n",
      "___________________________\n",
      "[0, 0, 0, 0, 0, 0, 0, 1, 0]\n",
      "[0, 0, 0, 0, 0, 0, 0, 1, 0]\n",
      "['empty']\n",
      "___________________________\n",
      "[0, 0, 0, 0, 0, 0, 0, 0, 1]\n",
      "[0, 0, 0, 0, 0, 0, 0, 0, 1]\n",
      "['wall']\n",
      "___________________________\n",
      "[0, 0, 0, 0, 0, 0, 0, 1, 0]\n",
      "['turn_left', 'empty', 'turn_left', 'empty', 'turn_left', 'empty', 'feel_front', 'wall', 'feel_right', 'empty', 'turn_right', 'empty', 'feel_left', 'wall', 'forward', 'empty', 'turn_left', 'empty', 'turn_left', 'empty', 'feel_left', 'wall', 'feel_front', 'empty', 'feel_front', 'empty', 'forward', 'empty', 'turn_left', 'empty', 'feel_left', 'empty', 'turn_left', 'empty', 'turn_left', 'empty', 'feel_right', 'empty', 'feel_front', '<pad>']\n"
     ]
    }
   ],
   "source": [
    "list_vocab = ['<pad>', 'forward', 'feel_front','feel_left', 'feel_right', 'turn_left', 'turn_right', 'empty', 'wall']\n",
    "tmp = create_dico_numerate_word(list_vocab)\n",
    "test = OneHot(tmp)\n",
    "\n",
    "for i in range(len(list_vocab)):\n",
    "    print(test.encode(list_vocab[i]))\n",
    "    one_hot_encode = test.encode(list_vocab[i])\n",
    "    print(one_hot_encode)\n",
    "    print(test.decode(one_hot_encode))\n",
    "    print(\"___________________________\")\n",
    "    \n",
    "print(test.encode('empty'))\n",
    "seq = \\\n",
    "['turn_left', 'empty', 'turn_left', 'empty', 'turn_left', 'empty', 'feel_front', 'wall', 'feel_right', 'empty', 'turn_right', 'empty', 'feel_left', 'wall', 'forward', 'empty', 'turn_left', 'empty', 'turn_left', 'empty', 'feel_left', 'wall', 'feel_front', 'empty', 'feel_front', 'empty', 'forward', 'empty', 'turn_left', 'empty', 'feel_left', 'empty', 'turn_left', 'empty', 'turn_left', 'empty', 'feel_right', 'empty', 'feel_front', '<pad>']\n",
    "tmp = test.encode(seq)\n",
    "print(test.decode(tmp))\n"
   ]
  },
  {
   "cell_type": "code",
   "execution_count": 3,
   "metadata": {},
   "outputs": [
    {
     "name": "stdout",
     "output_type": "stream",
     "text": [
      "stack :\n",
      "tensor([[0, 1],\n",
      "        [2, 3],\n",
      "        [4, 5]]) torch.Size([3, 2])\n"
     ]
    }
   ],
   "source": [
    "x = torch.tensor([0, 2, 4])\n",
    "y = torch.tensor([1, 3, 5])\n",
    "\n",
    "# Redimensionner et concaténer en une seule étape\n",
    "stacked = torch.cat((x.unsqueeze(1), y.unsqueeze(1)), dim=1)\n",
    "\n",
    "print(\"stack :\")\n",
    "print(stacked, stacked.shape)"
   ]
  },
  {
   "cell_type": "code",
   "execution_count": 14,
   "metadata": {},
   "outputs": [
    {
     "name": "stdout",
     "output_type": "stream",
     "text": [
      "tensor([[[0, 0, 0, 0, 0, 1, 0, 0, 0],\n",
      "         [0, 0, 0, 0, 0, 0, 0, 0, 1],\n",
      "         [0, 0, 1, 0, 0, 0, 0, 0, 0],\n",
      "         [0, 0, 0, 0, 0, 0, 0, 1, 0],\n",
      "         [0, 0, 0, 0, 0, 1, 0, 0, 0],\n",
      "         [0, 0, 0, 0, 0, 0, 0, 1, 0]]])\n",
      "tensor([[0, 1],\n",
      "        [0, 1],\n",
      "        [0, 1]])\n",
      "tensor([0, 1, 0, 1, 0, 1])\n",
      "tensor([[[ 0,  0,  0,  0,  0,  1,  0,  0,  0],\n",
      "         [-1, -1, -1, -1, -1, -1, -1, -1, -1],\n",
      "         [ 0,  0,  1,  0,  0,  0,  0,  0,  0],\n",
      "         [-1, -1, -1, -1, -1, -1, -1, -1, -1],\n",
      "         [ 0,  0,  0,  0,  0,  1,  0,  0,  0],\n",
      "         [-1, -1, -1, -1, -1, -1, -1, -1, -1]]]) torch.Size([1, 6, 9])\n"
     ]
    }
   ],
   "source": [
    "td = TokenDropOddWithOH(test, 0.9)\n",
    "seq = ['turn_left', 'wall', 'feel_front', 'empty', 'turn_left', 'empty']\n",
    "\n",
    "tensor_test = torch.tensor(test.encode(seq))\n",
    "tensor_test = tensor_test.unsqueeze(0)\n",
    "\n",
    "print(torch.unflatten(tensor_test, 1, (6, 9)))\n",
    "res = td(tensor_test)\n",
    "# pass 1, 54 to 1, 6, 9\n",
    "res = torch.unflatten(res, 1, (6, 9))\n",
    "print(res, res.shape)\n"
   ]
  },
  {
   "cell_type": "code",
   "execution_count": null,
   "metadata": {},
   "outputs": [
    {
     "name": "stdout",
     "output_type": "stream",
     "text": [
      "tensor([[0, 0, 0, 0, 0, 0, 0, 0, 0, 0, 0, 0, 0, 0, 0, 0, 0, 0, 0, 0, 0, 0, 0, 0,\n",
      "         0, 0, 0, 0, 0, 0, 0, 0, 0, 0, 0, 0, 0, 0, 0, 0, 0, 0, 0, 0, 0, 0, 0, 0,\n",
      "         0, 0, 0, 0, 0, 0]])\n",
      "tensor([[0.2000, 0.2000, 0.2000, 0.2000, 0.2000, 0.2000, 0.2000, 0.2000, 0.2000,\n",
      "         0.2000, 0.2000, 0.2000, 0.2000, 0.2000, 0.2000, 0.2000, 0.2000, 0.2000,\n",
      "         0.2000, 0.2000, 0.2000, 0.2000, 0.2000, 0.2000, 0.2000, 0.2000, 0.2000,\n",
      "         0.2000, 0.2000, 0.2000, 0.2000, 0.2000, 0.2000, 0.2000, 0.2000, 0.2000,\n",
      "         0.2000, 0.2000, 0.2000, 0.2000, 0.2000, 0.2000, 0.2000, 0.2000, 0.2000,\n",
      "         0.2000, 0.2000, 0.2000, 0.2000, 0.2000, 0.2000, 0.2000, 0.2000, 0.2000]])\n",
      "tensor([[0, 0, 0, 0, 0, 0, 0, 0, 0, 0, 0, 0, 0, 0, 0, 0, 0, 0, 0, 0, 0, 0, 0, 0,\n",
      "         0, 0, 0, 0, 0, 0, 0, 0, 0, 0, 0, 0, 0, 0, 0, 0, 0, 0, 0, 0, 0, 0, 0, 0,\n",
      "         0, 0, 0, 0, 0, 0]])\n"
     ]
    }
   ],
   "source": [
    "\n",
    "print(torch.zeros_like(tensor_test))\n",
    "print(0.2 * torch.ones_like(tensor_test))\n",
    "\n",
    "print(torch.bernoulli(0.1 * torch.ones_like(tensor_test)).long())"
   ]
  },
  {
   "cell_type": "code",
   "execution_count": 5,
   "metadata": {},
   "outputs": [],
   "source": [
    "seq =\\\n",
    "['turn_left', 'empty', 'turn_left', 'empty', 'turn_left', 'empty', 'feel_front', 'wall', 'feel_right', 'empty', 'turn_right', 'empty', 'feel_left', 'wall', 'forward', 'empty', 'turn_left', 'empty', 'turn_left', 'empty', 'feel_left', 'wall', 'feel_front', 'empty', 'feel_front', 'empty', 'forward', 'empty', 'turn_left', 'empty', 'feel_left', 'empty', 'turn_left', 'empty', 'turn_left', 'empty', 'feel_right', 'empty', 'feel_front', '<pad>']"
   ]
  },
  {
   "cell_type": "code",
   "execution_count": 4,
   "metadata": {},
   "outputs": [
    {
     "data": {
      "text/plain": [
       "40"
      ]
     },
     "execution_count": 4,
     "metadata": {},
     "output_type": "execute_result"
    }
   ],
   "source": [
    "len(seq)"
   ]
  },
  {
   "cell_type": "code",
   "execution_count": 3,
   "metadata": {},
   "outputs": [
    {
     "name": "stdout",
     "output_type": "stream",
     "text": [
      "in memory :  True\n",
      "True\n",
      "3\n"
     ]
    }
   ],
   "source": [
    "list_array, x, y, theta = process_sequence(seq, 6, \"imgToGif\")\n",
    "print('in memory : ', info_in_memory(list_array))\n",
    "print(info_in_seq(seq, 6))\n",
    "print(info_step_in_memory(list_array))"
   ]
  },
  {
   "cell_type": "code",
   "execution_count": null,
   "metadata": {},
   "outputs": [],
   "source": [
    "list_array, x, y, theta = process_sequence_inter(seq, 6, \"imgToGif\")\n",
    "print('in memory : ', info_in_memory(list_array))\n",
    "print(info_in_seq(seq, 6))\n",
    "print(info_step_in_memory(list_array))"
   ]
  },
  {
   "cell_type": "code",
   "execution_count": 11,
   "metadata": {},
   "outputs": [
    {
     "name": "stdout",
     "output_type": "stream",
     "text": [
      "[False, True, True]\n",
      "[False, True, True]\n"
     ]
    }
   ],
   "source": [
    "print(feel_info_end_sequence(seq, 6))\n",
    "\n",
    "print(feel_info_end_sequence(seq, 6, (list_array, x, y, theta)))"
   ]
  },
  {
   "cell_type": "code",
   "execution_count": null,
   "metadata": {},
   "outputs": [
    {
     "name": "stdout",
     "output_type": "stream",
     "text": [
      "[True, True, True]\n"
     ]
    }
   ],
   "source": [
    "# def feel_info_end_sequence(seq: list, size: int):\n",
    "#     \"\"\"\n",
    "#     This function analyzes a sequence of interactions and determines for each feeling if\n",
    "#     sequence have information.\n",
    "\n",
    "#     Parameters:\n",
    "#     seq (list): A list of interaction in this format ['action', 'feedback', ...].\n",
    "#     size (int): This size must correspond to twice the maximum length of the environment.\n",
    "\n",
    "#     Returns:\n",
    "#     list: A list of boolean values indicating whether each \"feeling\" action at the end \n",
    "#           of the sequence provides information (True) or not (False).\n",
    "#     \"\"\"\n",
    "#     last_step_info = -2 if seq[-1] == '<pad>' else -1\n",
    "#     list_array, x, y, theta = process_sequence(seq, size, \"imgToGif\")\n",
    "#     # print('x, y, theta : ', x, y, theta)\n",
    "#     directions_x = [\n",
    "#         -1,\n",
    "#         0,\n",
    "#         1,\n",
    "#         0,\n",
    "#     ]\n",
    "#     directions_y = [\n",
    "#         0,\n",
    "#         1,\n",
    "#         0,\n",
    "#         -1,\n",
    "#     ]\n",
    "\n",
    "#     feel_bool = []\n",
    "#     for i in range(-1, 2):\n",
    "#         theta_feel = (theta + i) % 4\n",
    "#         x_feel = x + directions_x[theta_feel]\n",
    "#         y_feel = y + directions_y[theta_feel]\n",
    "#         feel_bool.append(bool(list_array[last_step_info] [x_feel, y_feel] != 1))\n",
    "#     return feel_bool\n",
    "# print(feel_info_end_sequence(seq, 6))\n",
    "\n"
   ]
  },
  {
   "cell_type": "code",
   "execution_count": 4,
   "metadata": {},
   "outputs": [
    {
     "name": "stdout",
     "output_type": "stream",
     "text": [
      "{'empty': {'action': 'feel', 'expected': 0}, 'wall': {'action': 'feel', 'expected': 0}}\n"
     ]
    }
   ],
   "source": [
    "dict_test = {}\n",
    "dict_test.update({'empty': {\"action\": \"feel\",'expected':0 }})\n",
    "dict_test.update({'wall': {\"action\": \"feel\",'expected':0 }})\n",
    "print(dict_test)"
   ]
  },
  {
   "cell_type": "code",
   "execution_count": 5,
   "metadata": {},
   "outputs": [
    {
     "name": "stdout",
     "output_type": "stream",
     "text": [
      "{'action': 'feel', 'expected_valence': -10}\n"
     ]
    }
   ],
   "source": [
    "dict_test_child = [{\n",
    "    \"action\": \"forward\",\n",
    "    \"expected_valence\": -20\n",
    "},\n",
    "{\n",
    "    \"action\": \"feel\",\n",
    "    \"expected_valence\": -10\n",
    "},\n",
    "{\n",
    "    \"action\": \"turn\",\n",
    "    \"expected_valence\": -40\n",
    "}]\n",
    "best_child = max(dict_test_child, key=lambda x: x[\"expected_valence\"])\n",
    "print(best_child)"
   ]
  },
  {
   "cell_type": "code",
   "execution_count": 6,
   "metadata": {},
   "outputs": [
    {
     "ename": "NameError",
     "evalue": "name 'gridWorldMoreFB' is not defined",
     "output_type": "error",
     "traceback": [
      "\u001b[0;31m---------------------------------------------------------------------------\u001b[0m",
      "\u001b[0;31mNameError\u001b[0m                                 Traceback (most recent call last)",
      "Cell \u001b[0;32mIn[6], line 16\u001b[0m\n\u001b[1;32m      1\u001b[0m \u001b[38;5;28;01mimport\u001b[39;00m\u001b[38;5;250m \u001b[39m\u001b[38;5;21;01mnumpy\u001b[39;00m\u001b[38;5;250m \u001b[39m\u001b[38;5;28;01mas\u001b[39;00m\u001b[38;5;250m \u001b[39m\u001b[38;5;21;01mnp\u001b[39;00m\n\u001b[1;32m      2\u001b[0m \u001b[38;5;66;03m# env = gridWorld(x=1, y=1, theta=0, world=np.array([\u001b[39;00m\n\u001b[1;32m      3\u001b[0m \u001b[38;5;66;03m#                 [1, 1, 1, 1, 1, 1, 1, 1, 1, 1],\u001b[39;00m\n\u001b[1;32m      4\u001b[0m \u001b[38;5;66;03m#                 [1, 0, 0, 0, 1, 0, 0, 0, 1, 1],\u001b[39;00m\n\u001b[0;32m   (...)\u001b[0m\n\u001b[1;32m     13\u001b[0m \u001b[38;5;66;03m# env.display_world()\u001b[39;00m\n\u001b[1;32m     14\u001b[0m \u001b[38;5;66;03m# env.get_world()\u001b[39;00m\n\u001b[0;32m---> 16\u001b[0m env \u001b[38;5;241m=\u001b[39m \u001b[43mgridWorldMoreFB\u001b[49m(x\u001b[38;5;241m=\u001b[39m\u001b[38;5;241m1\u001b[39m, y\u001b[38;5;241m=\u001b[39m\u001b[38;5;241m1\u001b[39m, theta\u001b[38;5;241m=\u001b[39m\u001b[38;5;241m0\u001b[39m, range_feel\u001b[38;5;241m=\u001b[39m\u001b[38;5;241m3\u001b[39m, world\u001b[38;5;241m=\u001b[39mnp\u001b[38;5;241m.\u001b[39marray([\n\u001b[1;32m     17\u001b[0m                 [\u001b[38;5;241m1\u001b[39m, \u001b[38;5;241m1\u001b[39m, \u001b[38;5;241m1\u001b[39m, \u001b[38;5;241m1\u001b[39m, \u001b[38;5;241m1\u001b[39m, \u001b[38;5;241m1\u001b[39m, \u001b[38;5;241m1\u001b[39m, \u001b[38;5;241m1\u001b[39m, \u001b[38;5;241m1\u001b[39m, \u001b[38;5;241m1\u001b[39m],\n\u001b[1;32m     18\u001b[0m                 [\u001b[38;5;241m1\u001b[39m, \u001b[38;5;241m0\u001b[39m, \u001b[38;5;241m0\u001b[39m, \u001b[38;5;241m0\u001b[39m, \u001b[38;5;241m1\u001b[39m, \u001b[38;5;241m0\u001b[39m, \u001b[38;5;241m0\u001b[39m, \u001b[38;5;241m0\u001b[39m, \u001b[38;5;241m1\u001b[39m, \u001b[38;5;241m1\u001b[39m],\n\u001b[1;32m     19\u001b[0m                 [\u001b[38;5;241m1\u001b[39m, \u001b[38;5;241m0\u001b[39m, \u001b[38;5;241m1\u001b[39m, \u001b[38;5;241m0\u001b[39m, \u001b[38;5;241m0\u001b[39m, \u001b[38;5;241m1\u001b[39m, \u001b[38;5;241m1\u001b[39m, \u001b[38;5;241m0\u001b[39m, \u001b[38;5;241m0\u001b[39m, \u001b[38;5;241m1\u001b[39m],\n\u001b[1;32m     20\u001b[0m                 [\u001b[38;5;241m1\u001b[39m, \u001b[38;5;241m0\u001b[39m, \u001b[38;5;241m1\u001b[39m, \u001b[38;5;241m1\u001b[39m, \u001b[38;5;241m1\u001b[39m, \u001b[38;5;241m0\u001b[39m, \u001b[38;5;241m0\u001b[39m, \u001b[38;5;241m1\u001b[39m, \u001b[38;5;241m0\u001b[39m, \u001b[38;5;241m1\u001b[39m],\n\u001b[1;32m     21\u001b[0m                 [\u001b[38;5;241m1\u001b[39m, \u001b[38;5;241m0\u001b[39m, \u001b[38;5;241m0\u001b[39m, \u001b[38;5;241m1\u001b[39m, \u001b[38;5;241m0\u001b[39m, \u001b[38;5;241m0\u001b[39m, \u001b[38;5;241m0\u001b[39m, \u001b[38;5;241m0\u001b[39m, \u001b[38;5;241m0\u001b[39m, \u001b[38;5;241m1\u001b[39m],\n\u001b[1;32m     22\u001b[0m                 [\u001b[38;5;241m1\u001b[39m, \u001b[38;5;241m1\u001b[39m, \u001b[38;5;241m0\u001b[39m, \u001b[38;5;241m0\u001b[39m, \u001b[38;5;241m0\u001b[39m, \u001b[38;5;241m1\u001b[39m, \u001b[38;5;241m1\u001b[39m, \u001b[38;5;241m0\u001b[39m, \u001b[38;5;241m1\u001b[39m, \u001b[38;5;241m1\u001b[39m],\n\u001b[1;32m     23\u001b[0m                 [\u001b[38;5;241m1\u001b[39m, \u001b[38;5;241m1\u001b[39m, \u001b[38;5;241m1\u001b[39m, \u001b[38;5;241m1\u001b[39m, \u001b[38;5;241m1\u001b[39m, \u001b[38;5;241m1\u001b[39m, \u001b[38;5;241m1\u001b[39m, \u001b[38;5;241m1\u001b[39m, \u001b[38;5;241m1\u001b[39m, \u001b[38;5;241m1\u001b[39m],\n\u001b[1;32m     24\u001b[0m                 \n\u001b[1;32m     25\u001b[0m             ]))\n\u001b[1;32m     27\u001b[0m env\u001b[38;5;241m.\u001b[39mdisplay_world()\n\u001b[1;32m     28\u001b[0m env\u001b[38;5;241m.\u001b[39mget_world()\n",
      "\u001b[0;31mNameError\u001b[0m: name 'gridWorldMoreFB' is not defined"
     ]
    }
   ],
   "source": [
    "import numpy as np\n",
    "# env = gridWorld(x=1, y=1, theta=0, world=np.array([\n",
    "#                 [1, 1, 1, 1, 1, 1, 1, 1, 1, 1],\n",
    "#                 [1, 0, 0, 0, 1, 0, 0, 0, 1, 1],\n",
    "#                 [1, 0, 1, 0, 0, 1, 1, 0, 0, 1],\n",
    "#                 [1, 0, 1, 1, 1, 0, 0, 1, 0, 1],\n",
    "#                 [1, 0, 0, 1, 0, 0, 0, 0, 0, 1],\n",
    "#                 [1, 1, 0, 0, 0, 1, 1, 0, 1, 1],\n",
    "#                 [1, 1, 1, 1, 1, 1, 1, 1, 1, 1],\n",
    "                \n",
    "#             ]))\n",
    "\n",
    "# env.display_world()\n",
    "# env.get_world()\n",
    "\n",
    "env = gridWorldMoreFB(x=1, y=1, theta=0, range_feel=3, world=np.array([\n",
    "                [1, 1, 1, 1, 1, 1, 1, 1, 1, 1],\n",
    "                [1, 0, 0, 0, 1, 0, 0, 0, 1, 1],\n",
    "                [1, 0, 1, 0, 0, 1, 1, 0, 0, 1],\n",
    "                [1, 0, 1, 1, 1, 0, 0, 1, 0, 1],\n",
    "                [1, 0, 0, 1, 0, 0, 0, 0, 0, 1],\n",
    "                [1, 1, 0, 0, 0, 1, 1, 0, 1, 1],\n",
    "                [1, 1, 1, 1, 1, 1, 1, 1, 1, 1],\n",
    "                \n",
    "            ]))\n",
    "\n",
    "env.display_world()\n",
    "env.get_world()\n",
    "\n",
    "env.display_world()\n",
    "env.get_world()"
   ]
  },
  {
   "cell_type": "code",
   "execution_count": null,
   "metadata": {},
   "outputs": [],
   "source": [
    "env.outcome(\"forward\")"
   ]
  },
  {
   "cell_type": "code",
   "execution_count": null,
   "metadata": {},
   "outputs": [],
   "source": [
    "print(env.get_outcomes())"
   ]
  },
  {
   "cell_type": "code",
   "execution_count": null,
   "metadata": {},
   "outputs": [],
   "source": [
    "env.outcome(\"turn_right\")\n"
   ]
  },
  {
   "cell_type": "code",
   "execution_count": null,
   "metadata": {},
   "outputs": [],
   "source": [
    "print(env.outcome(\"feel_right\"))\n",
    "env.display_world()"
   ]
  },
  {
   "cell_type": "code",
   "execution_count": null,
   "metadata": {},
   "outputs": [],
   "source": [
    "print(env.outcome(\"feel_left\"))\n",
    "env.display_world()"
   ]
  },
  {
   "cell_type": "code",
   "execution_count": null,
   "metadata": {},
   "outputs": [],
   "source": [
    "print(env.outcome(\"feel_front\"))\n",
    "env.display_world()"
   ]
  },
  {
   "cell_type": "code",
   "execution_count": null,
   "metadata": {},
   "outputs": [],
   "source": [
    "# 100 act rand\n",
    "acts = []\n",
    "fbs = []\n",
    "interactions = []\n",
    "\n",
    "for _ in range(1000):\n",
    "    act = str(np.random.choice(env.get_actions()))\n",
    "    fb = env.outcome(act)\n",
    "    acts.append(act)\n",
    "    fbs.append(fb)\n",
    "    interactions += [act, fb]"
   ]
  },
  {
   "cell_type": "code",
   "execution_count": null,
   "metadata": {},
   "outputs": [],
   "source": [
    "print(interactions)"
   ]
  },
  {
   "cell_type": "code",
   "execution_count": null,
   "metadata": {},
   "outputs": [],
   "source": [
    "def find_sub_list(liste):\n",
    "    pattern = {}\n",
    "    \n",
    "    for i in range(0, len(liste) - 4, 2):\n",
    "        if pattern.get(str(liste[i:i+3])) == None:\n",
    "            pattern[str(liste[i:i+3])] = {\"fb\":liste[i + 3], \"count\":1}\n",
    "        else:\n",
    "            if pattern[str(liste[i:i+3])][\"count\"] != -1:\n",
    "                pattern[str(liste[i:i+3])][\"count\"] += 1\n",
    "            if pattern[str(liste[i:i+3])][\"fb\"] != liste[i + 3]:\n",
    "                pattern[str(liste[i:i+3])][\"count\"] = -1\n",
    "    return pattern\n",
    "\n",
    "find_sub_list(interactions)"
   ]
  },
  {
   "cell_type": "code",
   "execution_count": null,
   "metadata": {},
   "outputs": [],
   "source": [
    "def replace_sub_list(liste, pattern:dict):\n",
    "    new_list = []\n",
    "    list_pattern = pattern.keys()\n",
    "    for i in range(0, len(liste) - 4, 2):\n",
    "        if \n",
    "        \n",
    "    return pattern"
   ]
  },
  {
   "cell_type": "code",
   "execution_count": null,
   "metadata": {},
   "outputs": [],
   "source": [
    "dicco = {\n",
    "    'a': 0,\n",
    "    'b': 1,\n",
    "    'c': 3,\n",
    "    'd': 4,\n",
    "    'e': 5,\n",
    "    'f': 6,\n",
    "    'g': 7,\n",
    "    'h': 8,\n",
    "    'i': 9,\n",
    "    'j': 10,\n",
    "}\n",
    "\n",
    "tokenizer = SimpleTokenizerV1(dicco)\n",
    "\n",
    "data = CustomLoader(['a', 'b', 'c', 'd', 'e'], ['a', 'b', 'a', 'b', 'b'], 3, tokenizer)\n",
    "print(data.__len__())\n",
    "for i in range(data.__len__()):\n",
    "    print(data.__getitem__(i))\n",
    "    print('---')"
   ]
  },
  {
   "cell_type": "code",
   "execution_count": null,
   "metadata": {},
   "outputs": [],
   "source": [
    "import numpy as np\n",
    "env:small_loop = small_loop(x=1, y=1, theta=0, world=np.array([\n",
    "                [1, 1, 1, 1, 1, 1],\n",
    "                [1, 0, 0, 0, 0, 1],\n",
    "                [1, 0, 1, 0, 0, 1],\n",
    "                [1, 0, 1, 0, 0, 1],\n",
    "                [1, 0, 1, 0, 0, 1],\n",
    "                [1, 1, 1, 1, 1, 1],\n",
    "            ]))\n",
    "env.display_world()\n",
    "env.get_world()\n"
   ]
  },
  {
   "cell_type": "code",
   "execution_count": null,
   "metadata": {},
   "outputs": [],
   "source": [
    "print(env.outcome(\"turn_left\"))\n",
    "env.display_world()"
   ]
  },
  {
   "cell_type": "code",
   "execution_count": null,
   "metadata": {},
   "outputs": [],
   "source": [
    "print(env.outcome(\"forward\"))\n",
    "env.display_world()\n"
   ]
  },
  {
   "cell_type": "code",
   "execution_count": null,
   "metadata": {},
   "outputs": [],
   "source": [
    "dico = {\n",
    "    0: \"empty\",\n",
    "    1: \"wall\",\n",
    "}\n",
    "\n",
    "print(dico[True])\n",
    "\n",
    "print(env.get_outcomes())"
   ]
  }
 ],
 "metadata": {
  "kernelspec": {
   "display_name": "Stage (torch)",
   "language": "python",
   "name": "dpt_transformers"
  },
  "language_info": {
   "codemirror_mode": {
    "name": "ipython",
    "version": 3
   },
   "file_extension": ".py",
   "mimetype": "text/x-python",
   "name": "python",
   "nbconvert_exporter": "python",
   "pygments_lexer": "ipython3",
   "version": "3.11.2"
  }
 },
 "nbformat": 4,
 "nbformat_minor": 2
}
